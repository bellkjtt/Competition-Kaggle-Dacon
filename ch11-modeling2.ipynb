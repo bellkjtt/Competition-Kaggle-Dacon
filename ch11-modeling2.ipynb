{
 "cells": [
  {
   "cell_type": "markdown",
   "id": "83fb831d",
   "metadata": {
    "papermill": {
     "duration": 0.015654,
     "end_time": "2024-02-01T11:46:56.965794",
     "exception": false,
     "start_time": "2024-02-01T11:46:56.950140",
     "status": "completed"
    },
    "tags": []
   },
   "source": [
    "# 11.4 항공 사진 내 선인장 식별 경진대회 성능 개선 II\n",
    "- [항공 사진 내 선인장 식별 경진대회 링크](https://www.kaggle.com/c/aerial-cactus-identification)\n",
    "- [모델링 코드 참고 링크](https://www.kaggle.com/bonhart/simple-cnn-on-pytorch-for-beginers)\n"
   ]
  },
  {
   "cell_type": "code",
   "execution_count": 1,
   "id": "66aeb966",
   "metadata": {
    "execution": {
     "iopub.execute_input": "2024-02-01T11:46:57.082837Z",
     "iopub.status.busy": "2024-02-01T11:46:57.082186Z",
     "iopub.status.idle": "2024-02-01T11:47:01.773236Z",
     "shell.execute_reply": "2024-02-01T11:47:01.772462Z"
    },
    "papermill": {
     "duration": 4.792931,
     "end_time": "2024-02-01T11:47:01.773399",
     "exception": false,
     "start_time": "2024-02-01T11:46:56.980468",
     "status": "completed"
    },
    "tags": []
   },
   "outputs": [],
   "source": [
    "import torch # 파이토치 \n",
    "import random\n",
    "import numpy as np\n",
    "import os\n",
    "\n",
    "# 시드 값 고정\n",
    "seed = 50\n",
    "os.environ['PYTHONHASHSEED'] = str(seed)\n",
    "random.seed(seed)\n",
    "np.random.seed(seed)\n",
    "torch.manual_seed(seed)\n",
    "torch.cuda.manual_seed(seed)\n",
    "torch.cuda.manual_seed_all(seed)\n",
    "torch.backends.cudnn.deterministic = True\n",
    "torch.backends.cudnn.benchmark = False\n",
    "torch.backends.cudnn.enabled = False"
   ]
  },
  {
   "cell_type": "code",
   "execution_count": 2,
   "id": "949e210f",
   "metadata": {
    "execution": {
     "iopub.execute_input": "2024-02-01T11:47:01.862548Z",
     "iopub.status.busy": "2024-02-01T11:47:01.860736Z",
     "iopub.status.idle": "2024-02-01T11:47:01.864687Z",
     "shell.execute_reply": "2024-02-01T11:47:01.865152Z"
    },
    "papermill": {
     "duration": 0.075751,
     "end_time": "2024-02-01T11:47:01.865339",
     "exception": false,
     "start_time": "2024-02-01T11:47:01.789588",
     "status": "completed"
    },
    "tags": []
   },
   "outputs": [],
   "source": [
    "device = torch.device('cuda' if torch.cuda.is_available() else 'cpu')"
   ]
  },
  {
   "cell_type": "code",
   "execution_count": 3,
   "id": "83412f42",
   "metadata": {
    "execution": {
     "iopub.execute_input": "2024-02-01T11:47:01.900405Z",
     "iopub.status.busy": "2024-02-01T11:47:01.899695Z",
     "iopub.status.idle": "2024-02-01T11:47:02.076897Z",
     "shell.execute_reply": "2024-02-01T11:47:02.076331Z"
    },
    "papermill": {
     "duration": 0.196277,
     "end_time": "2024-02-01T11:47:02.077074",
     "exception": false,
     "start_time": "2024-02-01T11:47:01.880797",
     "status": "completed"
    },
    "tags": []
   },
   "outputs": [],
   "source": [
    "import pandas as pd\n",
    "\n",
    "# 데이터 경로\n",
    "data_path = '/kaggle/input/aerial-cactus-identification/'\n",
    "\n",
    "labels = pd.read_csv(data_path + 'train.csv')\n",
    "submission = pd.read_csv(data_path + 'sample_submission.csv')"
   ]
  },
  {
   "cell_type": "code",
   "execution_count": 4,
   "id": "2da01511",
   "metadata": {
    "execution": {
     "iopub.execute_input": "2024-02-01T11:47:02.112382Z",
     "iopub.status.busy": "2024-02-01T11:47:02.111787Z",
     "iopub.status.idle": "2024-02-01T11:47:05.644836Z",
     "shell.execute_reply": "2024-02-01T11:47:05.644231Z"
    },
    "papermill": {
     "duration": 3.552485,
     "end_time": "2024-02-01T11:47:05.644972",
     "exception": false,
     "start_time": "2024-02-01T11:47:02.092487",
     "status": "completed"
    },
    "tags": []
   },
   "outputs": [],
   "source": [
    "from zipfile import ZipFile\n",
    "\n",
    "# 훈련 이미지 데이터 압축 풀기\n",
    "with ZipFile(data_path + 'train.zip') as zipper:\n",
    "    zipper.extractall()\n",
    "    \n",
    "# 테스트 이미지 데이터 압축 풀기\n",
    "with ZipFile(data_path + 'test.zip') as zipper:\n",
    "    zipper.extractall()"
   ]
  },
  {
   "cell_type": "code",
   "execution_count": 5,
   "id": "d6c9c2ca",
   "metadata": {
    "_uuid": "c07eab67e573c7de05e11065b5bafc1bbff284fb",
    "execution": {
     "iopub.execute_input": "2024-02-01T11:47:05.679148Z",
     "iopub.status.busy": "2024-02-01T11:47:05.678515Z",
     "iopub.status.idle": "2024-02-01T11:47:06.555908Z",
     "shell.execute_reply": "2024-02-01T11:47:06.555353Z"
    },
    "papermill": {
     "duration": 0.896295,
     "end_time": "2024-02-01T11:47:06.556066",
     "exception": false,
     "start_time": "2024-02-01T11:47:05.659771",
     "status": "completed"
    },
    "tags": []
   },
   "outputs": [],
   "source": [
    "from sklearn.model_selection import train_test_split\n",
    "\n",
    "# 훈련 데이터, 검증 데이터 분리\n",
    "_, valid = train_test_split(labels, \n",
    "                            test_size=0.1,\n",
    "                            stratify=labels['has_cactus'],\n",
    "                            random_state=50)"
   ]
  },
  {
   "cell_type": "code",
   "execution_count": 6,
   "id": "e8bc195b",
   "metadata": {
    "_uuid": "1b05af8d59d9d5b092e96f72dfebb19591416de9",
    "execution": {
     "iopub.execute_input": "2024-02-01T11:47:06.594414Z",
     "iopub.status.busy": "2024-02-01T11:47:06.593752Z",
     "iopub.status.idle": "2024-02-01T11:47:06.729823Z",
     "shell.execute_reply": "2024-02-01T11:47:06.729314Z"
    },
    "papermill": {
     "duration": 0.158637,
     "end_time": "2024-02-01T11:47:06.729974",
     "exception": false,
     "start_time": "2024-02-01T11:47:06.571337",
     "status": "completed"
    },
    "tags": []
   },
   "outputs": [],
   "source": [
    "import cv2 # OpenCV 라이브러리\n",
    "from torch.utils.data import Dataset # 데이터 생성을 위한 클래스\n",
    "\n",
    "class ImageDataset(Dataset):\n",
    "    # 초기화 메서드(생성자)\n",
    "    def __init__(self, df, img_dir='./', transform=None):\n",
    "        super().__init__() # 상속받은 Dataset의 생성자 호출\n",
    "        # 전달받은 인수들 저장\n",
    "        self.df = df\n",
    "        self.img_dir = img_dir\n",
    "        self.transform = transform\n",
    "    \n",
    "    # 데이터셋 크기 반환 메서드 \n",
    "    def __len__(self):\n",
    "        return len(self.df)\n",
    "    \n",
    "    # 인덱스(idx)에 해당하는 데이터 반환 메서드 \n",
    "    def __getitem__(self, idx):\n",
    "        img_id = self.df.iloc[idx, 0]    # 이미지 ID\n",
    "        img_path = self.img_dir + img_id # 이미지 파일 경로 \n",
    "        image = cv2.imread(img_path)     # 이미지 파일 읽기 \n",
    "        image = cv2.cvtColor(image, cv2.COLOR_BGR2RGB) # 이미지 색상 보정\n",
    "        label = self.df.iloc[idx, 1]     # 이미지 레이블(타깃값)\n",
    "\n",
    "        if self.transform is not None:\n",
    "            image = self.transform(image) # 변환기가 있다면 이미지 변환\n",
    "        return image, label"
   ]
  },
  {
   "cell_type": "code",
   "execution_count": 7,
   "id": "2ad3f44b",
   "metadata": {
    "execution": {
     "iopub.execute_input": "2024-02-01T11:47:06.766613Z",
     "iopub.status.busy": "2024-02-01T11:47:06.762157Z",
     "iopub.status.idle": "2024-02-01T11:47:06.916913Z",
     "shell.execute_reply": "2024-02-01T11:47:06.916410Z"
    },
    "papermill": {
     "duration": 0.171926,
     "end_time": "2024-02-01T11:47:06.917068",
     "exception": false,
     "start_time": "2024-02-01T11:47:06.745142",
     "status": "completed"
    },
    "tags": []
   },
   "outputs": [],
   "source": [
    "from torchvision import transforms # 이미지 변환을 위한 모듈\n",
    "\n",
    "# 훈련 데이터용 변환기\n",
    "transform_train = transforms.Compose([transforms.ToTensor(),\n",
    "                                      transforms.Pad(32, padding_mode='symmetric'),\n",
    "                                      transforms.RandomHorizontalFlip(),\n",
    "                                      transforms.RandomVerticalFlip(),\n",
    "                                      transforms.RandomRotation(10),\n",
    "                                      transforms.Normalize((0.485, 0.456, 0.406),\n",
    "                                                           (0.229, 0.224, 0.225))])\n",
    "\n",
    "# 검증 및 테스트 데이터용 변환기\n",
    "transform_test= transforms.Compose([transforms.ToTensor(),\n",
    "                                    transforms.Pad(32, padding_mode='symmetric'),\n",
    "                                    transforms.Normalize((0.485, 0.456, 0.406),\n",
    "                                                         (0.229, 0.224, 0.225))])"
   ]
  },
  {
   "cell_type": "code",
   "execution_count": 8,
   "id": "461582e4",
   "metadata": {
    "execution": {
     "iopub.execute_input": "2024-02-01T11:47:06.955390Z",
     "iopub.status.busy": "2024-02-01T11:47:06.954635Z",
     "iopub.status.idle": "2024-02-01T11:47:06.957249Z",
     "shell.execute_reply": "2024-02-01T11:47:06.956769Z"
    },
    "papermill": {
     "duration": 0.023706,
     "end_time": "2024-02-01T11:47:06.957374",
     "exception": false,
     "start_time": "2024-02-01T11:47:06.933668",
     "status": "completed"
    },
    "tags": []
   },
   "outputs": [],
   "source": [
    "dataset_train = ImageDataset(df=labels, img_dir='train/', transform=transform_train)\n",
    "dataset_valid = ImageDataset(df=valid, img_dir='train/', transform=transform_test)"
   ]
  },
  {
   "cell_type": "code",
   "execution_count": 9,
   "id": "54a85037",
   "metadata": {
    "_uuid": "c247391c28497ad35c72f5218398ea71f2d0d5ff",
    "execution": {
     "iopub.execute_input": "2024-02-01T11:47:06.993655Z",
     "iopub.status.busy": "2024-02-01T11:47:06.992650Z",
     "iopub.status.idle": "2024-02-01T11:47:06.995368Z",
     "shell.execute_reply": "2024-02-01T11:47:06.994736Z"
    },
    "papermill": {
     "duration": 0.022615,
     "end_time": "2024-02-01T11:47:06.995494",
     "exception": false,
     "start_time": "2024-02-01T11:47:06.972879",
     "status": "completed"
    },
    "tags": []
   },
   "outputs": [],
   "source": [
    "from torch.utils.data import DataLoader # 데이터 로더 클래스\n",
    "\n",
    "loader_train = DataLoader(dataset=dataset_train, batch_size=32, shuffle=True)\n",
    "loader_valid = DataLoader(dataset=dataset_valid, batch_size=32, shuffle=False)"
   ]
  },
  {
   "cell_type": "code",
   "execution_count": 10,
   "id": "eefeb764",
   "metadata": {
    "_uuid": "0a2d5600bc2eb915ec0bdf5b52ba11e25096f7d0",
    "execution": {
     "iopub.execute_input": "2024-02-01T11:47:07.041913Z",
     "iopub.status.busy": "2024-02-01T11:47:07.041019Z",
     "iopub.status.idle": "2024-02-01T11:47:07.043548Z",
     "shell.execute_reply": "2024-02-01T11:47:07.043084Z"
    },
    "papermill": {
     "duration": 0.032683,
     "end_time": "2024-02-01T11:47:07.043667",
     "exception": false,
     "start_time": "2024-02-01T11:47:07.010984",
     "status": "completed"
    },
    "tags": []
   },
   "outputs": [],
   "source": [
    "import torch.nn as nn # 신경망 모듈\n",
    "import torch.nn.functional as F # 신경망 모듈에서 자주 사용되는 함수\n",
    "\n",
    "class Model(nn.Module):\n",
    "    # 신경망 계층 정의\n",
    "    def __init__(self):\n",
    "        super().__init__() # 상속받은 nn.Module의 __init__() 메서드 호출\n",
    "        # 1 ~ 5번째 {합성곱, 배치 정규화, 최대 풀링} 계층 \n",
    "        self.layer1 = nn.Sequential(nn.Conv2d(in_channels=3, out_channels=32,\n",
    "                                              kernel_size=3, padding=2),\n",
    "                                    nn.BatchNorm2d(32), # 배치 정규화\n",
    "                                    nn.LeakyReLU(), # LeakyReLU 활성화 함수\n",
    "                                    nn.MaxPool2d(kernel_size=2))\n",
    "\n",
    "        self.layer2 = nn.Sequential(nn.Conv2d(in_channels=32, out_channels=64,\n",
    "                                              kernel_size=3, padding=2),\n",
    "                                    nn.BatchNorm2d(64),\n",
    "                                    nn.LeakyReLU(),\n",
    "                                    nn.MaxPool2d(kernel_size=2))\n",
    "        \n",
    "        self.layer3 = nn.Sequential(nn.Conv2d(in_channels=64, out_channels=128,\n",
    "                                              kernel_size=3, padding=2),\n",
    "                                    nn.BatchNorm2d(128),\n",
    "                                    nn.LeakyReLU(),\n",
    "                                    nn.MaxPool2d(kernel_size=2))\n",
    "        \n",
    "        self.layer4 = nn.Sequential(nn.Conv2d(in_channels=128, out_channels=256,\n",
    "                                              kernel_size=3, padding=2),\n",
    "                                    nn.BatchNorm2d(256),\n",
    "                                    nn.LeakyReLU(),\n",
    "                                    nn.MaxPool2d(kernel_size=2))\n",
    "        \n",
    "        self.layer5 = nn.Sequential(nn.Conv2d(in_channels=256, out_channels=512,\n",
    "                                              kernel_size=3, padding=2),\n",
    "                                    nn.BatchNorm2d(512),\n",
    "                                    nn.LeakyReLU(),\n",
    "                                    nn.MaxPool2d(kernel_size=2))\n",
    "        # 평균 풀링 계층 \n",
    "        self.avg_pool = nn.AvgPool2d(kernel_size=4) \n",
    "        # 전결합 계층\n",
    "        self.fc1 = nn.Linear(in_features=512 * 1 * 1, out_features=64)\n",
    "        self.fc2 = nn.Linear(in_features=64, out_features=2)\n",
    "\n",
    "    # 순전파 출력 정의 \n",
    "    def forward(self, x):\n",
    "        x = self.layer1(x)\n",
    "        x = self.layer2(x)\n",
    "        x = self.layer3(x)\n",
    "        x = self.layer4(x)\n",
    "        x = self.layer5(x)\n",
    "        x = self.avg_pool(x)\n",
    "        x = x.view(-1, 512 * 1 * 1) # 평탄화\n",
    "        x = self.fc1(x)\n",
    "        x = self.fc2(x)\n",
    "        return x"
   ]
  },
  {
   "cell_type": "code",
   "execution_count": 11,
   "id": "28f2813e",
   "metadata": {
    "_cell_guid": "79c7e3d0-c299-4dcb-8224-4455121ee9b0",
    "_uuid": "d629ff2d2480ee46fbb7e2d37f6b5fab8052498a",
    "execution": {
     "iopub.execute_input": "2024-02-01T11:47:07.078522Z",
     "iopub.status.busy": "2024-02-01T11:47:07.077949Z",
     "iopub.status.idle": "2024-02-01T11:47:12.926373Z",
     "shell.execute_reply": "2024-02-01T11:47:12.925788Z"
    },
    "papermill": {
     "duration": 5.867364,
     "end_time": "2024-02-01T11:47:12.926536",
     "exception": false,
     "start_time": "2024-02-01T11:47:07.059172",
     "status": "completed"
    },
    "tags": []
   },
   "outputs": [],
   "source": [
    "model = Model().to(device)"
   ]
  },
  {
   "cell_type": "code",
   "execution_count": 12,
   "id": "e4878af1",
   "metadata": {
    "execution": {
     "iopub.execute_input": "2024-02-01T11:47:12.963130Z",
     "iopub.status.busy": "2024-02-01T11:47:12.962273Z",
     "iopub.status.idle": "2024-02-01T11:47:12.964898Z",
     "shell.execute_reply": "2024-02-01T11:47:12.964330Z"
    },
    "papermill": {
     "duration": 0.022024,
     "end_time": "2024-02-01T11:47:12.965042",
     "exception": false,
     "start_time": "2024-02-01T11:47:12.943018",
     "status": "completed"
    },
    "tags": []
   },
   "outputs": [],
   "source": [
    "# 손실함수\n",
    "criterion = nn.CrossEntropyLoss()"
   ]
  },
  {
   "cell_type": "code",
   "execution_count": 13,
   "id": "de11f302",
   "metadata": {
    "_uuid": "fceb2929d8750acb2de745cd9ff3d2d458820df8",
    "execution": {
     "iopub.execute_input": "2024-02-01T11:47:13.002563Z",
     "iopub.status.busy": "2024-02-01T11:47:13.001823Z",
     "iopub.status.idle": "2024-02-01T11:47:13.004483Z",
     "shell.execute_reply": "2024-02-01T11:47:13.003847Z"
    },
    "papermill": {
     "duration": 0.023729,
     "end_time": "2024-02-01T11:47:13.004609",
     "exception": false,
     "start_time": "2024-02-01T11:47:12.980880",
     "status": "completed"
    },
    "tags": []
   },
   "outputs": [],
   "source": [
    "# 옵티마이저\n",
    "optimizer = torch.optim.Adamax(model.parameters(), lr=0.00006)"
   ]
  },
  {
   "cell_type": "code",
   "execution_count": 14,
   "id": "58af2347",
   "metadata": {
    "_uuid": "2c37417ae6b62ab4551bc8a888916ca1e591d284",
    "execution": {
     "iopub.execute_input": "2024-02-01T11:47:13.045831Z",
     "iopub.status.busy": "2024-02-01T11:47:13.045214Z",
     "iopub.status.idle": "2024-02-01T12:39:46.529389Z",
     "shell.execute_reply": "2024-02-01T12:39:46.529863Z"
    },
    "papermill": {
     "duration": 3153.509102,
     "end_time": "2024-02-01T12:39:46.530049",
     "exception": false,
     "start_time": "2024-02-01T11:47:13.020947",
     "status": "completed"
    },
    "tags": []
   },
   "outputs": [
    {
     "name": "stdout",
     "output_type": "stream",
     "text": [
      "에폭 [1/70] - 손실값: 0.1255\n",
      "에폭 [2/70] - 손실값: 0.0650\n",
      "에폭 [3/70] - 손실값: 0.0464\n",
      "에폭 [4/70] - 손실값: 0.0394\n",
      "에폭 [5/70] - 손실값: 0.0341\n",
      "에폭 [6/70] - 손실값: 0.0298\n",
      "에폭 [7/70] - 손실값: 0.0278\n",
      "에폭 [8/70] - 손실값: 0.0265\n",
      "에폭 [9/70] - 손실값: 0.0245\n",
      "에폭 [10/70] - 손실값: 0.0243\n",
      "에폭 [11/70] - 손실값: 0.0208\n",
      "에폭 [12/70] - 손실값: 0.0200\n",
      "에폭 [13/70] - 손실값: 0.0187\n",
      "에폭 [14/70] - 손실값: 0.0174\n",
      "에폭 [15/70] - 손실값: 0.0162\n",
      "에폭 [16/70] - 손실값: 0.0157\n",
      "에폭 [17/70] - 손실값: 0.0155\n",
      "에폭 [18/70] - 손실값: 0.0164\n",
      "에폭 [19/70] - 손실값: 0.0137\n",
      "에폭 [20/70] - 손실값: 0.0149\n",
      "에폭 [21/70] - 손실값: 0.0133\n",
      "에폭 [22/70] - 손실값: 0.0137\n",
      "에폭 [23/70] - 손실값: 0.0127\n",
      "에폭 [24/70] - 손실값: 0.0118\n",
      "에폭 [25/70] - 손실값: 0.0106\n",
      "에폭 [26/70] - 손실값: 0.0108\n",
      "에폭 [27/70] - 손실값: 0.0099\n",
      "에폭 [28/70] - 손실값: 0.0118\n",
      "에폭 [29/70] - 손실값: 0.0083\n",
      "에폭 [30/70] - 손실값: 0.0102\n",
      "에폭 [31/70] - 손실값: 0.0106\n",
      "에폭 [32/70] - 손실값: 0.0088\n",
      "에폭 [33/70] - 손실값: 0.0082\n",
      "에폭 [34/70] - 손실값: 0.0077\n",
      "에폭 [35/70] - 손실값: 0.0094\n",
      "에폭 [36/70] - 손실값: 0.0084\n",
      "에폭 [37/70] - 손실값: 0.0076\n",
      "에폭 [38/70] - 손실값: 0.0077\n",
      "에폭 [39/70] - 손실값: 0.0067\n",
      "에폭 [40/70] - 손실값: 0.0078\n",
      "에폭 [41/70] - 손실값: 0.0061\n",
      "에폭 [42/70] - 손실값: 0.0055\n",
      "에폭 [43/70] - 손실값: 0.0077\n",
      "에폭 [44/70] - 손실값: 0.0065\n",
      "에폭 [45/70] - 손실값: 0.0075\n",
      "에폭 [46/70] - 손실값: 0.0053\n",
      "에폭 [47/70] - 손실값: 0.0071\n",
      "에폭 [48/70] - 손실값: 0.0044\n",
      "에폭 [49/70] - 손실값: 0.0054\n",
      "에폭 [50/70] - 손실값: 0.0045\n",
      "에폭 [51/70] - 손실값: 0.0054\n",
      "에폭 [52/70] - 손실값: 0.0051\n",
      "에폭 [53/70] - 손실값: 0.0056\n",
      "에폭 [54/70] - 손실값: 0.0048\n",
      "에폭 [55/70] - 손실값: 0.0048\n",
      "에폭 [56/70] - 손실값: 0.0053\n",
      "에폭 [57/70] - 손실값: 0.0043\n",
      "에폭 [58/70] - 손실값: 0.0060\n",
      "에폭 [59/70] - 손실값: 0.0046\n",
      "에폭 [60/70] - 손실값: 0.0047\n",
      "에폭 [61/70] - 손실값: 0.0041\n",
      "에폭 [62/70] - 손실값: 0.0048\n",
      "에폭 [63/70] - 손실값: 0.0060\n",
      "에폭 [64/70] - 손실값: 0.0047\n",
      "에폭 [65/70] - 손실값: 0.0029\n",
      "에폭 [66/70] - 손실값: 0.0049\n",
      "에폭 [67/70] - 손실값: 0.0050\n",
      "에폭 [68/70] - 손실값: 0.0037\n",
      "에폭 [69/70] - 손실값: 0.0050\n",
      "에폭 [70/70] - 손실값: 0.0027\n"
     ]
    }
   ],
   "source": [
    "epochs = 70 # 총 에폭\n",
    "\n",
    "# 총 에폭만큼 반복\n",
    "for epoch in range(epochs):\n",
    "    epoch_loss = 0 # 에폭별 손실값 초기화\n",
    "    \n",
    "    # '반복 횟수'만큼 반복 \n",
    "    for images, labels in loader_train:\n",
    "        # 이미지, 레이블 데이터 미니배치를 장비에 할당 \n",
    "        images = images.to(device)\n",
    "        labels = labels.to(device)\n",
    "        \n",
    "        # 옵티마이저 내 기울기 초기화\n",
    "        optimizer.zero_grad()\n",
    "        # 순전파 : 이미지 데이터를 신경망 모델의 입력값으로 사용해 출력값 계산\n",
    "        outputs = model(images)\n",
    "        # 손실 함수를 활용해 outputs와 labels의 손실값 계산\n",
    "        loss = criterion(outputs, labels)\n",
    "        # 현재 배치에서의 손실 추가\n",
    "        epoch_loss += loss.item() \n",
    "        # 역전파 수행\n",
    "        loss.backward()\n",
    "        # 가중치 갱신\n",
    "        optimizer.step()\n",
    "        \n",
    "    print(f'에폭 [{epoch+1}/{epochs}] - 손실값: {epoch_loss/len(loader_train):.4f}')    "
   ]
  },
  {
   "cell_type": "code",
   "execution_count": 15,
   "id": "c67dd951",
   "metadata": {
    "execution": {
     "iopub.execute_input": "2024-02-01T12:39:46.614917Z",
     "iopub.status.busy": "2024-02-01T12:39:46.614315Z",
     "iopub.status.idle": "2024-02-01T12:39:48.823678Z",
     "shell.execute_reply": "2024-02-01T12:39:48.823152Z"
    },
    "papermill": {
     "duration": 2.255321,
     "end_time": "2024-02-01T12:39:48.823812",
     "exception": false,
     "start_time": "2024-02-01T12:39:46.568491",
     "status": "completed"
    },
    "tags": []
   },
   "outputs": [
    {
     "name": "stdout",
     "output_type": "stream",
     "text": [
      "검증 데이터 ROC AUC : 1.0000\n"
     ]
    }
   ],
   "source": [
    "from sklearn.metrics import roc_auc_score # ROC AUC 점수 계산 함수 임포트\n",
    "\n",
    "# 실제값과 예측 확률값을 담을 리스트 초기화\n",
    "true_list = []\n",
    "preds_list = []\n",
    "\n",
    "model.eval() # 모델을 평가 상태로 설정 \n",
    "\n",
    "with torch.no_grad(): # 기울기 계산 비활성화\n",
    "    for images, labels in loader_valid:\n",
    "        # 이미지, 레이블 데이터 미니배치를 장비에 할당 \n",
    "        images = images.to(device)\n",
    "        labels = labels.to(device)\n",
    "        \n",
    "        # 순전파 : 이미지 데이터를 신경망 모델의 입력값으로 사용해 출력값 계산\n",
    "        outputs = model(images)\n",
    "        preds = torch.softmax(outputs.cpu(), dim=1)[:, 1] # 예측 확률값\n",
    "        true = labels.cpu() # 실제값 \n",
    "        # 예측 확률값과 실제값을 리스트에 추가\n",
    "        preds_list.extend(preds)\n",
    "        true_list.extend(true)\n",
    "        \n",
    "# 검증 데이터 ROC AUC 점수 계산 \n",
    "print(f'검증 데이터 ROC AUC : {roc_auc_score(true_list, preds_list):.4f}')    "
   ]
  },
  {
   "cell_type": "code",
   "execution_count": 16,
   "id": "3c4e960e",
   "metadata": {
    "execution": {
     "iopub.execute_input": "2024-02-01T12:39:48.911863Z",
     "iopub.status.busy": "2024-02-01T12:39:48.910967Z",
     "iopub.status.idle": "2024-02-01T12:39:53.867146Z",
     "shell.execute_reply": "2024-02-01T12:39:53.866604Z"
    },
    "papermill": {
     "duration": 5.003173,
     "end_time": "2024-02-01T12:39:53.867303",
     "exception": false,
     "start_time": "2024-02-01T12:39:48.864130",
     "status": "completed"
    },
    "tags": []
   },
   "outputs": [],
   "source": [
    "dataset_test = ImageDataset(df=submission, img_dir='test/', \n",
    "                            transform=transform_test)\n",
    "loader_test = DataLoader(dataset=dataset_test, batch_size=32, shuffle=False)\n",
    "\n",
    "# 예측 수행\n",
    "model.eval() # 모델을 평가 상태로 설정\n",
    "\n",
    "preds = [] # 타깃 예측값 저장용 리스트 초기화\n",
    "\n",
    "with torch.no_grad(): # 기울기 계산 비활성화\n",
    "    for images, _ in loader_test:\n",
    "        # 이미지 데이터 미니배치를 장비에 할당\n",
    "        images = images.to(device)\n",
    "        \n",
    "        # 순전파 : 이미지 데이터를 신경망 모델의 입력값으로 사용해 출력값 계산\n",
    "        outputs = model(images)\n",
    "        # 타깃값이 1일 확률(예측값)\n",
    "        preds_part = torch.softmax(outputs.cpu(), dim=1)[:, 1].tolist()\n",
    "        # preds에 preds_part 이어붙이기\n",
    "        preds.extend(preds_part)"
   ]
  },
  {
   "cell_type": "code",
   "execution_count": 17,
   "id": "f97b3a7c",
   "metadata": {
    "execution": {
     "iopub.execute_input": "2024-02-01T12:39:53.955368Z",
     "iopub.status.busy": "2024-02-01T12:39:53.954716Z",
     "iopub.status.idle": "2024-02-01T12:39:53.975585Z",
     "shell.execute_reply": "2024-02-01T12:39:53.975102Z"
    },
    "papermill": {
     "duration": 0.068153,
     "end_time": "2024-02-01T12:39:53.975714",
     "exception": false,
     "start_time": "2024-02-01T12:39:53.907561",
     "status": "completed"
    },
    "tags": []
   },
   "outputs": [],
   "source": [
    "submission['has_cactus'] = preds\n",
    "submission.to_csv('submission.csv', index=False)"
   ]
  },
  {
   "cell_type": "code",
   "execution_count": 18,
   "id": "720c1207",
   "metadata": {
    "execution": {
     "iopub.execute_input": "2024-02-01T12:39:54.058759Z",
     "iopub.status.busy": "2024-02-01T12:39:54.057875Z",
     "iopub.status.idle": "2024-02-01T12:39:54.685526Z",
     "shell.execute_reply": "2024-02-01T12:39:54.686056Z"
    },
    "papermill": {
     "duration": 0.671103,
     "end_time": "2024-02-01T12:39:54.686245",
     "exception": false,
     "start_time": "2024-02-01T12:39:54.015142",
     "status": "completed"
    },
    "tags": []
   },
   "outputs": [],
   "source": [
    "import shutil\n",
    "\n",
    "shutil.rmtree('./train')\n",
    "shutil.rmtree('./test')"
   ]
  }
 ],
 "metadata": {
  "kaggle": {
   "accelerator": "gpu",
   "dataSources": [
    {
     "databundleVersionId": 331452,
     "sourceId": 13435,
     "sourceType": "competition"
    }
   ],
   "dockerImageVersionId": 30124,
   "isGpuEnabled": true,
   "isInternetEnabled": true,
   "language": "python",
   "sourceType": "notebook"
  },
  "kernelspec": {
   "display_name": "Python 3",
   "language": "python",
   "name": "python3"
  },
  "language_info": {
   "codemirror_mode": {
    "name": "ipython",
    "version": 3
   },
   "file_extension": ".py",
   "mimetype": "text/x-python",
   "name": "python",
   "nbconvert_exporter": "python",
   "pygments_lexer": "ipython3",
   "version": "3.7.10"
  },
  "papermill": {
   "default_parameters": {},
   "duration": 3187.393979,
   "end_time": "2024-02-01T12:39:56.715810",
   "environment_variables": {},
   "exception": null,
   "input_path": "__notebook__.ipynb",
   "output_path": "__notebook__.ipynb",
   "parameters": {},
   "start_time": "2024-02-01T11:46:49.321831",
   "version": "2.3.3"
  }
 },
 "nbformat": 4,
 "nbformat_minor": 5
}
