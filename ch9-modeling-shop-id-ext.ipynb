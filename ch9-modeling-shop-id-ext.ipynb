{
 "cells": [
  {
   "cell_type": "markdown",
   "id": "2d6a2f4e",
   "metadata": {
    "papermill": {
     "duration": 0.040939,
     "end_time": "2024-01-27T08:19:05.911016",
     "exception": false,
     "start_time": "2024-01-27T08:19:05.870077",
     "status": "completed"
    },
    "tags": []
   },
   "source": [
    "# 향후 판매량 예측 경진대회 실전 문제\n",
    "(훈련 데이터에서 테스트 데이터에 있는 상점ID만 추출)\n",
    "\n",
    "- [향후 판매량 예측 경진대회 링크](https://www.kaggle.com/c/competitive-data-science-predict-future-sales)\n",
    "- [모델링 코드 참고 링크](https://www.kaggle.com/dkomyagin/predict-future-sales-lightgbm-framework)"
   ]
  },
  {
   "cell_type": "code",
   "execution_count": 1,
   "id": "ed2e5efa",
   "metadata": {
    "execution": {
     "iopub.execute_input": "2024-01-27T08:19:06.006972Z",
     "iopub.status.busy": "2024-01-27T08:19:06.005967Z",
     "iopub.status.idle": "2024-01-27T08:19:09.410526Z",
     "shell.execute_reply": "2024-01-27T08:19:09.409301Z"
    },
    "papermill": {
     "duration": 3.459599,
     "end_time": "2024-01-27T08:19:09.410705",
     "exception": false,
     "start_time": "2024-01-27T08:19:05.951106",
     "status": "completed"
    },
    "tags": []
   },
   "outputs": [],
   "source": [
    "import numpy as np\n",
    "import pandas as pd\n",
    "import warnings\n",
    "\n",
    "warnings.filterwarnings(action='ignore') # 경고 메시지 생략\n",
    "\n",
    "# 데이터 경로\n",
    "data_path = '/kaggle/input/competitive-data-science-predict-future-sales/'\n",
    "\n",
    "sales_train = pd.read_csv(data_path + 'sales_train.csv')\n",
    "shops = pd.read_csv(data_path + 'shops.csv')\n",
    "items = pd.read_csv(data_path + 'items.csv')\n",
    "item_categories = pd.read_csv(data_path + 'item_categories.csv')\n",
    "test = pd.read_csv(data_path + 'test.csv')\n",
    "submission = pd.read_csv(data_path + 'sample_submission.csv')"
   ]
  },
  {
   "cell_type": "code",
   "execution_count": 2,
   "id": "f7361220",
   "metadata": {
    "execution": {
     "iopub.execute_input": "2024-01-27T08:19:09.503053Z",
     "iopub.status.busy": "2024-01-27T08:19:09.501707Z",
     "iopub.status.idle": "2024-01-27T08:19:09.593797Z",
     "shell.execute_reply": "2024-01-27T08:19:09.593224Z"
    },
    "papermill": {
     "duration": 0.14001,
     "end_time": "2024-01-27T08:19:09.593983",
     "exception": false,
     "start_time": "2024-01-27T08:19:09.453973",
     "status": "completed"
    },
    "tags": []
   },
   "outputs": [],
   "source": [
    "sales_train = sales_train.rename(columns={'date': '날짜', \n",
    "                                          'date_block_num': '월ID',\n",
    "                                          'shop_id': '상점ID',\n",
    "                                          'item_id': '상품ID',\n",
    "                                          'item_price': '판매가',\n",
    "                                          'item_cnt_day': '판매량'})\n",
    "\n",
    "shops = shops.rename(columns={'shop_name': '상점명',\n",
    "                              'shop_id': '상점ID'})\n",
    "\n",
    "items = items.rename(columns={'item_name': '상품명',\n",
    "                              'item_id': '상품ID',\n",
    "                              'item_category_id': '상품분류ID'})\n",
    "\n",
    "item_categories = item_categories.rename(columns=\n",
    "                                         {'item_category_name': '상품분류명',\n",
    "                                          'item_category_id': '상품분류ID'})\n",
    "\n",
    "test = test.rename(columns={'shop_id': '상점ID',\n",
    "                            'item_id': '상품ID'})"
   ]
  },
  {
   "cell_type": "code",
   "execution_count": 3,
   "id": "ce75be55",
   "metadata": {
    "execution": {
     "iopub.execute_input": "2024-01-27T08:19:09.692440Z",
     "iopub.status.busy": "2024-01-27T08:19:09.691794Z",
     "iopub.status.idle": "2024-01-27T08:19:10.007801Z",
     "shell.execute_reply": "2024-01-27T08:19:10.008389Z"
    },
    "papermill": {
     "duration": 0.371586,
     "end_time": "2024-01-27T08:19:10.008617",
     "exception": false,
     "start_time": "2024-01-27T08:19:09.637031",
     "status": "completed"
    },
    "tags": []
   },
   "outputs": [
    {
     "name": "stdout",
     "output_type": "stream",
     "text": [
      "62.5% 압축됨\n",
      "38.6% 압축됨\n",
      "54.2% 압축됨\n",
      "39.9% 압축됨\n",
      "70.8% 압축됨\n"
     ]
    }
   ],
   "source": [
    "def downcast(df, verbose=True):\n",
    "    start_mem = df.memory_usage().sum() / 1024**2\n",
    "    for col in df.columns:\n",
    "        dtype_name = df[col].dtype.name\n",
    "        if dtype_name == 'object':\n",
    "            pass\n",
    "        elif dtype_name == 'bool':\n",
    "            df[col] = df[col].astype('int8')\n",
    "        elif dtype_name.startswith('int') or (df[col].round() == df[col]).all():\n",
    "            df[col] = pd.to_numeric(df[col], downcast='integer')\n",
    "        else:\n",
    "            df[col] = pd.to_numeric(df[col], downcast='float')\n",
    "    end_mem = df.memory_usage().sum() / 1024**2\n",
    "    if verbose:\n",
    "        print('{:.1f}% 압축됨'.format(100 * (start_mem - end_mem) / start_mem))\n",
    "    \n",
    "    return df\n",
    "\n",
    "all_df = [sales_train, shops, items, item_categories, test]\n",
    "for df in all_df:\n",
    "    df = downcast(df)"
   ]
  },
  {
   "cell_type": "code",
   "execution_count": 4,
   "id": "b4904ff3",
   "metadata": {
    "execution": {
     "iopub.execute_input": "2024-01-27T08:19:10.097302Z",
     "iopub.status.busy": "2024-01-27T08:19:10.096617Z",
     "iopub.status.idle": "2024-01-27T08:19:10.594434Z",
     "shell.execute_reply": "2024-01-27T08:19:10.594970Z"
    },
    "papermill": {
     "duration": 0.545244,
     "end_time": "2024-01-27T08:19:10.595159",
     "exception": false,
     "start_time": "2024-01-27T08:19:10.049915",
     "status": "completed"
    },
    "tags": []
   },
   "outputs": [],
   "source": [
    "# 판매가가 0보다 큰 데이터 추출\n",
    "sales_train = sales_train[sales_train['판매가'] > 0]\n",
    "# 판매가가 50,000보다 작은 데이터 추출\n",
    "sales_train = sales_train[sales_train['판매가'] < 50000]\n",
    "# 판매량이 0보다 큰 데이터 추출\n",
    "sales_train = sales_train[sales_train['판매량'] > 0]\n",
    "# 판매량이 1,000보다 작은 데이터 추출\n",
    "sales_train = sales_train[sales_train['판매량'] < 1000]"
   ]
  },
  {
   "cell_type": "code",
   "execution_count": 5,
   "id": "4da1a6ee",
   "metadata": {
    "execution": {
     "iopub.execute_input": "2024-01-27T08:19:10.687280Z",
     "iopub.status.busy": "2024-01-27T08:19:10.686599Z",
     "iopub.status.idle": "2024-01-27T08:19:10.691238Z",
     "shell.execute_reply": "2024-01-27T08:19:10.691715Z"
    },
    "papermill": {
     "duration": 0.053221,
     "end_time": "2024-01-27T08:19:10.691880",
     "exception": false,
     "start_time": "2024-01-27T08:19:10.638659",
     "status": "completed"
    },
    "tags": []
   },
   "outputs": [
    {
     "name": "stdout",
     "output_type": "stream",
     "text": [
      "!Якутск Орджоникидзе, 56 фран || Якутск Орджоникидзе, 56\n",
      "!Якутск ТЦ \"Центральный\" фран || Якутск ТЦ \"Центральный\"\n",
      "Жуковский ул. Чкалова 39м? || Жуковский ул. Чкалова 39м²\n",
      "РостовНаДону ТРК \"Мегацентр Горизонт\" || РостовНаДону ТРК \"Мегацентр Горизонт\" Островной\n"
     ]
    }
   ],
   "source": [
    "print(shops['상점명'][0], '||', shops['상점명'][57])\n",
    "print(shops['상점명'][1], '||', shops['상점명'][58])\n",
    "print(shops['상점명'][10], '||', shops['상점명'][11])\n",
    "print(shops['상점명'][39], '||', shops['상점명'][40])"
   ]
  },
  {
   "cell_type": "code",
   "execution_count": 6,
   "id": "7f90de8c",
   "metadata": {
    "execution": {
     "iopub.execute_input": "2024-01-27T08:19:10.780267Z",
     "iopub.status.busy": "2024-01-27T08:19:10.779639Z",
     "iopub.status.idle": "2024-01-27T08:19:10.796288Z",
     "shell.execute_reply": "2024-01-27T08:19:10.795580Z"
    },
    "papermill": {
     "duration": 0.063854,
     "end_time": "2024-01-27T08:19:10.796432",
     "exception": false,
     "start_time": "2024-01-27T08:19:10.732578",
     "status": "completed"
    },
    "tags": []
   },
   "outputs": [],
   "source": [
    "# sales_train 데이터에서 상점ID 수정\n",
    "sales_train.loc[sales_train['상점ID'] == 0, '상점ID'] = 57\n",
    "sales_train.loc[sales_train['상점ID'] == 1, '상점ID'] = 58\n",
    "sales_train.loc[sales_train['상점ID'] == 10, '상점ID'] = 11\n",
    "sales_train.loc[sales_train['상점ID'] == 39, '상점ID'] = 40\n",
    "\n",
    "# test 데이터에서 상점ID 수정\n",
    "test.loc[test['상점ID'] == 0, '상점ID'] = 57\n",
    "test.loc[test['상점ID'] == 1, '상점ID'] = 58\n",
    "test.loc[test['상점ID'] == 10, '상점ID'] = 11\n",
    "test.loc[test['상점ID'] == 39, '상점ID'] = 40"
   ]
  },
  {
   "cell_type": "markdown",
   "id": "7081692b",
   "metadata": {
    "papermill": {
     "duration": 0.042188,
     "end_time": "2024-01-27T08:19:10.881384",
     "exception": false,
     "start_time": "2024-01-27T08:19:10.839196",
     "status": "completed"
    },
    "tags": []
   },
   "source": [
    "### 테스트 데이터에 있는 상점ID만 추출"
   ]
  },
  {
   "cell_type": "code",
   "execution_count": 7,
   "id": "2df8d4c5",
   "metadata": {
    "execution": {
     "iopub.execute_input": "2024-01-27T08:19:10.970627Z",
     "iopub.status.busy": "2024-01-27T08:19:10.969905Z",
     "iopub.status.idle": "2024-01-27T08:19:11.078981Z",
     "shell.execute_reply": "2024-01-27T08:19:11.078228Z"
    },
    "papermill": {
     "duration": 0.156237,
     "end_time": "2024-01-27T08:19:11.079134",
     "exception": false,
     "start_time": "2024-01-27T08:19:10.922897",
     "status": "completed"
    },
    "tags": []
   },
   "outputs": [],
   "source": [
    "# 테스트 데이터에 있는 상점ID만 추출\n",
    "unique_test_shop_id = test['상점ID'].unique()\n",
    "sales_train = sales_train[sales_train['상점ID'].isin(unique_test_shop_id)]"
   ]
  },
  {
   "cell_type": "code",
   "execution_count": 8,
   "id": "5dfe9960",
   "metadata": {
    "execution": {
     "iopub.execute_input": "2024-01-27T08:19:11.173095Z",
     "iopub.status.busy": "2024-01-27T08:19:11.169268Z",
     "iopub.status.idle": "2024-01-27T08:19:11.175953Z",
     "shell.execute_reply": "2024-01-27T08:19:11.175469Z"
    },
    "papermill": {
     "duration": 0.051824,
     "end_time": "2024-01-27T08:19:11.176081",
     "exception": false,
     "start_time": "2024-01-27T08:19:11.124257",
     "status": "completed"
    },
    "tags": []
   },
   "outputs": [],
   "source": [
    "shops['도시'] = shops['상점명'].apply(lambda x: x.split()[0])"
   ]
  },
  {
   "cell_type": "code",
   "execution_count": 9,
   "id": "2a1b56c1",
   "metadata": {
    "execution": {
     "iopub.execute_input": "2024-01-27T08:19:11.267263Z",
     "iopub.status.busy": "2024-01-27T08:19:11.266614Z",
     "iopub.status.idle": "2024-01-27T08:19:11.271098Z",
     "shell.execute_reply": "2024-01-27T08:19:11.270555Z"
    },
    "papermill": {
     "duration": 0.0538,
     "end_time": "2024-01-27T08:19:11.271236",
     "exception": false,
     "start_time": "2024-01-27T08:19:11.217436",
     "status": "completed"
    },
    "tags": []
   },
   "outputs": [
    {
     "data": {
      "text/plain": [
       "array(['!Якутск', 'Адыгея', 'Балашиха', 'Волжский', 'Вологда', 'Воронеж',\n",
       "       'Выездная', 'Жуковский', 'Интернет-магазин', 'Казань', 'Калуга',\n",
       "       'Коломна', 'Красноярск', 'Курск', 'Москва', 'Мытищи', 'Н.Новгород',\n",
       "       'Новосибирск', 'Омск', 'РостовНаДону', 'СПб', 'Самара', 'Сергиев',\n",
       "       'Сургут', 'Томск', 'Тюмень', 'Уфа', 'Химки', 'Цифровой', 'Чехов',\n",
       "       'Якутск', 'Ярославль'], dtype=object)"
      ]
     },
     "execution_count": 9,
     "metadata": {},
     "output_type": "execute_result"
    }
   ],
   "source": [
    "shops['도시'].unique()"
   ]
  },
  {
   "cell_type": "code",
   "execution_count": 10,
   "id": "9794c2df",
   "metadata": {
    "execution": {
     "iopub.execute_input": "2024-01-27T08:19:11.362272Z",
     "iopub.status.busy": "2024-01-27T08:19:11.361640Z",
     "iopub.status.idle": "2024-01-27T08:19:11.364460Z",
     "shell.execute_reply": "2024-01-27T08:19:11.363952Z"
    },
    "papermill": {
     "duration": 0.050024,
     "end_time": "2024-01-27T08:19:11.364581",
     "exception": false,
     "start_time": "2024-01-27T08:19:11.314557",
     "status": "completed"
    },
    "tags": []
   },
   "outputs": [],
   "source": [
    "shops.loc[shops['도시'] =='!Якутск', '도시'] = 'Якутск'"
   ]
  },
  {
   "cell_type": "code",
   "execution_count": 11,
   "id": "2ac8a75f",
   "metadata": {
    "execution": {
     "iopub.execute_input": "2024-01-27T08:19:11.454177Z",
     "iopub.status.busy": "2024-01-27T08:19:11.453209Z",
     "iopub.status.idle": "2024-01-27T08:19:12.185242Z",
     "shell.execute_reply": "2024-01-27T08:19:12.184619Z"
    },
    "papermill": {
     "duration": 0.778084,
     "end_time": "2024-01-27T08:19:12.185389",
     "exception": false,
     "start_time": "2024-01-27T08:19:11.407305",
     "status": "completed"
    },
    "tags": []
   },
   "outputs": [],
   "source": [
    "from sklearn.preprocessing import LabelEncoder\n",
    "\n",
    "# 레이블 인코더 생성\n",
    "label_encoder = LabelEncoder()\n",
    "# 도시 피처 레이블 인코딩\n",
    "shops['도시'] = label_encoder.fit_transform(shops['도시'])"
   ]
  },
  {
   "cell_type": "code",
   "execution_count": 12,
   "id": "f1213f5a",
   "metadata": {
    "execution": {
     "iopub.execute_input": "2024-01-27T08:19:12.275251Z",
     "iopub.status.busy": "2024-01-27T08:19:12.274584Z",
     "iopub.status.idle": "2024-01-27T08:19:12.283393Z",
     "shell.execute_reply": "2024-01-27T08:19:12.283877Z"
    },
    "papermill": {
     "duration": 0.05675,
     "end_time": "2024-01-27T08:19:12.284028",
     "exception": false,
     "start_time": "2024-01-27T08:19:12.227278",
     "status": "completed"
    },
    "tags": []
   },
   "outputs": [
    {
     "data": {
      "text/html": [
       "<div>\n",
       "<style scoped>\n",
       "    .dataframe tbody tr th:only-of-type {\n",
       "        vertical-align: middle;\n",
       "    }\n",
       "\n",
       "    .dataframe tbody tr th {\n",
       "        vertical-align: top;\n",
       "    }\n",
       "\n",
       "    .dataframe thead th {\n",
       "        text-align: right;\n",
       "    }\n",
       "</style>\n",
       "<table border=\"1\" class=\"dataframe\">\n",
       "  <thead>\n",
       "    <tr style=\"text-align: right;\">\n",
       "      <th></th>\n",
       "      <th>상점ID</th>\n",
       "      <th>도시</th>\n",
       "    </tr>\n",
       "  </thead>\n",
       "  <tbody>\n",
       "    <tr>\n",
       "      <th>0</th>\n",
       "      <td>0</td>\n",
       "      <td>29</td>\n",
       "    </tr>\n",
       "    <tr>\n",
       "      <th>1</th>\n",
       "      <td>1</td>\n",
       "      <td>29</td>\n",
       "    </tr>\n",
       "    <tr>\n",
       "      <th>2</th>\n",
       "      <td>2</td>\n",
       "      <td>0</td>\n",
       "    </tr>\n",
       "    <tr>\n",
       "      <th>3</th>\n",
       "      <td>3</td>\n",
       "      <td>1</td>\n",
       "    </tr>\n",
       "    <tr>\n",
       "      <th>4</th>\n",
       "      <td>4</td>\n",
       "      <td>2</td>\n",
       "    </tr>\n",
       "  </tbody>\n",
       "</table>\n",
       "</div>"
      ],
      "text/plain": [
       "   상점ID  도시\n",
       "0     0  29\n",
       "1     1  29\n",
       "2     2   0\n",
       "3     3   1\n",
       "4     4   2"
      ]
     },
     "execution_count": 12,
     "metadata": {},
     "output_type": "execute_result"
    }
   ],
   "source": [
    "# 상점명 피처 제거\n",
    "shops = shops.drop('상점명', axis=1)\n",
    "\n",
    "shops.head()"
   ]
  },
  {
   "cell_type": "code",
   "execution_count": 13,
   "id": "bca66b07",
   "metadata": {
    "execution": {
     "iopub.execute_input": "2024-01-27T08:19:12.374204Z",
     "iopub.status.busy": "2024-01-27T08:19:12.373511Z",
     "iopub.status.idle": "2024-01-27T08:19:12.379509Z",
     "shell.execute_reply": "2024-01-27T08:19:12.378824Z"
    },
    "papermill": {
     "duration": 0.052629,
     "end_time": "2024-01-27T08:19:12.379646",
     "exception": false,
     "start_time": "2024-01-27T08:19:12.327017",
     "status": "completed"
    },
    "tags": []
   },
   "outputs": [],
   "source": [
    "# 상품명 피처 제거\n",
    "items = items.drop(['상품명'], axis=1)"
   ]
  },
  {
   "cell_type": "code",
   "execution_count": 14,
   "id": "5a631344",
   "metadata": {
    "execution": {
     "iopub.execute_input": "2024-01-27T08:19:12.473442Z",
     "iopub.status.busy": "2024-01-27T08:19:12.472769Z",
     "iopub.status.idle": "2024-01-27T08:19:12.551607Z",
     "shell.execute_reply": "2024-01-27T08:19:12.552121Z"
    },
    "papermill": {
     "duration": 0.127874,
     "end_time": "2024-01-27T08:19:12.552308",
     "exception": false,
     "start_time": "2024-01-27T08:19:12.424434",
     "status": "completed"
    },
    "tags": []
   },
   "outputs": [
    {
     "data": {
      "text/html": [
       "<div>\n",
       "<style scoped>\n",
       "    .dataframe tbody tr th:only-of-type {\n",
       "        vertical-align: middle;\n",
       "    }\n",
       "\n",
       "    .dataframe tbody tr th {\n",
       "        vertical-align: top;\n",
       "    }\n",
       "\n",
       "    .dataframe thead th {\n",
       "        text-align: right;\n",
       "    }\n",
       "</style>\n",
       "<table border=\"1\" class=\"dataframe\">\n",
       "  <thead>\n",
       "    <tr style=\"text-align: right;\">\n",
       "      <th></th>\n",
       "      <th>상품ID</th>\n",
       "      <th>상품분류ID</th>\n",
       "      <th>첫 판매월</th>\n",
       "    </tr>\n",
       "  </thead>\n",
       "  <tbody>\n",
       "    <tr>\n",
       "      <th>0</th>\n",
       "      <td>0</td>\n",
       "      <td>40</td>\n",
       "      <td>NaN</td>\n",
       "    </tr>\n",
       "    <tr>\n",
       "      <th>1</th>\n",
       "      <td>1</td>\n",
       "      <td>76</td>\n",
       "      <td>15.0</td>\n",
       "    </tr>\n",
       "    <tr>\n",
       "      <th>2</th>\n",
       "      <td>2</td>\n",
       "      <td>40</td>\n",
       "      <td>NaN</td>\n",
       "    </tr>\n",
       "    <tr>\n",
       "      <th>3</th>\n",
       "      <td>3</td>\n",
       "      <td>40</td>\n",
       "      <td>NaN</td>\n",
       "    </tr>\n",
       "    <tr>\n",
       "      <th>4</th>\n",
       "      <td>4</td>\n",
       "      <td>40</td>\n",
       "      <td>NaN</td>\n",
       "    </tr>\n",
       "  </tbody>\n",
       "</table>\n",
       "</div>"
      ],
      "text/plain": [
       "   상품ID  상품분류ID  첫 판매월\n",
       "0     0      40    NaN\n",
       "1     1      76   15.0\n",
       "2     2      40    NaN\n",
       "3     3      40    NaN\n",
       "4     4      40    NaN"
      ]
     },
     "execution_count": 14,
     "metadata": {},
     "output_type": "execute_result"
    }
   ],
   "source": [
    "# 상품이 맨 처음 팔린 날을 피처로 추가\n",
    "items['첫 판매월'] = sales_train.groupby('상품ID').agg({'월ID': 'min'})['월ID']\n",
    "\n",
    "items.head()"
   ]
  },
  {
   "cell_type": "code",
   "execution_count": 15,
   "id": "055871f6",
   "metadata": {
    "execution": {
     "iopub.execute_input": "2024-01-27T08:19:12.647134Z",
     "iopub.status.busy": "2024-01-27T08:19:12.645158Z",
     "iopub.status.idle": "2024-01-27T08:19:12.659066Z",
     "shell.execute_reply": "2024-01-27T08:19:12.659659Z"
    },
    "papermill": {
     "duration": 0.063799,
     "end_time": "2024-01-27T08:19:12.659855",
     "exception": false,
     "start_time": "2024-01-27T08:19:12.596056",
     "status": "completed"
    },
    "tags": []
   },
   "outputs": [
    {
     "data": {
      "text/html": [
       "<div>\n",
       "<style scoped>\n",
       "    .dataframe tbody tr th:only-of-type {\n",
       "        vertical-align: middle;\n",
       "    }\n",
       "\n",
       "    .dataframe tbody tr th {\n",
       "        vertical-align: top;\n",
       "    }\n",
       "\n",
       "    .dataframe thead th {\n",
       "        text-align: right;\n",
       "    }\n",
       "</style>\n",
       "<table border=\"1\" class=\"dataframe\">\n",
       "  <thead>\n",
       "    <tr style=\"text-align: right;\">\n",
       "      <th></th>\n",
       "      <th>상품ID</th>\n",
       "      <th>상품분류ID</th>\n",
       "      <th>첫 판매월</th>\n",
       "    </tr>\n",
       "  </thead>\n",
       "  <tbody>\n",
       "    <tr>\n",
       "      <th>0</th>\n",
       "      <td>0</td>\n",
       "      <td>40</td>\n",
       "      <td>NaN</td>\n",
       "    </tr>\n",
       "    <tr>\n",
       "      <th>2</th>\n",
       "      <td>2</td>\n",
       "      <td>40</td>\n",
       "      <td>NaN</td>\n",
       "    </tr>\n",
       "    <tr>\n",
       "      <th>3</th>\n",
       "      <td>3</td>\n",
       "      <td>40</td>\n",
       "      <td>NaN</td>\n",
       "    </tr>\n",
       "    <tr>\n",
       "      <th>4</th>\n",
       "      <td>4</td>\n",
       "      <td>40</td>\n",
       "      <td>NaN</td>\n",
       "    </tr>\n",
       "    <tr>\n",
       "      <th>5</th>\n",
       "      <td>5</td>\n",
       "      <td>40</td>\n",
       "      <td>NaN</td>\n",
       "    </tr>\n",
       "    <tr>\n",
       "      <th>...</th>\n",
       "      <td>...</td>\n",
       "      <td>...</td>\n",
       "      <td>...</td>\n",
       "    </tr>\n",
       "    <tr>\n",
       "      <th>21975</th>\n",
       "      <td>21975</td>\n",
       "      <td>61</td>\n",
       "      <td>NaN</td>\n",
       "    </tr>\n",
       "    <tr>\n",
       "      <th>22022</th>\n",
       "      <td>22022</td>\n",
       "      <td>40</td>\n",
       "      <td>NaN</td>\n",
       "    </tr>\n",
       "    <tr>\n",
       "      <th>22028</th>\n",
       "      <td>22028</td>\n",
       "      <td>40</td>\n",
       "      <td>NaN</td>\n",
       "    </tr>\n",
       "    <tr>\n",
       "      <th>22035</th>\n",
       "      <td>22035</td>\n",
       "      <td>40</td>\n",
       "      <td>NaN</td>\n",
       "    </tr>\n",
       "    <tr>\n",
       "      <th>22137</th>\n",
       "      <td>22137</td>\n",
       "      <td>40</td>\n",
       "      <td>NaN</td>\n",
       "    </tr>\n",
       "  </tbody>\n",
       "</table>\n",
       "<p>1090 rows × 3 columns</p>\n",
       "</div>"
      ],
      "text/plain": [
       "        상품ID  상품분류ID  첫 판매월\n",
       "0          0      40    NaN\n",
       "2          2      40    NaN\n",
       "3          3      40    NaN\n",
       "4          4      40    NaN\n",
       "5          5      40    NaN\n",
       "...      ...     ...    ...\n",
       "21975  21975      61    NaN\n",
       "22022  22022      40    NaN\n",
       "22028  22028      40    NaN\n",
       "22035  22035      40    NaN\n",
       "22137  22137      40    NaN\n",
       "\n",
       "[1090 rows x 3 columns]"
      ]
     },
     "execution_count": 15,
     "metadata": {},
     "output_type": "execute_result"
    }
   ],
   "source": [
    "items[items['첫 판매월'].isna()]"
   ]
  },
  {
   "cell_type": "code",
   "execution_count": 16,
   "id": "c69102ff",
   "metadata": {
    "execution": {
     "iopub.execute_input": "2024-01-27T08:19:12.753997Z",
     "iopub.status.busy": "2024-01-27T08:19:12.753334Z",
     "iopub.status.idle": "2024-01-27T08:19:12.757361Z",
     "shell.execute_reply": "2024-01-27T08:19:12.757815Z"
    },
    "papermill": {
     "duration": 0.052429,
     "end_time": "2024-01-27T08:19:12.757980",
     "exception": false,
     "start_time": "2024-01-27T08:19:12.705551",
     "status": "completed"
    },
    "tags": []
   },
   "outputs": [],
   "source": [
    "# 첫 판매월 피처의 결측값을 34로 대체\n",
    "items['첫 판매월'] = items['첫 판매월'].fillna(34)"
   ]
  },
  {
   "cell_type": "code",
   "execution_count": 17,
   "id": "3e634647",
   "metadata": {
    "execution": {
     "iopub.execute_input": "2024-01-27T08:19:12.851050Z",
     "iopub.status.busy": "2024-01-27T08:19:12.850414Z",
     "iopub.status.idle": "2024-01-27T08:19:12.855292Z",
     "shell.execute_reply": "2024-01-27T08:19:12.855750Z"
    },
    "papermill": {
     "duration": 0.053283,
     "end_time": "2024-01-27T08:19:12.855909",
     "exception": false,
     "start_time": "2024-01-27T08:19:12.802626",
     "status": "completed"
    },
    "tags": []
   },
   "outputs": [],
   "source": [
    "# 상품분류명의 첫 단어를 대분류로 추출\n",
    "item_categories['대분류'] = item_categories['상품분류명'].apply(lambda x: x.split()[0])  "
   ]
  },
  {
   "cell_type": "code",
   "execution_count": 18,
   "id": "fe9516cd",
   "metadata": {
    "execution": {
     "iopub.execute_input": "2024-01-27T08:19:12.949431Z",
     "iopub.status.busy": "2024-01-27T08:19:12.948727Z",
     "iopub.status.idle": "2024-01-27T08:19:12.956692Z",
     "shell.execute_reply": "2024-01-27T08:19:12.957295Z"
    },
    "papermill": {
     "duration": 0.056338,
     "end_time": "2024-01-27T08:19:12.957453",
     "exception": false,
     "start_time": "2024-01-27T08:19:12.901115",
     "status": "completed"
    },
    "tags": []
   },
   "outputs": [
    {
     "data": {
      "text/plain": [
       "Игры          14\n",
       "Книги         13\n",
       "Подарки       12\n",
       "Игровые        8\n",
       "Аксессуары     7\n",
       "Музыка         6\n",
       "Программы      6\n",
       "Карты          5\n",
       "Кино           5\n",
       "Служебные      2\n",
       "Чистые         2\n",
       "PC             1\n",
       "Билеты         1\n",
       "Доставка       1\n",
       "Элементы       1\n",
       "Name: 대분류, dtype: int64"
      ]
     },
     "execution_count": 18,
     "metadata": {},
     "output_type": "execute_result"
    }
   ],
   "source": [
    "item_categories['대분류'].value_counts()"
   ]
  },
  {
   "cell_type": "code",
   "execution_count": 19,
   "id": "255cbb24",
   "metadata": {
    "execution": {
     "iopub.execute_input": "2024-01-27T08:19:13.051388Z",
     "iopub.status.busy": "2024-01-27T08:19:13.050732Z",
     "iopub.status.idle": "2024-01-27T08:19:13.086074Z",
     "shell.execute_reply": "2024-01-27T08:19:13.086548Z"
    },
    "papermill": {
     "duration": 0.084218,
     "end_time": "2024-01-27T08:19:13.086714",
     "exception": false,
     "start_time": "2024-01-27T08:19:13.002496",
     "status": "completed"
    },
    "tags": []
   },
   "outputs": [],
   "source": [
    "def make_etc(x):\n",
    "    if len(item_categories[item_categories['대분류']==x]) >= 5:\n",
    "        return x\n",
    "    else:\n",
    "        return 'etc'\n",
    "\n",
    "# 대분류의 고윳 개수가 5개 미만이면 'etc'로 바꾸기\n",
    "item_categories['대분류'] = item_categories['대분류'].apply(make_etc)"
   ]
  },
  {
   "cell_type": "code",
   "execution_count": 20,
   "id": "5a5628d4",
   "metadata": {
    "execution": {
     "iopub.execute_input": "2024-01-27T08:19:13.182792Z",
     "iopub.status.busy": "2024-01-27T08:19:13.182134Z",
     "iopub.status.idle": "2024-01-27T08:19:13.190899Z",
     "shell.execute_reply": "2024-01-27T08:19:13.191534Z"
    },
    "papermill": {
     "duration": 0.058001,
     "end_time": "2024-01-27T08:19:13.191690",
     "exception": false,
     "start_time": "2024-01-27T08:19:13.133689",
     "status": "completed"
    },
    "tags": []
   },
   "outputs": [
    {
     "data": {
      "text/html": [
       "<div>\n",
       "<style scoped>\n",
       "    .dataframe tbody tr th:only-of-type {\n",
       "        vertical-align: middle;\n",
       "    }\n",
       "\n",
       "    .dataframe tbody tr th {\n",
       "        vertical-align: top;\n",
       "    }\n",
       "\n",
       "    .dataframe thead th {\n",
       "        text-align: right;\n",
       "    }\n",
       "</style>\n",
       "<table border=\"1\" class=\"dataframe\">\n",
       "  <thead>\n",
       "    <tr style=\"text-align: right;\">\n",
       "      <th></th>\n",
       "      <th>상품분류명</th>\n",
       "      <th>상품분류ID</th>\n",
       "      <th>대분류</th>\n",
       "    </tr>\n",
       "  </thead>\n",
       "  <tbody>\n",
       "    <tr>\n",
       "      <th>0</th>\n",
       "      <td>PC - Гарнитуры/Наушники</td>\n",
       "      <td>0</td>\n",
       "      <td>etc</td>\n",
       "    </tr>\n",
       "    <tr>\n",
       "      <th>1</th>\n",
       "      <td>Аксессуары - PS2</td>\n",
       "      <td>1</td>\n",
       "      <td>Аксессуары</td>\n",
       "    </tr>\n",
       "    <tr>\n",
       "      <th>2</th>\n",
       "      <td>Аксессуары - PS3</td>\n",
       "      <td>2</td>\n",
       "      <td>Аксессуары</td>\n",
       "    </tr>\n",
       "    <tr>\n",
       "      <th>3</th>\n",
       "      <td>Аксессуары - PS4</td>\n",
       "      <td>3</td>\n",
       "      <td>Аксессуары</td>\n",
       "    </tr>\n",
       "    <tr>\n",
       "      <th>4</th>\n",
       "      <td>Аксессуары - PSP</td>\n",
       "      <td>4</td>\n",
       "      <td>Аксессуары</td>\n",
       "    </tr>\n",
       "  </tbody>\n",
       "</table>\n",
       "</div>"
      ],
      "text/plain": [
       "                     상품분류명  상품분류ID         대분류\n",
       "0  PC - Гарнитуры/Наушники       0         etc\n",
       "1         Аксессуары - PS2       1  Аксессуары\n",
       "2         Аксессуары - PS3       2  Аксессуары\n",
       "3         Аксессуары - PS4       3  Аксессуары\n",
       "4         Аксессуары - PSP       4  Аксессуары"
      ]
     },
     "execution_count": 20,
     "metadata": {},
     "output_type": "execute_result"
    }
   ],
   "source": [
    "item_categories.head()"
   ]
  },
  {
   "cell_type": "code",
   "execution_count": 21,
   "id": "b5b46432",
   "metadata": {
    "execution": {
     "iopub.execute_input": "2024-01-27T08:19:13.290590Z",
     "iopub.status.busy": "2024-01-27T08:19:13.285347Z",
     "iopub.status.idle": "2024-01-27T08:19:13.292407Z",
     "shell.execute_reply": "2024-01-27T08:19:13.292966Z"
    },
    "papermill": {
     "duration": 0.055325,
     "end_time": "2024-01-27T08:19:13.293132",
     "exception": false,
     "start_time": "2024-01-27T08:19:13.237807",
     "status": "completed"
    },
    "tags": []
   },
   "outputs": [],
   "source": [
    "# 레이블 인코더 생성\n",
    "label_encoder = LabelEncoder()\n",
    "# 대분류 피처 레이블 인코딩\n",
    "item_categories['대분류'] = label_encoder.fit_transform(item_categories['대분류'])\n",
    "\n",
    "# 상품분류명 피처 제거\n",
    "item_categories = item_categories.drop('상품분류명', axis=1)"
   ]
  },
  {
   "cell_type": "code",
   "execution_count": 22,
   "id": "e7ab366e",
   "metadata": {
    "execution": {
     "iopub.execute_input": "2024-01-27T08:19:13.393089Z",
     "iopub.status.busy": "2024-01-27T08:19:13.392237Z",
     "iopub.status.idle": "2024-01-27T08:19:30.583381Z",
     "shell.execute_reply": "2024-01-27T08:19:30.582763Z"
    },
    "papermill": {
     "duration": 17.243514,
     "end_time": "2024-01-27T08:19:30.583535",
     "exception": false,
     "start_time": "2024-01-27T08:19:13.340021",
     "status": "completed"
    },
    "tags": []
   },
   "outputs": [],
   "source": [
    "from itertools import product\n",
    "\n",
    "train = []\n",
    "# 월ID, 상점ID, 상품ID 조합 생성\n",
    "for i in sales_train['월ID'].unique():\n",
    "    all_shop = sales_train.loc[sales_train['월ID']==i, '상점ID'].unique()\n",
    "    all_item = sales_train.loc[sales_train['월ID']==i, '상품ID'].unique()\n",
    "    train.append(np.array(list(product([i], all_shop, all_item))))\n",
    "\n",
    "idx_features = ['월ID', '상점ID', '상품ID'] # 기준 피처\n",
    "train = pd.DataFrame(np.vstack(train), columns=idx_features)"
   ]
  },
  {
   "cell_type": "code",
   "execution_count": 23,
   "id": "63504614",
   "metadata": {
    "execution": {
     "iopub.execute_input": "2024-01-27T08:19:30.691533Z",
     "iopub.status.busy": "2024-01-27T08:19:30.690801Z",
     "iopub.status.idle": "2024-01-27T08:19:35.046024Z",
     "shell.execute_reply": "2024-01-27T08:19:35.045432Z"
    },
    "papermill": {
     "duration": 4.413405,
     "end_time": "2024-01-27T08:19:35.046192",
     "exception": false,
     "start_time": "2024-01-27T08:19:30.632787",
     "status": "completed"
    },
    "tags": []
   },
   "outputs": [
    {
     "data": {
      "text/html": [
       "<div>\n",
       "<style scoped>\n",
       "    .dataframe tbody tr th:only-of-type {\n",
       "        vertical-align: middle;\n",
       "    }\n",
       "\n",
       "    .dataframe tbody tr th {\n",
       "        vertical-align: top;\n",
       "    }\n",
       "\n",
       "    .dataframe thead th {\n",
       "        text-align: right;\n",
       "    }\n",
       "</style>\n",
       "<table border=\"1\" class=\"dataframe\">\n",
       "  <thead>\n",
       "    <tr style=\"text-align: right;\">\n",
       "      <th></th>\n",
       "      <th>월ID</th>\n",
       "      <th>상점ID</th>\n",
       "      <th>상품ID</th>\n",
       "      <th>월간 판매량</th>\n",
       "      <th>평균 판매가</th>\n",
       "    </tr>\n",
       "  </thead>\n",
       "  <tbody>\n",
       "    <tr>\n",
       "      <th>0</th>\n",
       "      <td>0</td>\n",
       "      <td>59</td>\n",
       "      <td>22154</td>\n",
       "      <td>1.0</td>\n",
       "      <td>999.0</td>\n",
       "    </tr>\n",
       "    <tr>\n",
       "      <th>1</th>\n",
       "      <td>0</td>\n",
       "      <td>59</td>\n",
       "      <td>2552</td>\n",
       "      <td>NaN</td>\n",
       "      <td>NaN</td>\n",
       "    </tr>\n",
       "    <tr>\n",
       "      <th>2</th>\n",
       "      <td>0</td>\n",
       "      <td>59</td>\n",
       "      <td>2554</td>\n",
       "      <td>NaN</td>\n",
       "      <td>NaN</td>\n",
       "    </tr>\n",
       "    <tr>\n",
       "      <th>3</th>\n",
       "      <td>0</td>\n",
       "      <td>59</td>\n",
       "      <td>2555</td>\n",
       "      <td>NaN</td>\n",
       "      <td>NaN</td>\n",
       "    </tr>\n",
       "    <tr>\n",
       "      <th>4</th>\n",
       "      <td>0</td>\n",
       "      <td>59</td>\n",
       "      <td>2564</td>\n",
       "      <td>NaN</td>\n",
       "      <td>NaN</td>\n",
       "    </tr>\n",
       "  </tbody>\n",
       "</table>\n",
       "</div>"
      ],
      "text/plain": [
       "   월ID  상점ID   상품ID  월간 판매량  평균 판매가\n",
       "0    0    59  22154     1.0   999.0\n",
       "1    0    59   2552     NaN     NaN\n",
       "2    0    59   2554     NaN     NaN\n",
       "3    0    59   2555     NaN     NaN\n",
       "4    0    59   2564     NaN     NaN"
      ]
     },
     "execution_count": 23,
     "metadata": {},
     "output_type": "execute_result"
    }
   ],
   "source": [
    "group = sales_train.groupby(idx_features).agg({'판매량': 'sum',\n",
    "                                               '판매가': 'mean'})\n",
    "group = group.reset_index()\n",
    "group = group.rename(columns={'판매량': '월간 판매량', '판매가': '평균 판매가'})\n",
    "\n",
    "train = train.merge(group, on=idx_features, how='left')\n",
    "\n",
    "train.head()"
   ]
  },
  {
   "cell_type": "code",
   "execution_count": 24,
   "id": "088b30cf",
   "metadata": {
    "execution": {
     "iopub.execute_input": "2024-01-27T08:19:35.249495Z",
     "iopub.status.busy": "2024-01-27T08:19:35.248539Z",
     "iopub.status.idle": "2024-01-27T08:19:35.252470Z",
     "shell.execute_reply": "2024-01-27T08:19:35.252964Z"
    },
    "papermill": {
     "duration": 0.158538,
     "end_time": "2024-01-27T08:19:35.253139",
     "exception": false,
     "start_time": "2024-01-27T08:19:35.094601",
     "status": "completed"
    },
    "tags": []
   },
   "outputs": [],
   "source": [
    "import gc\n",
    "\n",
    "# group 변수 가비지 컬렉션\n",
    "del group\n",
    "gc.collect();"
   ]
  },
  {
   "cell_type": "code",
   "execution_count": 25,
   "id": "7b29ee63",
   "metadata": {
    "execution": {
     "iopub.execute_input": "2024-01-27T08:19:35.358265Z",
     "iopub.status.busy": "2024-01-27T08:19:35.357589Z",
     "iopub.status.idle": "2024-01-27T08:19:39.861946Z",
     "shell.execute_reply": "2024-01-27T08:19:39.861316Z"
    },
    "papermill": {
     "duration": 4.557157,
     "end_time": "2024-01-27T08:19:39.862097",
     "exception": false,
     "start_time": "2024-01-27T08:19:35.304940",
     "status": "completed"
    },
    "tags": []
   },
   "outputs": [
    {
     "data": {
      "text/html": [
       "<div>\n",
       "<style scoped>\n",
       "    .dataframe tbody tr th:only-of-type {\n",
       "        vertical-align: middle;\n",
       "    }\n",
       "\n",
       "    .dataframe tbody tr th {\n",
       "        vertical-align: top;\n",
       "    }\n",
       "\n",
       "    .dataframe thead th {\n",
       "        text-align: right;\n",
       "    }\n",
       "</style>\n",
       "<table border=\"1\" class=\"dataframe\">\n",
       "  <thead>\n",
       "    <tr style=\"text-align: right;\">\n",
       "      <th></th>\n",
       "      <th>월ID</th>\n",
       "      <th>상점ID</th>\n",
       "      <th>상품ID</th>\n",
       "      <th>월간 판매량</th>\n",
       "      <th>평균 판매가</th>\n",
       "      <th>판매건수</th>\n",
       "    </tr>\n",
       "  </thead>\n",
       "  <tbody>\n",
       "    <tr>\n",
       "      <th>0</th>\n",
       "      <td>0</td>\n",
       "      <td>59</td>\n",
       "      <td>22154</td>\n",
       "      <td>1.0</td>\n",
       "      <td>999.0</td>\n",
       "      <td>1.0</td>\n",
       "    </tr>\n",
       "    <tr>\n",
       "      <th>1</th>\n",
       "      <td>0</td>\n",
       "      <td>59</td>\n",
       "      <td>2552</td>\n",
       "      <td>NaN</td>\n",
       "      <td>NaN</td>\n",
       "      <td>NaN</td>\n",
       "    </tr>\n",
       "    <tr>\n",
       "      <th>2</th>\n",
       "      <td>0</td>\n",
       "      <td>59</td>\n",
       "      <td>2554</td>\n",
       "      <td>NaN</td>\n",
       "      <td>NaN</td>\n",
       "      <td>NaN</td>\n",
       "    </tr>\n",
       "    <tr>\n",
       "      <th>3</th>\n",
       "      <td>0</td>\n",
       "      <td>59</td>\n",
       "      <td>2555</td>\n",
       "      <td>NaN</td>\n",
       "      <td>NaN</td>\n",
       "      <td>NaN</td>\n",
       "    </tr>\n",
       "    <tr>\n",
       "      <th>4</th>\n",
       "      <td>0</td>\n",
       "      <td>59</td>\n",
       "      <td>2564</td>\n",
       "      <td>NaN</td>\n",
       "      <td>NaN</td>\n",
       "      <td>NaN</td>\n",
       "    </tr>\n",
       "  </tbody>\n",
       "</table>\n",
       "</div>"
      ],
      "text/plain": [
       "   월ID  상점ID   상품ID  월간 판매량  평균 판매가  판매건수\n",
       "0    0    59  22154     1.0   999.0   1.0\n",
       "1    0    59   2552     NaN     NaN   NaN\n",
       "2    0    59   2554     NaN     NaN   NaN\n",
       "3    0    59   2555     NaN     NaN   NaN\n",
       "4    0    59   2564     NaN     NaN   NaN"
      ]
     },
     "execution_count": 25,
     "metadata": {},
     "output_type": "execute_result"
    }
   ],
   "source": [
    "# 상품 판매건수 피처 추가\n",
    "group = sales_train.groupby(idx_features).agg({'판매량': 'count'})\n",
    "group = group.reset_index()\n",
    "group = group.rename(columns={'판매량': '판매건수'})\n",
    "\n",
    "train = train.merge(group, on=idx_features, how='left')\n",
    "\n",
    "# 가비지 컬렉션\n",
    "del group, sales_train\n",
    "gc.collect()\n",
    "\n",
    "train.head()"
   ]
  },
  {
   "cell_type": "code",
   "execution_count": 26,
   "id": "ff0c4b26",
   "metadata": {
    "execution": {
     "iopub.execute_input": "2024-01-27T08:19:39.969003Z",
     "iopub.status.busy": "2024-01-27T08:19:39.968357Z",
     "iopub.status.idle": "2024-01-27T08:19:40.393643Z",
     "shell.execute_reply": "2024-01-27T08:19:40.394150Z"
    },
    "papermill": {
     "duration": 0.480151,
     "end_time": "2024-01-27T08:19:40.394344",
     "exception": false,
     "start_time": "2024-01-27T08:19:39.914193",
     "status": "completed"
    },
    "tags": []
   },
   "outputs": [
    {
     "data": {
      "text/html": [
       "<div>\n",
       "<style scoped>\n",
       "    .dataframe tbody tr th:only-of-type {\n",
       "        vertical-align: middle;\n",
       "    }\n",
       "\n",
       "    .dataframe tbody tr th {\n",
       "        vertical-align: top;\n",
       "    }\n",
       "\n",
       "    .dataframe thead th {\n",
       "        text-align: right;\n",
       "    }\n",
       "</style>\n",
       "<table border=\"1\" class=\"dataframe\">\n",
       "  <thead>\n",
       "    <tr style=\"text-align: right;\">\n",
       "      <th></th>\n",
       "      <th>월ID</th>\n",
       "      <th>상점ID</th>\n",
       "      <th>상품ID</th>\n",
       "      <th>월간 판매량</th>\n",
       "      <th>평균 판매가</th>\n",
       "      <th>판매건수</th>\n",
       "    </tr>\n",
       "  </thead>\n",
       "  <tbody>\n",
       "    <tr>\n",
       "      <th>0</th>\n",
       "      <td>0</td>\n",
       "      <td>59</td>\n",
       "      <td>22154</td>\n",
       "      <td>1.0</td>\n",
       "      <td>999.0</td>\n",
       "      <td>1.0</td>\n",
       "    </tr>\n",
       "    <tr>\n",
       "      <th>1</th>\n",
       "      <td>0</td>\n",
       "      <td>59</td>\n",
       "      <td>2552</td>\n",
       "      <td>0.0</td>\n",
       "      <td>0.0</td>\n",
       "      <td>0.0</td>\n",
       "    </tr>\n",
       "    <tr>\n",
       "      <th>2</th>\n",
       "      <td>0</td>\n",
       "      <td>59</td>\n",
       "      <td>2554</td>\n",
       "      <td>0.0</td>\n",
       "      <td>0.0</td>\n",
       "      <td>0.0</td>\n",
       "    </tr>\n",
       "    <tr>\n",
       "      <th>3</th>\n",
       "      <td>0</td>\n",
       "      <td>59</td>\n",
       "      <td>2555</td>\n",
       "      <td>0.0</td>\n",
       "      <td>0.0</td>\n",
       "      <td>0.0</td>\n",
       "    </tr>\n",
       "    <tr>\n",
       "      <th>4</th>\n",
       "      <td>0</td>\n",
       "      <td>59</td>\n",
       "      <td>2564</td>\n",
       "      <td>0.0</td>\n",
       "      <td>0.0</td>\n",
       "      <td>0.0</td>\n",
       "    </tr>\n",
       "  </tbody>\n",
       "</table>\n",
       "</div>"
      ],
      "text/plain": [
       "   월ID  상점ID   상품ID  월간 판매량  평균 판매가  판매건수\n",
       "0    0    59  22154     1.0   999.0   1.0\n",
       "1    0    59   2552     0.0     0.0   0.0\n",
       "2    0    59   2554     0.0     0.0   0.0\n",
       "3    0    59   2555     0.0     0.0   0.0\n",
       "4    0    59   2564     0.0     0.0   0.0"
      ]
     },
     "execution_count": 26,
     "metadata": {},
     "output_type": "execute_result"
    }
   ],
   "source": [
    "# 테스트 데이터 월ID를 34로 설정\n",
    "test['월ID'] = 34\n",
    "\n",
    "# train과 test 이어붙이기\n",
    "all_data = pd.concat([train, test.drop('ID', axis=1)],\n",
    "                     ignore_index=True,\n",
    "                     keys=idx_features)\n",
    "# 결측값을 0으로 대체\n",
    "all_data = all_data.fillna(0)\n",
    "\n",
    "all_data.head()"
   ]
  },
  {
   "cell_type": "code",
   "execution_count": 27,
   "id": "51692208",
   "metadata": {
    "execution": {
     "iopub.execute_input": "2024-01-27T08:19:40.505779Z",
     "iopub.status.busy": "2024-01-27T08:19:40.504802Z",
     "iopub.status.idle": "2024-01-27T08:19:45.941050Z",
     "shell.execute_reply": "2024-01-27T08:19:45.940442Z"
    },
    "papermill": {
     "duration": 5.493731,
     "end_time": "2024-01-27T08:19:45.941196",
     "exception": false,
     "start_time": "2024-01-27T08:19:40.447465",
     "status": "completed"
    },
    "tags": []
   },
   "outputs": [
    {
     "name": "stdout",
     "output_type": "stream",
     "text": [
      "64.6% 압축됨\n"
     ]
    }
   ],
   "source": [
    "# 나머지 데이터 병합\n",
    "all_data = all_data.merge(shops, on='상점ID', how='left')\n",
    "all_data = all_data.merge(items, on='상품ID', how='left')\n",
    "all_data = all_data.merge(item_categories, on='상품분류ID', how='left')\n",
    "\n",
    "# 데이터 다운캐스팅\n",
    "all_data = downcast(all_data)\n",
    "\n",
    "# 가비지 컬렉션\n",
    "del shops, items, item_categories\n",
    "gc.collect();"
   ]
  },
  {
   "cell_type": "code",
   "execution_count": 28,
   "id": "91631f46",
   "metadata": {
    "execution": {
     "iopub.execute_input": "2024-01-27T08:19:46.051028Z",
     "iopub.status.busy": "2024-01-27T08:19:46.050288Z",
     "iopub.status.idle": "2024-01-27T08:19:46.052517Z",
     "shell.execute_reply": "2024-01-27T08:19:46.053085Z"
    },
    "papermill": {
     "duration": 0.059415,
     "end_time": "2024-01-27T08:19:46.053243",
     "exception": false,
     "start_time": "2024-01-27T08:19:45.993828",
     "status": "completed"
    },
    "tags": []
   },
   "outputs": [],
   "source": [
    "def add_mean_features(df, mean_features, idx_features):\n",
    "    # 기준 피처 확인\n",
    "    assert (idx_features[0] == '월ID') and \\\n",
    "           len(idx_features) in [2, 3]\n",
    "    \n",
    "    # 파생 피처명 설정 \n",
    "    if len(idx_features) == 2:\n",
    "        feature_name = idx_features[1] + '별 평균 판매량'\n",
    "    else:\n",
    "        feature_name = idx_features[1] + ' ' + idx_features[2] + '별 평균 판매량'\n",
    "    \n",
    "    # 기준 피처를 토대로 그룹화해 월간 평균 판매량 구하기\n",
    "    group = df.groupby(idx_features).agg({'월간 판매량': 'mean'})\n",
    "    group = group.reset_index()\n",
    "    group = group.rename(columns={'월간 판매량': feature_name})\n",
    "    \n",
    "    # df와 group 병합 \n",
    "    df = df.merge(group, on=idx_features, how='left')\n",
    "    # 데이터 다운캐스팅 \n",
    "    df = downcast(df, verbose=False)\n",
    "    # 새로 만든 feature_name 피처명을 mean_features 리스트에 추가 \n",
    "    mean_features.append(feature_name)\n",
    "    \n",
    "    # 가비지 컬렉션\n",
    "    del group\n",
    "    gc.collect()\n",
    "    \n",
    "    return df, mean_features"
   ]
  },
  {
   "cell_type": "code",
   "execution_count": 29,
   "id": "3b463816",
   "metadata": {
    "execution": {
     "iopub.execute_input": "2024-01-27T08:19:46.154788Z",
     "iopub.status.busy": "2024-01-27T08:19:46.154166Z",
     "iopub.status.idle": "2024-01-27T08:19:57.036111Z",
     "shell.execute_reply": "2024-01-27T08:19:57.035540Z"
    },
    "papermill": {
     "duration": 10.934175,
     "end_time": "2024-01-27T08:19:57.036257",
     "exception": false,
     "start_time": "2024-01-27T08:19:46.102082",
     "status": "completed"
    },
    "tags": []
   },
   "outputs": [],
   "source": [
    "# 그룹화 기준 피처 중 '상품ID'가 포함된 파생 피처명을 담을 리스트\n",
    "item_mean_features = []\n",
    "\n",
    "# ['월ID', '상품ID']로 그룹화한 월간 평균 판매량 파생 피처 생성\n",
    "all_data, item_mean_features = add_mean_features(df=all_data,\n",
    "                                                 mean_features=item_mean_features,\n",
    "                                                 idx_features=['월ID', '상품ID'])\n",
    "\n",
    "# ['월ID', '상품ID', '도시']로 그룹화한 월간 평균 판매량 파생 피처 생성\n",
    "all_data, item_mean_features = add_mean_features(df=all_data,\n",
    "                                                 mean_features=item_mean_features,\n",
    "                                                 idx_features=['월ID', '상품ID', '도시'])"
   ]
  },
  {
   "cell_type": "code",
   "execution_count": 30,
   "id": "b33a44c1",
   "metadata": {
    "execution": {
     "iopub.execute_input": "2024-01-27T08:19:57.142729Z",
     "iopub.status.busy": "2024-01-27T08:19:57.142015Z",
     "iopub.status.idle": "2024-01-27T08:19:59.908990Z",
     "shell.execute_reply": "2024-01-27T08:19:59.908358Z"
    },
    "papermill": {
     "duration": 2.82303,
     "end_time": "2024-01-27T08:19:59.909134",
     "exception": false,
     "start_time": "2024-01-27T08:19:57.086104",
     "status": "completed"
    },
    "tags": []
   },
   "outputs": [],
   "source": [
    "# 그룹화 기준 피처 중 '상점ID'가 포함된 파생 피처명을 담을 리스트\n",
    "shop_mean_features = []\n",
    "\n",
    "# ['월ID', '상점ID', '상품분류ID']로 그룹화한 월간 평균 판매량 파생 피처 생성\n",
    "all_data, shop_mean_features = add_mean_features(df=all_data, \n",
    "                                                 mean_features=shop_mean_features,\n",
    "                                                 idx_features=['월ID', '상점ID', '상품분류ID'])"
   ]
  },
  {
   "cell_type": "code",
   "execution_count": 31,
   "id": "74d5497e",
   "metadata": {
    "execution": {
     "iopub.execute_input": "2024-01-27T08:20:00.017214Z",
     "iopub.status.busy": "2024-01-27T08:20:00.016555Z",
     "iopub.status.idle": "2024-01-27T08:20:00.020257Z",
     "shell.execute_reply": "2024-01-27T08:20:00.019733Z"
    },
    "papermill": {
     "duration": 0.060618,
     "end_time": "2024-01-27T08:20:00.020389",
     "exception": false,
     "start_time": "2024-01-27T08:19:59.959771",
     "status": "completed"
    },
    "tags": []
   },
   "outputs": [],
   "source": [
    "def add_lag_features(df, lag_features_to_clip, idx_features, \n",
    "                     lag_feature, nlags=3, clip=False):\n",
    "    # 시차 피처 생성에 필요한 DataFrame 부분만 복사 \n",
    "    df_temp = df[idx_features + [lag_feature]].copy() \n",
    "\n",
    "    # 시차 피처 생성 \n",
    "    for i in range(1, nlags+1):\n",
    "        # 시차 피처명 \n",
    "        lag_feature_name = lag_feature +'_시차' + str(i)\n",
    "        # df_temp 열 이름 설정 \n",
    "        df_temp.columns = idx_features + [lag_feature_name]\n",
    "        # df_temp의 date_block_num 피처에 1 더하기 \n",
    "        df_temp['월ID'] += 1\n",
    "        # idx_feature를 기준으로 df와 df_temp 병합하기\n",
    "        df = df.merge(df_temp.drop_duplicates(), \n",
    "                      on=idx_features, \n",
    "                      how='left')\n",
    "        # 결측값 0으로 대체 \n",
    "        df[lag_feature_name] = df[lag_feature_name].fillna(0)\n",
    "        # 0 ~ 20 사이로 제한할 시차 피처명을 lag_features_to_clip에 추가\n",
    "        if clip: \n",
    "            lag_features_to_clip.append(lag_feature_name)\n",
    "    \n",
    "    # 데이터 다운캐스팅\n",
    "    df = downcast(df, False)\n",
    "    # 가비지 컬렉션\n",
    "    del df_temp\n",
    "    gc.collect()\n",
    "    \n",
    "    return df, lag_features_to_clip"
   ]
  },
  {
   "cell_type": "code",
   "execution_count": 32,
   "id": "6bc32bee",
   "metadata": {
    "execution": {
     "iopub.execute_input": "2024-01-27T08:20:00.125165Z",
     "iopub.status.busy": "2024-01-27T08:20:00.124554Z",
     "iopub.status.idle": "2024-01-27T08:20:24.256922Z",
     "shell.execute_reply": "2024-01-27T08:20:24.256317Z"
    },
    "papermill": {
     "duration": 24.187539,
     "end_time": "2024-01-27T08:20:24.257064",
     "exception": false,
     "start_time": "2024-01-27T08:20:00.069525",
     "status": "completed"
    },
    "tags": []
   },
   "outputs": [],
   "source": [
    "lag_features_to_clip = [] # 0 ~ 20 사이로 제한할 시차 피처명을 담을 리스트\n",
    "idx_features = ['월ID', '상점ID', '상품ID'] # 기준 피처\n",
    "\n",
    "# idx_features를 기준으로 월간 판매량의 세 달치 시차 피처 생성\n",
    "all_data, lag_features_to_clip = add_lag_features(df=all_data, \n",
    "                                                  lag_features_to_clip=lag_features_to_clip,\n",
    "                                                  idx_features=idx_features,\n",
    "                                                  lag_feature='월간 판매량', \n",
    "                                                  nlags=3,\n",
    "                                                  clip=True)"
   ]
  },
  {
   "cell_type": "code",
   "execution_count": 33,
   "id": "e4783800",
   "metadata": {
    "execution": {
     "iopub.execute_input": "2024-01-27T08:20:24.363574Z",
     "iopub.status.busy": "2024-01-27T08:20:24.362878Z",
     "iopub.status.idle": "2024-01-27T08:20:24.379914Z",
     "shell.execute_reply": "2024-01-27T08:20:24.380545Z"
    },
    "papermill": {
     "duration": 0.072008,
     "end_time": "2024-01-27T08:20:24.380704",
     "exception": false,
     "start_time": "2024-01-27T08:20:24.308696",
     "status": "completed"
    },
    "tags": []
   },
   "outputs": [
    {
     "data": {
      "text/html": [
       "<div>\n",
       "<style scoped>\n",
       "    .dataframe tbody tr th:only-of-type {\n",
       "        vertical-align: middle;\n",
       "    }\n",
       "\n",
       "    .dataframe tbody tr th {\n",
       "        vertical-align: top;\n",
       "    }\n",
       "\n",
       "    .dataframe thead th {\n",
       "        text-align: right;\n",
       "    }\n",
       "</style>\n",
       "<table border=\"1\" class=\"dataframe\">\n",
       "  <thead>\n",
       "    <tr style=\"text-align: right;\">\n",
       "      <th></th>\n",
       "      <th>0</th>\n",
       "      <th>1</th>\n",
       "      <th>2</th>\n",
       "      <th>3</th>\n",
       "      <th>4</th>\n",
       "    </tr>\n",
       "  </thead>\n",
       "  <tbody>\n",
       "    <tr>\n",
       "      <th>월ID</th>\n",
       "      <td>0.000000</td>\n",
       "      <td>0.000000</td>\n",
       "      <td>0.000000</td>\n",
       "      <td>0.000000</td>\n",
       "      <td>0.000000</td>\n",
       "    </tr>\n",
       "    <tr>\n",
       "      <th>상점ID</th>\n",
       "      <td>59.000000</td>\n",
       "      <td>59.000000</td>\n",
       "      <td>59.000000</td>\n",
       "      <td>59.000000</td>\n",
       "      <td>59.000000</td>\n",
       "    </tr>\n",
       "    <tr>\n",
       "      <th>상품ID</th>\n",
       "      <td>22154.000000</td>\n",
       "      <td>2552.000000</td>\n",
       "      <td>2554.000000</td>\n",
       "      <td>2555.000000</td>\n",
       "      <td>2564.000000</td>\n",
       "    </tr>\n",
       "    <tr>\n",
       "      <th>월간 판매량</th>\n",
       "      <td>1.000000</td>\n",
       "      <td>0.000000</td>\n",
       "      <td>0.000000</td>\n",
       "      <td>0.000000</td>\n",
       "      <td>0.000000</td>\n",
       "    </tr>\n",
       "    <tr>\n",
       "      <th>평균 판매가</th>\n",
       "      <td>999.000000</td>\n",
       "      <td>0.000000</td>\n",
       "      <td>0.000000</td>\n",
       "      <td>0.000000</td>\n",
       "      <td>0.000000</td>\n",
       "    </tr>\n",
       "    <tr>\n",
       "      <th>판매건수</th>\n",
       "      <td>1.000000</td>\n",
       "      <td>0.000000</td>\n",
       "      <td>0.000000</td>\n",
       "      <td>0.000000</td>\n",
       "      <td>0.000000</td>\n",
       "    </tr>\n",
       "    <tr>\n",
       "      <th>도시</th>\n",
       "      <td>30.000000</td>\n",
       "      <td>30.000000</td>\n",
       "      <td>30.000000</td>\n",
       "      <td>30.000000</td>\n",
       "      <td>30.000000</td>\n",
       "    </tr>\n",
       "    <tr>\n",
       "      <th>상품분류ID</th>\n",
       "      <td>37.000000</td>\n",
       "      <td>58.000000</td>\n",
       "      <td>58.000000</td>\n",
       "      <td>56.000000</td>\n",
       "      <td>59.000000</td>\n",
       "    </tr>\n",
       "    <tr>\n",
       "      <th>첫 판매월</th>\n",
       "      <td>0.000000</td>\n",
       "      <td>0.000000</td>\n",
       "      <td>0.000000</td>\n",
       "      <td>0.000000</td>\n",
       "      <td>0.000000</td>\n",
       "    </tr>\n",
       "    <tr>\n",
       "      <th>대분류</th>\n",
       "      <td>5.000000</td>\n",
       "      <td>7.000000</td>\n",
       "      <td>7.000000</td>\n",
       "      <td>7.000000</td>\n",
       "      <td>7.000000</td>\n",
       "    </tr>\n",
       "    <tr>\n",
       "      <th>상품ID별 평균 판매량</th>\n",
       "      <td>0.457143</td>\n",
       "      <td>0.028571</td>\n",
       "      <td>0.028571</td>\n",
       "      <td>0.028571</td>\n",
       "      <td>0.142857</td>\n",
       "    </tr>\n",
       "    <tr>\n",
       "      <th>상품ID 도시별 평균 판매량</th>\n",
       "      <td>1.000000</td>\n",
       "      <td>0.000000</td>\n",
       "      <td>0.000000</td>\n",
       "      <td>0.000000</td>\n",
       "      <td>0.000000</td>\n",
       "    </tr>\n",
       "    <tr>\n",
       "      <th>상점ID 상품분류ID별 평균 판매량</th>\n",
       "      <td>0.096774</td>\n",
       "      <td>0.000000</td>\n",
       "      <td>0.000000</td>\n",
       "      <td>0.011494</td>\n",
       "      <td>0.013245</td>\n",
       "    </tr>\n",
       "    <tr>\n",
       "      <th>월간 판매량_시차1</th>\n",
       "      <td>0.000000</td>\n",
       "      <td>0.000000</td>\n",
       "      <td>0.000000</td>\n",
       "      <td>0.000000</td>\n",
       "      <td>0.000000</td>\n",
       "    </tr>\n",
       "    <tr>\n",
       "      <th>월간 판매량_시차2</th>\n",
       "      <td>0.000000</td>\n",
       "      <td>0.000000</td>\n",
       "      <td>0.000000</td>\n",
       "      <td>0.000000</td>\n",
       "      <td>0.000000</td>\n",
       "    </tr>\n",
       "    <tr>\n",
       "      <th>월간 판매량_시차3</th>\n",
       "      <td>0.000000</td>\n",
       "      <td>0.000000</td>\n",
       "      <td>0.000000</td>\n",
       "      <td>0.000000</td>\n",
       "      <td>0.000000</td>\n",
       "    </tr>\n",
       "  </tbody>\n",
       "</table>\n",
       "</div>"
      ],
      "text/plain": [
       "                                0            1            2            3  \\\n",
       "월ID                      0.000000     0.000000     0.000000     0.000000   \n",
       "상점ID                    59.000000    59.000000    59.000000    59.000000   \n",
       "상품ID                 22154.000000  2552.000000  2554.000000  2555.000000   \n",
       "월간 판매량                   1.000000     0.000000     0.000000     0.000000   \n",
       "평균 판매가                 999.000000     0.000000     0.000000     0.000000   \n",
       "판매건수                     1.000000     0.000000     0.000000     0.000000   \n",
       "도시                      30.000000    30.000000    30.000000    30.000000   \n",
       "상품분류ID                  37.000000    58.000000    58.000000    56.000000   \n",
       "첫 판매월                    0.000000     0.000000     0.000000     0.000000   \n",
       "대분류                      5.000000     7.000000     7.000000     7.000000   \n",
       "상품ID별 평균 판매량             0.457143     0.028571     0.028571     0.028571   \n",
       "상품ID 도시별 평균 판매량          1.000000     0.000000     0.000000     0.000000   \n",
       "상점ID 상품분류ID별 평균 판매량      0.096774     0.000000     0.000000     0.011494   \n",
       "월간 판매량_시차1               0.000000     0.000000     0.000000     0.000000   \n",
       "월간 판매량_시차2               0.000000     0.000000     0.000000     0.000000   \n",
       "월간 판매량_시차3               0.000000     0.000000     0.000000     0.000000   \n",
       "\n",
       "                               4  \n",
       "월ID                     0.000000  \n",
       "상점ID                   59.000000  \n",
       "상품ID                 2564.000000  \n",
       "월간 판매량                  0.000000  \n",
       "평균 판매가                  0.000000  \n",
       "판매건수                    0.000000  \n",
       "도시                     30.000000  \n",
       "상품분류ID                 59.000000  \n",
       "첫 판매월                   0.000000  \n",
       "대분류                     7.000000  \n",
       "상품ID별 평균 판매량            0.142857  \n",
       "상품ID 도시별 평균 판매량         0.000000  \n",
       "상점ID 상품분류ID별 평균 판매량     0.013245  \n",
       "월간 판매량_시차1              0.000000  \n",
       "월간 판매량_시차2              0.000000  \n",
       "월간 판매량_시차3              0.000000  "
      ]
     },
     "execution_count": 33,
     "metadata": {},
     "output_type": "execute_result"
    }
   ],
   "source": [
    "all_data.head().T"
   ]
  },
  {
   "cell_type": "code",
   "execution_count": 34,
   "id": "3897a46e",
   "metadata": {
    "execution": {
     "iopub.execute_input": "2024-01-27T08:20:24.488534Z",
     "iopub.status.busy": "2024-01-27T08:20:24.486346Z",
     "iopub.status.idle": "2024-01-27T08:20:24.491334Z",
     "shell.execute_reply": "2024-01-27T08:20:24.491793Z"
    },
    "papermill": {
     "duration": 0.05903,
     "end_time": "2024-01-27T08:20:24.491958",
     "exception": false,
     "start_time": "2024-01-27T08:20:24.432928",
     "status": "completed"
    },
    "tags": []
   },
   "outputs": [
    {
     "data": {
      "text/plain": [
       "['월간 판매량_시차1', '월간 판매량_시차2', '월간 판매량_시차3']"
      ]
     },
     "execution_count": 34,
     "metadata": {},
     "output_type": "execute_result"
    }
   ],
   "source": [
    "lag_features_to_clip"
   ]
  },
  {
   "cell_type": "code",
   "execution_count": 35,
   "id": "625c2caa",
   "metadata": {
    "execution": {
     "iopub.execute_input": "2024-01-27T08:20:24.600162Z",
     "iopub.status.busy": "2024-01-27T08:20:24.599464Z",
     "iopub.status.idle": "2024-01-27T08:21:16.406746Z",
     "shell.execute_reply": "2024-01-27T08:21:16.407312Z"
    },
    "papermill": {
     "duration": 51.865097,
     "end_time": "2024-01-27T08:21:16.407527",
     "exception": false,
     "start_time": "2024-01-27T08:20:24.542430",
     "status": "completed"
    },
    "tags": []
   },
   "outputs": [],
   "source": [
    "# idx_features를 기준으로 판매건수 피처의 세 달치 시차 피처 생성\n",
    "all_data, lag_features_to_clip = add_lag_features(df=all_data, \n",
    "                                                  lag_features_to_clip=lag_features_to_clip,\n",
    "                                                  idx_features=idx_features,\n",
    "                                                  lag_feature='판매건수', \n",
    "                                                  nlags=3)\n",
    "\n",
    "# idx_features를 기준으로 평균 판매가 피처의 세 달치 시차 피처 생성\n",
    "all_data, lag_features_to_clip = add_lag_features(df=all_data, \n",
    "                                                  lag_features_to_clip=lag_features_to_clip,\n",
    "                                                  idx_features=idx_features,\n",
    "                                                  lag_feature='평균 판매가', \n",
    "                                                  nlags=3)"
   ]
  },
  {
   "cell_type": "code",
   "execution_count": 36,
   "id": "8ce959ec",
   "metadata": {
    "execution": {
     "iopub.execute_input": "2024-01-27T08:21:16.520782Z",
     "iopub.status.busy": "2024-01-27T08:21:16.520088Z",
     "iopub.status.idle": "2024-01-27T08:21:16.829302Z",
     "shell.execute_reply": "2024-01-27T08:21:16.828663Z"
    },
    "papermill": {
     "duration": 0.368068,
     "end_time": "2024-01-27T08:21:16.829461",
     "exception": false,
     "start_time": "2024-01-27T08:21:16.461393",
     "status": "completed"
    },
    "tags": []
   },
   "outputs": [
    {
     "data": {
      "text/plain": [
       "상품ID별 평균 판매량       0.0\n",
       "상품ID 도시별 평균 판매량    0.0\n",
       "dtype: float32"
      ]
     },
     "execution_count": 36,
     "metadata": {},
     "output_type": "execute_result"
    }
   ],
   "source": [
    "X_test_temp = all_data[all_data['월ID'] == 34]\n",
    "X_test_temp[item_mean_features].sum()"
   ]
  },
  {
   "cell_type": "code",
   "execution_count": 37,
   "id": "72eec566",
   "metadata": {
    "execution": {
     "iopub.execute_input": "2024-01-27T08:21:16.944038Z",
     "iopub.status.busy": "2024-01-27T08:21:16.943386Z",
     "iopub.status.idle": "2024-01-27T08:22:11.354473Z",
     "shell.execute_reply": "2024-01-27T08:22:11.353537Z"
    },
    "papermill": {
     "duration": 54.468714,
     "end_time": "2024-01-27T08:22:11.354640",
     "exception": false,
     "start_time": "2024-01-27T08:21:16.885926",
     "status": "completed"
    },
    "tags": []
   },
   "outputs": [],
   "source": [
    "# idx_features를 기준으로 item_mean_features 요소별 시차 피처 생성\n",
    "for item_mean_feature in item_mean_features:\n",
    "    all_data, lag_features_to_clip = add_lag_features(df=all_data, \n",
    "                                                      lag_features_to_clip=lag_features_to_clip, \n",
    "                                                      idx_features=idx_features, \n",
    "                                                      lag_feature=item_mean_feature, \n",
    "                                                      nlags=3,\n",
    "                                                      clip=True)\n",
    "# item_mean_features 피처 제거\n",
    "all_data = all_data.drop(item_mean_features, axis=1)"
   ]
  },
  {
   "cell_type": "code",
   "execution_count": 38,
   "id": "72ac2298",
   "metadata": {
    "execution": {
     "iopub.execute_input": "2024-01-27T08:22:11.470143Z",
     "iopub.status.busy": "2024-01-27T08:22:11.469443Z",
     "iopub.status.idle": "2024-01-27T08:22:11.475727Z",
     "shell.execute_reply": "2024-01-27T08:22:11.475082Z"
    },
    "papermill": {
     "duration": 0.065265,
     "end_time": "2024-01-27T08:22:11.475876",
     "exception": false,
     "start_time": "2024-01-27T08:22:11.410611",
     "status": "completed"
    },
    "tags": []
   },
   "outputs": [
    {
     "data": {
      "text/plain": [
       "['상점ID 상품분류ID별 평균 판매량']"
      ]
     },
     "execution_count": 38,
     "metadata": {},
     "output_type": "execute_result"
    }
   ],
   "source": [
    "shop_mean_features"
   ]
  },
  {
   "cell_type": "code",
   "execution_count": 39,
   "id": "de17230e",
   "metadata": {
    "execution": {
     "iopub.execute_input": "2024-01-27T08:22:11.594240Z",
     "iopub.status.busy": "2024-01-27T08:22:11.593237Z",
     "iopub.status.idle": "2024-01-27T08:22:23.335546Z",
     "shell.execute_reply": "2024-01-27T08:22:23.334680Z"
    },
    "papermill": {
     "duration": 11.80228,
     "end_time": "2024-01-27T08:22:23.335726",
     "exception": false,
     "start_time": "2024-01-27T08:22:11.533446",
     "status": "completed"
    },
    "tags": []
   },
   "outputs": [],
   "source": [
    "# ['날월ID짜ID', '상점ID', '상품분류ID']를 기준으로 shop_mean_features 요소별 시차 피처 생성\n",
    "for shop_mean_feature in shop_mean_features:\n",
    "    all_data, lag_features_to_clip = add_lag_features(df=all_data,\n",
    "                                                      lag_features_to_clip=lag_features_to_clip, \n",
    "                                                      idx_features=['월ID', '상점ID', '상품분류ID'], \n",
    "                                                      lag_feature=shop_mean_feature, \n",
    "                                                      nlags=3,\n",
    "                                                      clip=True)\n",
    "# shop_mean_features 피처 제거\n",
    "all_data = all_data.drop(shop_mean_features, axis=1)"
   ]
  },
  {
   "cell_type": "code",
   "execution_count": 40,
   "id": "b360d70b",
   "metadata": {
    "execution": {
     "iopub.execute_input": "2024-01-27T08:22:23.450078Z",
     "iopub.status.busy": "2024-01-27T08:22:23.449415Z",
     "iopub.status.idle": "2024-01-27T08:22:25.709101Z",
     "shell.execute_reply": "2024-01-27T08:22:25.708474Z"
    },
    "papermill": {
     "duration": 2.318353,
     "end_time": "2024-01-27T08:22:25.709273",
     "exception": false,
     "start_time": "2024-01-27T08:22:23.390920",
     "status": "completed"
    },
    "tags": []
   },
   "outputs": [],
   "source": [
    "# 월ID 3미만인 데이터 제거\n",
    "all_data = all_data.drop(all_data[all_data['월ID'] < 3].index)"
   ]
  },
  {
   "cell_type": "code",
   "execution_count": 41,
   "id": "7477241a",
   "metadata": {
    "execution": {
     "iopub.execute_input": "2024-01-27T08:22:25.856507Z",
     "iopub.status.busy": "2024-01-27T08:22:25.855722Z",
     "iopub.status.idle": "2024-01-27T08:22:25.948115Z",
     "shell.execute_reply": "2024-01-27T08:22:25.947523Z"
    },
    "papermill": {
     "duration": 0.182316,
     "end_time": "2024-01-27T08:22:25.948267",
     "exception": false,
     "start_time": "2024-01-27T08:22:25.765951",
     "status": "completed"
    },
    "tags": []
   },
   "outputs": [],
   "source": [
    "all_data['월간 판매량 시차평균'] = all_data[['월간 판매량_시차1',\n",
    "                                          '월간 판매량_시차2', \n",
    "                                          '월간 판매량_시차3']].mean(axis=1)"
   ]
  },
  {
   "cell_type": "code",
   "execution_count": 42,
   "id": "cd90c5ad",
   "metadata": {
    "execution": {
     "iopub.execute_input": "2024-01-27T08:22:26.056373Z",
     "iopub.status.busy": "2024-01-27T08:22:26.055657Z",
     "iopub.status.idle": "2024-01-27T08:22:28.299215Z",
     "shell.execute_reply": "2024-01-27T08:22:28.299714Z"
    },
    "papermill": {
     "duration": 2.298595,
     "end_time": "2024-01-27T08:22:28.299910",
     "exception": false,
     "start_time": "2024-01-27T08:22:26.001315",
     "status": "completed"
    },
    "tags": []
   },
   "outputs": [],
   "source": [
    "# 0 ~ 20 사이로 값 제한\n",
    "all_data[lag_features_to_clip + ['월간 판매량', '월간 판매량 시차평균']] = all_data[lag_features_to_clip +['월간 판매량', '월간 판매량 시차평균']].clip(0, 20)"
   ]
  },
  {
   "cell_type": "code",
   "execution_count": 43,
   "id": "5f2ced6c",
   "metadata": {
    "execution": {
     "iopub.execute_input": "2024-01-27T08:22:28.416320Z",
     "iopub.status.busy": "2024-01-27T08:22:28.415532Z",
     "iopub.status.idle": "2024-01-27T08:22:28.816232Z",
     "shell.execute_reply": "2024-01-27T08:22:28.816781Z"
    },
    "papermill": {
     "duration": 0.462656,
     "end_time": "2024-01-27T08:22:28.817006",
     "exception": false,
     "start_time": "2024-01-27T08:22:28.354350",
     "status": "completed"
    },
    "tags": []
   },
   "outputs": [],
   "source": [
    "all_data['시차변화량1'] = all_data['월간 판매량_시차1']/all_data['월간 판매량_시차2']\n",
    "all_data['시차변화량1'] = all_data['시차변화량1'].replace([np.inf, -np.inf], \n",
    "                                                        np.nan).fillna(0)\n",
    "\n",
    "all_data['시차변화량2'] = all_data['월간 판매량_시차2']/all_data['월간 판매량_시차3']\n",
    "all_data['시차변화량2'] = all_data['시차변화량2'].replace([np.inf, -np.inf], \n",
    "                                                        np.nan).fillna(0)"
   ]
  },
  {
   "cell_type": "code",
   "execution_count": 44,
   "id": "4a2aa808",
   "metadata": {
    "execution": {
     "iopub.execute_input": "2024-01-27T08:22:28.931829Z",
     "iopub.status.busy": "2024-01-27T08:22:28.931194Z",
     "iopub.status.idle": "2024-01-27T08:22:28.941149Z",
     "shell.execute_reply": "2024-01-27T08:22:28.940651Z"
    },
    "papermill": {
     "duration": 0.066957,
     "end_time": "2024-01-27T08:22:28.941309",
     "exception": false,
     "start_time": "2024-01-27T08:22:28.874352",
     "status": "completed"
    },
    "tags": []
   },
   "outputs": [],
   "source": [
    "all_data['신상여부'] = all_data['첫 판매월'] == all_data['월ID']"
   ]
  },
  {
   "cell_type": "code",
   "execution_count": 45,
   "id": "b2643e9e",
   "metadata": {
    "execution": {
     "iopub.execute_input": "2024-01-27T08:22:29.057634Z",
     "iopub.status.busy": "2024-01-27T08:22:29.056990Z",
     "iopub.status.idle": "2024-01-27T08:22:29.064039Z",
     "shell.execute_reply": "2024-01-27T08:22:29.063442Z"
    },
    "papermill": {
     "duration": 0.067122,
     "end_time": "2024-01-27T08:22:29.064162",
     "exception": false,
     "start_time": "2024-01-27T08:22:28.997040",
     "status": "completed"
    },
    "tags": []
   },
   "outputs": [],
   "source": [
    "all_data['첫 판매 후 기간'] = all_data['월ID'] - all_data['첫 판매월']"
   ]
  },
  {
   "cell_type": "code",
   "execution_count": 46,
   "id": "557e6dfc",
   "metadata": {
    "execution": {
     "iopub.execute_input": "2024-01-27T08:22:29.177784Z",
     "iopub.status.busy": "2024-01-27T08:22:29.177169Z",
     "iopub.status.idle": "2024-01-27T08:22:29.211692Z",
     "shell.execute_reply": "2024-01-27T08:22:29.211085Z"
    },
    "papermill": {
     "duration": 0.093492,
     "end_time": "2024-01-27T08:22:29.211827",
     "exception": false,
     "start_time": "2024-01-27T08:22:29.118335",
     "status": "completed"
    },
    "tags": []
   },
   "outputs": [],
   "source": [
    "all_data['월'] = all_data['월ID'] % 12"
   ]
  },
  {
   "cell_type": "code",
   "execution_count": 47,
   "id": "b9dc82a9",
   "metadata": {
    "execution": {
     "iopub.execute_input": "2024-01-27T08:22:29.326900Z",
     "iopub.status.busy": "2024-01-27T08:22:29.325347Z",
     "iopub.status.idle": "2024-01-27T08:22:29.906996Z",
     "shell.execute_reply": "2024-01-27T08:22:29.906346Z"
    },
    "papermill": {
     "duration": 0.640799,
     "end_time": "2024-01-27T08:22:29.907142",
     "exception": false,
     "start_time": "2024-01-27T08:22:29.266343",
     "status": "completed"
    },
    "tags": []
   },
   "outputs": [],
   "source": [
    "# 첫 판매월, 평균 판매가, 판매건수 피처 제거\n",
    "all_data = all_data.drop(['첫 판매월', '평균 판매가', '판매건수'], axis=1)"
   ]
  },
  {
   "cell_type": "code",
   "execution_count": 48,
   "id": "7945fe44",
   "metadata": {
    "execution": {
     "iopub.execute_input": "2024-01-27T08:22:30.018073Z",
     "iopub.status.busy": "2024-01-27T08:22:30.017457Z",
     "iopub.status.idle": "2024-01-27T08:22:31.143059Z",
     "shell.execute_reply": "2024-01-27T08:22:31.142464Z"
    },
    "papermill": {
     "duration": 1.181562,
     "end_time": "2024-01-27T08:22:31.143219",
     "exception": false,
     "start_time": "2024-01-27T08:22:29.961657",
     "status": "completed"
    },
    "tags": []
   },
   "outputs": [],
   "source": [
    "all_data = downcast(all_data, False) # 데이터 다운캐스팅"
   ]
  },
  {
   "cell_type": "code",
   "execution_count": 49,
   "id": "05eb0a6b",
   "metadata": {
    "execution": {
     "iopub.execute_input": "2024-01-27T08:22:31.270909Z",
     "iopub.status.busy": "2024-01-27T08:22:31.270247Z",
     "iopub.status.idle": "2024-01-27T08:22:31.273790Z",
     "shell.execute_reply": "2024-01-27T08:22:31.273269Z"
    },
    "papermill": {
     "duration": 0.071454,
     "end_time": "2024-01-27T08:22:31.274002",
     "exception": false,
     "start_time": "2024-01-27T08:22:31.202548",
     "status": "completed"
    },
    "tags": []
   },
   "outputs": [
    {
     "name": "stdout",
     "output_type": "stream",
     "text": [
      "<class 'pandas.core.frame.DataFrame'>\n",
      "Int64Index: 8029765 entries, 827196 to 8856960\n",
      "Data columns (total 31 columns):\n",
      " #   Column                   Dtype  \n",
      "---  ------                   -----  \n",
      " 0   월ID                      int8   \n",
      " 1   상점ID                     int8   \n",
      " 2   상품ID                     int16  \n",
      " 3   월간 판매량                   int8   \n",
      " 4   도시                       int8   \n",
      " 5   상품분류ID                   int8   \n",
      " 6   대분류                      int8   \n",
      " 7   월간 판매량_시차1               int8   \n",
      " 8   월간 판매량_시차2               int8   \n",
      " 9   월간 판매량_시차3               int8   \n",
      " 10  판매건수_시차1                 int8   \n",
      " 11  판매건수_시차2                 int8   \n",
      " 12  판매건수_시차3                 int8   \n",
      " 13  평균 판매가_시차1               float32\n",
      " 14  평균 판매가_시차2               float32\n",
      " 15  평균 판매가_시차3               float32\n",
      " 16  상품ID별 평균 판매량_시차1         float32\n",
      " 17  상품ID별 평균 판매량_시차2         float32\n",
      " 18  상품ID별 평균 판매량_시차3         float32\n",
      " 19  상품ID 도시별 평균 판매량_시차1      float32\n",
      " 20  상품ID 도시별 평균 판매량_시차2      float32\n",
      " 21  상품ID 도시별 평균 판매량_시차3      float32\n",
      " 22  상점ID 상품분류ID별 평균 판매량_시차1  float32\n",
      " 23  상점ID 상품분류ID별 평균 판매량_시차2  float32\n",
      " 24  상점ID 상품분류ID별 평균 판매량_시차3  float32\n",
      " 25  월간 판매량 시차평균              float32\n",
      " 26  시차변화량1                   float32\n",
      " 27  시차변화량2                   float32\n",
      " 28  신상여부                     int8   \n",
      " 29  첫 판매 후 기간                int8   \n",
      " 30  월                        int8   \n",
      "dtypes: float32(15), int16(1), int8(15)\n",
      "memory usage: 650.9 MB\n"
     ]
    }
   ],
   "source": [
    "all_data.info()"
   ]
  },
  {
   "cell_type": "code",
   "execution_count": 50,
   "id": "cee77775",
   "metadata": {
    "execution": {
     "iopub.execute_input": "2024-01-27T08:22:31.396076Z",
     "iopub.status.busy": "2024-01-27T08:22:31.395338Z",
     "iopub.status.idle": "2024-01-27T08:22:34.100739Z",
     "shell.execute_reply": "2024-01-27T08:22:34.101435Z"
    },
    "papermill": {
     "duration": 2.770631,
     "end_time": "2024-01-27T08:22:34.101673",
     "exception": false,
     "start_time": "2024-01-27T08:22:31.331042",
     "status": "completed"
    },
    "tags": []
   },
   "outputs": [],
   "source": [
    "# 훈련 데이터 (피처)\n",
    "X_train = all_data[all_data['월ID'] < 33]\n",
    "X_train = X_train.drop(['월간 판매량'], axis=1)\n",
    "# 검증 데이터 (피처)\n",
    "X_valid = all_data[all_data['월ID'] == 33]\n",
    "X_valid = X_valid.drop(['월간 판매량'], axis=1)\n",
    "# 테스트 데이터 (피처)\n",
    "X_test = all_data[all_data['월ID'] == 34]\n",
    "X_test = X_test.drop(['월간 판매량'], axis=1)\n",
    "\n",
    "# 훈련 데이터 (타깃값)\n",
    "y_train = all_data[all_data['월ID'] < 33]['월간 판매량']\n",
    "# 검증 데이터 (타깃값)\n",
    "y_valid = all_data[all_data['월ID'] == 33]['월간 판매량']\n",
    "\n",
    "# 가비지 컬렉션\n",
    "del all_data\n",
    "gc.collect();"
   ]
  },
  {
   "cell_type": "code",
   "execution_count": 51,
   "id": "8b9bf246",
   "metadata": {
    "execution": {
     "iopub.execute_input": "2024-01-27T08:22:34.224621Z",
     "iopub.status.busy": "2024-01-27T08:22:34.223964Z",
     "iopub.status.idle": "2024-01-27T08:42:58.434587Z",
     "shell.execute_reply": "2024-01-27T08:42:58.435074Z"
    },
    "papermill": {
     "duration": 1224.271907,
     "end_time": "2024-01-27T08:42:58.435266",
     "exception": false,
     "start_time": "2024-01-27T08:22:34.163359",
     "status": "completed"
    },
    "tags": []
   },
   "outputs": [
    {
     "data": {
      "text/html": [
       "<style type='text/css'>\n",
       ".datatable table.frame { margin-bottom: 0; }\n",
       ".datatable table.frame thead { border-bottom: none; }\n",
       ".datatable table.frame tr.coltypes td {  color: #FFFFFF;  line-height: 6px;  padding: 0 0.5em;}\n",
       ".datatable .bool    { background: #DDDD99; }\n",
       ".datatable .object  { background: #565656; }\n",
       ".datatable .int     { background: #5D9E5D; }\n",
       ".datatable .float   { background: #4040CC; }\n",
       ".datatable .str     { background: #CC4040; }\n",
       ".datatable .time    { background: #40CC40; }\n",
       ".datatable .row_index {  background: var(--jp-border-color3);  border-right: 1px solid var(--jp-border-color0);  color: var(--jp-ui-font-color3);  font-size: 9px;}\n",
       ".datatable .frame tbody td { text-align: left; }\n",
       ".datatable .frame tr.coltypes .row_index {  background: var(--jp-border-color0);}\n",
       ".datatable th:nth-child(2) { padding-left: 12px; }\n",
       ".datatable .hellipsis {  color: var(--jp-cell-editor-border-color);}\n",
       ".datatable .vellipsis {  background: var(--jp-layout-color0);  color: var(--jp-cell-editor-border-color);}\n",
       ".datatable .na {  color: var(--jp-cell-editor-border-color);  font-size: 80%;}\n",
       ".datatable .sp {  opacity: 0.25;}\n",
       ".datatable .footer { font-size: 9px; }\n",
       ".datatable .frame_dimensions {  background: var(--jp-border-color3);  border-top: 1px solid var(--jp-border-color0);  color: var(--jp-ui-font-color3);  display: inline-block;  opacity: 0.6;  padding: 1px 10px 1px 5px;}\n",
       "</style>\n"
      ],
      "text/plain": [
       "<IPython.core.display.HTML object>"
      ]
     },
     "metadata": {},
     "output_type": "display_data"
    },
    {
     "name": "stdout",
     "output_type": "stream",
     "text": [
      "[LightGBM] [Warning] Find whitespaces in feature_names, replace with underlines\n",
      "[LightGBM] [Info] Total Bins 3657\n",
      "[LightGBM] [Info] Number of data points in the train set: 7593847, number of used features: 30\n",
      "[LightGBM] [Warning] Find whitespaces in feature_names, replace with underlines\n",
      "[LightGBM] [Info] Start training from score 0.307756\n",
      "Training until validation scores don't improve for 150 rounds\n",
      "[100]\ttraining's rmse: 1.0178\tvalid_1's rmse: 0.913613\n",
      "[200]\ttraining's rmse: 0.912557\tvalid_1's rmse: 0.841726\n",
      "[300]\ttraining's rmse: 0.859598\tvalid_1's rmse: 0.811733\n",
      "[400]\ttraining's rmse: 0.830605\tvalid_1's rmse: 0.800316\n",
      "[500]\ttraining's rmse: 0.811217\tvalid_1's rmse: 0.795936\n",
      "[600]\ttraining's rmse: 0.79758\tvalid_1's rmse: 0.795211\n",
      "[700]\ttraining's rmse: 0.78713\tvalid_1's rmse: 0.794326\n",
      "[800]\ttraining's rmse: 0.778778\tvalid_1's rmse: 0.793779\n",
      "[900]\ttraining's rmse: 0.771859\tvalid_1's rmse: 0.793795\n",
      "[1000]\ttraining's rmse: 0.765922\tvalid_1's rmse: 0.793393\n",
      "[1100]\ttraining's rmse: 0.760948\tvalid_1's rmse: 0.793049\n",
      "[1200]\ttraining's rmse: 0.756676\tvalid_1's rmse: 0.792779\n",
      "[1300]\ttraining's rmse: 0.752705\tvalid_1's rmse: 0.792735\n",
      "[1400]\ttraining's rmse: 0.749381\tvalid_1's rmse: 0.792537\n",
      "[1500]\ttraining's rmse: 0.74603\tvalid_1's rmse: 0.792276\n",
      "Did not meet early stopping. Best iteration is:\n",
      "[1500]\ttraining's rmse: 0.74603\tvalid_1's rmse: 0.792276\n"
     ]
    }
   ],
   "source": [
    "import lightgbm as lgb\n",
    "\n",
    "# LightGBM 하이퍼파라미터\n",
    "params = {'metric': 'rmse',\n",
    "          'num_leaves': 255,\n",
    "          'learning_rate': 0.005,\n",
    "          'feature_fraction': 0.75,\n",
    "          'bagging_fraction': 0.75,\n",
    "          'bagging_freq': 5,\n",
    "          'force_col_wise': True,\n",
    "          'random_state': 10}\n",
    "\n",
    "cat_features = ['상점ID', '도시', '상품분류ID', '대분류', '월']\n",
    "\n",
    "# LightGBM 훈련 및 검증 데이터셋\n",
    "dtrain = lgb.Dataset(X_train, y_train)\n",
    "dvalid = lgb.Dataset(X_valid, y_valid)\n",
    " \n",
    "# LightGBM 모델 훈련\n",
    "lgb_model = lgb.train(params=params,\n",
    "                      train_set=dtrain,\n",
    "                      num_boost_round=1500,\n",
    "                      valid_sets=(dtrain, dvalid),\n",
    "                      early_stopping_rounds=150,\n",
    "                      categorical_feature=cat_features,\n",
    "                      verbose_eval=100)      "
   ]
  },
  {
   "cell_type": "code",
   "execution_count": 52,
   "id": "e1952111",
   "metadata": {
    "execution": {
     "iopub.execute_input": "2024-01-27T08:42:58.622346Z",
     "iopub.status.busy": "2024-01-27T08:42:58.621621Z",
     "iopub.status.idle": "2024-01-27T08:43:17.106574Z",
     "shell.execute_reply": "2024-01-27T08:43:17.105927Z"
    },
    "papermill": {
     "duration": 18.60843,
     "end_time": "2024-01-27T08:43:17.106708",
     "exception": false,
     "start_time": "2024-01-27T08:42:58.498278",
     "status": "completed"
    },
    "tags": []
   },
   "outputs": [],
   "source": [
    "# 예측\n",
    "preds = lgb_model.predict(X_test).clip(0, 20)\n",
    "\n",
    "# 제출 파일 생성\n",
    "submission['item_cnt_month'] = preds\n",
    "submission.to_csv('submission.csv', index=False)"
   ]
  },
  {
   "cell_type": "code",
   "execution_count": 53,
   "id": "a41a8409",
   "metadata": {
    "execution": {
     "iopub.execute_input": "2024-01-27T08:43:17.259823Z",
     "iopub.status.busy": "2024-01-27T08:43:17.259215Z",
     "iopub.status.idle": "2024-01-27T08:43:17.378702Z",
     "shell.execute_reply": "2024-01-27T08:43:17.378044Z"
    },
    "papermill": {
     "duration": 0.211387,
     "end_time": "2024-01-27T08:43:17.378861",
     "exception": false,
     "start_time": "2024-01-27T08:43:17.167474",
     "status": "completed"
    },
    "tags": []
   },
   "outputs": [],
   "source": [
    "del X_train, y_train, X_valid, y_valid, X_test, lgb_model, dtrain, dvalid\n",
    "gc.collect();"
   ]
  }
 ],
 "metadata": {
  "kaggle": {
   "accelerator": "none",
   "dataSources": [
    {
     "databundleVersionId": 868304,
     "sourceId": 8587,
     "sourceType": "competition"
    }
   ],
   "dockerImageVersionId": 30123,
   "isGpuEnabled": false,
   "isInternetEnabled": true,
   "language": "python",
   "sourceType": "notebook"
  },
  "kernelspec": {
   "display_name": "Python 3",
   "language": "python",
   "name": "python3"
  },
  "language_info": {
   "codemirror_mode": {
    "name": "ipython",
    "version": 3
   },
   "file_extension": ".py",
   "mimetype": "text/x-python",
   "name": "python",
   "nbconvert_exporter": "python",
   "pygments_lexer": "ipython3",
   "version": "3.7.10"
  },
  "papermill": {
   "default_parameters": {},
   "duration": 1461.166811,
   "end_time": "2024-01-27T08:43:18.867642",
   "environment_variables": {},
   "exception": null,
   "input_path": "__notebook__.ipynb",
   "output_path": "__notebook__.ipynb",
   "parameters": {},
   "start_time": "2024-01-27T08:18:57.700831",
   "version": "2.3.3"
  }
 },
 "nbformat": 4,
 "nbformat_minor": 5
}
