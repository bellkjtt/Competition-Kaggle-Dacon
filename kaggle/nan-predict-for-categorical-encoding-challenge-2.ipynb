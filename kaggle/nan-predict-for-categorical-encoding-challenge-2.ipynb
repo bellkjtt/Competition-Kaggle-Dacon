{
 "cells": [
  {
   "cell_type": "code",
   "execution_count": 1,
   "id": "9c13b54d",
   "metadata": {
    "_cell_guid": "b1076dfc-b9ad-4769-8c92-a6c4dae69d19",
    "_uuid": "8f2839f25d086af736a60e9eeb907d3b93b6e0e5",
    "execution": {
     "iopub.execute_input": "2024-01-23T01:51:33.348570Z",
     "iopub.status.busy": "2024-01-23T01:51:33.347960Z",
     "iopub.status.idle": "2024-01-23T01:51:37.321677Z",
     "shell.execute_reply": "2024-01-23T01:51:37.320225Z"
    },
    "papermill": {
     "duration": 3.98374,
     "end_time": "2024-01-23T01:51:37.323793",
     "exception": false,
     "start_time": "2024-01-23T01:51:33.340053",
     "status": "completed"
    },
    "tags": []
   },
   "outputs": [],
   "source": [
    "import pandas as pd\n",
    "# 데이터 경로\n",
    "data_path = '/kaggle/input/cat-in-the-dat-ii/'\n",
    "\n",
    "train = pd.read_csv(data_path + 'train.csv', index_col='id')\n",
    "test = pd.read_csv(data_path + 'test.csv', index_col='id')\n",
    "submission = pd.read_csv(data_path + 'sample_submission.csv', index_col='id')"
   ]
  },
  {
   "cell_type": "code",
   "execution_count": 2,
   "id": "70f0981f",
   "metadata": {
    "execution": {
     "iopub.execute_input": "2024-01-23T01:51:37.336978Z",
     "iopub.status.busy": "2024-01-23T01:51:37.336634Z",
     "iopub.status.idle": "2024-01-23T01:51:37.786127Z",
     "shell.execute_reply": "2024-01-23T01:51:37.784950Z"
    },
    "papermill": {
     "duration": 0.458643,
     "end_time": "2024-01-23T01:51:37.788359",
     "exception": false,
     "start_time": "2024-01-23T01:51:37.329716",
     "status": "completed"
    },
    "tags": []
   },
   "outputs": [],
   "source": [
    "# 훈련 데이터와 테스트 데이터 합치기\n",
    "all_data = pd.concat([train, test])\n",
    "all_data = all_data.drop('target', axis=1) # 타깃값 제거"
   ]
  },
  {
   "cell_type": "code",
   "execution_count": 3,
   "id": "45d6db47",
   "metadata": {
    "execution": {
     "iopub.execute_input": "2024-01-23T01:51:37.800896Z",
     "iopub.status.busy": "2024-01-23T01:51:37.800572Z",
     "iopub.status.idle": "2024-01-23T01:51:37.915740Z",
     "shell.execute_reply": "2024-01-23T01:51:37.914811Z"
    },
    "papermill": {
     "duration": 0.124004,
     "end_time": "2024-01-23T01:51:37.918055",
     "exception": false,
     "start_time": "2024-01-23T01:51:37.794051",
     "status": "completed"
    },
    "tags": []
   },
   "outputs": [],
   "source": [
    "def fill(df,feature,g):\n",
    "    df[feature] = df[feature].fillna(g)\n",
    "    \n",
    "    return df\n",
    "\n",
    "fe1 = ['bin_0' ,'bin_1','bin_2','bin_3','bin_4']\n",
    "g1 = [0.0, 0.0, 0.0, 'F','Y']\n",
    "\n",
    "for i,j in zip(fe1,g1):\n",
    "    fill(all_data,i,j)\n",
    "#bin_0~4는 대세값인 0으로 처리"
   ]
  },
  {
   "cell_type": "code",
   "execution_count": 4,
   "id": "3bd1bdbc",
   "metadata": {
    "execution": {
     "iopub.execute_input": "2024-01-23T01:51:37.930351Z",
     "iopub.status.busy": "2024-01-23T01:51:37.930022Z",
     "iopub.status.idle": "2024-01-23T01:51:38.444431Z",
     "shell.execute_reply": "2024-01-23T01:51:38.443608Z"
    },
    "papermill": {
     "duration": 0.522854,
     "end_time": "2024-01-23T01:51:38.446627",
     "exception": false,
     "start_time": "2024-01-23T01:51:37.923773",
     "status": "completed"
    },
    "tags": []
   },
   "outputs": [],
   "source": [
    "fe = ['nom_0' ,'nom_1','nom_2','nom_3','nom_4','ord_0' ,'ord_1','ord_2','ord_3','ord_4','ord_5']\n",
    "g = ['red','Triangle','Hamster','india','Theremin',1.0,'Novice','Freezing','n', 'N','Fl']\n",
    "\n",
    "for i,j in zip(fe,g):\n",
    "    fill(all_data,i,j)"
   ]
  },
  {
   "cell_type": "code",
   "execution_count": 5,
   "id": "e4406805",
   "metadata": {
    "execution": {
     "iopub.execute_input": "2024-01-23T01:51:38.459965Z",
     "iopub.status.busy": "2024-01-23T01:51:38.459562Z",
     "iopub.status.idle": "2024-01-23T01:51:38.473857Z",
     "shell.execute_reply": "2024-01-23T01:51:38.472665Z"
    },
    "papermill": {
     "duration": 0.023852,
     "end_time": "2024-01-23T01:51:38.476337",
     "exception": false,
     "start_time": "2024-01-23T01:51:38.452485",
     "status": "completed"
    },
    "tags": []
   },
   "outputs": [],
   "source": [
    "fe = ['day','month']\n",
    "g = [3.0,8.0]\n",
    "\n",
    "for i,j in zip(fe,g):\n",
    "    fill(all_data,i,j)\n",
    "\n",
    "#ord_0~4는 대세값 처리"
   ]
  },
  {
   "cell_type": "code",
   "execution_count": 6,
   "id": "591a0ffd",
   "metadata": {
    "execution": {
     "iopub.execute_input": "2024-01-23T01:51:38.489103Z",
     "iopub.status.busy": "2024-01-23T01:51:38.488788Z",
     "iopub.status.idle": "2024-01-23T01:51:39.316262Z",
     "shell.execute_reply": "2024-01-23T01:51:39.315525Z"
    },
    "papermill": {
     "duration": 0.835825,
     "end_time": "2024-01-23T01:51:39.317908",
     "exception": false,
     "start_time": "2024-01-23T01:51:38.482083",
     "status": "completed"
    },
    "tags": []
   },
   "outputs": [
    {
     "name": "stdout",
     "output_type": "stream",
     "text": [
      "<class 'pandas.core.frame.DataFrame'>\n",
      "Index: 1000000 entries, 0 to 999999\n",
      "Data columns (total 23 columns):\n",
      " #   Column  Non-Null Count    Dtype  \n",
      "---  ------  --------------    -----  \n",
      " 0   bin_0   1000000 non-null  float64\n",
      " 1   bin_1   1000000 non-null  float64\n",
      " 2   bin_2   1000000 non-null  float64\n",
      " 3   bin_3   1000000 non-null  object \n",
      " 4   bin_4   1000000 non-null  object \n",
      " 5   nom_0   1000000 non-null  object \n",
      " 6   nom_1   1000000 non-null  object \n",
      " 7   nom_2   1000000 non-null  object \n",
      " 8   nom_3   1000000 non-null  object \n",
      " 9   nom_4   1000000 non-null  object \n",
      " 10  nom_5   1000000 non-null  object \n",
      " 11  nom_6   1000000 non-null  object \n",
      " 12  nom_7   1000000 non-null  object \n",
      " 13  nom_8   1000000 non-null  object \n",
      " 14  nom_9   1000000 non-null  object \n",
      " 15  ord_0   1000000 non-null  float64\n",
      " 16  ord_1   1000000 non-null  object \n",
      " 17  ord_2   1000000 non-null  object \n",
      " 18  ord_3   1000000 non-null  object \n",
      " 19  ord_4   1000000 non-null  object \n",
      " 20  ord_5   1000000 non-null  object \n",
      " 21  day     1000000 non-null  float64\n",
      " 22  month   1000000 non-null  float64\n",
      "dtypes: float64(6), object(17)\n",
      "memory usage: 183.1+ MB\n"
     ]
    },
    {
     "data": {
      "text/html": [
       "<div>\n",
       "<style scoped>\n",
       "    .dataframe tbody tr th:only-of-type {\n",
       "        vertical-align: middle;\n",
       "    }\n",
       "\n",
       "    .dataframe tbody tr th {\n",
       "        vertical-align: top;\n",
       "    }\n",
       "\n",
       "    .dataframe thead th {\n",
       "        text-align: right;\n",
       "    }\n",
       "</style>\n",
       "<table border=\"1\" class=\"dataframe\">\n",
       "  <thead>\n",
       "    <tr style=\"text-align: right;\">\n",
       "      <th></th>\n",
       "      <th>bin_0</th>\n",
       "      <th>bin_1</th>\n",
       "      <th>bin_2</th>\n",
       "      <th>bin_3</th>\n",
       "      <th>bin_4</th>\n",
       "      <th>nom_0</th>\n",
       "      <th>nom_1</th>\n",
       "      <th>nom_2</th>\n",
       "      <th>nom_3</th>\n",
       "      <th>nom_4</th>\n",
       "      <th>...</th>\n",
       "      <th>nom_8</th>\n",
       "      <th>nom_9</th>\n",
       "      <th>ord_0</th>\n",
       "      <th>ord_1</th>\n",
       "      <th>ord_2</th>\n",
       "      <th>ord_3</th>\n",
       "      <th>ord_4</th>\n",
       "      <th>ord_5</th>\n",
       "      <th>day</th>\n",
       "      <th>month</th>\n",
       "    </tr>\n",
       "    <tr>\n",
       "      <th>id</th>\n",
       "      <th></th>\n",
       "      <th></th>\n",
       "      <th></th>\n",
       "      <th></th>\n",
       "      <th></th>\n",
       "      <th></th>\n",
       "      <th></th>\n",
       "      <th></th>\n",
       "      <th></th>\n",
       "      <th></th>\n",
       "      <th></th>\n",
       "      <th></th>\n",
       "      <th></th>\n",
       "      <th></th>\n",
       "      <th></th>\n",
       "      <th></th>\n",
       "      <th></th>\n",
       "      <th></th>\n",
       "      <th></th>\n",
       "      <th></th>\n",
       "      <th></th>\n",
       "    </tr>\n",
       "  </thead>\n",
       "  <tbody>\n",
       "    <tr>\n",
       "      <th>0</th>\n",
       "      <td>0.0</td>\n",
       "      <td>0.0</td>\n",
       "      <td>0.0</td>\n",
       "      <td>F</td>\n",
       "      <td>N</td>\n",
       "      <td>Red</td>\n",
       "      <td>Trapezoid</td>\n",
       "      <td>Hamster</td>\n",
       "      <td>Russia</td>\n",
       "      <td>Bassoon</td>\n",
       "      <td>...</td>\n",
       "      <td>0256c7a4b</td>\n",
       "      <td>02e7c8990</td>\n",
       "      <td>3.0</td>\n",
       "      <td>Contributor</td>\n",
       "      <td>Hot</td>\n",
       "      <td>c</td>\n",
       "      <td>U</td>\n",
       "      <td>Pw</td>\n",
       "      <td>6.0</td>\n",
       "      <td>3.0</td>\n",
       "    </tr>\n",
       "    <tr>\n",
       "      <th>1</th>\n",
       "      <td>1.0</td>\n",
       "      <td>1.0</td>\n",
       "      <td>0.0</td>\n",
       "      <td>F</td>\n",
       "      <td>Y</td>\n",
       "      <td>Red</td>\n",
       "      <td>Star</td>\n",
       "      <td>Axolotl</td>\n",
       "      <td>india</td>\n",
       "      <td>Theremin</td>\n",
       "      <td>...</td>\n",
       "      <td>52ead350c</td>\n",
       "      <td>f37df64af</td>\n",
       "      <td>3.0</td>\n",
       "      <td>Grandmaster</td>\n",
       "      <td>Warm</td>\n",
       "      <td>e</td>\n",
       "      <td>X</td>\n",
       "      <td>pE</td>\n",
       "      <td>7.0</td>\n",
       "      <td>7.0</td>\n",
       "    </tr>\n",
       "    <tr>\n",
       "      <th>2</th>\n",
       "      <td>0.0</td>\n",
       "      <td>1.0</td>\n",
       "      <td>0.0</td>\n",
       "      <td>F</td>\n",
       "      <td>N</td>\n",
       "      <td>Red</td>\n",
       "      <td>Triangle</td>\n",
       "      <td>Hamster</td>\n",
       "      <td>Canada</td>\n",
       "      <td>Bassoon</td>\n",
       "      <td>...</td>\n",
       "      <td>745b909d1</td>\n",
       "      <td>other</td>\n",
       "      <td>3.0</td>\n",
       "      <td>Novice</td>\n",
       "      <td>Freezing</td>\n",
       "      <td>n</td>\n",
       "      <td>P</td>\n",
       "      <td>eN</td>\n",
       "      <td>5.0</td>\n",
       "      <td>9.0</td>\n",
       "    </tr>\n",
       "    <tr>\n",
       "      <th>3</th>\n",
       "      <td>0.0</td>\n",
       "      <td>0.0</td>\n",
       "      <td>0.0</td>\n",
       "      <td>F</td>\n",
       "      <td>N</td>\n",
       "      <td>Red</td>\n",
       "      <td>Circle</td>\n",
       "      <td>Hamster</td>\n",
       "      <td>Finland</td>\n",
       "      <td>Theremin</td>\n",
       "      <td>...</td>\n",
       "      <td>bdaa56dd1</td>\n",
       "      <td>f9d456e57</td>\n",
       "      <td>1.0</td>\n",
       "      <td>Novice</td>\n",
       "      <td>Lava Hot</td>\n",
       "      <td>a</td>\n",
       "      <td>C</td>\n",
       "      <td>Fl</td>\n",
       "      <td>3.0</td>\n",
       "      <td>3.0</td>\n",
       "    </tr>\n",
       "    <tr>\n",
       "      <th>4</th>\n",
       "      <td>0.0</td>\n",
       "      <td>0.0</td>\n",
       "      <td>0.0</td>\n",
       "      <td>T</td>\n",
       "      <td>N</td>\n",
       "      <td>Red</td>\n",
       "      <td>Triangle</td>\n",
       "      <td>Hamster</td>\n",
       "      <td>Costa Rica</td>\n",
       "      <td>Theremin</td>\n",
       "      <td>...</td>\n",
       "      <td>other</td>\n",
       "      <td>c5361037c</td>\n",
       "      <td>3.0</td>\n",
       "      <td>Grandmaster</td>\n",
       "      <td>Cold</td>\n",
       "      <td>h</td>\n",
       "      <td>C</td>\n",
       "      <td>OZ</td>\n",
       "      <td>5.0</td>\n",
       "      <td>12.0</td>\n",
       "    </tr>\n",
       "  </tbody>\n",
       "</table>\n",
       "<p>5 rows × 23 columns</p>\n",
       "</div>"
      ],
      "text/plain": [
       "    bin_0  bin_1  bin_2 bin_3 bin_4 nom_0      nom_1    nom_2       nom_3  \\\n",
       "id                                                                          \n",
       "0     0.0    0.0    0.0     F     N   Red  Trapezoid  Hamster      Russia   \n",
       "1     1.0    1.0    0.0     F     Y   Red       Star  Axolotl       india   \n",
       "2     0.0    1.0    0.0     F     N   Red   Triangle  Hamster      Canada   \n",
       "3     0.0    0.0    0.0     F     N   Red     Circle  Hamster     Finland   \n",
       "4     0.0    0.0    0.0     T     N   Red   Triangle  Hamster  Costa Rica   \n",
       "\n",
       "       nom_4  ...      nom_8      nom_9 ord_0        ord_1     ord_2  ord_3  \\\n",
       "id            ...                                                             \n",
       "0    Bassoon  ...  0256c7a4b  02e7c8990   3.0  Contributor       Hot      c   \n",
       "1   Theremin  ...  52ead350c  f37df64af   3.0  Grandmaster      Warm      e   \n",
       "2    Bassoon  ...  745b909d1      other   3.0       Novice  Freezing      n   \n",
       "3   Theremin  ...  bdaa56dd1  f9d456e57   1.0       Novice  Lava Hot      a   \n",
       "4   Theremin  ...      other  c5361037c   3.0  Grandmaster      Cold      h   \n",
       "\n",
       "   ord_4 ord_5  day month  \n",
       "id                         \n",
       "0      U    Pw  6.0   3.0  \n",
       "1      X    pE  7.0   7.0  \n",
       "2      P    eN  5.0   9.0  \n",
       "3      C    Fl  3.0   3.0  \n",
       "4      C    OZ  5.0  12.0  \n",
       "\n",
       "[5 rows x 23 columns]"
      ]
     },
     "execution_count": 6,
     "metadata": {},
     "output_type": "execute_result"
    }
   ],
   "source": [
    "fe = ['nom_5' ,'nom_6','nom_7','nom_8','nom_9',]\n",
    "g = ['other','other','other','other','other']\n",
    "\n",
    "for i,j in zip(fe,g):\n",
    "    fill(all_data,i,j)\n",
    "all_data.info()\n",
    "#nom_5~9는 각각 따로 처리\n",
    "all_data.head()"
   ]
  },
  {
   "cell_type": "code",
   "execution_count": 7,
   "id": "3b5529be",
   "metadata": {
    "execution": {
     "iopub.execute_input": "2024-01-23T01:51:39.331907Z",
     "iopub.status.busy": "2024-01-23T01:51:39.330894Z",
     "iopub.status.idle": "2024-01-23T01:51:39.494497Z",
     "shell.execute_reply": "2024-01-23T01:51:39.493602Z"
    },
    "papermill": {
     "duration": 0.172823,
     "end_time": "2024-01-23T01:51:39.496838",
     "exception": false,
     "start_time": "2024-01-23T01:51:39.324015",
     "status": "completed"
    },
    "tags": []
   },
   "outputs": [],
   "source": [
    "all_data['bin_3'] = all_data['bin_3'].map({'F':0.0, 'T':1.0})\n",
    "all_data['bin_4'] = all_data['bin_4'].map({'N':0.0, 'Y':1.0})\n",
    "\n",
    "ord1dict = {'Novice':0.0, 'Contributor':1.0, \n",
    "            'Expert':2.0, 'Master':3.0, 'Grandmaster':4.0}\n",
    "ord2dict = {'Freezing':0.0, 'Cold':1.0, 'Warm':2.0, \n",
    "            'Hot':3.0, 'Boiling Hot':4.0, 'Lava Hot':5.0}\n",
    "\n",
    "all_data['ord_1'] = all_data['ord_1'].map(ord1dict)\n",
    "all_data['ord_2'] = all_data['ord_2'].map(ord2dict)"
   ]
  },
  {
   "cell_type": "code",
   "execution_count": 8,
   "id": "3d7f074c",
   "metadata": {
    "execution": {
     "iopub.execute_input": "2024-01-23T01:51:39.511808Z",
     "iopub.status.busy": "2024-01-23T01:51:39.511143Z",
     "iopub.status.idle": "2024-01-23T01:51:41.169121Z",
     "shell.execute_reply": "2024-01-23T01:51:41.168300Z"
    },
    "papermill": {
     "duration": 1.667715,
     "end_time": "2024-01-23T01:51:41.171313",
     "exception": false,
     "start_time": "2024-01-23T01:51:39.503598",
     "status": "completed"
    },
    "tags": []
   },
   "outputs": [
    {
     "name": "stdout",
     "output_type": "stream",
     "text": [
      "ord_3\n",
      "['a' 'b' 'c' 'd' 'e' 'f' 'g' 'h' 'i' 'j' 'k' 'l' 'm' 'n' 'o']\n",
      "ord_4\n",
      "['A' 'B' 'C' 'D' 'E' 'F' 'G' 'H' 'I' 'J' 'K' 'L' 'M' 'N' 'O' 'P' 'Q' 'R'\n",
      " 'S' 'T' 'U' 'V' 'W' 'X' 'Y' 'Z']\n",
      "ord_5\n",
      "['AG' 'AI' 'AU' 'AW' 'Ay' 'BL' 'BX' 'Bx' 'CN' 'CU' 'Cn' 'DI' 'DN' 'DR'\n",
      " 'DT' 'Dj' 'Dn' 'EC' 'Ey' 'FB' 'FH' 'Fl' 'GZ' 'HF' 'HK' 'HO' 'Hk' 'IA'\n",
      " 'IS' 'Ib' 'In' 'Io' 'Iq' 'JQ' 'JT' 'Ji' 'Kq' 'LS' 'LY' 'Lo' 'MF' 'MU'\n",
      " 'MV' 'MX' 'Mg' 'Mq' 'NS' 'NT' 'Nh' 'OM' 'OZ' 'Oe' 'Ox' 'PG' 'PS' 'Pk'\n",
      " 'Pw' 'QV' 'Qm' 'RB' 'RD' 'RT' 'RV' 'Re' 'Rj' 'Ro' 'Rv' 'Rz' 'SL' 'SS'\n",
      " 'Sk' 'Sz' 'TH' 'TL' 'TP' 'TZ' 'Tg' 'Ty' 'Tz' 'US' 'UV' 'WC' 'WW' 'Wr'\n",
      " 'XC' 'XI' 'XM' 'XR' 'XU' 'YJ' 'Yb' 'Yi' 'Yr' 'Zv' 'aA' 'aE' 'al' 'be'\n",
      " 'cR' 'cY' 'cg' 'cy' 'dh' 'dp' 'eA' 'eN' 'ep' 'fF' 'fO' 'fV' 'fe' 'gK'\n",
      " 'gL' 'gV' 'gc' 'gj' 'gt' 'hG' 'hT' 'ht' 'hx' 'iS' 'iv' 'ja' 'jf' 'jp'\n",
      " 'kB' 'kP' 'kT' 'kv' 'lA' 'lR' 'lS' 'ly' 'mD' 'mP' 'mX' 'mi' 'mo' 'nS'\n",
      " 'ne' 'nf' 'nj' 'nn' 'oI' 'oJ' 'oU' 'oh' 'ok' 'pB' 'pE' 'pT' 'pZ' 'pl'\n",
      " 'qN' 'qP' 'rA' 'rM' 'rg' 'rl' 'sF' 'sY' 'sc' 'sf' 'tT' 'th' 'tn' 'uI'\n",
      " 'uP' 'uQ' 'uW' 'uZ' 'ur' 'us' 'vQ' 'vq' 'vw' 'vx' 'wJ' 'wU' 'wa' 'xB'\n",
      " 'xF' 'xG' 'yE' 'yK' 'zc' 'ze' 'zf' 'zp']\n"
     ]
    }
   ],
   "source": [
    "from sklearn.preprocessing import OrdinalEncoder\n",
    "\n",
    "ord_345 = ['ord_3', 'ord_4', 'ord_5']\n",
    "\n",
    "ord_encoder = OrdinalEncoder() # OrdinalEncoder 객체 생성\n",
    "# ordinal 인코딩 적용\n",
    "all_data[ord_345] = ord_encoder.fit_transform(all_data[ord_345])\n",
    "\n",
    "# 피처별 인코딩 순서 출력\n",
    "for feature, categories in zip(ord_345, ord_encoder.categories_):\n",
    "    print(feature)\n",
    "    print(categories)"
   ]
  },
  {
   "cell_type": "code",
   "execution_count": 9,
   "id": "5f6ce27a",
   "metadata": {
    "execution": {
     "iopub.execute_input": "2024-01-23T01:51:41.189693Z",
     "iopub.status.busy": "2024-01-23T01:51:41.189206Z",
     "iopub.status.idle": "2024-01-23T01:51:41.194499Z",
     "shell.execute_reply": "2024-01-23T01:51:41.193168Z"
    },
    "papermill": {
     "duration": 0.016822,
     "end_time": "2024-01-23T01:51:41.196436",
     "exception": false,
     "start_time": "2024-01-23T01:51:41.179614",
     "status": "completed"
    },
    "tags": []
   },
   "outputs": [],
   "source": [
    "nom_features = ['nom_' + str(i) for i in range(10)] # 명목형 피처"
   ]
  },
  {
   "cell_type": "code",
   "execution_count": 10,
   "id": "6d2465f0",
   "metadata": {
    "execution": {
     "iopub.execute_input": "2024-01-23T01:51:41.212747Z",
     "iopub.status.busy": "2024-01-23T01:51:41.212426Z",
     "iopub.status.idle": "2024-01-23T01:51:43.662854Z",
     "shell.execute_reply": "2024-01-23T01:51:43.661316Z"
    },
    "papermill": {
     "duration": 2.461114,
     "end_time": "2024-01-23T01:51:43.665182",
     "exception": false,
     "start_time": "2024-01-23T01:51:41.204068",
     "status": "completed"
    },
    "tags": []
   },
   "outputs": [
    {
     "data": {
      "text/plain": [
       "<1000000x5434 sparse matrix of type '<class 'numpy.float64'>'\n",
       "\twith 10000000 stored elements in Compressed Sparse Row format>"
      ]
     },
     "execution_count": 10,
     "metadata": {},
     "output_type": "execute_result"
    }
   ],
   "source": [
    "from sklearn.preprocessing import OneHotEncoder\n",
    "\n",
    "onehot_encoder = OneHotEncoder() # OneHotEncoder 객체 생성\n",
    "# 원-핫 인코딩 적용\n",
    "encoded_nom_matrix = onehot_encoder.fit_transform(all_data[nom_features])\n",
    "\n",
    "encoded_nom_matrix"
   ]
  },
  {
   "cell_type": "code",
   "execution_count": 11,
   "id": "f35ad1ac",
   "metadata": {
    "execution": {
     "iopub.execute_input": "2024-01-23T01:51:43.679472Z",
     "iopub.status.busy": "2024-01-23T01:51:43.679103Z",
     "iopub.status.idle": "2024-01-23T01:51:43.690665Z",
     "shell.execute_reply": "2024-01-23T01:51:43.689581Z"
    },
    "papermill": {
     "duration": 0.021444,
     "end_time": "2024-01-23T01:51:43.693307",
     "exception": false,
     "start_time": "2024-01-23T01:51:43.671863",
     "status": "completed"
    },
    "tags": []
   },
   "outputs": [
    {
     "name": "stdout",
     "output_type": "stream",
     "text": [
      "  (0, 2)\t1.0\n",
      "  (0, 8)\t1.0\n",
      "  (0, 13)\t1.0\n",
      "  (0, 21)\t1.0\n",
      "  (0, 23)\t1.0\n",
      "  (0, 1086)\t1.0\n",
      "  (0, 2261)\t1.0\n",
      "  (0, 2856)\t1.0\n",
      "  (0, 2993)\t1.0\n",
      "  (0, 3242)\t1.0\n"
     ]
    }
   ],
   "source": [
    "print(encoded_nom_matrix[0])"
   ]
  },
  {
   "cell_type": "code",
   "execution_count": 12,
   "id": "992be37d",
   "metadata": {
    "execution": {
     "iopub.execute_input": "2024-01-23T01:51:43.708153Z",
     "iopub.status.busy": "2024-01-23T01:51:43.707831Z",
     "iopub.status.idle": "2024-01-23T01:51:43.744276Z",
     "shell.execute_reply": "2024-01-23T01:51:43.743445Z"
    },
    "papermill": {
     "duration": 0.046655,
     "end_time": "2024-01-23T01:51:43.746505",
     "exception": false,
     "start_time": "2024-01-23T01:51:43.699850",
     "status": "completed"
    },
    "tags": []
   },
   "outputs": [],
   "source": [
    "all_data = all_data.drop(nom_features, axis=1) # 기존 명목형 피처 삭제"
   ]
  },
  {
   "cell_type": "code",
   "execution_count": 13,
   "id": "5942fbc4",
   "metadata": {
    "execution": {
     "iopub.execute_input": "2024-01-23T01:51:43.761336Z",
     "iopub.status.busy": "2024-01-23T01:51:43.760995Z",
     "iopub.status.idle": "2024-01-23T01:51:44.046210Z",
     "shell.execute_reply": "2024-01-23T01:51:44.045215Z"
    },
    "papermill": {
     "duration": 0.294847,
     "end_time": "2024-01-23T01:51:44.047985",
     "exception": false,
     "start_time": "2024-01-23T01:51:43.753138",
     "status": "completed"
    },
    "tags": []
   },
   "outputs": [
    {
     "data": {
      "text/plain": [
       "<1000000x19 sparse matrix of type '<class 'numpy.float64'>'\n",
       "\twith 2000000 stored elements in Compressed Sparse Row format>"
      ]
     },
     "execution_count": 13,
     "metadata": {},
     "output_type": "execute_result"
    }
   ],
   "source": [
    "date_features  = ['day', 'month'] # 날짜 피처\n",
    "\n",
    "# 원-핫 인코딩 적용\n",
    "encoded_date_matrix = onehot_encoder.fit_transform(all_data[date_features])\n",
    "\n",
    "all_data = all_data.drop(date_features, axis=1) # 기존 날짜 피처 삭제\n",
    "\n",
    "encoded_date_matrix"
   ]
  },
  {
   "cell_type": "markdown",
   "id": "b6329597",
   "metadata": {
    "papermill": {
     "duration": 0.006491,
     "end_time": "2024-01-23T01:51:44.060888",
     "exception": false,
     "start_time": "2024-01-23T01:51:44.054397",
     "status": "completed"
    },
    "tags": []
   },
   "source": [
    "## 피처 스케일링"
   ]
  },
  {
   "cell_type": "code",
   "execution_count": 14,
   "id": "ecd1e575",
   "metadata": {
    "execution": {
     "iopub.execute_input": "2024-01-23T01:51:44.075945Z",
     "iopub.status.busy": "2024-01-23T01:51:44.075611Z",
     "iopub.status.idle": "2024-01-23T01:51:44.147930Z",
     "shell.execute_reply": "2024-01-23T01:51:44.146378Z"
    },
    "papermill": {
     "duration": 0.082167,
     "end_time": "2024-01-23T01:51:44.150207",
     "exception": false,
     "start_time": "2024-01-23T01:51:44.068040",
     "status": "completed"
    },
    "tags": []
   },
   "outputs": [
    {
     "name": "stdout",
     "output_type": "stream",
     "text": [
      "<class 'pandas.core.frame.DataFrame'>\n",
      "Index: 1000000 entries, 0 to 999999\n",
      "Data columns (total 11 columns):\n",
      " #   Column  Non-Null Count    Dtype  \n",
      "---  ------  --------------    -----  \n",
      " 0   bin_0   1000000 non-null  float64\n",
      " 1   bin_1   1000000 non-null  float64\n",
      " 2   bin_2   1000000 non-null  float64\n",
      " 3   bin_3   1000000 non-null  float64\n",
      " 4   bin_4   1000000 non-null  float64\n",
      " 5   ord_0   1000000 non-null  float64\n",
      " 6   ord_1   1000000 non-null  float64\n",
      " 7   ord_2   1000000 non-null  float64\n",
      " 8   ord_3   1000000 non-null  float64\n",
      " 9   ord_4   1000000 non-null  float64\n",
      " 10  ord_5   1000000 non-null  float64\n",
      "dtypes: float64(11)\n",
      "memory usage: 91.6 MB\n"
     ]
    }
   ],
   "source": [
    "from sklearn.preprocessing import MinMaxScaler\n",
    "\n",
    "ord_features = ['ord_' + str(i) for i in range(6)] # 순서형 피처\n",
    "# min-max 정규화\n",
    "all_data[ord_features] = MinMaxScaler().fit_transform(all_data[ord_features])\n",
    "all_data.info()"
   ]
  },
  {
   "cell_type": "code",
   "execution_count": 15,
   "id": "d4c8c6e1",
   "metadata": {
    "execution": {
     "iopub.execute_input": "2024-01-23T01:51:44.164518Z",
     "iopub.status.busy": "2024-01-23T01:51:44.164124Z",
     "iopub.status.idle": "2024-01-23T01:51:44.713402Z",
     "shell.execute_reply": "2024-01-23T01:51:44.712065Z"
    },
    "papermill": {
     "duration": 0.559028,
     "end_time": "2024-01-23T01:51:44.715735",
     "exception": false,
     "start_time": "2024-01-23T01:51:44.156707",
     "status": "completed"
    },
    "tags": []
   },
   "outputs": [],
   "source": [
    "from scipy import sparse\n",
    "\n",
    "# 인코딩 및 스케일링된 피처 합치기\n",
    "all_data_sprs = sparse.hstack([sparse.csr_matrix(all_data),\n",
    "                               encoded_nom_matrix,\n",
    "                               encoded_date_matrix],\n",
    "                              format='csr')"
   ]
  },
  {
   "cell_type": "code",
   "execution_count": 16,
   "id": "f9ea69c4",
   "metadata": {
    "execution": {
     "iopub.execute_input": "2024-01-23T01:51:44.730547Z",
     "iopub.status.busy": "2024-01-23T01:51:44.730181Z",
     "iopub.status.idle": "2024-01-23T01:51:44.736938Z",
     "shell.execute_reply": "2024-01-23T01:51:44.735686Z"
    },
    "papermill": {
     "duration": 0.016958,
     "end_time": "2024-01-23T01:51:44.739441",
     "exception": false,
     "start_time": "2024-01-23T01:51:44.722483",
     "status": "completed"
    },
    "tags": []
   },
   "outputs": [
    {
     "data": {
      "text/plain": [
       "<1000000x5464 sparse matrix of type '<class 'numpy.float64'>'\n",
       "\twith 18225434 stored elements in Compressed Sparse Row format>"
      ]
     },
     "execution_count": 16,
     "metadata": {},
     "output_type": "execute_result"
    }
   ],
   "source": [
    "all_data_sprs"
   ]
  },
  {
   "cell_type": "code",
   "execution_count": 17,
   "id": "a1aae930",
   "metadata": {
    "execution": {
     "iopub.execute_input": "2024-01-23T01:51:44.754411Z",
     "iopub.status.busy": "2024-01-23T01:51:44.754015Z",
     "iopub.status.idle": "2024-01-23T01:51:44.952492Z",
     "shell.execute_reply": "2024-01-23T01:51:44.951439Z"
    },
    "papermill": {
     "duration": 0.208527,
     "end_time": "2024-01-23T01:51:44.954658",
     "exception": false,
     "start_time": "2024-01-23T01:51:44.746131",
     "status": "completed"
    },
    "tags": []
   },
   "outputs": [],
   "source": [
    "num_train = len(train) # 훈련 데이터 개수\n",
    "\n",
    "# 훈련 데이터와 테스트 데이터 나누기\n",
    "X_train = all_data_sprs[:num_train] # 0 ~ num_train - 1행\n",
    "X_test = all_data_sprs[num_train:] # num_train ~ 마지막 행\n",
    "\n",
    "y = train['target']"
   ]
  },
  {
   "cell_type": "code",
   "execution_count": 18,
   "id": "facb1f37",
   "metadata": {
    "execution": {
     "iopub.execute_input": "2024-01-23T01:51:44.969223Z",
     "iopub.status.busy": "2024-01-23T01:51:44.968878Z",
     "iopub.status.idle": "2024-01-23T01:51:44.976244Z",
     "shell.execute_reply": "2024-01-23T01:51:44.975065Z"
    },
    "papermill": {
     "duration": 0.016868,
     "end_time": "2024-01-23T01:51:44.978248",
     "exception": false,
     "start_time": "2024-01-23T01:51:44.961380",
     "status": "completed"
    },
    "tags": []
   },
   "outputs": [
    {
     "data": {
      "text/plain": [
       "(600000, 5464)"
      ]
     },
     "execution_count": 18,
     "metadata": {},
     "output_type": "execute_result"
    }
   ],
   "source": [
    "X_train.shape"
   ]
  },
  {
   "cell_type": "code",
   "execution_count": 19,
   "id": "31231724",
   "metadata": {
    "execution": {
     "iopub.execute_input": "2024-01-23T01:51:44.993576Z",
     "iopub.status.busy": "2024-01-23T01:51:44.992658Z",
     "iopub.status.idle": "2024-01-23T01:51:45.000328Z",
     "shell.execute_reply": "2024-01-23T01:51:44.999081Z"
    },
    "papermill": {
     "duration": 0.017861,
     "end_time": "2024-01-23T01:51:45.002670",
     "exception": false,
     "start_time": "2024-01-23T01:51:44.984809",
     "status": "completed"
    },
    "tags": []
   },
   "outputs": [
    {
     "data": {
      "text/plain": [
       "(600000,)"
      ]
     },
     "execution_count": 19,
     "metadata": {},
     "output_type": "execute_result"
    }
   ],
   "source": [
    "y.shape"
   ]
  },
  {
   "cell_type": "code",
   "execution_count": 20,
   "id": "c68d48a1",
   "metadata": {
    "execution": {
     "iopub.execute_input": "2024-01-23T01:51:45.018218Z",
     "iopub.status.busy": "2024-01-23T01:51:45.017242Z",
     "iopub.status.idle": "2024-01-23T01:51:45.362176Z",
     "shell.execute_reply": "2024-01-23T01:51:45.360906Z"
    },
    "papermill": {
     "duration": 0.355293,
     "end_time": "2024-01-23T01:51:45.364622",
     "exception": false,
     "start_time": "2024-01-23T01:51:45.009329",
     "status": "completed"
    },
    "tags": []
   },
   "outputs": [],
   "source": [
    "from sklearn.model_selection import train_test_split\n",
    "\n",
    "# 훈련 데이터, 검증 데이터 분리\n",
    "X_train, X_valid, y_train, y_valid = train_test_split(X_train, y,\n",
    "                                                      test_size=0.1,\n",
    "                                                      stratify=y,\n",
    "                                                      random_state=10)"
   ]
  },
  {
   "cell_type": "code",
   "execution_count": 21,
   "id": "0db45cfc",
   "metadata": {
    "execution": {
     "iopub.execute_input": "2024-01-23T01:51:45.380529Z",
     "iopub.status.busy": "2024-01-23T01:51:45.380183Z",
     "iopub.status.idle": "2024-01-23T01:51:45.386224Z",
     "shell.execute_reply": "2024-01-23T01:51:45.385278Z"
    },
    "papermill": {
     "duration": 0.01638,
     "end_time": "2024-01-23T01:51:45.388189",
     "exception": false,
     "start_time": "2024-01-23T01:51:45.371809",
     "status": "completed"
    },
    "tags": []
   },
   "outputs": [
    {
     "data": {
      "text/plain": [
       "(600000,)"
      ]
     },
     "execution_count": 21,
     "metadata": {},
     "output_type": "execute_result"
    }
   ],
   "source": [
    "y.shape"
   ]
  },
  {
   "cell_type": "markdown",
   "id": "fd098f36",
   "metadata": {
    "papermill": {
     "duration": 0.007298,
     "end_time": "2024-01-23T01:51:45.402463",
     "exception": false,
     "start_time": "2024-01-23T01:51:45.395165",
     "status": "completed"
    },
    "tags": []
   },
   "source": [
    "## 하이퍼 파라미터 최적화"
   ]
  },
  {
   "cell_type": "code",
   "execution_count": 22,
   "id": "92a90bd7",
   "metadata": {
    "execution": {
     "iopub.execute_input": "2024-01-23T01:51:45.418284Z",
     "iopub.status.busy": "2024-01-23T01:51:45.417417Z",
     "iopub.status.idle": "2024-01-23T01:51:58.475500Z",
     "shell.execute_reply": "2024-01-23T01:51:58.474207Z"
    },
    "papermill": {
     "duration": 13.06812,
     "end_time": "2024-01-23T01:51:58.477618",
     "exception": false,
     "start_time": "2024-01-23T01:51:45.409498",
     "status": "completed"
    },
    "tags": []
   },
   "outputs": [
    {
     "name": "stdout",
     "output_type": "stream",
     "text": [
      "CPU times: user 12.9 s, sys: 62.3 ms, total: 13 s\n",
      "Wall time: 13 s\n"
     ]
    },
    {
     "data": {
      "text/html": [
       "<style>#sk-container-id-1 {color: black;background-color: white;}#sk-container-id-1 pre{padding: 0;}#sk-container-id-1 div.sk-toggleable {background-color: white;}#sk-container-id-1 label.sk-toggleable__label {cursor: pointer;display: block;width: 100%;margin-bottom: 0;padding: 0.3em;box-sizing: border-box;text-align: center;}#sk-container-id-1 label.sk-toggleable__label-arrow:before {content: \"▸\";float: left;margin-right: 0.25em;color: #696969;}#sk-container-id-1 label.sk-toggleable__label-arrow:hover:before {color: black;}#sk-container-id-1 div.sk-estimator:hover label.sk-toggleable__label-arrow:before {color: black;}#sk-container-id-1 div.sk-toggleable__content {max-height: 0;max-width: 0;overflow: hidden;text-align: left;background-color: #f0f8ff;}#sk-container-id-1 div.sk-toggleable__content pre {margin: 0.2em;color: black;border-radius: 0.25em;background-color: #f0f8ff;}#sk-container-id-1 input.sk-toggleable__control:checked~div.sk-toggleable__content {max-height: 200px;max-width: 100%;overflow: auto;}#sk-container-id-1 input.sk-toggleable__control:checked~label.sk-toggleable__label-arrow:before {content: \"▾\";}#sk-container-id-1 div.sk-estimator input.sk-toggleable__control:checked~label.sk-toggleable__label {background-color: #d4ebff;}#sk-container-id-1 div.sk-label input.sk-toggleable__control:checked~label.sk-toggleable__label {background-color: #d4ebff;}#sk-container-id-1 input.sk-hidden--visually {border: 0;clip: rect(1px 1px 1px 1px);clip: rect(1px, 1px, 1px, 1px);height: 1px;margin: -1px;overflow: hidden;padding: 0;position: absolute;width: 1px;}#sk-container-id-1 div.sk-estimator {font-family: monospace;background-color: #f0f8ff;border: 1px dotted black;border-radius: 0.25em;box-sizing: border-box;margin-bottom: 0.5em;}#sk-container-id-1 div.sk-estimator:hover {background-color: #d4ebff;}#sk-container-id-1 div.sk-parallel-item::after {content: \"\";width: 100%;border-bottom: 1px solid gray;flex-grow: 1;}#sk-container-id-1 div.sk-label:hover label.sk-toggleable__label {background-color: #d4ebff;}#sk-container-id-1 div.sk-serial::before {content: \"\";position: absolute;border-left: 1px solid gray;box-sizing: border-box;top: 0;bottom: 0;left: 50%;z-index: 0;}#sk-container-id-1 div.sk-serial {display: flex;flex-direction: column;align-items: center;background-color: white;padding-right: 0.2em;padding-left: 0.2em;position: relative;}#sk-container-id-1 div.sk-item {position: relative;z-index: 1;}#sk-container-id-1 div.sk-parallel {display: flex;align-items: stretch;justify-content: center;background-color: white;position: relative;}#sk-container-id-1 div.sk-item::before, #sk-container-id-1 div.sk-parallel-item::before {content: \"\";position: absolute;border-left: 1px solid gray;box-sizing: border-box;top: 0;bottom: 0;left: 50%;z-index: -1;}#sk-container-id-1 div.sk-parallel-item {display: flex;flex-direction: column;z-index: 1;position: relative;background-color: white;}#sk-container-id-1 div.sk-parallel-item:first-child::after {align-self: flex-end;width: 50%;}#sk-container-id-1 div.sk-parallel-item:last-child::after {align-self: flex-start;width: 50%;}#sk-container-id-1 div.sk-parallel-item:only-child::after {width: 0;}#sk-container-id-1 div.sk-dashed-wrapped {border: 1px dashed gray;margin: 0 0.4em 0.5em 0.4em;box-sizing: border-box;padding-bottom: 0.4em;background-color: white;}#sk-container-id-1 div.sk-label label {font-family: monospace;font-weight: bold;display: inline-block;line-height: 1.2em;}#sk-container-id-1 div.sk-label-container {text-align: center;}#sk-container-id-1 div.sk-container {/* jupyter's `normalize.less` sets `[hidden] { display: none; }` but bootstrap.min.css set `[hidden] { display: none !important; }` so we also need the `!important` here to be able to override the default hidden behavior on the sphinx rendered scikit-learn.org. See: https://github.com/scikit-learn/scikit-learn/issues/21755 */display: inline-block !important;position: relative;}#sk-container-id-1 div.sk-text-repr-fallback {display: none;}</style><div id=\"sk-container-id-1\" class=\"sk-top-container\"><div class=\"sk-text-repr-fallback\"><pre>LogisticRegression(C=0.049, class_weight={0: 1, 1: 1.42}, solver=&#x27;liblinear&#x27;)</pre><b>In a Jupyter environment, please rerun this cell to show the HTML representation or trust the notebook. <br />On GitHub, the HTML representation is unable to render, please try loading this page with nbviewer.org.</b></div><div class=\"sk-container\" hidden><div class=\"sk-item\"><div class=\"sk-estimator sk-toggleable\"><input class=\"sk-toggleable__control sk-hidden--visually\" id=\"sk-estimator-id-1\" type=\"checkbox\" checked><label for=\"sk-estimator-id-1\" class=\"sk-toggleable__label sk-toggleable__label-arrow\">LogisticRegression</label><div class=\"sk-toggleable__content\"><pre>LogisticRegression(C=0.049, class_weight={0: 1, 1: 1.42}, solver=&#x27;liblinear&#x27;)</pre></div></div></div></div></div>"
      ],
      "text/plain": [
       "LogisticRegression(C=0.049, class_weight={0: 1, 1: 1.42}, solver='liblinear')"
      ]
     },
     "execution_count": 22,
     "metadata": {},
     "output_type": "execute_result"
    }
   ],
   "source": [
    "%%time\n",
    "\n",
    "from sklearn.model_selection import GridSearchCV\n",
    "from sklearn.linear_model import LogisticRegression\n",
    "\n",
    "# 로지스틱 회귀 모델 생성\n",
    "logistic_model = LogisticRegression(\n",
    "    C=0.049,\n",
    "    class_weight={0: 1, 1: 1.42},\n",
    "    solver='liblinear',\n",
    "    fit_intercept=True,\n",
    "    penalty='l2')\n",
    "\n",
    "logistic_model.fit(X_train,y_train)\n",
    "# 하이퍼파라미터 값 목록\n",
    "#lr_params = {'C':[0.049, 0.1, 0.2], 'max_iter':[800, 900, 1000], \n",
    " #            'solver':['liblinear'], 'random_state':[42]}\n",
    "\n",
    "# 그리드서치 객체 생성\n",
    "#gridsearch_logistic_model = GridSearchCV(estimator=logistic_model,\n",
    " #                                        param_grid=lr_params,\n",
    "  #                                       scoring='roc_auc', # 평가지표\n",
    "   #                                      cv=5)\n",
    "# 그리드서치 수행\n",
    "#gridsearch_logistic_model.fit(X_train, y_train)\n",
    "\n",
    "#print('최적 하이퍼파라미터:', gridsearch_logistic_model.best_params_)"
   ]
  },
  {
   "cell_type": "code",
   "execution_count": 23,
   "id": "a7f9d418",
   "metadata": {
    "execution": {
     "iopub.execute_input": "2024-01-23T01:51:58.493463Z",
     "iopub.status.busy": "2024-01-23T01:51:58.493048Z",
     "iopub.status.idle": "2024-01-23T01:51:58.500007Z",
     "shell.execute_reply": "2024-01-23T01:51:58.499065Z"
    },
    "papermill": {
     "duration": 0.017155,
     "end_time": "2024-01-23T01:51:58.501891",
     "exception": false,
     "start_time": "2024-01-23T01:51:58.484736",
     "status": "completed"
    },
    "tags": []
   },
   "outputs": [],
   "source": [
    "y_valid_preds = logistic_model.predict_proba(X_valid)[:, 1]"
   ]
  },
  {
   "cell_type": "code",
   "execution_count": 24,
   "id": "108dc4f0",
   "metadata": {
    "execution": {
     "iopub.execute_input": "2024-01-23T01:51:58.517421Z",
     "iopub.status.busy": "2024-01-23T01:51:58.517052Z",
     "iopub.status.idle": "2024-01-23T01:51:58.542586Z",
     "shell.execute_reply": "2024-01-23T01:51:58.541273Z"
    },
    "papermill": {
     "duration": 0.035662,
     "end_time": "2024-01-23T01:51:58.544578",
     "exception": false,
     "start_time": "2024-01-23T01:51:58.508916",
     "status": "completed"
    },
    "tags": []
   },
   "outputs": [
    {
     "name": "stdout",
     "output_type": "stream",
     "text": [
      "검증 데이터 ROC AUC : 0.7849\n"
     ]
    }
   ],
   "source": [
    "from sklearn.metrics import roc_auc_score # ROC AUC 점수 계산 함수\n",
    "\n",
    "# 검증 데이터 ROC AUC\n",
    "roc_auc = roc_auc_score(y_valid, y_valid_preds)\n",
    "\n",
    "print(f'검증 데이터 ROC AUC : {roc_auc:.4f}')"
   ]
  },
  {
   "cell_type": "code",
   "execution_count": 25,
   "id": "11c72d32",
   "metadata": {
    "execution": {
     "iopub.execute_input": "2024-01-23T01:51:58.561959Z",
     "iopub.status.busy": "2024-01-23T01:51:58.561550Z",
     "iopub.status.idle": "2024-01-23T01:51:59.311195Z",
     "shell.execute_reply": "2024-01-23T01:51:59.310481Z"
    },
    "papermill": {
     "duration": 0.761097,
     "end_time": "2024-01-23T01:51:59.313505",
     "exception": false,
     "start_time": "2024-01-23T01:51:58.552408",
     "status": "completed"
    },
    "tags": []
   },
   "outputs": [],
   "source": [
    "# 타깃값 1일 확률 예측\n",
    "y_preds = logistic_model.predict_proba(X_test)[:,1]\n",
    "\n",
    "# 제출 파일 생성\n",
    "submission['target'] = y_preds\n",
    "submission.to_csv('submission.csv')"
   ]
  }
 ],
 "metadata": {
  "kaggle": {
   "accelerator": "none",
   "dataSources": [
    {
     "databundleVersionId": 895292,
     "sourceId": 17000,
     "sourceType": "competition"
    }
   ],
   "dockerImageVersionId": 30635,
   "isGpuEnabled": false,
   "isInternetEnabled": true,
   "language": "python",
   "sourceType": "notebook"
  },
  "kernelspec": {
   "display_name": "Python 3",
   "language": "python",
   "name": "python3"
  },
  "language_info": {
   "codemirror_mode": {
    "name": "ipython",
    "version": 3
   },
   "file_extension": ".py",
   "mimetype": "text/x-python",
   "name": "python",
   "nbconvert_exporter": "python",
   "pygments_lexer": "ipython3",
   "version": "3.10.12"
  },
  "papermill": {
   "default_parameters": {},
   "duration": 29.18147,
   "end_time": "2024-01-23T01:51:59.941361",
   "environment_variables": {},
   "exception": null,
   "input_path": "__notebook__.ipynb",
   "output_path": "__notebook__.ipynb",
   "parameters": {},
   "start_time": "2024-01-23T01:51:30.759891",
   "version": "2.4.0"
  }
 },
 "nbformat": 4,
 "nbformat_minor": 5
}
