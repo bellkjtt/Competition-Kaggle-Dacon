{
 "cells": [
  {
   "cell_type": "markdown",
   "id": "84e96d37",
   "metadata": {
    "papermill": {
     "duration": 0.02825,
     "end_time": "2024-01-29T10:30:44.947803",
     "exception": false,
     "start_time": "2024-01-29T10:30:44.919553",
     "status": "completed"
    },
    "tags": []
   },
   "source": [
    "# 11.3 항공 사진 내 선인장 식별 경진대회 베이스라인 모델\n",
    "- [항공 사진 내 선인장 식별 경진대회 링크](https://www.kaggle.com/c/aerial-cactus-identification)\n",
    "- [베이스라인 코드 참고 링크](https://www.kaggle.com/bonhart/simple-cnn-on-pytorch-for-beginers)"
   ]
  },
  {
   "cell_type": "markdown",
   "id": "6148f891",
   "metadata": {
    "papermill": {
     "duration": 0.026272,
     "end_time": "2024-01-29T10:30:45.000949",
     "exception": false,
     "start_time": "2024-01-29T10:30:44.974677",
     "status": "completed"
    },
    "tags": []
   },
   "source": [
    "## 11.3.1 시드 값 고정 및 GPU 장비 설정"
   ]
  },
  {
   "cell_type": "markdown",
   "id": "68617f4b",
   "metadata": {
    "papermill": {
     "duration": 0.026418,
     "end_time": "2024-01-29T10:30:45.053745",
     "exception": false,
     "start_time": "2024-01-29T10:30:45.027327",
     "status": "completed"
    },
    "tags": []
   },
   "source": [
    "### 시드 값 고정"
   ]
  },
  {
   "cell_type": "code",
   "execution_count": 1,
   "id": "b38c979d",
   "metadata": {
    "execution": {
     "iopub.execute_input": "2024-01-29T10:30:45.190014Z",
     "iopub.status.busy": "2024-01-29T10:30:45.185074Z",
     "iopub.status.idle": "2024-01-29T10:30:49.662190Z",
     "shell.execute_reply": "2024-01-29T10:30:49.662731Z"
    },
    "papermill": {
     "duration": 4.58116,
     "end_time": "2024-01-29T10:30:49.663026",
     "exception": false,
     "start_time": "2024-01-29T10:30:45.081866",
     "status": "completed"
    },
    "tags": []
   },
   "outputs": [],
   "source": [
    "import torch # 파이토치 \n",
    "import random\n",
    "import numpy as np\n",
    "import os\n",
    "\n",
    "# 시드값 고정\n",
    "seed = 50\n",
    "os.environ['PYTHONHASHSEED'] = str(seed)\n",
    "random.seed(seed)                # 파이썬 난수 생성기 시드 고정\n",
    "np.random.seed(seed)             # 넘파이 난수 생성기 시드 고정\n",
    "torch.manual_seed(seed)          # 파이토치 난수 생성기 시드 고정 (CPU 사용 시)\n",
    "torch.cuda.manual_seed(seed)     # 파이토치 난수 생성기 시드 고정 (GPU 사용 시)\n",
    "torch.cuda.manual_seed_all(seed) # 파이토치 난수 생성기 시드 고정 (멀티GPU 사용 시)\n",
    "torch.backends.cudnn.deterministic = True # 확정적 연산 사용\n",
    "torch.backends.cudnn.benchmark = False    # 벤치마크 기능 해제\n",
    "torch.backends.cudnn.enabled = False      # cudnn 사용 해제"
   ]
  },
  {
   "cell_type": "markdown",
   "id": "a05cdde6",
   "metadata": {
    "papermill": {
     "duration": 0.026313,
     "end_time": "2024-01-29T10:30:49.716273",
     "exception": false,
     "start_time": "2024-01-29T10:30:49.689960",
     "status": "completed"
    },
    "tags": []
   },
   "source": [
    "### GPU 장비 설정"
   ]
  },
  {
   "cell_type": "code",
   "execution_count": 2,
   "id": "798aaa33",
   "metadata": {
    "execution": {
     "iopub.execute_input": "2024-01-29T10:30:49.817263Z",
     "iopub.status.busy": "2024-01-29T10:30:49.815372Z",
     "iopub.status.idle": "2024-01-29T10:30:49.819303Z",
     "shell.execute_reply": "2024-01-29T10:30:49.819763Z"
    },
    "papermill": {
     "duration": 0.077321,
     "end_time": "2024-01-29T10:30:49.819915",
     "exception": false,
     "start_time": "2024-01-29T10:30:49.742594",
     "status": "completed"
    },
    "tags": []
   },
   "outputs": [],
   "source": [
    "if torch.cuda.is_available():\n",
    "    device = torch.device('cuda')\n",
    "else:\n",
    "    device = torch.device('cpu')"
   ]
  },
  {
   "cell_type": "code",
   "execution_count": 3,
   "id": "27bbc7ce",
   "metadata": {
    "execution": {
     "iopub.execute_input": "2024-01-29T10:30:49.879589Z",
     "iopub.status.busy": "2024-01-29T10:30:49.878767Z",
     "iopub.status.idle": "2024-01-29T10:30:49.882050Z",
     "shell.execute_reply": "2024-01-29T10:30:49.882512Z"
    },
    "papermill": {
     "duration": 0.036336,
     "end_time": "2024-01-29T10:30:49.882661",
     "exception": false,
     "start_time": "2024-01-29T10:30:49.846325",
     "status": "completed"
    },
    "tags": []
   },
   "outputs": [
    {
     "data": {
      "text/plain": [
       "device(type='cuda')"
      ]
     },
     "execution_count": 3,
     "metadata": {},
     "output_type": "execute_result"
    }
   ],
   "source": [
    "device"
   ]
  },
  {
   "cell_type": "markdown",
   "id": "ebed81f4",
   "metadata": {
    "papermill": {
     "duration": 0.026757,
     "end_time": "2024-01-29T10:30:49.936914",
     "exception": false,
     "start_time": "2024-01-29T10:30:49.910157",
     "status": "completed"
    },
    "tags": []
   },
   "source": [
    "## 11.3.2 데이터 준비"
   ]
  },
  {
   "cell_type": "code",
   "execution_count": 4,
   "id": "7fef9341",
   "metadata": {
    "execution": {
     "iopub.execute_input": "2024-01-29T10:30:49.996054Z",
     "iopub.status.busy": "2024-01-29T10:30:49.995430Z",
     "iopub.status.idle": "2024-01-29T10:30:50.045739Z",
     "shell.execute_reply": "2024-01-29T10:30:50.046230Z"
    },
    "papermill": {
     "duration": 0.082163,
     "end_time": "2024-01-29T10:30:50.046368",
     "exception": false,
     "start_time": "2024-01-29T10:30:49.964205",
     "status": "completed"
    },
    "tags": []
   },
   "outputs": [],
   "source": [
    "import pandas as pd\n",
    "\n",
    "# 데이터 경로\n",
    "data_path = '/kaggle/input/aerial-cactus-identification/'\n",
    "\n",
    "labels = pd.read_csv(data_path + 'train.csv')\n",
    "submission = pd.read_csv(data_path + 'sample_submission.csv')"
   ]
  },
  {
   "cell_type": "code",
   "execution_count": 5,
   "id": "ee353102",
   "metadata": {
    "execution": {
     "iopub.execute_input": "2024-01-29T10:30:50.105587Z",
     "iopub.status.busy": "2024-01-29T10:30:50.104971Z",
     "iopub.status.idle": "2024-01-29T10:30:53.106407Z",
     "shell.execute_reply": "2024-01-29T10:30:53.106946Z"
    },
    "papermill": {
     "duration": 3.033342,
     "end_time": "2024-01-29T10:30:53.107119",
     "exception": false,
     "start_time": "2024-01-29T10:30:50.073777",
     "status": "completed"
    },
    "tags": []
   },
   "outputs": [],
   "source": [
    "from zipfile import ZipFile\n",
    "\n",
    "# 훈련 이미지 데이터 압축 풀기\n",
    "with ZipFile(data_path + 'train.zip') as zipper:\n",
    "    zipper.extractall()\n",
    "    \n",
    "# 테스트 이미지 데이터 압 풀기\n",
    "with ZipFile(data_path + 'test.zip') as zipper:\n",
    "    zipper.extractall()"
   ]
  },
  {
   "cell_type": "markdown",
   "id": "e62abc32",
   "metadata": {
    "papermill": {
     "duration": 0.027092,
     "end_time": "2024-01-29T10:30:53.161822",
     "exception": false,
     "start_time": "2024-01-29T10:30:53.134730",
     "status": "completed"
    },
    "tags": []
   },
   "source": [
    "### 훈련 데이터, 검증 데이터 분리"
   ]
  },
  {
   "cell_type": "code",
   "execution_count": 6,
   "id": "2bd59fe7",
   "metadata": {
    "_uuid": "c07eab67e573c7de05e11065b5bafc1bbff284fb",
    "execution": {
     "iopub.execute_input": "2024-01-29T10:30:53.222123Z",
     "iopub.status.busy": "2024-01-29T10:30:53.221453Z",
     "iopub.status.idle": "2024-01-29T10:30:54.039978Z",
     "shell.execute_reply": "2024-01-29T10:30:54.039391Z"
    },
    "papermill": {
     "duration": 0.851064,
     "end_time": "2024-01-29T10:30:54.040111",
     "exception": false,
     "start_time": "2024-01-29T10:30:53.189047",
     "status": "completed"
    },
    "tags": []
   },
   "outputs": [],
   "source": [
    "from sklearn.model_selection import train_test_split\n",
    "\n",
    "# 훈련 데이터, 검증 데이터 분리\n",
    "train, valid = train_test_split(labels, \n",
    "                                test_size=0.1,\n",
    "                                stratify=labels['has_cactus'],\n",
    "                                random_state=50)"
   ]
  },
  {
   "cell_type": "code",
   "execution_count": 7,
   "id": "60a1c917",
   "metadata": {
    "execution": {
     "iopub.execute_input": "2024-01-29T10:30:54.099992Z",
     "iopub.status.busy": "2024-01-29T10:30:54.099259Z",
     "iopub.status.idle": "2024-01-29T10:30:54.103495Z",
     "shell.execute_reply": "2024-01-29T10:30:54.103006Z"
    },
    "papermill": {
     "duration": 0.03551,
     "end_time": "2024-01-29T10:30:54.103625",
     "exception": false,
     "start_time": "2024-01-29T10:30:54.068115",
     "status": "completed"
    },
    "tags": []
   },
   "outputs": [
    {
     "name": "stdout",
     "output_type": "stream",
     "text": [
      "훈련 데이터 개수: 15750\n",
      "검증 데이터 개수: 1750\n"
     ]
    }
   ],
   "source": [
    "print('훈련 데이터 개수:', len(train))\n",
    "print('검증 데이터 개수:', len(valid))"
   ]
  },
  {
   "cell_type": "markdown",
   "id": "d7f4320a",
   "metadata": {
    "papermill": {
     "duration": 0.027661,
     "end_time": "2024-01-29T10:30:54.159118",
     "exception": false,
     "start_time": "2024-01-29T10:30:54.131457",
     "status": "completed"
    },
    "tags": []
   },
   "source": [
    "### 데이터셋 클래스 정의"
   ]
  },
  {
   "cell_type": "code",
   "execution_count": 8,
   "id": "7fe7dcf0",
   "metadata": {
    "_uuid": "1b05af8d59d9d5b092e96f72dfebb19591416de9",
    "execution": {
     "iopub.execute_input": "2024-01-29T10:30:54.224745Z",
     "iopub.status.busy": "2024-01-29T10:30:54.223909Z",
     "iopub.status.idle": "2024-01-29T10:30:54.329942Z",
     "shell.execute_reply": "2024-01-29T10:30:54.329377Z"
    },
    "papermill": {
     "duration": 0.143159,
     "end_time": "2024-01-29T10:30:54.330064",
     "exception": false,
     "start_time": "2024-01-29T10:30:54.186905",
     "status": "completed"
    },
    "tags": []
   },
   "outputs": [],
   "source": [
    "import cv2 # OpenCV 라이브러리\n",
    "from torch.utils.data import Dataset # 데이터 생성을 위한 클래스\n",
    "\n",
    "class ImageDataset(Dataset):\n",
    "    # 초기화 메서드(생성자)\n",
    "    def __init__(self, df, img_dir='./', transform=None):\n",
    "        super().__init__() # 상속받은 Dataset의 생성자 호출\n",
    "        # 전달받은 인수들 저장\n",
    "        self.df = df\n",
    "        self.img_dir = img_dir\n",
    "        self.transform = transform\n",
    "    \n",
    "    # 데이터셋 크기 반환 메서드 \n",
    "    def __len__(self):\n",
    "        return len(self.df)\n",
    "    \n",
    "    # 인덱스(idx)에 해당하는 데이터 반환 메서드 \n",
    "    def __getitem__(self, idx):\n",
    "        img_id = self.df.iloc[idx, 0]    # 이미지 ID\n",
    "        img_path = self.img_dir + img_id # 이미지 파일 경로 \n",
    "        image = cv2.imread(img_path)     # 이미지 파일 읽기 \n",
    "        image = cv2.cvtColor(image, cv2.COLOR_BGR2RGB) # 이미지 색상 보정\n",
    "        label = self.df.iloc[idx, 1]     # 이미지 레이블(타깃값)\n",
    "\n",
    "        if self.transform is not None:\n",
    "            image = self.transform(image) # 변환기가 있다면 이미지 변환\n",
    "        return image, label"
   ]
  },
  {
   "cell_type": "markdown",
   "id": "23a07061",
   "metadata": {
    "papermill": {
     "duration": 0.027736,
     "end_time": "2024-01-29T10:30:54.386025",
     "exception": false,
     "start_time": "2024-01-29T10:30:54.358289",
     "status": "completed"
    },
    "tags": []
   },
   "source": [
    "### 데이터셋 생성"
   ]
  },
  {
   "cell_type": "code",
   "execution_count": 9,
   "id": "43fa7e97",
   "metadata": {
    "execution": {
     "iopub.execute_input": "2024-01-29T10:30:54.446181Z",
     "iopub.status.busy": "2024-01-29T10:30:54.445562Z",
     "iopub.status.idle": "2024-01-29T10:30:54.585078Z",
     "shell.execute_reply": "2024-01-29T10:30:54.584580Z"
    },
    "papermill": {
     "duration": 0.171388,
     "end_time": "2024-01-29T10:30:54.585209",
     "exception": false,
     "start_time": "2024-01-29T10:30:54.413821",
     "status": "completed"
    },
    "tags": []
   },
   "outputs": [],
   "source": [
    "from torchvision import transforms # 이미지 변환을 위한 모듈\n",
    "\n",
    "transform = transforms.ToTensor()"
   ]
  },
  {
   "cell_type": "code",
   "execution_count": 10,
   "id": "fca854f7",
   "metadata": {
    "execution": {
     "iopub.execute_input": "2024-01-29T10:30:54.646488Z",
     "iopub.status.busy": "2024-01-29T10:30:54.645911Z",
     "iopub.status.idle": "2024-01-29T10:30:54.648159Z",
     "shell.execute_reply": "2024-01-29T10:30:54.648639Z"
    },
    "papermill": {
     "duration": 0.03501,
     "end_time": "2024-01-29T10:30:54.648772",
     "exception": false,
     "start_time": "2024-01-29T10:30:54.613762",
     "status": "completed"
    },
    "tags": []
   },
   "outputs": [],
   "source": [
    "dataset_train = ImageDataset(df=train, img_dir='train/', transform=transform)\n",
    "dataset_valid = ImageDataset(df=valid, img_dir='train/', transform=transform)"
   ]
  },
  {
   "cell_type": "markdown",
   "id": "3968fc65",
   "metadata": {
    "papermill": {
     "duration": 0.028535,
     "end_time": "2024-01-29T10:30:54.705673",
     "exception": false,
     "start_time": "2024-01-29T10:30:54.677138",
     "status": "completed"
    },
    "tags": []
   },
   "source": [
    "### 데이터 로더 생성"
   ]
  },
  {
   "cell_type": "code",
   "execution_count": 11,
   "id": "91ccacb8",
   "metadata": {
    "_uuid": "c247391c28497ad35c72f5218398ea71f2d0d5ff",
    "execution": {
     "iopub.execute_input": "2024-01-29T10:30:54.767398Z",
     "iopub.status.busy": "2024-01-29T10:30:54.766812Z",
     "iopub.status.idle": "2024-01-29T10:30:54.769065Z",
     "shell.execute_reply": "2024-01-29T10:30:54.769542Z"
    },
    "papermill": {
     "duration": 0.035435,
     "end_time": "2024-01-29T10:30:54.769671",
     "exception": false,
     "start_time": "2024-01-29T10:30:54.734236",
     "status": "completed"
    },
    "tags": []
   },
   "outputs": [],
   "source": [
    "from torch.utils.data import DataLoader # 데이터 로더 클래스\n",
    "\n",
    "loader_train = DataLoader(dataset=dataset_train, batch_size=32, shuffle=True)\n",
    "loader_valid = DataLoader(dataset=dataset_valid, batch_size=32, shuffle=False)"
   ]
  },
  {
   "cell_type": "markdown",
   "id": "41b4e9fc",
   "metadata": {
    "papermill": {
     "duration": 0.02837,
     "end_time": "2024-01-29T10:30:54.826792",
     "exception": false,
     "start_time": "2024-01-29T10:30:54.798422",
     "status": "completed"
    },
    "tags": []
   },
   "source": [
    "## 11.3.3 모델 생성"
   ]
  },
  {
   "cell_type": "code",
   "execution_count": 12,
   "id": "c5155d30",
   "metadata": {
    "_uuid": "0a2d5600bc2eb915ec0bdf5b52ba11e25096f7d0",
    "execution": {
     "iopub.execute_input": "2024-01-29T10:30:54.892867Z",
     "iopub.status.busy": "2024-01-29T10:30:54.890956Z",
     "iopub.status.idle": "2024-01-29T10:30:54.895583Z",
     "shell.execute_reply": "2024-01-29T10:30:54.894994Z"
    },
    "papermill": {
     "duration": 0.040324,
     "end_time": "2024-01-29T10:30:54.895694",
     "exception": false,
     "start_time": "2024-01-29T10:30:54.855370",
     "status": "completed"
    },
    "tags": []
   },
   "outputs": [],
   "source": [
    "import torch.nn as nn # 신경망 모듈\n",
    "import torch.nn.functional as F # 신경망 모듈에서 자주 사용되는 함수\n",
    "\n",
    "class Model(nn.Module):\n",
    "    # 신경망 계층 정의 \n",
    "    def __init__(self):\n",
    "        super().__init__() # 상속받은 nn.Module의 __init__() 메서드 호출\n",
    "        \n",
    "        # 첫 번째 합성곱 계층 \n",
    "        self.conv1 = nn.Conv2d(in_channels=3, out_channels=32, \n",
    "                               kernel_size=3, padding=2) \n",
    "        # 두 번째 합성곱 계층 \n",
    "        self.conv2 = nn.Conv2d(in_channels=32, out_channels=64, \n",
    "                               kernel_size=3, padding=2) \n",
    "        # 최대 풀링 계층 \n",
    "        self.max_pool = nn.MaxPool2d(kernel_size=2) \n",
    "        # 평균 풀링 계층 \n",
    "        self.avg_pool = nn.AvgPool2d(kernel_size=2) \n",
    "        # 전결합 계층 \n",
    "        self.fc = nn.Linear(in_features=64 * 4 * 4, out_features=2)\n",
    "        \n",
    "    # 순전파 출력 정의 \n",
    "    def forward(self, x):\n",
    "        x = self.max_pool(F.relu(self.conv1(x)))\n",
    "        x = self.max_pool(F.relu(self.conv2(x)))\n",
    "        x = self.avg_pool(x)\n",
    "        x = x.view(-1, 64 * 4 * 4) # 평탄화\n",
    "        x = self.fc(x)\n",
    "        return x"
   ]
  },
  {
   "cell_type": "code",
   "execution_count": 13,
   "id": "427fd97b",
   "metadata": {
    "execution": {
     "iopub.execute_input": "2024-01-29T10:30:54.958740Z",
     "iopub.status.busy": "2024-01-29T10:30:54.958092Z",
     "iopub.status.idle": "2024-01-29T10:30:54.960971Z",
     "shell.execute_reply": "2024-01-29T10:30:54.960367Z"
    },
    "papermill": {
     "duration": 0.036357,
     "end_time": "2024-01-29T10:30:54.961107",
     "exception": false,
     "start_time": "2024-01-29T10:30:54.924750",
     "status": "completed"
    },
    "tags": []
   },
   "outputs": [],
   "source": [
    "# class Model(nn.Module):\n",
    "#     def __init__(self):\n",
    "#         super().__init__() \n",
    "#         # 첫 번째 합성곱, 최대 풀링 계층\n",
    "#         self.layer1 = nn.Sequential(nn.Conv2d(in_channels=3, \n",
    "#                                               out_channels=32, \n",
    "#                                               kernel_size=3, \n",
    "#                                               padding=2),\n",
    "#                                     nn.ReLU(),\n",
    "#                                     nn.MaxPool2d(kernel_size=2))\n",
    "#         # 두 번째 합성곱, 최대 풀링 계층\n",
    "#         self.layer2 = nn.Sequential(nn.Conv2d(in_channels=32, \n",
    "#                                               out_channels=64, \n",
    "#                                               kernel_size=3, \n",
    "#                                               padding=2),\n",
    "#                                     nn.ReLU(),\n",
    "#                                     nn.MaxPool2d(kernel_size=2))\n",
    "#         # 평균 풀링 계층\n",
    "#         self.avg_pool = nn.AvgPool2d(kernel_size=2) \n",
    "#         # 전결합 계층\n",
    "#         self.fc = nn.Linear(in_features=64 * 4 * 4, out_features=2)\n",
    "        \n",
    "#     # 순전파 출력 정의\n",
    "#     def forward(self, x):\n",
    "#         x = self.layer1(x)\n",
    "#         x = self.layer2(x)\n",
    "#         x = self.avg_pool(x)\n",
    "#         x = x.view(-1, 64 * 4 * 4) # 평탄화\n",
    "#         x = self.fc(x)\n",
    "#         return x"
   ]
  },
  {
   "cell_type": "code",
   "execution_count": 14,
   "id": "0729bac2",
   "metadata": {
    "_cell_guid": "79c7e3d0-c299-4dcb-8224-4455121ee9b0",
    "_uuid": "d629ff2d2480ee46fbb7e2d37f6b5fab8052498a",
    "execution": {
     "iopub.execute_input": "2024-01-29T10:30:55.035317Z",
     "iopub.status.busy": "2024-01-29T10:30:55.034532Z",
     "iopub.status.idle": "2024-01-29T10:31:00.345414Z",
     "shell.execute_reply": "2024-01-29T10:31:00.344750Z"
    },
    "papermill": {
     "duration": 5.351192,
     "end_time": "2024-01-29T10:31:00.345627",
     "exception": false,
     "start_time": "2024-01-29T10:30:54.994435",
     "status": "completed"
    },
    "tags": []
   },
   "outputs": [
    {
     "data": {
      "text/plain": [
       "Model(\n",
       "  (conv1): Conv2d(3, 32, kernel_size=(3, 3), stride=(1, 1), padding=(2, 2))\n",
       "  (conv2): Conv2d(32, 64, kernel_size=(3, 3), stride=(1, 1), padding=(2, 2))\n",
       "  (max_pool): MaxPool2d(kernel_size=2, stride=2, padding=0, dilation=1, ceil_mode=False)\n",
       "  (avg_pool): AvgPool2d(kernel_size=2, stride=2, padding=0)\n",
       "  (fc): Linear(in_features=1024, out_features=2, bias=True)\n",
       ")"
      ]
     },
     "execution_count": 14,
     "metadata": {},
     "output_type": "execute_result"
    }
   ],
   "source": [
    "model = Model().to(device)\n",
    "\n",
    "model"
   ]
  },
  {
   "cell_type": "markdown",
   "id": "41651290",
   "metadata": {
    "papermill": {
     "duration": 0.029766,
     "end_time": "2024-01-29T10:31:00.410832",
     "exception": false,
     "start_time": "2024-01-29T10:31:00.381066",
     "status": "completed"
    },
    "tags": []
   },
   "source": [
    "## 11.3.4 모델 훈련"
   ]
  },
  {
   "cell_type": "markdown",
   "id": "34aab14f",
   "metadata": {
    "papermill": {
     "duration": 0.033332,
     "end_time": "2024-01-29T10:31:00.479492",
     "exception": false,
     "start_time": "2024-01-29T10:31:00.446160",
     "status": "completed"
    },
    "tags": []
   },
   "source": [
    "### 손실 함수 설정"
   ]
  },
  {
   "cell_type": "code",
   "execution_count": 15,
   "id": "1b01c7f9",
   "metadata": {
    "execution": {
     "iopub.execute_input": "2024-01-29T10:31:00.543535Z",
     "iopub.status.busy": "2024-01-29T10:31:00.542690Z",
     "iopub.status.idle": "2024-01-29T10:31:00.545385Z",
     "shell.execute_reply": "2024-01-29T10:31:00.544792Z"
    },
    "papermill": {
     "duration": 0.036433,
     "end_time": "2024-01-29T10:31:00.545500",
     "exception": false,
     "start_time": "2024-01-29T10:31:00.509067",
     "status": "completed"
    },
    "tags": []
   },
   "outputs": [],
   "source": [
    "# 손실함수\n",
    "criterion = nn.CrossEntropyLoss()"
   ]
  },
  {
   "cell_type": "markdown",
   "id": "21e9e0b3",
   "metadata": {
    "papermill": {
     "duration": 0.029188,
     "end_time": "2024-01-29T10:31:00.604963",
     "exception": false,
     "start_time": "2024-01-29T10:31:00.575775",
     "status": "completed"
    },
    "tags": []
   },
   "source": [
    "### 옵티마이저 설정"
   ]
  },
  {
   "cell_type": "code",
   "execution_count": 16,
   "id": "56938142",
   "metadata": {
    "_uuid": "fceb2929d8750acb2de745cd9ff3d2d458820df8",
    "execution": {
     "iopub.execute_input": "2024-01-29T10:31:00.669765Z",
     "iopub.status.busy": "2024-01-29T10:31:00.669147Z",
     "iopub.status.idle": "2024-01-29T10:31:00.671894Z",
     "shell.execute_reply": "2024-01-29T10:31:00.671307Z"
    },
    "papermill": {
     "duration": 0.037195,
     "end_time": "2024-01-29T10:31:00.672014",
     "exception": false,
     "start_time": "2024-01-29T10:31:00.634819",
     "status": "completed"
    },
    "tags": []
   },
   "outputs": [],
   "source": [
    "# 옵티마이저\n",
    "optimizer = torch.optim.SGD(model.parameters(), lr=0.01)"
   ]
  },
  {
   "cell_type": "markdown",
   "id": "6de2f27f",
   "metadata": {
    "papermill": {
     "duration": 0.029689,
     "end_time": "2024-01-29T10:31:00.731605",
     "exception": false,
     "start_time": "2024-01-29T10:31:00.701916",
     "status": "completed"
    },
    "tags": []
   },
   "source": [
    "### 모델 훈련"
   ]
  },
  {
   "cell_type": "code",
   "execution_count": 17,
   "id": "33ff8220",
   "metadata": {
    "execution": {
     "iopub.execute_input": "2024-01-29T10:31:00.797102Z",
     "iopub.status.busy": "2024-01-29T10:31:00.796272Z",
     "iopub.status.idle": "2024-01-29T10:31:00.799924Z",
     "shell.execute_reply": "2024-01-29T10:31:00.799424Z"
    },
    "papermill": {
     "duration": 0.038649,
     "end_time": "2024-01-29T10:31:00.800044",
     "exception": false,
     "start_time": "2024-01-29T10:31:00.761395",
     "status": "completed"
    },
    "tags": []
   },
   "outputs": [
    {
     "data": {
      "text/plain": [
       "493"
      ]
     },
     "execution_count": 17,
     "metadata": {},
     "output_type": "execute_result"
    }
   ],
   "source": [
    "import math\n",
    "\n",
    "math.ceil(len(train) / 32)"
   ]
  },
  {
   "cell_type": "code",
   "execution_count": 18,
   "id": "ff7fadf2",
   "metadata": {
    "execution": {
     "iopub.execute_input": "2024-01-29T10:31:00.865564Z",
     "iopub.status.busy": "2024-01-29T10:31:00.864739Z",
     "iopub.status.idle": "2024-01-29T10:31:00.868325Z",
     "shell.execute_reply": "2024-01-29T10:31:00.867836Z"
    },
    "papermill": {
     "duration": 0.038141,
     "end_time": "2024-01-29T10:31:00.868436",
     "exception": false,
     "start_time": "2024-01-29T10:31:00.830295",
     "status": "completed"
    },
    "tags": []
   },
   "outputs": [
    {
     "data": {
      "text/plain": [
       "493"
      ]
     },
     "execution_count": 18,
     "metadata": {},
     "output_type": "execute_result"
    }
   ],
   "source": [
    "len(loader_train)"
   ]
  },
  {
   "cell_type": "code",
   "execution_count": 19,
   "id": "f9c3bb25",
   "metadata": {
    "_uuid": "2c37417ae6b62ab4551bc8a888916ca1e591d284",
    "execution": {
     "iopub.execute_input": "2024-01-29T10:31:00.939324Z",
     "iopub.status.busy": "2024-01-29T10:31:00.938420Z",
     "iopub.status.idle": "2024-01-29T10:31:58.675812Z",
     "shell.execute_reply": "2024-01-29T10:31:58.676365Z"
    },
    "papermill": {
     "duration": 57.777372,
     "end_time": "2024-01-29T10:31:58.676583",
     "exception": false,
     "start_time": "2024-01-29T10:31:00.899211",
     "status": "completed"
    },
    "tags": []
   },
   "outputs": [
    {
     "name": "stdout",
     "output_type": "stream",
     "text": [
      "에폭 [1/10] - 손실값: 0.5240\n",
      "에폭 [2/10] - 손실값: 0.3407\n",
      "에폭 [3/10] - 손실값: 0.2444\n",
      "에폭 [4/10] - 손실값: 0.1975\n",
      "에폭 [5/10] - 손실값: 0.1747\n",
      "에폭 [6/10] - 손실값: 0.1637\n",
      "에폭 [7/10] - 손실값: 0.1515\n",
      "에폭 [8/10] - 손실값: 0.1430\n",
      "에폭 [9/10] - 손실값: 0.1353\n",
      "에폭 [10/10] - 손실값: 0.1287\n"
     ]
    }
   ],
   "source": [
    "epochs = 10 # 총 에폭\n",
    "# 총 에폭만큼 반복\n",
    "for epoch in range(epochs):\n",
    "    epoch_loss = 0 # 에폭별 손실값 초기화\n",
    "    \n",
    "    # '반복 횟수'만큼 반복 \n",
    "    for images, labels in loader_train:\n",
    "        # 이미지, 레이블 데이터 미니배치를 장비에 할당 \n",
    "        images = images.to(device)\n",
    "        labels = labels.to(device)\n",
    "        \n",
    "        # 옵티마이저 내 기울기 초기화\n",
    "        optimizer.zero_grad()\n",
    "        # 순전파 : 이미지 데이터를 신경망 모델의 입력값으로 사용해 출력값 계산\n",
    "        outputs = model(images)\n",
    "        # 손실 함수를 활용해 outputs와 labels의 손실값 계산\n",
    "        loss = criterion(outputs, labels)\n",
    "        # 현재 배치에서의 손실 추가\n",
    "        epoch_loss += loss.item() \n",
    "        # 역전파 수행\n",
    "        loss.backward()\n",
    "        # 가중치 갱신\n",
    "        optimizer.step()\n",
    "        \n",
    "    # 훈련 데이터 손실값 출력\n",
    "    print(f'에폭 [{epoch+1}/{epochs}] - 손실값: {epoch_loss/len(loader_train):.4f}')"
   ]
  },
  {
   "cell_type": "markdown",
   "id": "3d58590e",
   "metadata": {
    "papermill": {
     "duration": 0.03414,
     "end_time": "2024-01-29T10:31:58.745341",
     "exception": false,
     "start_time": "2024-01-29T10:31:58.711201",
     "status": "completed"
    },
    "tags": []
   },
   "source": [
    "## 11.3.5 성능 검증"
   ]
  },
  {
   "cell_type": "code",
   "execution_count": 20,
   "id": "88182d97",
   "metadata": {
    "execution": {
     "iopub.execute_input": "2024-01-29T10:31:58.817331Z",
     "iopub.status.busy": "2024-01-29T10:31:58.816489Z",
     "iopub.status.idle": "2024-01-29T10:31:58.818644Z",
     "shell.execute_reply": "2024-01-29T10:31:58.819085Z"
    },
    "papermill": {
     "duration": 0.04011,
     "end_time": "2024-01-29T10:31:58.819227",
     "exception": false,
     "start_time": "2024-01-29T10:31:58.779117",
     "status": "completed"
    },
    "tags": []
   },
   "outputs": [],
   "source": [
    "from sklearn.metrics import roc_auc_score # ROC AUC 점수 계산 함수 임포트\n",
    "\n",
    "# 실제값과 예측 확률값을 담을 리스트 초기화\n",
    "true_list = []\n",
    "preds_list = []"
   ]
  },
  {
   "cell_type": "code",
   "execution_count": 21,
   "id": "277070f2",
   "metadata": {
    "execution": {
     "iopub.execute_input": "2024-01-29T10:31:58.893817Z",
     "iopub.status.busy": "2024-01-29T10:31:58.892900Z",
     "iopub.status.idle": "2024-01-29T10:31:59.489928Z",
     "shell.execute_reply": "2024-01-29T10:31:59.489360Z"
    },
    "papermill": {
     "duration": 0.636962,
     "end_time": "2024-01-29T10:31:59.490064",
     "exception": false,
     "start_time": "2024-01-29T10:31:58.853102",
     "status": "completed"
    },
    "tags": []
   },
   "outputs": [
    {
     "name": "stdout",
     "output_type": "stream",
     "text": [
      "검증 데이터 ROC AUC : 0.9900\n"
     ]
    }
   ],
   "source": [
    "model.eval() # 모델을 평가 상태로 설정 \n",
    "\n",
    "with torch.no_grad(): # 기울기 계산 비활성화\n",
    "    for images, labels in loader_valid:\n",
    "        # 이미지, 레이블 데이터 미니배치를 장비에 할당 \n",
    "        images = images.to(device)\n",
    "        labels = labels.to(device) \n",
    "        \n",
    "        # 순전파 : 이미지 데이터를 신경망 모델의 입력값으로 사용해 출력값 계산\n",
    "        outputs = model(images)\n",
    "        preds = torch.softmax(outputs.cpu(), dim=1)[:, 1] # 예측 확률  \n",
    "        true = labels.cpu() # 실제값 \n",
    "        # 예측 확률과 실제값을 리스트에 추가\n",
    "        preds_list.extend(preds)\n",
    "        true_list.extend(true)\n",
    "        \n",
    "# 검증 데이터 ROC AUC 점수 계산\n",
    "print(f'검증 데이터 ROC AUC : {roc_auc_score(true_list, preds_list):.4f}')"
   ]
  },
  {
   "cell_type": "markdown",
   "id": "bfb6d288",
   "metadata": {
    "papermill": {
     "duration": 0.034351,
     "end_time": "2024-01-29T10:31:59.559274",
     "exception": false,
     "start_time": "2024-01-29T10:31:59.524923",
     "status": "completed"
    },
    "tags": []
   },
   "source": [
    "## 11.3.6 예측 및 결과 제출"
   ]
  },
  {
   "cell_type": "code",
   "execution_count": 22,
   "id": "504fce3e",
   "metadata": {
    "_uuid": "870413a60281e0c4115fbc7cf192508e15a9e269",
    "execution": {
     "iopub.execute_input": "2024-01-29T10:31:59.633401Z",
     "iopub.status.busy": "2024-01-29T10:31:59.632737Z",
     "iopub.status.idle": "2024-01-29T10:31:59.634849Z",
     "shell.execute_reply": "2024-01-29T10:31:59.635286Z"
    },
    "papermill": {
     "duration": 0.041639,
     "end_time": "2024-01-29T10:31:59.635439",
     "exception": false,
     "start_time": "2024-01-29T10:31:59.593800",
     "status": "completed"
    },
    "tags": []
   },
   "outputs": [],
   "source": [
    "dataset_test = ImageDataset(df=submission, img_dir='test/', transform=transform)\n",
    "loader_test = DataLoader(dataset=dataset_test, batch_size=32, shuffle=False)"
   ]
  },
  {
   "cell_type": "markdown",
   "id": "92255bb9",
   "metadata": {
    "papermill": {
     "duration": 0.03456,
     "end_time": "2024-01-29T10:31:59.704562",
     "exception": false,
     "start_time": "2024-01-29T10:31:59.670002",
     "status": "completed"
    },
    "tags": []
   },
   "source": [
    "### 예측"
   ]
  },
  {
   "cell_type": "code",
   "execution_count": 23,
   "id": "aa7640f8",
   "metadata": {
    "execution": {
     "iopub.execute_input": "2024-01-29T10:31:59.780003Z",
     "iopub.status.busy": "2024-01-29T10:31:59.779371Z",
     "iopub.status.idle": "2024-01-29T10:32:01.014668Z",
     "shell.execute_reply": "2024-01-29T10:32:01.014083Z"
    },
    "papermill": {
     "duration": 1.275752,
     "end_time": "2024-01-29T10:32:01.014822",
     "exception": false,
     "start_time": "2024-01-29T10:31:59.739070",
     "status": "completed"
    },
    "tags": []
   },
   "outputs": [],
   "source": [
    "model.eval() # 모델을 평가 상태로 설정\n",
    "\n",
    "preds = [] # 타깃 예측값 저장용 리스트 초기화\n",
    "\n",
    "with torch.no_grad(): # 기울기 계산 비활성화\n",
    "    for images, _ in loader_test:\n",
    "        # 이미지 데이터 미니배치를 장비에 할당\n",
    "        images = images.to(device)\n",
    "        \n",
    "        # 순전파 : 이미지 데이터를 신경망 모델의 입력값으로 사용해 출력값 계산\n",
    "        outputs = model(images)\n",
    "        # 타깃값이 1일 확률(예측값)\n",
    "        preds_part = torch.softmax(outputs.cpu(), dim=1)[:, 1].tolist()\n",
    "        # preds에 preds_part 이어붙이기\n",
    "        preds.extend(preds_part)"
   ]
  },
  {
   "cell_type": "markdown",
   "id": "26bf9a41",
   "metadata": {
    "papermill": {
     "duration": 0.034447,
     "end_time": "2024-01-29T10:32:01.084636",
     "exception": false,
     "start_time": "2024-01-29T10:32:01.050189",
     "status": "completed"
    },
    "tags": []
   },
   "source": [
    "### 결과 제출"
   ]
  },
  {
   "cell_type": "code",
   "execution_count": 24,
   "id": "5466b682",
   "metadata": {
    "execution": {
     "iopub.execute_input": "2024-01-29T10:32:01.160374Z",
     "iopub.status.busy": "2024-01-29T10:32:01.159791Z",
     "iopub.status.idle": "2024-01-29T10:32:01.181737Z",
     "shell.execute_reply": "2024-01-29T10:32:01.182173Z"
    },
    "papermill": {
     "duration": 0.063025,
     "end_time": "2024-01-29T10:32:01.182313",
     "exception": false,
     "start_time": "2024-01-29T10:32:01.119288",
     "status": "completed"
    },
    "tags": []
   },
   "outputs": [],
   "source": [
    "submission['has_cactus'] = preds\n",
    "submission.to_csv('submission.csv', index=False)"
   ]
  },
  {
   "cell_type": "code",
   "execution_count": 25,
   "id": "04877f87",
   "metadata": {
    "execution": {
     "iopub.execute_input": "2024-01-29T10:32:01.256227Z",
     "iopub.status.busy": "2024-01-29T10:32:01.255628Z",
     "iopub.status.idle": "2024-01-29T10:32:01.882482Z",
     "shell.execute_reply": "2024-01-29T10:32:01.881897Z"
    },
    "papermill": {
     "duration": 0.665262,
     "end_time": "2024-01-29T10:32:01.882665",
     "exception": false,
     "start_time": "2024-01-29T10:32:01.217403",
     "status": "completed"
    },
    "tags": []
   },
   "outputs": [],
   "source": [
    "import shutil\n",
    "\n",
    "shutil.rmtree('./train')\n",
    "shutil.rmtree('./test')"
   ]
  }
 ],
 "metadata": {
  "kaggle": {
   "accelerator": "gpu",
   "dataSources": [
    {
     "databundleVersionId": 331452,
     "sourceId": 13435,
     "sourceType": "competition"
    }
   ],
   "dockerImageVersionId": 30124,
   "isGpuEnabled": true,
   "isInternetEnabled": true,
   "language": "python",
   "sourceType": "notebook"
  },
  "kernelspec": {
   "display_name": "Python 3",
   "language": "python",
   "name": "python3"
  },
  "language_info": {
   "codemirror_mode": {
    "name": "ipython",
    "version": 3
   },
   "file_extension": ".py",
   "mimetype": "text/x-python",
   "name": "python",
   "nbconvert_exporter": "python",
   "pygments_lexer": "ipython3",
   "version": "3.7.10"
  },
  "papermill": {
   "default_parameters": {},
   "duration": 85.632391,
   "end_time": "2024-01-29T10:32:03.461190",
   "environment_variables": {},
   "exception": null,
   "input_path": "__notebook__.ipynb",
   "output_path": "__notebook__.ipynb",
   "parameters": {},
   "start_time": "2024-01-29T10:30:37.828799",
   "version": "2.3.3"
  }
 },
 "nbformat": 4,
 "nbformat_minor": 5
}
