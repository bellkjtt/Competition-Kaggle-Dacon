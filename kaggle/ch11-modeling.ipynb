{
 "cells": [
  {
   "cell_type": "markdown",
   "id": "e2352e73",
   "metadata": {
    "papermill": {
     "duration": 0.020271,
     "end_time": "2024-01-30T04:42:59.456687",
     "exception": false,
     "start_time": "2024-01-30T04:42:59.436416",
     "status": "completed"
    },
    "tags": []
   },
   "source": [
    "# 11.4 항공 사진 내 선인장 식별 경진대회 성능 개선\n",
    "- [항공 사진 내 선인장 식별 경진대회 링크](https://www.kaggle.com/c/aerial-cactus-identification)\n",
    "- [모델링 코드 참고 링크](https://www.kaggle.com/bonhart/simple-cnn-on-pytorch-for-beginers)\n"
   ]
  },
  {
   "cell_type": "code",
   "execution_count": 1,
   "id": "0779f8db",
   "metadata": {
    "execution": {
     "iopub.execute_input": "2024-01-30T04:42:59.600614Z",
     "iopub.status.busy": "2024-01-30T04:42:59.599945Z",
     "iopub.status.idle": "2024-01-30T04:43:04.138267Z",
     "shell.execute_reply": "2024-01-30T04:43:04.137535Z"
    },
    "papermill": {
     "duration": 4.661544,
     "end_time": "2024-01-30T04:43:04.138430",
     "exception": false,
     "start_time": "2024-01-30T04:42:59.476886",
     "status": "completed"
    },
    "tags": []
   },
   "outputs": [],
   "source": [
    "import torch # 파이토치 \n",
    "import random\n",
    "import numpy as np\n",
    "import os\n",
    "\n",
    "# 시드값 고정\n",
    "seed = 50\n",
    "os.environ['PYTHONHASHSEED'] = str(seed)\n",
    "random.seed(seed)\n",
    "np.random.seed(seed)\n",
    "torch.manual_seed(seed)\n",
    "torch.cuda.manual_seed(seed)\n",
    "torch.cuda.manual_seed_all(seed)\n",
    "torch.backends.cudnn.deterministic = True\n",
    "torch.backends.cudnn.benchmark = False\n",
    "torch.backends.cudnn.enabled = False"
   ]
  },
  {
   "cell_type": "code",
   "execution_count": 2,
   "id": "e40d5511",
   "metadata": {
    "execution": {
     "iopub.execute_input": "2024-01-30T04:43:04.235718Z",
     "iopub.status.busy": "2024-01-30T04:43:04.234929Z",
     "iopub.status.idle": "2024-01-30T04:43:04.237182Z",
     "shell.execute_reply": "2024-01-30T04:43:04.237652Z"
    },
    "papermill": {
     "duration": 0.080696,
     "end_time": "2024-01-30T04:43:04.237819",
     "exception": false,
     "start_time": "2024-01-30T04:43:04.157123",
     "status": "completed"
    },
    "tags": []
   },
   "outputs": [],
   "source": [
    "device = torch.device('cuda' if torch.cuda.is_available() else 'cpu')"
   ]
  },
  {
   "cell_type": "markdown",
   "id": "9653060c",
   "metadata": {
    "papermill": {
     "duration": 0.018257,
     "end_time": "2024-01-30T04:43:04.274791",
     "exception": false,
     "start_time": "2024-01-30T04:43:04.256534",
     "status": "completed"
    },
    "tags": []
   },
   "source": [
    "## 11.4.1 데이터 준비"
   ]
  },
  {
   "cell_type": "code",
   "execution_count": 3,
   "id": "55de4f34",
   "metadata": {
    "execution": {
     "iopub.execute_input": "2024-01-30T04:43:04.316500Z",
     "iopub.status.busy": "2024-01-30T04:43:04.315844Z",
     "iopub.status.idle": "2024-01-30T04:43:04.370920Z",
     "shell.execute_reply": "2024-01-30T04:43:04.370382Z"
    },
    "papermill": {
     "duration": 0.077804,
     "end_time": "2024-01-30T04:43:04.371065",
     "exception": false,
     "start_time": "2024-01-30T04:43:04.293261",
     "status": "completed"
    },
    "tags": []
   },
   "outputs": [],
   "source": [
    "import pandas as pd\n",
    "\n",
    "# 데이터 경로\n",
    "data_path = '/kaggle/input/aerial-cactus-identification/'\n",
    "\n",
    "labels = pd.read_csv(data_path + 'train.csv')\n",
    "submission = pd.read_csv(data_path + 'sample_submission.csv')"
   ]
  },
  {
   "cell_type": "code",
   "execution_count": 4,
   "id": "c3b17370",
   "metadata": {
    "execution": {
     "iopub.execute_input": "2024-01-30T04:43:04.416872Z",
     "iopub.status.busy": "2024-01-30T04:43:04.416231Z",
     "iopub.status.idle": "2024-01-30T04:43:07.449980Z",
     "shell.execute_reply": "2024-01-30T04:43:07.449386Z"
    },
    "papermill": {
     "duration": 3.057947,
     "end_time": "2024-01-30T04:43:07.450125",
     "exception": false,
     "start_time": "2024-01-30T04:43:04.392178",
     "status": "completed"
    },
    "tags": []
   },
   "outputs": [],
   "source": [
    "from zipfile import ZipFile\n",
    "\n",
    "# 훈련 이미지 데이터 압축 풀기\n",
    "with ZipFile(data_path + 'train.zip') as zipper:\n",
    "    zipper.extractall()\n",
    "    \n",
    "# 테스트 이미지 데이터 압축 풀기\n",
    "with ZipFile(data_path + 'test.zip') as zipper:\n",
    "    zipper.extractall()"
   ]
  },
  {
   "cell_type": "code",
   "execution_count": 5,
   "id": "94874f72",
   "metadata": {
    "_uuid": "c07eab67e573c7de05e11065b5bafc1bbff284fb",
    "execution": {
     "iopub.execute_input": "2024-01-30T04:43:07.493877Z",
     "iopub.status.busy": "2024-01-30T04:43:07.493153Z",
     "iopub.status.idle": "2024-01-30T04:43:08.367488Z",
     "shell.execute_reply": "2024-01-30T04:43:08.366709Z"
    },
    "papermill": {
     "duration": 0.898174,
     "end_time": "2024-01-30T04:43:08.367661",
     "exception": false,
     "start_time": "2024-01-30T04:43:07.469487",
     "status": "completed"
    },
    "tags": []
   },
   "outputs": [],
   "source": [
    "from sklearn.model_selection import train_test_split\n",
    "\n",
    "# 훈련 데이터, 검증 데이터 분리\n",
    "train, valid = train_test_split(labels, \n",
    "                                test_size=0.1,\n",
    "                                stratify=labels['has_cactus'],\n",
    "                                random_state=50)"
   ]
  },
  {
   "cell_type": "code",
   "execution_count": 6,
   "id": "7880c895",
   "metadata": {
    "_uuid": "1b05af8d59d9d5b092e96f72dfebb19591416de9",
    "execution": {
     "iopub.execute_input": "2024-01-30T04:43:08.416371Z",
     "iopub.status.busy": "2024-01-30T04:43:08.415504Z",
     "iopub.status.idle": "2024-01-30T04:43:08.541647Z",
     "shell.execute_reply": "2024-01-30T04:43:08.541151Z"
    },
    "papermill": {
     "duration": 0.154386,
     "end_time": "2024-01-30T04:43:08.541779",
     "exception": false,
     "start_time": "2024-01-30T04:43:08.387393",
     "status": "completed"
    },
    "tags": []
   },
   "outputs": [],
   "source": [
    "import cv2 # OpenCV 라이브러리\n",
    "from torch.utils.data import Dataset # 데이터 생성을 위한 클래스\n",
    "\n",
    "class ImageDataset(Dataset):\n",
    "    # 초기화 메서드(생성자)\n",
    "    def __init__(self, df, img_dir='./', transform=None):\n",
    "        super().__init__() # 상속받은 Dataset의 생성자 호출\n",
    "        # 전달받은 인수들 저장\n",
    "        self.df = df\n",
    "        self.img_dir = img_dir\n",
    "        self.transform = transform\n",
    "    \n",
    "    # 데이터셋 크기 반환 메서드 \n",
    "    def __len__(self):\n",
    "        return len(self.df)\n",
    "    \n",
    "    # 인덱스(idx)에 해당하는 데이터 반환 메서드 \n",
    "    def __getitem__(self, idx):\n",
    "        img_id = self.df.iloc[idx, 0]    # 이미지 ID\n",
    "        img_path = self.img_dir + img_id # 이미지 파일 경로 \n",
    "        image = cv2.imread(img_path)     # 이미지 파일 읽기 \n",
    "        image = cv2.cvtColor(image, cv2.COLOR_BGR2RGB) # 이미지 색상 보정\n",
    "        label = self.df.iloc[idx, 1]     # 이미지 레이블(타깃값)\n",
    "\n",
    "        if self.transform is not None:\n",
    "            image = self.transform(image) # 변환기가 있다면 이미지 변환\n",
    "        return image, label"
   ]
  },
  {
   "cell_type": "markdown",
   "id": "8b1fd0c6",
   "metadata": {
    "papermill": {
     "duration": 0.020708,
     "end_time": "2024-01-30T04:43:08.581908",
     "exception": false,
     "start_time": "2024-01-30T04:43:08.561200",
     "status": "completed"
    },
    "tags": []
   },
   "source": [
    "### 이미지 변환기 정의"
   ]
  },
  {
   "cell_type": "code",
   "execution_count": 7,
   "id": "773b4d37",
   "metadata": {
    "execution": {
     "iopub.execute_input": "2024-01-30T04:43:08.627910Z",
     "iopub.status.busy": "2024-01-30T04:43:08.627158Z",
     "iopub.status.idle": "2024-01-30T04:43:08.773238Z",
     "shell.execute_reply": "2024-01-30T04:43:08.773701Z"
    },
    "papermill": {
     "duration": 0.172258,
     "end_time": "2024-01-30T04:43:08.773915",
     "exception": false,
     "start_time": "2024-01-30T04:43:08.601657",
     "status": "completed"
    },
    "tags": []
   },
   "outputs": [],
   "source": [
    "from torchvision import transforms # 이미지 변환을 위한 모듈\n",
    "\n",
    "# 훈련 데이터용 변환기\n",
    "transform_train = transforms.Compose([transforms.ToTensor(),\n",
    "                                      transforms.Pad(32, padding_mode='symmetric'),\n",
    "                                      transforms.RandomHorizontalFlip(),\n",
    "                                      transforms.RandomVerticalFlip(),\n",
    "                                      transforms.RandomRotation(10),\n",
    "                                      transforms.Normalize((0.485, 0.456, 0.406),\n",
    "                                                           (0.229, 0.224, 0.225))])\n",
    "\n",
    "# 검증 및 테스트 데이터용 변환기\n",
    "transform_test= transforms.Compose([transforms.ToTensor(),\n",
    "                                    transforms.Pad(32, padding_mode='symmetric'),\n",
    "                                    transforms.Normalize((0.485, 0.456, 0.406),\n",
    "                                                         (0.229, 0.224, 0.225))])"
   ]
  },
  {
   "cell_type": "markdown",
   "id": "cc20884a",
   "metadata": {
    "papermill": {
     "duration": 0.020096,
     "end_time": "2024-01-30T04:43:08.813971",
     "exception": false,
     "start_time": "2024-01-30T04:43:08.793875",
     "status": "completed"
    },
    "tags": []
   },
   "source": [
    "### 데이터셋 및 데이터 로더 생성"
   ]
  },
  {
   "cell_type": "code",
   "execution_count": 8,
   "id": "03d799d0",
   "metadata": {
    "execution": {
     "iopub.execute_input": "2024-01-30T04:43:08.858681Z",
     "iopub.status.busy": "2024-01-30T04:43:08.857872Z",
     "iopub.status.idle": "2024-01-30T04:43:08.859940Z",
     "shell.execute_reply": "2024-01-30T04:43:08.860391Z"
    },
    "papermill": {
     "duration": 0.026991,
     "end_time": "2024-01-30T04:43:08.860547",
     "exception": false,
     "start_time": "2024-01-30T04:43:08.833556",
     "status": "completed"
    },
    "tags": []
   },
   "outputs": [],
   "source": [
    "dataset_train = ImageDataset(df=train, img_dir='train/', transform=transform_train)\n",
    "dataset_valid = ImageDataset(df=valid, img_dir='train/', transform=transform_test)"
   ]
  },
  {
   "cell_type": "code",
   "execution_count": 9,
   "id": "67cea2b4",
   "metadata": {
    "_uuid": "c247391c28497ad35c72f5218398ea71f2d0d5ff",
    "execution": {
     "iopub.execute_input": "2024-01-30T04:43:08.905928Z",
     "iopub.status.busy": "2024-01-30T04:43:08.905122Z",
     "iopub.status.idle": "2024-01-30T04:43:08.907617Z",
     "shell.execute_reply": "2024-01-30T04:43:08.907137Z"
    },
    "papermill": {
     "duration": 0.027243,
     "end_time": "2024-01-30T04:43:08.907751",
     "exception": false,
     "start_time": "2024-01-30T04:43:08.880508",
     "status": "completed"
    },
    "tags": []
   },
   "outputs": [],
   "source": [
    "from torch.utils.data import DataLoader # 데이터 로더 클래스\n",
    "\n",
    "loader_train = DataLoader(dataset=dataset_train, batch_size=32, shuffle=True)\n",
    "loader_valid = DataLoader(dataset=dataset_valid, batch_size=32, shuffle=False)"
   ]
  },
  {
   "cell_type": "markdown",
   "id": "389b5118",
   "metadata": {
    "papermill": {
     "duration": 0.019585,
     "end_time": "2024-01-30T04:43:08.947076",
     "exception": false,
     "start_time": "2024-01-30T04:43:08.927491",
     "status": "completed"
    },
    "tags": []
   },
   "source": [
    "## 11.4.2 모델 생성"
   ]
  },
  {
   "cell_type": "code",
   "execution_count": 10,
   "id": "00ce208f",
   "metadata": {
    "_uuid": "0a2d5600bc2eb915ec0bdf5b52ba11e25096f7d0",
    "execution": {
     "iopub.execute_input": "2024-01-30T04:43:09.001751Z",
     "iopub.status.busy": "2024-01-30T04:43:08.999411Z",
     "iopub.status.idle": "2024-01-30T04:43:09.003681Z",
     "shell.execute_reply": "2024-01-30T04:43:09.004132Z"
    },
    "papermill": {
     "duration": 0.037537,
     "end_time": "2024-01-30T04:43:09.004287",
     "exception": false,
     "start_time": "2024-01-30T04:43:08.966750",
     "status": "completed"
    },
    "tags": []
   },
   "outputs": [],
   "source": [
    "import torch.nn as nn # 신경망 모듈\n",
    "import torch.nn.functional as F # 신경망 모듈에서 자주 사용되는 함수\n",
    "\n",
    "class Model(nn.Module):\n",
    "    # 신경망 계층 정의\n",
    "    def __init__(self):\n",
    "        super().__init__() # 상속받은 nn.Module의 __init__() 메서드 호출\n",
    "        # 1 ~ 5번째 {합성곱, 배치 정규화, 최대 풀링} 계층 \n",
    "        self.layer1 = nn.Sequential(nn.Conv2d(in_channels=3, out_channels=32,\n",
    "                                              kernel_size=3, padding=2),\n",
    "                                    nn.BatchNorm2d(32), # 배치 정규화\n",
    "                                    nn.LeakyReLU(), # LeakyReLU 활성화 함수\n",
    "                                    nn.MaxPool2d(kernel_size=2))\n",
    "\n",
    "        self.layer2 = nn.Sequential(nn.Conv2d(in_channels=32, out_channels=64,\n",
    "                                              kernel_size=3, padding=2),\n",
    "                                    nn.BatchNorm2d(64),\n",
    "                                    nn.LeakyReLU(),\n",
    "                                    nn.MaxPool2d(kernel_size=2))\n",
    "        \n",
    "        self.layer3 = nn.Sequential(nn.Conv2d(in_channels=64, out_channels=128,\n",
    "                                              kernel_size=3, padding=2),\n",
    "                                    nn.BatchNorm2d(128),\n",
    "                                    nn.LeakyReLU(),\n",
    "                                    nn.MaxPool2d(kernel_size=2))\n",
    "        \n",
    "        self.layer4 = nn.Sequential(nn.Conv2d(in_channels=128, out_channels=256,\n",
    "                                              kernel_size=3, padding=2),\n",
    "                                    nn.BatchNorm2d(256),\n",
    "                                    nn.LeakyReLU(),\n",
    "                                    nn.MaxPool2d(kernel_size=2))\n",
    "        \n",
    "        self.layer5 = nn.Sequential(nn.Conv2d(in_channels=256, out_channels=512,\n",
    "                                              kernel_size=3, padding=2),\n",
    "                                    nn.BatchNorm2d(512),\n",
    "                                    nn.LeakyReLU(),\n",
    "                                    nn.MaxPool2d(kernel_size=2))\n",
    "        # 평균 풀링 계층 \n",
    "        self.avg_pool = nn.AvgPool2d(kernel_size=4) \n",
    "        # 전결합 계층\n",
    "        self.fc1 = nn.Linear(in_features=512 * 1 * 1, out_features=64)\n",
    "        self.fc2 = nn.Linear(in_features=64, out_features=2)\n",
    "\n",
    "    # 순전파 출력 정의 \n",
    "    def forward(self, x):\n",
    "        x = self.layer1(x)\n",
    "        x = self.layer2(x)\n",
    "        x = self.layer3(x)\n",
    "        x = self.layer4(x)\n",
    "        x = self.layer5(x)\n",
    "        x = self.avg_pool(x)\n",
    "        x = x.view(-1, 512 * 1 * 1) # 평탄화\n",
    "        x = self.fc1(x)\n",
    "        x = self.fc2(x)\n",
    "        return x"
   ]
  },
  {
   "cell_type": "code",
   "execution_count": 11,
   "id": "3c1111fe",
   "metadata": {
    "_cell_guid": "79c7e3d0-c299-4dcb-8224-4455121ee9b0",
    "_uuid": "d629ff2d2480ee46fbb7e2d37f6b5fab8052498a",
    "execution": {
     "iopub.execute_input": "2024-01-30T04:43:09.047587Z",
     "iopub.status.busy": "2024-01-30T04:43:09.046967Z",
     "iopub.status.idle": "2024-01-30T04:43:14.540129Z",
     "shell.execute_reply": "2024-01-30T04:43:14.540610Z"
    },
    "papermill": {
     "duration": 5.516751,
     "end_time": "2024-01-30T04:43:14.540793",
     "exception": false,
     "start_time": "2024-01-30T04:43:09.024042",
     "status": "completed"
    },
    "tags": []
   },
   "outputs": [],
   "source": [
    "model = Model().to(device)"
   ]
  },
  {
   "cell_type": "markdown",
   "id": "d1b70705",
   "metadata": {
    "papermill": {
     "duration": 0.019541,
     "end_time": "2024-01-30T04:43:14.580449",
     "exception": false,
     "start_time": "2024-01-30T04:43:14.560908",
     "status": "completed"
    },
    "tags": []
   },
   "source": [
    "## 11.4.3 모델 훈련"
   ]
  },
  {
   "cell_type": "markdown",
   "id": "c955f5eb",
   "metadata": {
    "papermill": {
     "duration": 0.019986,
     "end_time": "2024-01-30T04:43:14.621502",
     "exception": false,
     "start_time": "2024-01-30T04:43:14.601516",
     "status": "completed"
    },
    "tags": []
   },
   "source": [
    "### 손실 함수와 옵티마이저 설정"
   ]
  },
  {
   "cell_type": "code",
   "execution_count": 12,
   "id": "360841b6",
   "metadata": {
    "execution": {
     "iopub.execute_input": "2024-01-30T04:43:14.665762Z",
     "iopub.status.busy": "2024-01-30T04:43:14.664937Z",
     "iopub.status.idle": "2024-01-30T04:43:14.667090Z",
     "shell.execute_reply": "2024-01-30T04:43:14.667554Z"
    },
    "papermill": {
     "duration": 0.025909,
     "end_time": "2024-01-30T04:43:14.667690",
     "exception": false,
     "start_time": "2024-01-30T04:43:14.641781",
     "status": "completed"
    },
    "tags": []
   },
   "outputs": [],
   "source": [
    "# 손실 함수\n",
    "criterion = nn.CrossEntropyLoss()"
   ]
  },
  {
   "cell_type": "code",
   "execution_count": 13,
   "id": "52feb175",
   "metadata": {
    "_uuid": "fceb2929d8750acb2de745cd9ff3d2d458820df8",
    "execution": {
     "iopub.execute_input": "2024-01-30T04:43:14.711365Z",
     "iopub.status.busy": "2024-01-30T04:43:14.709240Z",
     "iopub.status.idle": "2024-01-30T04:43:14.713674Z",
     "shell.execute_reply": "2024-01-30T04:43:14.713219Z"
    },
    "papermill": {
     "duration": 0.026299,
     "end_time": "2024-01-30T04:43:14.713825",
     "exception": false,
     "start_time": "2024-01-30T04:43:14.687526",
     "status": "completed"
    },
    "tags": []
   },
   "outputs": [],
   "source": [
    "# 옵티마이저\n",
    "optimizer = torch.optim.Adamax(model.parameters(), lr=0.00006)"
   ]
  },
  {
   "cell_type": "markdown",
   "id": "b1503fa3",
   "metadata": {
    "papermill": {
     "duration": 0.019758,
     "end_time": "2024-01-30T04:43:14.753633",
     "exception": false,
     "start_time": "2024-01-30T04:43:14.733875",
     "status": "completed"
    },
    "tags": []
   },
   "source": [
    "### 모델 훈련"
   ]
  },
  {
   "cell_type": "code",
   "execution_count": 14,
   "id": "70763a65",
   "metadata": {
    "_uuid": "2c37417ae6b62ab4551bc8a888916ca1e591d284",
    "execution": {
     "iopub.execute_input": "2024-01-30T04:43:14.802169Z",
     "iopub.status.busy": "2024-01-30T04:43:14.795985Z",
     "iopub.status.idle": "2024-01-30T05:30:58.367857Z",
     "shell.execute_reply": "2024-01-30T05:30:58.368342Z"
    },
    "papermill": {
     "duration": 2863.594536,
     "end_time": "2024-01-30T05:30:58.368522",
     "exception": false,
     "start_time": "2024-01-30T04:43:14.773986",
     "status": "completed"
    },
    "tags": []
   },
   "outputs": [
    {
     "name": "stdout",
     "output_type": "stream",
     "text": [
      "에폭 [1/70] - 손실값: 0.1305\n",
      "에폭 [2/70] - 손실값: 0.0704\n",
      "에폭 [3/70] - 손실값: 0.0515\n",
      "에폭 [4/70] - 손실값: 0.0420\n",
      "에폭 [5/70] - 손실값: 0.0399\n",
      "에폭 [6/70] - 손실값: 0.0354\n",
      "에폭 [7/70] - 손실값: 0.0293\n",
      "에폭 [8/70] - 손실값: 0.0296\n",
      "에폭 [9/70] - 손실값: 0.0259\n",
      "에폭 [10/70] - 손실값: 0.0242\n",
      "에폭 [11/70] - 손실값: 0.0232\n",
      "에폭 [12/70] - 손실값: 0.0226\n",
      "에폭 [13/70] - 손실값: 0.0222\n",
      "에폭 [14/70] - 손실값: 0.0214\n",
      "에폭 [15/70] - 손실값: 0.0202\n",
      "에폭 [16/70] - 손실값: 0.0210\n",
      "에폭 [17/70] - 손실값: 0.0176\n",
      "에폭 [18/70] - 손실값: 0.0183\n",
      "에폭 [19/70] - 손실값: 0.0170\n",
      "에폭 [20/70] - 손실값: 0.0156\n",
      "에폭 [21/70] - 손실값: 0.0158\n",
      "에폭 [22/70] - 손실값: 0.0148\n",
      "에폭 [23/70] - 손실값: 0.0132\n",
      "에폭 [24/70] - 손실값: 0.0139\n",
      "에폭 [25/70] - 손실값: 0.0133\n",
      "에폭 [26/70] - 손실값: 0.0105\n",
      "에폭 [27/70] - 손실값: 0.0137\n",
      "에폭 [28/70] - 손실값: 0.0115\n",
      "에폭 [29/70] - 손실값: 0.0086\n",
      "에폭 [30/70] - 손실값: 0.0095\n",
      "에폭 [31/70] - 손실값: 0.0104\n",
      "에폭 [32/70] - 손실값: 0.0089\n",
      "에폭 [33/70] - 손실값: 0.0088\n",
      "에폭 [34/70] - 손실값: 0.0090\n",
      "에폭 [35/70] - 손실값: 0.0108\n",
      "에폭 [36/70] - 손실값: 0.0085\n",
      "에폭 [37/70] - 손실값: 0.0080\n",
      "에폭 [38/70] - 손실값: 0.0083\n",
      "에폭 [39/70] - 손실값: 0.0074\n",
      "에폭 [40/70] - 손실값: 0.0067\n",
      "에폭 [41/70] - 손실값: 0.0074\n",
      "에폭 [42/70] - 손실값: 0.0075\n",
      "에폭 [43/70] - 손실값: 0.0070\n",
      "에폭 [44/70] - 손실값: 0.0065\n",
      "에폭 [45/70] - 손실값: 0.0062\n",
      "에폭 [46/70] - 손실값: 0.0074\n",
      "에폭 [47/70] - 손실값: 0.0065\n",
      "에폭 [48/70] - 손실값: 0.0068\n",
      "에폭 [49/70] - 손실값: 0.0059\n",
      "에폭 [50/70] - 손실값: 0.0049\n",
      "에폭 [51/70] - 손실값: 0.0072\n",
      "에폭 [52/70] - 손실값: 0.0080\n",
      "에폭 [53/70] - 손실값: 0.0049\n",
      "에폭 [54/70] - 손실값: 0.0052\n",
      "에폭 [55/70] - 손실값: 0.0050\n",
      "에폭 [56/70] - 손실값: 0.0057\n",
      "에폭 [57/70] - 손실값: 0.0039\n",
      "에폭 [58/70] - 손실값: 0.0045\n",
      "에폭 [59/70] - 손실값: 0.0054\n",
      "에폭 [60/70] - 손실값: 0.0042\n",
      "에폭 [61/70] - 손실값: 0.0046\n",
      "에폭 [62/70] - 손실값: 0.0046\n",
      "에폭 [63/70] - 손실값: 0.0068\n",
      "에폭 [64/70] - 손실값: 0.0049\n",
      "에폭 [65/70] - 손실값: 0.0046\n",
      "에폭 [66/70] - 손실값: 0.0048\n",
      "에폭 [67/70] - 손실값: 0.0041\n",
      "에폭 [68/70] - 손실값: 0.0050\n",
      "에폭 [69/70] - 손실값: 0.0034\n",
      "에폭 [70/70] - 손실값: 0.0025\n"
     ]
    }
   ],
   "source": [
    "epochs = 70 # 총 에폭\n",
    "\n",
    "# 총 에폭만큼 반복\n",
    "for epoch in range(epochs):\n",
    "    epoch_loss = 0 # 에폭별 손실값 초기화\n",
    "    \n",
    "    # '반복 횟수'만큼 반복 \n",
    "    for images, labels in loader_train:\n",
    "        # 이미지, 레이블 데이터 미니배치를 장비에 할당 \n",
    "        images = images.to(device)\n",
    "        labels = labels.to(device)\n",
    "        \n",
    "        # 옵티마이저 내 기울기 초기화\n",
    "        optimizer.zero_grad()\n",
    "        # 순전파 : 이미지 데이터를 신경망 모델의 입력값으로 사용해 출력값 계산\n",
    "        outputs = model(images)\n",
    "        # 손실 함수를 활용해 outputs와 labels의 손실값 계산\n",
    "        loss = criterion(outputs, labels)\n",
    "        # 현재 배치에서의 손실 추가\n",
    "        epoch_loss += loss.item() \n",
    "        # 역전파 수행\n",
    "        loss.backward()\n",
    "        # 가중치 갱신\n",
    "        optimizer.step()\n",
    "        \n",
    "    print(f'에폭 [{epoch+1}/{epochs}] - 손실값: {epoch_loss/len(loader_train):.4f}')    "
   ]
  },
  {
   "cell_type": "markdown",
   "id": "a8220bc1",
   "metadata": {
    "papermill": {
     "duration": 0.042974,
     "end_time": "2024-01-30T05:30:58.454362",
     "exception": false,
     "start_time": "2024-01-30T05:30:58.411388",
     "status": "completed"
    },
    "tags": []
   },
   "source": [
    "## 11.4.4 성능 검증"
   ]
  },
  {
   "cell_type": "code",
   "execution_count": 15,
   "id": "6da50632",
   "metadata": {
    "execution": {
     "iopub.execute_input": "2024-01-30T05:30:58.551102Z",
     "iopub.status.busy": "2024-01-30T05:30:58.550449Z",
     "iopub.status.idle": "2024-01-30T05:31:00.773982Z",
     "shell.execute_reply": "2024-01-30T05:31:00.773311Z"
    },
    "papermill": {
     "duration": 2.275997,
     "end_time": "2024-01-30T05:31:00.774128",
     "exception": false,
     "start_time": "2024-01-30T05:30:58.498131",
     "status": "completed"
    },
    "tags": []
   },
   "outputs": [
    {
     "name": "stdout",
     "output_type": "stream",
     "text": [
      "검증 데이터 ROC AUC : 0.9998\n"
     ]
    }
   ],
   "source": [
    "from sklearn.metrics import roc_auc_score # ROC AUC 점수 계산 함수 임포트\n",
    "\n",
    "# 실제값과 예측 확률값을 담을 리스트 초기화\n",
    "true_list = []\n",
    "preds_list = []\n",
    "\n",
    "model.eval() # 모델을 평가 상태로 설정 \n",
    "\n",
    "with torch.no_grad(): # 기울기 계산 비활성화\n",
    "    for images, labels in loader_valid:\n",
    "        # 이미지, 레이블 데이터 미니배치를 장비에 할당 \n",
    "        images = images.to(device)\n",
    "        labels = labels.to(device)\n",
    "        \n",
    "        # 순전파 : 이미지 데이터를 신경망 모델의 입력값으로 사용해 출력값 계산\n",
    "        outputs = model(images)\n",
    "        preds = torch.softmax(outputs.cpu(), dim=1)[:, 1] # 예측 확률값\n",
    "        true = labels.cpu() # 실제값 \n",
    "        # 예측 확률값과 실제값을 리스트에 추가\n",
    "        preds_list.extend(preds)\n",
    "        true_list.extend(true)\n",
    "        \n",
    "# 검증 데이터 ROC AUC 점수 계산 \n",
    "print(f'검증 데이터 ROC AUC : {roc_auc_score(true_list, preds_list):.4f}')    "
   ]
  },
  {
   "cell_type": "markdown",
   "id": "7789e1e5",
   "metadata": {
    "papermill": {
     "duration": 0.043191,
     "end_time": "2024-01-30T05:31:00.861147",
     "exception": false,
     "start_time": "2024-01-30T05:31:00.817956",
     "status": "completed"
    },
    "tags": []
   },
   "source": [
    "## 11.4.5 예측 및 결과 제출"
   ]
  },
  {
   "cell_type": "code",
   "execution_count": 16,
   "id": "88418993",
   "metadata": {
    "execution": {
     "iopub.execute_input": "2024-01-30T05:31:00.956876Z",
     "iopub.status.busy": "2024-01-30T05:31:00.956230Z",
     "iopub.status.idle": "2024-01-30T05:31:05.924084Z",
     "shell.execute_reply": "2024-01-30T05:31:05.923538Z"
    },
    "papermill": {
     "duration": 5.018412,
     "end_time": "2024-01-30T05:31:05.924230",
     "exception": false,
     "start_time": "2024-01-30T05:31:00.905818",
     "status": "completed"
    },
    "tags": []
   },
   "outputs": [],
   "source": [
    "dataset_test = ImageDataset(df=submission, img_dir='test/', \n",
    "                            transform=transform_test)\n",
    "loader_test = DataLoader(dataset=dataset_test, batch_size=32, shuffle=False)\n",
    "\n",
    "# 예측 수행\n",
    "model.eval() # 모델을 평가 상태로 설정\n",
    "\n",
    "preds = [] # 타깃 예측값 저장용 리스트 초기화\n",
    "\n",
    "with torch.no_grad(): # 기울기 계산 비활성화\n",
    "    for images, _ in loader_test:\n",
    "        # 이미지 데이터 미니배치를 장비에 할당\n",
    "        images = images.to(device)\n",
    "        \n",
    "        # 순전파 : 이미지 데이터를 신경망 모델의 입력값으로 사용해 출력값 계산\n",
    "        outputs = model(images)\n",
    "        # 타깃값이 1일 확률(예측값)\n",
    "        preds_part = torch.softmax(outputs.cpu(), dim=1)[:, 1].tolist()\n",
    "        # preds에 preds_part 이어붙이기\n",
    "        preds.extend(preds_part)"
   ]
  },
  {
   "cell_type": "code",
   "execution_count": 17,
   "id": "da5e7c4c",
   "metadata": {
    "execution": {
     "iopub.execute_input": "2024-01-30T05:31:06.017123Z",
     "iopub.status.busy": "2024-01-30T05:31:06.016513Z",
     "iopub.status.idle": "2024-01-30T05:31:06.037350Z",
     "shell.execute_reply": "2024-01-30T05:31:06.036726Z"
    },
    "papermill": {
     "duration": 0.069715,
     "end_time": "2024-01-30T05:31:06.037470",
     "exception": false,
     "start_time": "2024-01-30T05:31:05.967755",
     "status": "completed"
    },
    "tags": []
   },
   "outputs": [],
   "source": [
    "submission['has_cactus'] = preds\n",
    "submission.to_csv('submission.csv', index=False)"
   ]
  },
  {
   "cell_type": "code",
   "execution_count": 18,
   "id": "1761f5e0",
   "metadata": {
    "execution": {
     "iopub.execute_input": "2024-01-30T05:31:06.127566Z",
     "iopub.status.busy": "2024-01-30T05:31:06.126979Z",
     "iopub.status.idle": "2024-01-30T05:31:06.752315Z",
     "shell.execute_reply": "2024-01-30T05:31:06.751771Z"
    },
    "papermill": {
     "duration": 0.672141,
     "end_time": "2024-01-30T05:31:06.752462",
     "exception": false,
     "start_time": "2024-01-30T05:31:06.080321",
     "status": "completed"
    },
    "tags": []
   },
   "outputs": [],
   "source": [
    "import shutil\n",
    "\n",
    "shutil.rmtree('./train')\n",
    "shutil.rmtree('./test')"
   ]
  }
 ],
 "metadata": {
  "kaggle": {
   "accelerator": "gpu",
   "dataSources": [
    {
     "databundleVersionId": 331452,
     "sourceId": 13435,
     "sourceType": "competition"
    }
   ],
   "dockerImageVersionId": 30124,
   "isGpuEnabled": true,
   "isInternetEnabled": true,
   "language": "python",
   "sourceType": "notebook"
  },
  "kernelspec": {
   "display_name": "Python 3",
   "language": "python",
   "name": "python3"
  },
  "language_info": {
   "codemirror_mode": {
    "name": "ipython",
    "version": 3
   },
   "file_extension": ".py",
   "mimetype": "text/x-python",
   "name": "python",
   "nbconvert_exporter": "python",
   "pygments_lexer": "ipython3",
   "version": "3.7.10"
  },
  "papermill": {
   "default_parameters": {},
   "duration": 2896.374321,
   "end_time": "2024-01-30T05:31:08.369697",
   "environment_variables": {},
   "exception": null,
   "input_path": "__notebook__.ipynb",
   "output_path": "__notebook__.ipynb",
   "parameters": {},
   "start_time": "2024-01-30T04:42:51.995376",
   "version": "2.3.3"
  }
 },
 "nbformat": 4,
 "nbformat_minor": 5
}
