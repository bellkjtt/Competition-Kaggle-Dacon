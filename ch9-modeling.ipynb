{
 "cells": [
  {
   "cell_type": "markdown",
   "id": "4f21fe04",
   "metadata": {
    "papermill": {
     "duration": 0.068806,
     "end_time": "2024-01-27T08:18:35.094693",
     "exception": false,
     "start_time": "2024-01-27T08:18:35.025887",
     "status": "completed"
    },
    "tags": []
   },
   "source": [
    "# 9.4 향후 판매량 예측 경진대회 모델 성능 개선\n",
    "- [향후 판매량 예측 경진대회 링크](https://www.kaggle.com/c/competitive-data-science-predict-future-sales)\n",
    "- [모델링 코드 참고 링크](https://www.kaggle.com/dkomyagin/predict-future-sales-lightgbm-framework)"
   ]
  },
  {
   "cell_type": "code",
   "execution_count": 1,
   "id": "ea425f17",
   "metadata": {
    "execution": {
     "iopub.execute_input": "2024-01-27T08:18:35.233122Z",
     "iopub.status.busy": "2024-01-27T08:18:35.231746Z",
     "iopub.status.idle": "2024-01-27T08:18:38.484564Z",
     "shell.execute_reply": "2024-01-27T08:18:38.483518Z"
    },
    "papermill": {
     "duration": 3.319797,
     "end_time": "2024-01-27T08:18:38.484792",
     "exception": false,
     "start_time": "2024-01-27T08:18:35.164995",
     "status": "completed"
    },
    "tags": []
   },
   "outputs": [],
   "source": [
    "import numpy as np\n",
    "import pandas as pd\n",
    "import warnings\n",
    "\n",
    "warnings.filterwarnings(action='ignore') # 경고 메시지 생략\n",
    "\n",
    "# 데이터 경로\n",
    "data_path = '/kaggle/input/competitive-data-science-predict-future-sales/'\n",
    "\n",
    "sales_train = pd.read_csv(data_path + 'sales_train.csv')\n",
    "shops = pd.read_csv(data_path + 'shops.csv')\n",
    "items = pd.read_csv(data_path + 'items.csv')\n",
    "item_categories = pd.read_csv(data_path + 'item_categories.csv')\n",
    "test = pd.read_csv(data_path + 'test.csv')\n",
    "submission = pd.read_csv(data_path + 'sample_submission.csv')"
   ]
  },
  {
   "cell_type": "markdown",
   "id": "a5157d4a",
   "metadata": {
    "papermill": {
     "duration": 0.069538,
     "end_time": "2024-01-27T08:18:38.623666",
     "exception": false,
     "start_time": "2024-01-27T08:18:38.554128",
     "status": "completed"
    },
    "tags": []
   },
   "source": [
    "## 9.4.1 피처 엔지니어링 I : 피처명 한글화와 데이터 다운캐스팅"
   ]
  },
  {
   "cell_type": "code",
   "execution_count": 2,
   "id": "93493af8",
   "metadata": {
    "execution": {
     "iopub.execute_input": "2024-01-27T08:18:38.762892Z",
     "iopub.status.busy": "2024-01-27T08:18:38.762090Z",
     "iopub.status.idle": "2024-01-27T08:18:38.863276Z",
     "shell.execute_reply": "2024-01-27T08:18:38.864079Z"
    },
    "papermill": {
     "duration": 0.175655,
     "end_time": "2024-01-27T08:18:38.864285",
     "exception": false,
     "start_time": "2024-01-27T08:18:38.688630",
     "status": "completed"
    },
    "tags": []
   },
   "outputs": [],
   "source": [
    "sales_train = sales_train.rename(columns={'date': '날짜', \n",
    "                                          'date_block_num': '월ID',\n",
    "                                          'shop_id': '상점ID',\n",
    "                                          'item_id': '상품ID',\n",
    "                                          'item_price': '판매가',\n",
    "                                          'item_cnt_day': '판매량'})\n",
    "\n",
    "shops = shops.rename(columns={'shop_name': '상점명',\n",
    "                              'shop_id': '상점ID'})\n",
    "\n",
    "items = items.rename(columns={'item_name': '상품명',\n",
    "                              'item_id': '상품ID',\n",
    "                              'item_category_id': '상품분류ID'})\n",
    "\n",
    "item_categories = item_categories.rename(columns=\n",
    "                                         {'item_category_name': '상품분류명',\n",
    "                                          'item_category_id': '상품분류ID'})\n",
    "\n",
    "test = test.rename(columns={'shop_id': '상점ID',\n",
    "                            'item_id': '상품ID'})"
   ]
  },
  {
   "cell_type": "code",
   "execution_count": 3,
   "id": "b81799a0",
   "metadata": {
    "execution": {
     "iopub.execute_input": "2024-01-27T08:18:39.006590Z",
     "iopub.status.busy": "2024-01-27T08:18:39.005654Z",
     "iopub.status.idle": "2024-01-27T08:18:39.409095Z",
     "shell.execute_reply": "2024-01-27T08:18:39.409708Z"
    },
    "papermill": {
     "duration": 0.479991,
     "end_time": "2024-01-27T08:18:39.409958",
     "exception": false,
     "start_time": "2024-01-27T08:18:38.929967",
     "status": "completed"
    },
    "tags": []
   },
   "outputs": [
    {
     "name": "stdout",
     "output_type": "stream",
     "text": [
      "62.5% 압축됨\n",
      "38.6% 압축됨\n",
      "54.2% 압축됨\n",
      "39.9% 압축됨\n",
      "70.8% 압축됨\n"
     ]
    }
   ],
   "source": [
    "def downcast(df, verbose=True):\n",
    "    start_mem = df.memory_usage().sum() / 1024**2\n",
    "    for col in df.columns:\n",
    "        dtype_name = df[col].dtype.name\n",
    "        if dtype_name == 'object':\n",
    "            pass\n",
    "        elif dtype_name == 'bool':\n",
    "            df[col] = df[col].astype('int8')\n",
    "        elif dtype_name.startswith('int') or (df[col].round() == df[col]).all():\n",
    "            df[col] = pd.to_numeric(df[col], downcast='integer')\n",
    "        else:\n",
    "            df[col] = pd.to_numeric(df[col], downcast='float')\n",
    "    end_mem = df.memory_usage().sum() / 1024**2\n",
    "    if verbose:\n",
    "        print('{:.1f}% 압축됨'.format(100 * (start_mem - end_mem) / start_mem))\n",
    "    \n",
    "    return df\n",
    "\n",
    "all_df = [sales_train, shops, items, item_categories, test]\n",
    "for df in all_df:\n",
    "    df = downcast(df)"
   ]
  },
  {
   "cell_type": "markdown",
   "id": "d57c74dd",
   "metadata": {
    "papermill": {
     "duration": 0.065588,
     "end_time": "2024-01-27T08:18:39.540095",
     "exception": false,
     "start_time": "2024-01-27T08:18:39.474507",
     "status": "completed"
    },
    "tags": []
   },
   "source": [
    "## 9.4.2 피처 엔지니어링 II : 개별 데이터 피처 엔지니어링"
   ]
  },
  {
   "cell_type": "markdown",
   "id": "dd5ace9a",
   "metadata": {
    "papermill": {
     "duration": 0.067606,
     "end_time": "2024-01-27T08:18:39.674989",
     "exception": false,
     "start_time": "2024-01-27T08:18:39.607383",
     "status": "completed"
    },
    "tags": []
   },
   "source": [
    "### sales_train 이상치 제거 및 전처리"
   ]
  },
  {
   "cell_type": "code",
   "execution_count": 4,
   "id": "cb75b549",
   "metadata": {
    "execution": {
     "iopub.execute_input": "2024-01-27T08:18:39.822288Z",
     "iopub.status.busy": "2024-01-27T08:18:39.821423Z",
     "iopub.status.idle": "2024-01-27T08:18:40.418428Z",
     "shell.execute_reply": "2024-01-27T08:18:40.417502Z"
    },
    "papermill": {
     "duration": 0.677841,
     "end_time": "2024-01-27T08:18:40.418612",
     "exception": false,
     "start_time": "2024-01-27T08:18:39.740771",
     "status": "completed"
    },
    "tags": []
   },
   "outputs": [],
   "source": [
    "# 판매가가 0보다 큰 데이터 추출\n",
    "sales_train = sales_train[sales_train['판매가'] > 0]\n",
    "# 판매가가 50,000보다 작은 데이터 추출\n",
    "sales_train = sales_train[sales_train['판매가'] < 50000]\n",
    "\n",
    "# 판매량이 0보다 큰 데이터 추출\n",
    "sales_train = sales_train[sales_train['판매량'] > 0]\n",
    "# 판매량이 1,000보다 작은 데이터 추출\n",
    "sales_train = sales_train[sales_train['판매량'] < 1000]"
   ]
  },
  {
   "cell_type": "code",
   "execution_count": 5,
   "id": "cac060ed",
   "metadata": {
    "execution": {
     "iopub.execute_input": "2024-01-27T08:18:40.572745Z",
     "iopub.status.busy": "2024-01-27T08:18:40.571934Z",
     "iopub.status.idle": "2024-01-27T08:18:40.576656Z",
     "shell.execute_reply": "2024-01-27T08:18:40.577215Z"
    },
    "papermill": {
     "duration": 0.079918,
     "end_time": "2024-01-27T08:18:40.577428",
     "exception": false,
     "start_time": "2024-01-27T08:18:40.497510",
     "status": "completed"
    },
    "tags": []
   },
   "outputs": [
    {
     "name": "stdout",
     "output_type": "stream",
     "text": [
      "!Якутск Орджоникидзе, 56 фран || Якутск Орджоникидзе, 56\n",
      "!Якутск ТЦ \"Центральный\" фран || Якутск ТЦ \"Центральный\"\n",
      "Жуковский ул. Чкалова 39м? || Жуковский ул. Чкалова 39м²\n",
      "РостовНаДону ТРК \"Мегацентр Горизонт\" || РостовНаДону ТРК \"Мегацентр Горизонт\" Островной\n"
     ]
    }
   ],
   "source": [
    "print(shops['상점명'][0], '||', shops['상점명'][57])\n",
    "print(shops['상점명'][1], '||', shops['상점명'][58])\n",
    "print(shops['상점명'][10], '||', shops['상점명'][11])\n",
    "print(shops['상점명'][39], '||', shops['상점명'][40])"
   ]
  },
  {
   "cell_type": "code",
   "execution_count": 6,
   "id": "b7dfa9b4",
   "metadata": {
    "execution": {
     "iopub.execute_input": "2024-01-27T08:18:40.723705Z",
     "iopub.status.busy": "2024-01-27T08:18:40.718146Z",
     "iopub.status.idle": "2024-01-27T08:18:40.745141Z",
     "shell.execute_reply": "2024-01-27T08:18:40.744409Z"
    },
    "papermill": {
     "duration": 0.101202,
     "end_time": "2024-01-27T08:18:40.745324",
     "exception": false,
     "start_time": "2024-01-27T08:18:40.644122",
     "status": "completed"
    },
    "tags": []
   },
   "outputs": [],
   "source": [
    "# sales_train 데이터에서 상점ID 수정\n",
    "sales_train.loc[sales_train['상점ID'] == 0, '상점ID'] = 57\n",
    "sales_train.loc[sales_train['상점ID'] == 1, '상점ID'] = 58\n",
    "sales_train.loc[sales_train['상점ID'] == 10, '상점ID'] = 11\n",
    "sales_train.loc[sales_train['상점ID'] == 39, '상점ID'] = 40\n",
    "\n",
    "# test 데이터에서 상점ID 수정\n",
    "test.loc[test['상점ID'] == 0, '상점ID'] = 57\n",
    "test.loc[test['상점ID'] == 1, '상점ID'] = 58\n",
    "test.loc[test['상점ID'] == 10, '상점ID'] = 11\n",
    "test.loc[test['상점ID'] == 39, '상점ID'] = 40"
   ]
  },
  {
   "cell_type": "markdown",
   "id": "8beb7bff",
   "metadata": {
    "papermill": {
     "duration": 0.065899,
     "end_time": "2024-01-27T08:18:40.877173",
     "exception": false,
     "start_time": "2024-01-27T08:18:40.811274",
     "status": "completed"
    },
    "tags": []
   },
   "source": [
    "### shops 파생 피처 생성 및 인코딩"
   ]
  },
  {
   "cell_type": "code",
   "execution_count": 7,
   "id": "3ef57ce1",
   "metadata": {
    "execution": {
     "iopub.execute_input": "2024-01-27T08:18:41.018568Z",
     "iopub.status.busy": "2024-01-27T08:18:41.017495Z",
     "iopub.status.idle": "2024-01-27T08:18:41.021197Z",
     "shell.execute_reply": "2024-01-27T08:18:41.020347Z"
    },
    "papermill": {
     "duration": 0.078093,
     "end_time": "2024-01-27T08:18:41.021386",
     "exception": false,
     "start_time": "2024-01-27T08:18:40.943293",
     "status": "completed"
    },
    "tags": []
   },
   "outputs": [],
   "source": [
    "shops['도시'] = shops['상점명'].apply(lambda x: x.split()[0])"
   ]
  },
  {
   "cell_type": "code",
   "execution_count": 8,
   "id": "69f3ac8e",
   "metadata": {
    "execution": {
     "iopub.execute_input": "2024-01-27T08:18:41.169364Z",
     "iopub.status.busy": "2024-01-27T08:18:41.168199Z",
     "iopub.status.idle": "2024-01-27T08:18:41.174118Z",
     "shell.execute_reply": "2024-01-27T08:18:41.173453Z"
    },
    "papermill": {
     "duration": 0.084807,
     "end_time": "2024-01-27T08:18:41.174309",
     "exception": false,
     "start_time": "2024-01-27T08:18:41.089502",
     "status": "completed"
    },
    "tags": []
   },
   "outputs": [
    {
     "data": {
      "text/plain": [
       "array(['!Якутск', 'Адыгея', 'Балашиха', 'Волжский', 'Вологда', 'Воронеж',\n",
       "       'Выездная', 'Жуковский', 'Интернет-магазин', 'Казань', 'Калуга',\n",
       "       'Коломна', 'Красноярск', 'Курск', 'Москва', 'Мытищи', 'Н.Новгород',\n",
       "       'Новосибирск', 'Омск', 'РостовНаДону', 'СПб', 'Самара', 'Сергиев',\n",
       "       'Сургут', 'Томск', 'Тюмень', 'Уфа', 'Химки', 'Цифровой', 'Чехов',\n",
       "       'Якутск', 'Ярославль'], dtype=object)"
      ]
     },
     "execution_count": 8,
     "metadata": {},
     "output_type": "execute_result"
    }
   ],
   "source": [
    "shops['도시'].unique()"
   ]
  },
  {
   "cell_type": "code",
   "execution_count": 9,
   "id": "3598fef2",
   "metadata": {
    "execution": {
     "iopub.execute_input": "2024-01-27T08:18:41.319429Z",
     "iopub.status.busy": "2024-01-27T08:18:41.318545Z",
     "iopub.status.idle": "2024-01-27T08:18:41.321019Z",
     "shell.execute_reply": "2024-01-27T08:18:41.320391Z"
    },
    "papermill": {
     "duration": 0.077638,
     "end_time": "2024-01-27T08:18:41.321184",
     "exception": false,
     "start_time": "2024-01-27T08:18:41.243546",
     "status": "completed"
    },
    "tags": []
   },
   "outputs": [],
   "source": [
    "shops.loc[shops['도시'] =='!Якутск', '도시'] = 'Якутск'"
   ]
  },
  {
   "cell_type": "code",
   "execution_count": 10,
   "id": "4629fdde",
   "metadata": {
    "execution": {
     "iopub.execute_input": "2024-01-27T08:18:41.470035Z",
     "iopub.status.busy": "2024-01-27T08:18:41.469042Z",
     "iopub.status.idle": "2024-01-27T08:18:42.505507Z",
     "shell.execute_reply": "2024-01-27T08:18:42.504653Z"
    },
    "papermill": {
     "duration": 1.111445,
     "end_time": "2024-01-27T08:18:42.505677",
     "exception": false,
     "start_time": "2024-01-27T08:18:41.394232",
     "status": "completed"
    },
    "tags": []
   },
   "outputs": [],
   "source": [
    "from sklearn.preprocessing import LabelEncoder\n",
    "\n",
    "# 레이블 인코더 생성\n",
    "label_encoder = LabelEncoder()\n",
    "# 도시 피처 레이블 인코딩\n",
    "shops['도시'] = label_encoder.fit_transform(shops['도시'])"
   ]
  },
  {
   "cell_type": "code",
   "execution_count": 11,
   "id": "8a9997ee",
   "metadata": {
    "execution": {
     "iopub.execute_input": "2024-01-27T08:18:42.656636Z",
     "iopub.status.busy": "2024-01-27T08:18:42.655826Z",
     "iopub.status.idle": "2024-01-27T08:18:42.671140Z",
     "shell.execute_reply": "2024-01-27T08:18:42.670406Z"
    },
    "papermill": {
     "duration": 0.098863,
     "end_time": "2024-01-27T08:18:42.671315",
     "exception": false,
     "start_time": "2024-01-27T08:18:42.572452",
     "status": "completed"
    },
    "tags": []
   },
   "outputs": [
    {
     "data": {
      "text/html": [
       "<div>\n",
       "<style scoped>\n",
       "    .dataframe tbody tr th:only-of-type {\n",
       "        vertical-align: middle;\n",
       "    }\n",
       "\n",
       "    .dataframe tbody tr th {\n",
       "        vertical-align: top;\n",
       "    }\n",
       "\n",
       "    .dataframe thead th {\n",
       "        text-align: right;\n",
       "    }\n",
       "</style>\n",
       "<table border=\"1\" class=\"dataframe\">\n",
       "  <thead>\n",
       "    <tr style=\"text-align: right;\">\n",
       "      <th></th>\n",
       "      <th>상점ID</th>\n",
       "      <th>도시</th>\n",
       "    </tr>\n",
       "  </thead>\n",
       "  <tbody>\n",
       "    <tr>\n",
       "      <th>0</th>\n",
       "      <td>0</td>\n",
       "      <td>29</td>\n",
       "    </tr>\n",
       "    <tr>\n",
       "      <th>1</th>\n",
       "      <td>1</td>\n",
       "      <td>29</td>\n",
       "    </tr>\n",
       "    <tr>\n",
       "      <th>2</th>\n",
       "      <td>2</td>\n",
       "      <td>0</td>\n",
       "    </tr>\n",
       "    <tr>\n",
       "      <th>3</th>\n",
       "      <td>3</td>\n",
       "      <td>1</td>\n",
       "    </tr>\n",
       "    <tr>\n",
       "      <th>4</th>\n",
       "      <td>4</td>\n",
       "      <td>2</td>\n",
       "    </tr>\n",
       "  </tbody>\n",
       "</table>\n",
       "</div>"
      ],
      "text/plain": [
       "   상점ID  도시\n",
       "0     0  29\n",
       "1     1  29\n",
       "2     2   0\n",
       "3     3   1\n",
       "4     4   2"
      ]
     },
     "execution_count": 11,
     "metadata": {},
     "output_type": "execute_result"
    }
   ],
   "source": [
    "# 상점명 피처 제거\n",
    "shops = shops.drop('상점명', axis=1)\n",
    "\n",
    "shops.head()"
   ]
  },
  {
   "cell_type": "markdown",
   "id": "f43eec9e",
   "metadata": {
    "papermill": {
     "duration": 0.066113,
     "end_time": "2024-01-27T08:18:42.806672",
     "exception": false,
     "start_time": "2024-01-27T08:18:42.740559",
     "status": "completed"
    },
    "tags": []
   },
   "source": [
    "### itmes 파생 피처 생성"
   ]
  },
  {
   "cell_type": "code",
   "execution_count": 12,
   "id": "b2b21e59",
   "metadata": {
    "execution": {
     "iopub.execute_input": "2024-01-27T08:18:42.952323Z",
     "iopub.status.busy": "2024-01-27T08:18:42.951236Z",
     "iopub.status.idle": "2024-01-27T08:18:42.954427Z",
     "shell.execute_reply": "2024-01-27T08:18:42.953798Z"
    },
    "papermill": {
     "duration": 0.080067,
     "end_time": "2024-01-27T08:18:42.954589",
     "exception": false,
     "start_time": "2024-01-27T08:18:42.874522",
     "status": "completed"
    },
    "tags": []
   },
   "outputs": [],
   "source": [
    "# 상품명 피처 제거\n",
    "items = items.drop(['상품명'], axis=1)"
   ]
  },
  {
   "cell_type": "code",
   "execution_count": 13,
   "id": "b296bcc3",
   "metadata": {
    "execution": {
     "iopub.execute_input": "2024-01-27T08:18:43.098623Z",
     "iopub.status.busy": "2024-01-27T08:18:43.097368Z",
     "iopub.status.idle": "2024-01-27T08:18:43.211062Z",
     "shell.execute_reply": "2024-01-27T08:18:43.210328Z"
    },
    "papermill": {
     "duration": 0.188121,
     "end_time": "2024-01-27T08:18:43.211221",
     "exception": false,
     "start_time": "2024-01-27T08:18:43.023100",
     "status": "completed"
    },
    "tags": []
   },
   "outputs": [
    {
     "data": {
      "text/html": [
       "<div>\n",
       "<style scoped>\n",
       "    .dataframe tbody tr th:only-of-type {\n",
       "        vertical-align: middle;\n",
       "    }\n",
       "\n",
       "    .dataframe tbody tr th {\n",
       "        vertical-align: top;\n",
       "    }\n",
       "\n",
       "    .dataframe thead th {\n",
       "        text-align: right;\n",
       "    }\n",
       "</style>\n",
       "<table border=\"1\" class=\"dataframe\">\n",
       "  <thead>\n",
       "    <tr style=\"text-align: right;\">\n",
       "      <th></th>\n",
       "      <th>상품ID</th>\n",
       "      <th>상품분류ID</th>\n",
       "      <th>첫 판매월</th>\n",
       "    </tr>\n",
       "  </thead>\n",
       "  <tbody>\n",
       "    <tr>\n",
       "      <th>0</th>\n",
       "      <td>0</td>\n",
       "      <td>40</td>\n",
       "      <td>20.0</td>\n",
       "    </tr>\n",
       "    <tr>\n",
       "      <th>1</th>\n",
       "      <td>1</td>\n",
       "      <td>76</td>\n",
       "      <td>15.0</td>\n",
       "    </tr>\n",
       "    <tr>\n",
       "      <th>2</th>\n",
       "      <td>2</td>\n",
       "      <td>40</td>\n",
       "      <td>19.0</td>\n",
       "    </tr>\n",
       "    <tr>\n",
       "      <th>3</th>\n",
       "      <td>3</td>\n",
       "      <td>40</td>\n",
       "      <td>18.0</td>\n",
       "    </tr>\n",
       "    <tr>\n",
       "      <th>4</th>\n",
       "      <td>4</td>\n",
       "      <td>40</td>\n",
       "      <td>20.0</td>\n",
       "    </tr>\n",
       "  </tbody>\n",
       "</table>\n",
       "</div>"
      ],
      "text/plain": [
       "   상품ID  상품분류ID  첫 판매월\n",
       "0     0      40   20.0\n",
       "1     1      76   15.0\n",
       "2     2      40   19.0\n",
       "3     3      40   18.0\n",
       "4     4      40   20.0"
      ]
     },
     "execution_count": 13,
     "metadata": {},
     "output_type": "execute_result"
    }
   ],
   "source": [
    "# 상품이 맨 처음 팔린 날을 피처로 추가\n",
    "items['첫 판매월'] = sales_train.groupby('상품ID').agg({'월ID': 'min'})['월ID']\n",
    "\n",
    "items.head()"
   ]
  },
  {
   "cell_type": "code",
   "execution_count": 14,
   "id": "5f9b8b10",
   "metadata": {
    "execution": {
     "iopub.execute_input": "2024-01-27T08:18:43.369502Z",
     "iopub.status.busy": "2024-01-27T08:18:43.368503Z",
     "iopub.status.idle": "2024-01-27T08:18:43.373787Z",
     "shell.execute_reply": "2024-01-27T08:18:43.373026Z"
    },
    "papermill": {
     "duration": 0.092372,
     "end_time": "2024-01-27T08:18:43.373988",
     "exception": false,
     "start_time": "2024-01-27T08:18:43.281616",
     "status": "completed"
    },
    "tags": []
   },
   "outputs": [
    {
     "data": {
      "text/html": [
       "<div>\n",
       "<style scoped>\n",
       "    .dataframe tbody tr th:only-of-type {\n",
       "        vertical-align: middle;\n",
       "    }\n",
       "\n",
       "    .dataframe tbody tr th {\n",
       "        vertical-align: top;\n",
       "    }\n",
       "\n",
       "    .dataframe thead th {\n",
       "        text-align: right;\n",
       "    }\n",
       "</style>\n",
       "<table border=\"1\" class=\"dataframe\">\n",
       "  <thead>\n",
       "    <tr style=\"text-align: right;\">\n",
       "      <th></th>\n",
       "      <th>상품ID</th>\n",
       "      <th>상품분류ID</th>\n",
       "      <th>첫 판매월</th>\n",
       "    </tr>\n",
       "  </thead>\n",
       "  <tbody>\n",
       "    <tr>\n",
       "      <th>83</th>\n",
       "      <td>83</td>\n",
       "      <td>40</td>\n",
       "      <td>NaN</td>\n",
       "    </tr>\n",
       "    <tr>\n",
       "      <th>140</th>\n",
       "      <td>140</td>\n",
       "      <td>45</td>\n",
       "      <td>NaN</td>\n",
       "    </tr>\n",
       "    <tr>\n",
       "      <th>168</th>\n",
       "      <td>168</td>\n",
       "      <td>44</td>\n",
       "      <td>NaN</td>\n",
       "    </tr>\n",
       "    <tr>\n",
       "      <th>173</th>\n",
       "      <td>173</td>\n",
       "      <td>45</td>\n",
       "      <td>NaN</td>\n",
       "    </tr>\n",
       "    <tr>\n",
       "      <th>204</th>\n",
       "      <td>204</td>\n",
       "      <td>44</td>\n",
       "      <td>NaN</td>\n",
       "    </tr>\n",
       "    <tr>\n",
       "      <th>...</th>\n",
       "      <td>...</td>\n",
       "      <td>...</td>\n",
       "      <td>...</td>\n",
       "    </tr>\n",
       "    <tr>\n",
       "      <th>21974</th>\n",
       "      <td>21974</td>\n",
       "      <td>61</td>\n",
       "      <td>NaN</td>\n",
       "    </tr>\n",
       "    <tr>\n",
       "      <th>21975</th>\n",
       "      <td>21975</td>\n",
       "      <td>61</td>\n",
       "      <td>NaN</td>\n",
       "    </tr>\n",
       "    <tr>\n",
       "      <th>22022</th>\n",
       "      <td>22022</td>\n",
       "      <td>40</td>\n",
       "      <td>NaN</td>\n",
       "    </tr>\n",
       "    <tr>\n",
       "      <th>22035</th>\n",
       "      <td>22035</td>\n",
       "      <td>40</td>\n",
       "      <td>NaN</td>\n",
       "    </tr>\n",
       "    <tr>\n",
       "      <th>22137</th>\n",
       "      <td>22137</td>\n",
       "      <td>40</td>\n",
       "      <td>NaN</td>\n",
       "    </tr>\n",
       "  </tbody>\n",
       "</table>\n",
       "<p>368 rows × 3 columns</p>\n",
       "</div>"
      ],
      "text/plain": [
       "        상품ID  상품분류ID  첫 판매월\n",
       "83        83      40    NaN\n",
       "140      140      45    NaN\n",
       "168      168      44    NaN\n",
       "173      173      45    NaN\n",
       "204      204      44    NaN\n",
       "...      ...     ...    ...\n",
       "21974  21974      61    NaN\n",
       "21975  21975      61    NaN\n",
       "22022  22022      40    NaN\n",
       "22035  22035      40    NaN\n",
       "22137  22137      40    NaN\n",
       "\n",
       "[368 rows x 3 columns]"
      ]
     },
     "execution_count": 14,
     "metadata": {},
     "output_type": "execute_result"
    }
   ],
   "source": [
    "items[items['첫 판매월'].isna()]"
   ]
  },
  {
   "cell_type": "code",
   "execution_count": 15,
   "id": "fb1136c2",
   "metadata": {
    "execution": {
     "iopub.execute_input": "2024-01-27T08:18:43.521561Z",
     "iopub.status.busy": "2024-01-27T08:18:43.520694Z",
     "iopub.status.idle": "2024-01-27T08:18:43.524543Z",
     "shell.execute_reply": "2024-01-27T08:18:43.523737Z"
    },
    "papermill": {
     "duration": 0.08118,
     "end_time": "2024-01-27T08:18:43.524707",
     "exception": false,
     "start_time": "2024-01-27T08:18:43.443527",
     "status": "completed"
    },
    "tags": []
   },
   "outputs": [],
   "source": [
    "# 첫 판매월 피처의 결측값을 34로 대체\n",
    "items['첫 판매월'] = items['첫 판매월'].fillna(34)"
   ]
  },
  {
   "cell_type": "markdown",
   "id": "dc1d1d12",
   "metadata": {
    "papermill": {
     "duration": 0.072853,
     "end_time": "2024-01-27T08:18:43.669146",
     "exception": false,
     "start_time": "2024-01-27T08:18:43.596293",
     "status": "completed"
    },
    "tags": []
   },
   "source": [
    "### item_categories 파생 피처 생성 및 인코딩"
   ]
  },
  {
   "cell_type": "code",
   "execution_count": 16,
   "id": "e80aea37",
   "metadata": {
    "execution": {
     "iopub.execute_input": "2024-01-27T08:18:43.816931Z",
     "iopub.status.busy": "2024-01-27T08:18:43.815796Z",
     "iopub.status.idle": "2024-01-27T08:18:43.819085Z",
     "shell.execute_reply": "2024-01-27T08:18:43.818481Z"
    },
    "papermill": {
     "duration": 0.079574,
     "end_time": "2024-01-27T08:18:43.819259",
     "exception": false,
     "start_time": "2024-01-27T08:18:43.739685",
     "status": "completed"
    },
    "tags": []
   },
   "outputs": [],
   "source": [
    "# 상품분류명의 첫 단어를 대분류로 추출\n",
    "item_categories['대분류'] = item_categories['상품분류명'].apply(lambda x: x.split()[0])  "
   ]
  },
  {
   "cell_type": "code",
   "execution_count": 17,
   "id": "859e2cde",
   "metadata": {
    "execution": {
     "iopub.execute_input": "2024-01-27T08:18:43.969367Z",
     "iopub.status.busy": "2024-01-27T08:18:43.968511Z",
     "iopub.status.idle": "2024-01-27T08:18:43.973486Z",
     "shell.execute_reply": "2024-01-27T08:18:43.972820Z"
    },
    "papermill": {
     "duration": 0.084364,
     "end_time": "2024-01-27T08:18:43.973649",
     "exception": false,
     "start_time": "2024-01-27T08:18:43.889285",
     "status": "completed"
    },
    "tags": []
   },
   "outputs": [
    {
     "data": {
      "text/plain": [
       "Игры          14\n",
       "Книги         13\n",
       "Подарки       12\n",
       "Игровые        8\n",
       "Аксессуары     7\n",
       "Музыка         6\n",
       "Программы      6\n",
       "Карты          5\n",
       "Кино           5\n",
       "Служебные      2\n",
       "Чистые         2\n",
       "PC             1\n",
       "Билеты         1\n",
       "Доставка       1\n",
       "Элементы       1\n",
       "Name: 대분류, dtype: int64"
      ]
     },
     "execution_count": 17,
     "metadata": {},
     "output_type": "execute_result"
    }
   ],
   "source": [
    "item_categories['대분류'].value_counts()"
   ]
  },
  {
   "cell_type": "code",
   "execution_count": 18,
   "id": "f785d1e4",
   "metadata": {
    "execution": {
     "iopub.execute_input": "2024-01-27T08:18:44.163747Z",
     "iopub.status.busy": "2024-01-27T08:18:44.162982Z",
     "iopub.status.idle": "2024-01-27T08:18:44.167768Z",
     "shell.execute_reply": "2024-01-27T08:18:44.167048Z"
    },
    "papermill": {
     "duration": 0.123808,
     "end_time": "2024-01-27T08:18:44.168088",
     "exception": false,
     "start_time": "2024-01-27T08:18:44.044280",
     "status": "completed"
    },
    "tags": []
   },
   "outputs": [],
   "source": [
    "def make_etc(x):\n",
    "    if len(item_categories[item_categories['대분류']==x]) >= 5:\n",
    "        return x\n",
    "    else:\n",
    "        return 'etc'\n",
    "\n",
    "# 대분류의 고윳값 개수가 5개 미만이면 'etc'로 바꾸기\n",
    "item_categories['대분류'] = item_categories['대분류'].apply(make_etc)"
   ]
  },
  {
   "cell_type": "code",
   "execution_count": 19,
   "id": "02201e0b",
   "metadata": {
    "execution": {
     "iopub.execute_input": "2024-01-27T08:18:44.327928Z",
     "iopub.status.busy": "2024-01-27T08:18:44.326588Z",
     "iopub.status.idle": "2024-01-27T08:18:44.331867Z",
     "shell.execute_reply": "2024-01-27T08:18:44.332526Z"
    },
    "papermill": {
     "duration": 0.089273,
     "end_time": "2024-01-27T08:18:44.332724",
     "exception": false,
     "start_time": "2024-01-27T08:18:44.243451",
     "status": "completed"
    },
    "tags": []
   },
   "outputs": [
    {
     "data": {
      "text/html": [
       "<div>\n",
       "<style scoped>\n",
       "    .dataframe tbody tr th:only-of-type {\n",
       "        vertical-align: middle;\n",
       "    }\n",
       "\n",
       "    .dataframe tbody tr th {\n",
       "        vertical-align: top;\n",
       "    }\n",
       "\n",
       "    .dataframe thead th {\n",
       "        text-align: right;\n",
       "    }\n",
       "</style>\n",
       "<table border=\"1\" class=\"dataframe\">\n",
       "  <thead>\n",
       "    <tr style=\"text-align: right;\">\n",
       "      <th></th>\n",
       "      <th>상품분류명</th>\n",
       "      <th>상품분류ID</th>\n",
       "      <th>대분류</th>\n",
       "    </tr>\n",
       "  </thead>\n",
       "  <tbody>\n",
       "    <tr>\n",
       "      <th>0</th>\n",
       "      <td>PC - Гарнитуры/Наушники</td>\n",
       "      <td>0</td>\n",
       "      <td>etc</td>\n",
       "    </tr>\n",
       "    <tr>\n",
       "      <th>1</th>\n",
       "      <td>Аксессуары - PS2</td>\n",
       "      <td>1</td>\n",
       "      <td>Аксессуары</td>\n",
       "    </tr>\n",
       "    <tr>\n",
       "      <th>2</th>\n",
       "      <td>Аксессуары - PS3</td>\n",
       "      <td>2</td>\n",
       "      <td>Аксессуары</td>\n",
       "    </tr>\n",
       "    <tr>\n",
       "      <th>3</th>\n",
       "      <td>Аксессуары - PS4</td>\n",
       "      <td>3</td>\n",
       "      <td>Аксессуары</td>\n",
       "    </tr>\n",
       "    <tr>\n",
       "      <th>4</th>\n",
       "      <td>Аксессуары - PSP</td>\n",
       "      <td>4</td>\n",
       "      <td>Аксессуары</td>\n",
       "    </tr>\n",
       "  </tbody>\n",
       "</table>\n",
       "</div>"
      ],
      "text/plain": [
       "                     상품분류명  상품분류ID         대분류\n",
       "0  PC - Гарнитуры/Наушники       0         etc\n",
       "1         Аксессуары - PS2       1  Аксессуары\n",
       "2         Аксессуары - PS3       2  Аксессуары\n",
       "3         Аксессуары - PS4       3  Аксессуары\n",
       "4         Аксессуары - PSP       4  Аксессуары"
      ]
     },
     "execution_count": 19,
     "metadata": {},
     "output_type": "execute_result"
    }
   ],
   "source": [
    "item_categories.head()"
   ]
  },
  {
   "cell_type": "code",
   "execution_count": 20,
   "id": "a1169e1a",
   "metadata": {
    "execution": {
     "iopub.execute_input": "2024-01-27T08:18:44.496011Z",
     "iopub.status.busy": "2024-01-27T08:18:44.495057Z",
     "iopub.status.idle": "2024-01-27T08:18:44.498062Z",
     "shell.execute_reply": "2024-01-27T08:18:44.497368Z"
    },
    "papermill": {
     "duration": 0.08548,
     "end_time": "2024-01-27T08:18:44.498226",
     "exception": false,
     "start_time": "2024-01-27T08:18:44.412746",
     "status": "completed"
    },
    "tags": []
   },
   "outputs": [],
   "source": [
    "# 레이블 인코더 생성\n",
    "label_encoder = LabelEncoder()\n",
    "\n",
    "# 대분류 피처 레이블 인코딩\n",
    "item_categories['대분류'] = label_encoder.fit_transform(item_categories['대분류'])\n",
    "\n",
    "# 상품분류명 피처 제거\n",
    "item_categories = item_categories.drop('상품분류명', axis=1)"
   ]
  },
  {
   "cell_type": "markdown",
   "id": "92c78497",
   "metadata": {
    "papermill": {
     "duration": 0.073725,
     "end_time": "2024-01-27T08:18:44.644114",
     "exception": false,
     "start_time": "2024-01-27T08:18:44.570389",
     "status": "completed"
    },
    "tags": []
   },
   "source": [
    "## 9.4.3 피처 엔지니어링 III : 데이터 조합 및 파생 피처 생성"
   ]
  },
  {
   "cell_type": "markdown",
   "id": "4664ec10",
   "metadata": {
    "papermill": {
     "duration": 0.072218,
     "end_time": "2024-01-27T08:18:44.788510",
     "exception": false,
     "start_time": "2024-01-27T08:18:44.716292",
     "status": "completed"
    },
    "tags": []
   },
   "source": [
    "### 데이터 조합"
   ]
  },
  {
   "cell_type": "code",
   "execution_count": 21,
   "id": "0bf0f58b",
   "metadata": {
    "execution": {
     "iopub.execute_input": "2024-01-27T08:18:44.942237Z",
     "iopub.status.busy": "2024-01-27T08:18:44.941380Z",
     "iopub.status.idle": "2024-01-27T08:19:09.171940Z",
     "shell.execute_reply": "2024-01-27T08:19:09.170518Z"
    },
    "papermill": {
     "duration": 24.310715,
     "end_time": "2024-01-27T08:19:09.172185",
     "exception": false,
     "start_time": "2024-01-27T08:18:44.861470",
     "status": "completed"
    },
    "tags": []
   },
   "outputs": [],
   "source": [
    "from itertools import product\n",
    "\n",
    "train = []\n",
    "# 월ID, 상점ID, 상품ID 조합 생성\n",
    "for i in sales_train['월ID'].unique():\n",
    "    all_shop = sales_train.loc[sales_train['월ID']==i, '상점ID'].unique()\n",
    "    all_item = sales_train.loc[sales_train['월ID']==i, '상품ID'].unique()\n",
    "    train.append(np.array(list(product([i], all_shop, all_item))))\n",
    "\n",
    "idx_features = ['월ID', '상점ID', '상품ID'] # 기준 피처\n",
    "train = pd.DataFrame(np.vstack(train), columns=idx_features)"
   ]
  },
  {
   "cell_type": "markdown",
   "id": "860e3813",
   "metadata": {
    "papermill": {
     "duration": 0.073253,
     "end_time": "2024-01-27T08:19:09.322811",
     "exception": false,
     "start_time": "2024-01-27T08:19:09.249558",
     "status": "completed"
    },
    "tags": []
   },
   "source": [
    "### 파생 피처 생성"
   ]
  },
  {
   "cell_type": "code",
   "execution_count": 22,
   "id": "589c4c85",
   "metadata": {
    "execution": {
     "iopub.execute_input": "2024-01-27T08:19:09.475830Z",
     "iopub.status.busy": "2024-01-27T08:19:09.474695Z",
     "iopub.status.idle": "2024-01-27T08:19:15.488626Z",
     "shell.execute_reply": "2024-01-27T08:19:15.489249Z"
    },
    "papermill": {
     "duration": 6.096038,
     "end_time": "2024-01-27T08:19:15.489467",
     "exception": false,
     "start_time": "2024-01-27T08:19:09.393429",
     "status": "completed"
    },
    "tags": []
   },
   "outputs": [
    {
     "data": {
      "text/html": [
       "<div>\n",
       "<style scoped>\n",
       "    .dataframe tbody tr th:only-of-type {\n",
       "        vertical-align: middle;\n",
       "    }\n",
       "\n",
       "    .dataframe tbody tr th {\n",
       "        vertical-align: top;\n",
       "    }\n",
       "\n",
       "    .dataframe thead th {\n",
       "        text-align: right;\n",
       "    }\n",
       "</style>\n",
       "<table border=\"1\" class=\"dataframe\">\n",
       "  <thead>\n",
       "    <tr style=\"text-align: right;\">\n",
       "      <th></th>\n",
       "      <th>월ID</th>\n",
       "      <th>상점ID</th>\n",
       "      <th>상품ID</th>\n",
       "      <th>월간 판매량</th>\n",
       "      <th>평균 판매가</th>\n",
       "    </tr>\n",
       "  </thead>\n",
       "  <tbody>\n",
       "    <tr>\n",
       "      <th>0</th>\n",
       "      <td>0</td>\n",
       "      <td>59</td>\n",
       "      <td>22154</td>\n",
       "      <td>1.0</td>\n",
       "      <td>999.0</td>\n",
       "    </tr>\n",
       "    <tr>\n",
       "      <th>1</th>\n",
       "      <td>0</td>\n",
       "      <td>59</td>\n",
       "      <td>2552</td>\n",
       "      <td>NaN</td>\n",
       "      <td>NaN</td>\n",
       "    </tr>\n",
       "    <tr>\n",
       "      <th>2</th>\n",
       "      <td>0</td>\n",
       "      <td>59</td>\n",
       "      <td>2554</td>\n",
       "      <td>NaN</td>\n",
       "      <td>NaN</td>\n",
       "    </tr>\n",
       "    <tr>\n",
       "      <th>3</th>\n",
       "      <td>0</td>\n",
       "      <td>59</td>\n",
       "      <td>2555</td>\n",
       "      <td>NaN</td>\n",
       "      <td>NaN</td>\n",
       "    </tr>\n",
       "    <tr>\n",
       "      <th>4</th>\n",
       "      <td>0</td>\n",
       "      <td>59</td>\n",
       "      <td>2564</td>\n",
       "      <td>NaN</td>\n",
       "      <td>NaN</td>\n",
       "    </tr>\n",
       "  </tbody>\n",
       "</table>\n",
       "</div>"
      ],
      "text/plain": [
       "   월ID  상점ID   상품ID  월간 판매량  평균 판매가\n",
       "0    0    59  22154     1.0   999.0\n",
       "1    0    59   2552     NaN     NaN\n",
       "2    0    59   2554     NaN     NaN\n",
       "3    0    59   2555     NaN     NaN\n",
       "4    0    59   2564     NaN     NaN"
      ]
     },
     "execution_count": 22,
     "metadata": {},
     "output_type": "execute_result"
    }
   ],
   "source": [
    "group = sales_train.groupby(idx_features).agg({'판매량': 'sum',\n",
    "                                               '판매가': 'mean'})\n",
    "group = group.reset_index()\n",
    "group = group.rename(columns={'판매량': '월간 판매량', '판매가': '평균 판매가'})\n",
    "\n",
    "train = train.merge(group, on=idx_features, how='left')\n",
    "\n",
    "train.head()"
   ]
  },
  {
   "cell_type": "code",
   "execution_count": 23,
   "id": "056928d3",
   "metadata": {
    "execution": {
     "iopub.execute_input": "2024-01-27T08:19:15.642023Z",
     "iopub.status.busy": "2024-01-27T08:19:15.640804Z",
     "iopub.status.idle": "2024-01-27T08:19:15.764936Z",
     "shell.execute_reply": "2024-01-27T08:19:15.764249Z"
    },
    "papermill": {
     "duration": 0.201768,
     "end_time": "2024-01-27T08:19:15.765129",
     "exception": false,
     "start_time": "2024-01-27T08:19:15.563361",
     "status": "completed"
    },
    "tags": []
   },
   "outputs": [],
   "source": [
    "import gc\n",
    "\n",
    "# group 변수 가비지 컬렉션\n",
    "del group\n",
    "gc.collect();"
   ]
  },
  {
   "cell_type": "code",
   "execution_count": 24,
   "id": "d5f2cdee",
   "metadata": {
    "execution": {
     "iopub.execute_input": "2024-01-27T08:19:15.928054Z",
     "iopub.status.busy": "2024-01-27T08:19:15.926854Z",
     "iopub.status.idle": "2024-01-27T08:19:22.072429Z",
     "shell.execute_reply": "2024-01-27T08:19:22.073100Z"
    },
    "papermill": {
     "duration": 6.230628,
     "end_time": "2024-01-27T08:19:22.073325",
     "exception": false,
     "start_time": "2024-01-27T08:19:15.842697",
     "status": "completed"
    },
    "tags": []
   },
   "outputs": [
    {
     "data": {
      "text/html": [
       "<div>\n",
       "<style scoped>\n",
       "    .dataframe tbody tr th:only-of-type {\n",
       "        vertical-align: middle;\n",
       "    }\n",
       "\n",
       "    .dataframe tbody tr th {\n",
       "        vertical-align: top;\n",
       "    }\n",
       "\n",
       "    .dataframe thead th {\n",
       "        text-align: right;\n",
       "    }\n",
       "</style>\n",
       "<table border=\"1\" class=\"dataframe\">\n",
       "  <thead>\n",
       "    <tr style=\"text-align: right;\">\n",
       "      <th></th>\n",
       "      <th>월ID</th>\n",
       "      <th>상점ID</th>\n",
       "      <th>상품ID</th>\n",
       "      <th>월간 판매량</th>\n",
       "      <th>평균 판매가</th>\n",
       "      <th>판매건수</th>\n",
       "    </tr>\n",
       "  </thead>\n",
       "  <tbody>\n",
       "    <tr>\n",
       "      <th>0</th>\n",
       "      <td>0</td>\n",
       "      <td>59</td>\n",
       "      <td>22154</td>\n",
       "      <td>1.0</td>\n",
       "      <td>999.0</td>\n",
       "      <td>1.0</td>\n",
       "    </tr>\n",
       "    <tr>\n",
       "      <th>1</th>\n",
       "      <td>0</td>\n",
       "      <td>59</td>\n",
       "      <td>2552</td>\n",
       "      <td>NaN</td>\n",
       "      <td>NaN</td>\n",
       "      <td>NaN</td>\n",
       "    </tr>\n",
       "    <tr>\n",
       "      <th>2</th>\n",
       "      <td>0</td>\n",
       "      <td>59</td>\n",
       "      <td>2554</td>\n",
       "      <td>NaN</td>\n",
       "      <td>NaN</td>\n",
       "      <td>NaN</td>\n",
       "    </tr>\n",
       "    <tr>\n",
       "      <th>3</th>\n",
       "      <td>0</td>\n",
       "      <td>59</td>\n",
       "      <td>2555</td>\n",
       "      <td>NaN</td>\n",
       "      <td>NaN</td>\n",
       "      <td>NaN</td>\n",
       "    </tr>\n",
       "    <tr>\n",
       "      <th>4</th>\n",
       "      <td>0</td>\n",
       "      <td>59</td>\n",
       "      <td>2564</td>\n",
       "      <td>NaN</td>\n",
       "      <td>NaN</td>\n",
       "      <td>NaN</td>\n",
       "    </tr>\n",
       "  </tbody>\n",
       "</table>\n",
       "</div>"
      ],
      "text/plain": [
       "   월ID  상점ID   상품ID  월간 판매량  평균 판매가  판매건수\n",
       "0    0    59  22154     1.0   999.0   1.0\n",
       "1    0    59   2552     NaN     NaN   NaN\n",
       "2    0    59   2554     NaN     NaN   NaN\n",
       "3    0    59   2555     NaN     NaN   NaN\n",
       "4    0    59   2564     NaN     NaN   NaN"
      ]
     },
     "execution_count": 24,
     "metadata": {},
     "output_type": "execute_result"
    }
   ],
   "source": [
    "# 상품 판매건수 피처 추가\n",
    "group = sales_train.groupby(idx_features).agg({'판매량': 'count'})\n",
    "group = group.reset_index()\n",
    "group = group.rename(columns={'판매량': '판매건수'})\n",
    "\n",
    "train = train.merge(group, on=idx_features, how='left')\n",
    "\n",
    "# 가비지 컬렉션\n",
    "del group, sales_train\n",
    "gc.collect()\n",
    "\n",
    "train.head()"
   ]
  },
  {
   "cell_type": "markdown",
   "id": "823d4dff",
   "metadata": {
    "papermill": {
     "duration": 0.075021,
     "end_time": "2024-01-27T08:19:22.230432",
     "exception": false,
     "start_time": "2024-01-27T08:19:22.155411",
     "status": "completed"
    },
    "tags": []
   },
   "source": [
    "## 9.4.4 피처 엔지니어링 IV : 데이터 합치기"
   ]
  },
  {
   "cell_type": "markdown",
   "id": "d29960f4",
   "metadata": {
    "papermill": {
     "duration": 0.075401,
     "end_time": "2024-01-27T08:19:22.379276",
     "exception": false,
     "start_time": "2024-01-27T08:19:22.303875",
     "status": "completed"
    },
    "tags": []
   },
   "source": [
    "### 테스트 데이터 이어붙이기"
   ]
  },
  {
   "cell_type": "code",
   "execution_count": 25,
   "id": "7fd95f25",
   "metadata": {
    "execution": {
     "iopub.execute_input": "2024-01-27T08:19:22.555715Z",
     "iopub.status.busy": "2024-01-27T08:19:22.548782Z",
     "iopub.status.idle": "2024-01-27T08:19:23.129300Z",
     "shell.execute_reply": "2024-01-27T08:19:23.129868Z"
    },
    "papermill": {
     "duration": 0.670501,
     "end_time": "2024-01-27T08:19:23.130109",
     "exception": false,
     "start_time": "2024-01-27T08:19:22.459608",
     "status": "completed"
    },
    "tags": []
   },
   "outputs": [
    {
     "data": {
      "text/html": [
       "<div>\n",
       "<style scoped>\n",
       "    .dataframe tbody tr th:only-of-type {\n",
       "        vertical-align: middle;\n",
       "    }\n",
       "\n",
       "    .dataframe tbody tr th {\n",
       "        vertical-align: top;\n",
       "    }\n",
       "\n",
       "    .dataframe thead th {\n",
       "        text-align: right;\n",
       "    }\n",
       "</style>\n",
       "<table border=\"1\" class=\"dataframe\">\n",
       "  <thead>\n",
       "    <tr style=\"text-align: right;\">\n",
       "      <th></th>\n",
       "      <th>월ID</th>\n",
       "      <th>상점ID</th>\n",
       "      <th>상품ID</th>\n",
       "      <th>월간 판매량</th>\n",
       "      <th>평균 판매가</th>\n",
       "      <th>판매건수</th>\n",
       "    </tr>\n",
       "  </thead>\n",
       "  <tbody>\n",
       "    <tr>\n",
       "      <th>0</th>\n",
       "      <td>0</td>\n",
       "      <td>59</td>\n",
       "      <td>22154</td>\n",
       "      <td>1.0</td>\n",
       "      <td>999.0</td>\n",
       "      <td>1.0</td>\n",
       "    </tr>\n",
       "    <tr>\n",
       "      <th>1</th>\n",
       "      <td>0</td>\n",
       "      <td>59</td>\n",
       "      <td>2552</td>\n",
       "      <td>0.0</td>\n",
       "      <td>0.0</td>\n",
       "      <td>0.0</td>\n",
       "    </tr>\n",
       "    <tr>\n",
       "      <th>2</th>\n",
       "      <td>0</td>\n",
       "      <td>59</td>\n",
       "      <td>2554</td>\n",
       "      <td>0.0</td>\n",
       "      <td>0.0</td>\n",
       "      <td>0.0</td>\n",
       "    </tr>\n",
       "    <tr>\n",
       "      <th>3</th>\n",
       "      <td>0</td>\n",
       "      <td>59</td>\n",
       "      <td>2555</td>\n",
       "      <td>0.0</td>\n",
       "      <td>0.0</td>\n",
       "      <td>0.0</td>\n",
       "    </tr>\n",
       "    <tr>\n",
       "      <th>4</th>\n",
       "      <td>0</td>\n",
       "      <td>59</td>\n",
       "      <td>2564</td>\n",
       "      <td>0.0</td>\n",
       "      <td>0.0</td>\n",
       "      <td>0.0</td>\n",
       "    </tr>\n",
       "  </tbody>\n",
       "</table>\n",
       "</div>"
      ],
      "text/plain": [
       "   월ID  상점ID   상품ID  월간 판매량  평균 판매가  판매건수\n",
       "0    0    59  22154     1.0   999.0   1.0\n",
       "1    0    59   2552     0.0     0.0   0.0\n",
       "2    0    59   2554     0.0     0.0   0.0\n",
       "3    0    59   2555     0.0     0.0   0.0\n",
       "4    0    59   2564     0.0     0.0   0.0"
      ]
     },
     "execution_count": 25,
     "metadata": {},
     "output_type": "execute_result"
    }
   ],
   "source": [
    "# 테스트 데이터 월ID를 34로 설정\n",
    "test['월ID'] = 34\n",
    "\n",
    "# train과 test 이어붙이기\n",
    "all_data = pd.concat([train, test.drop('ID', axis=1)],\n",
    "                     ignore_index=True,\n",
    "                     keys=idx_features)\n",
    "# 결측값을 0으로 대체\n",
    "all_data = all_data.fillna(0)\n",
    "\n",
    "all_data.head()"
   ]
  },
  {
   "cell_type": "markdown",
   "id": "799f0993",
   "metadata": {
    "papermill": {
     "duration": 0.084234,
     "end_time": "2024-01-27T08:19:23.294470",
     "exception": false,
     "start_time": "2024-01-27T08:19:23.210236",
     "status": "completed"
    },
    "tags": []
   },
   "source": [
    "### 모든 데이터 병합"
   ]
  },
  {
   "cell_type": "code",
   "execution_count": 26,
   "id": "958e08ed",
   "metadata": {
    "execution": {
     "iopub.execute_input": "2024-01-27T08:19:23.465887Z",
     "iopub.status.busy": "2024-01-27T08:19:23.465057Z",
     "iopub.status.idle": "2024-01-27T08:19:31.266003Z",
     "shell.execute_reply": "2024-01-27T08:19:31.266910Z"
    },
    "papermill": {
     "duration": 7.891588,
     "end_time": "2024-01-27T08:19:31.267169",
     "exception": false,
     "start_time": "2024-01-27T08:19:23.375581",
     "status": "completed"
    },
    "tags": []
   },
   "outputs": [
    {
     "name": "stdout",
     "output_type": "stream",
     "text": [
      "64.6% 압축됨\n"
     ]
    }
   ],
   "source": [
    "# 나머지 데이터 병합\n",
    "all_data = all_data.merge(shops, on='상점ID', how='left')\n",
    "all_data = all_data.merge(items, on='상품ID', how='left')\n",
    "all_data = all_data.merge(item_categories, on='상품분류ID', how='left')\n",
    "\n",
    "# 데이터 다운캐스팅\n",
    "all_data = downcast(all_data)"
   ]
  },
  {
   "cell_type": "code",
   "execution_count": 27,
   "id": "9bacecb6",
   "metadata": {
    "execution": {
     "iopub.execute_input": "2024-01-27T08:19:31.546641Z",
     "iopub.status.busy": "2024-01-27T08:19:31.545625Z",
     "iopub.status.idle": "2024-01-27T08:19:31.549522Z",
     "shell.execute_reply": "2024-01-27T08:19:31.548742Z"
    },
    "papermill": {
     "duration": 0.201667,
     "end_time": "2024-01-27T08:19:31.549686",
     "exception": false,
     "start_time": "2024-01-27T08:19:31.348019",
     "status": "completed"
    },
    "tags": []
   },
   "outputs": [],
   "source": [
    "# 가비지 컬렉션\n",
    "del shops, items, item_categories\n",
    "gc.collect();"
   ]
  },
  {
   "cell_type": "markdown",
   "id": "ff373137",
   "metadata": {
    "papermill": {
     "duration": 0.077684,
     "end_time": "2024-01-27T08:19:31.709115",
     "exception": false,
     "start_time": "2024-01-27T08:19:31.631431",
     "status": "completed"
    },
    "tags": []
   },
   "source": [
    "## 9.4.5 피처 엔지니어링 V : 시차 피처 생성"
   ]
  },
  {
   "cell_type": "markdown",
   "id": "9cbb7d4d",
   "metadata": {
    "papermill": {
     "duration": 0.07391,
     "end_time": "2024-01-27T08:19:31.858880",
     "exception": false,
     "start_time": "2024-01-27T08:19:31.784970",
     "status": "completed"
    },
    "tags": []
   },
   "source": [
    "### 기준 피처별 월간 평균 판매량 파생 피처 생성"
   ]
  },
  {
   "cell_type": "code",
   "execution_count": 28,
   "id": "34563032",
   "metadata": {
    "execution": {
     "iopub.execute_input": "2024-01-27T08:19:32.025299Z",
     "iopub.status.busy": "2024-01-27T08:19:32.023992Z",
     "iopub.status.idle": "2024-01-27T08:19:32.029735Z",
     "shell.execute_reply": "2024-01-27T08:19:32.029036Z"
    },
    "papermill": {
     "duration": 0.093761,
     "end_time": "2024-01-27T08:19:32.029924",
     "exception": false,
     "start_time": "2024-01-27T08:19:31.936163",
     "status": "completed"
    },
    "tags": []
   },
   "outputs": [],
   "source": [
    "def add_mean_features(df, mean_features, idx_features):\n",
    "    # 기준 피처 확인 \n",
    "    assert (idx_features[0] == '월ID') and \\\n",
    "           len(idx_features) in [2, 3]\n",
    "    \n",
    "    # 파생 피처명 설정 \n",
    "    if len(idx_features) == 2:\n",
    "        feature_name = idx_features[1] + '별 평균 판매량'\n",
    "    else:\n",
    "        feature_name = idx_features[1] + ' ' + idx_features[2] + '별 평균 판매량'\n",
    "    \n",
    "    # 기준 피처를 토대로 그룹화해 월간 평균 판매량 구하기 \n",
    "    group = df.groupby(idx_features).agg({'월간 판매량': 'mean'})\n",
    "    group = group.reset_index()\n",
    "    group = group.rename(columns={'월간 판매량': feature_name})\n",
    "    \n",
    "    # df와 group 병합 \n",
    "    df = df.merge(group, on=idx_features, how='left')\n",
    "    # 데이터 다운캐스팅 \n",
    "    df = downcast(df, verbose=False)\n",
    "    # 새로 만든 feature_name 피처명을 mean_features 리스트에 추가 \n",
    "    mean_features.append(feature_name)\n",
    "    \n",
    "    # 가비지 컬렉션\n",
    "    del group\n",
    "    gc.collect()\n",
    "    \n",
    "    return df, mean_features"
   ]
  },
  {
   "cell_type": "code",
   "execution_count": 29,
   "id": "7b56113b",
   "metadata": {
    "execution": {
     "iopub.execute_input": "2024-01-27T08:19:32.200623Z",
     "iopub.status.busy": "2024-01-27T08:19:32.198838Z",
     "iopub.status.idle": "2024-01-27T08:19:48.272240Z",
     "shell.execute_reply": "2024-01-27T08:19:48.271364Z"
    },
    "papermill": {
     "duration": 16.165822,
     "end_time": "2024-01-27T08:19:48.272420",
     "exception": false,
     "start_time": "2024-01-27T08:19:32.106598",
     "status": "completed"
    },
    "tags": []
   },
   "outputs": [],
   "source": [
    "# 그룹화 기준 피처 중 '상품ID'가 포함된 파생 피처명을 담을 리스트\n",
    "item_mean_features = []\n",
    "\n",
    "# ['월ID', '상품ID']로 그룹화한 월간 평균 판매량 파생 피처 생성\n",
    "all_data, item_mean_features = add_mean_features(df=all_data,\n",
    "                                                 mean_features=item_mean_features,\n",
    "                                                 idx_features=['월ID', '상품ID'])\n",
    "\n",
    "# ['월ID', '상품ID', '도시']로 그룹화한 월간 평균 판매량 파생 피처 생성\n",
    "all_data, item_mean_features = add_mean_features(df=all_data,\n",
    "                                                 mean_features=item_mean_features,\n",
    "                                                 idx_features=['월ID', '상품ID', '도시'])"
   ]
  },
  {
   "cell_type": "code",
   "execution_count": 30,
   "id": "a04fc597",
   "metadata": {
    "execution": {
     "iopub.execute_input": "2024-01-27T08:19:48.431632Z",
     "iopub.status.busy": "2024-01-27T08:19:48.430834Z",
     "iopub.status.idle": "2024-01-27T08:19:48.433855Z",
     "shell.execute_reply": "2024-01-27T08:19:48.434448Z"
    },
    "papermill": {
     "duration": 0.08582,
     "end_time": "2024-01-27T08:19:48.434639",
     "exception": false,
     "start_time": "2024-01-27T08:19:48.348819",
     "status": "completed"
    },
    "tags": []
   },
   "outputs": [
    {
     "data": {
      "text/plain": [
       "['상품ID별 평균 판매량', '상품ID 도시별 평균 판매량']"
      ]
     },
     "execution_count": 30,
     "metadata": {},
     "output_type": "execute_result"
    }
   ],
   "source": [
    "item_mean_features"
   ]
  },
  {
   "cell_type": "code",
   "execution_count": 31,
   "id": "69a7b9d4",
   "metadata": {
    "execution": {
     "iopub.execute_input": "2024-01-27T08:19:48.592644Z",
     "iopub.status.busy": "2024-01-27T08:19:48.591814Z",
     "iopub.status.idle": "2024-01-27T08:19:52.540832Z",
     "shell.execute_reply": "2024-01-27T08:19:52.541535Z"
    },
    "papermill": {
     "duration": 4.031826,
     "end_time": "2024-01-27T08:19:52.541761",
     "exception": false,
     "start_time": "2024-01-27T08:19:48.509935",
     "status": "completed"
    },
    "tags": []
   },
   "outputs": [],
   "source": [
    "# 그룹화 기준 피처 중 '상점ID'가 포함된 파생 피처명을 담을 리스트\n",
    "shop_mean_features = []\n",
    "\n",
    "# ['월ID', '상점ID', '상품분류ID']로 그룹화한 월간 평균 판매량 파생 피처 생성\n",
    "all_data, shop_mean_features = add_mean_features(df=all_data, \n",
    "                                                 mean_features=shop_mean_features,\n",
    "                                                 idx_features=['월ID', '상점ID', '상품분류ID'])"
   ]
  },
  {
   "cell_type": "code",
   "execution_count": 32,
   "id": "02a067c8",
   "metadata": {
    "execution": {
     "iopub.execute_input": "2024-01-27T08:19:52.706245Z",
     "iopub.status.busy": "2024-01-27T08:19:52.705268Z",
     "iopub.status.idle": "2024-01-27T08:19:52.709247Z",
     "shell.execute_reply": "2024-01-27T08:19:52.709776Z"
    },
    "papermill": {
     "duration": 0.087058,
     "end_time": "2024-01-27T08:19:52.709989",
     "exception": false,
     "start_time": "2024-01-27T08:19:52.622931",
     "status": "completed"
    },
    "tags": []
   },
   "outputs": [
    {
     "data": {
      "text/plain": [
       "['상점ID 상품분류ID별 평균 판매량']"
      ]
     },
     "execution_count": 32,
     "metadata": {},
     "output_type": "execute_result"
    }
   ],
   "source": [
    "shop_mean_features"
   ]
  },
  {
   "cell_type": "markdown",
   "id": "f57999d6",
   "metadata": {
    "papermill": {
     "duration": 0.076368,
     "end_time": "2024-01-27T08:19:52.866068",
     "exception": false,
     "start_time": "2024-01-27T08:19:52.789700",
     "status": "completed"
    },
    "tags": []
   },
   "source": [
    "### 시차 피처 생성 원리와 구현"
   ]
  },
  {
   "cell_type": "code",
   "execution_count": 33,
   "id": "3e173b01",
   "metadata": {
    "execution": {
     "iopub.execute_input": "2024-01-27T08:19:53.030300Z",
     "iopub.status.busy": "2024-01-27T08:19:53.029314Z",
     "iopub.status.idle": "2024-01-27T08:19:53.035045Z",
     "shell.execute_reply": "2024-01-27T08:19:53.034299Z"
    },
    "papermill": {
     "duration": 0.090995,
     "end_time": "2024-01-27T08:19:53.035225",
     "exception": false,
     "start_time": "2024-01-27T08:19:52.944230",
     "status": "completed"
    },
    "tags": []
   },
   "outputs": [],
   "source": [
    "def add_lag_features(df, lag_features_to_clip, idx_features, \n",
    "                     lag_feature, nlags=3, clip=False):\n",
    "    # 시차 피처 생성에 필요한 DataFrame 부분만 복사 \n",
    "    df_temp = df[idx_features + [lag_feature]].copy() \n",
    "\n",
    "    # 시차 피처 생성 \n",
    "    for i in range(1, nlags+1):\n",
    "        # 시차 피처명 \n",
    "        lag_feature_name = lag_feature +'_시차' + str(i)\n",
    "        # df_temp 열 이름 설정 \n",
    "        df_temp.columns = idx_features + [lag_feature_name]\n",
    "        # df_temp의 date_block_num 피처에 1 더하기 \n",
    "        df_temp['월ID'] += 1\n",
    "        # idx_feature를 기준으로 df와 df_temp 병합하기 \n",
    "        df = df.merge(df_temp.drop_duplicates(), \n",
    "                      on=idx_features, \n",
    "                      how='left')\n",
    "        # 결측값 0으로 대체 \n",
    "        df[lag_feature_name] = df[lag_feature_name].fillna(0)\n",
    "        # 0 ~ 20 사이로 제한할 시차 피처명을 lag_features_to_clip에 추가 \n",
    "        if clip: \n",
    "            lag_features_to_clip.append(lag_feature_name)\n",
    "    \n",
    "    # 데이터 다운캐스팅\n",
    "    df = downcast(df, False)\n",
    "    # 가비지 컬렉션\n",
    "    del df_temp\n",
    "    gc.collect()\n",
    "    \n",
    "    return df, lag_features_to_clip"
   ]
  },
  {
   "cell_type": "markdown",
   "id": "347da9bd",
   "metadata": {
    "papermill": {
     "duration": 0.083855,
     "end_time": "2024-01-27T08:19:53.198877",
     "exception": false,
     "start_time": "2024-01-27T08:19:53.115022",
     "status": "completed"
    },
    "tags": []
   },
   "source": [
    "### 시차 피처 생성 I : 월간 판매량"
   ]
  },
  {
   "cell_type": "code",
   "execution_count": 34,
   "id": "95beddec",
   "metadata": {
    "execution": {
     "iopub.execute_input": "2024-01-27T08:19:53.359773Z",
     "iopub.status.busy": "2024-01-27T08:19:53.358946Z",
     "iopub.status.idle": "2024-01-27T08:20:31.861016Z",
     "shell.execute_reply": "2024-01-27T08:20:31.859497Z"
    },
    "papermill": {
     "duration": 38.584154,
     "end_time": "2024-01-27T08:20:31.861241",
     "exception": false,
     "start_time": "2024-01-27T08:19:53.277087",
     "status": "completed"
    },
    "tags": []
   },
   "outputs": [],
   "source": [
    "lag_features_to_clip = [] # 0 ~ 20 사이로 제한할 시차 피처명을 담을 리스트\n",
    "idx_features = ['월ID', '상점ID', '상품ID'] # 기준 피처\n",
    "\n",
    "# idx_features를 기준으로 월간 판매량의 세 달치 시차 피처 생성\n",
    "all_data, lag_features_to_clip = add_lag_features(df=all_data, \n",
    "                                                  lag_features_to_clip=lag_features_to_clip,\n",
    "                                                  idx_features=idx_features,\n",
    "                                                  lag_feature='월간 판매량', \n",
    "                                                  nlags=3,\n",
    "                                                  clip=True) # 값을 0 ~ 20 사이로 제한"
   ]
  },
  {
   "cell_type": "code",
   "execution_count": 35,
   "id": "4c73e93f",
   "metadata": {
    "execution": {
     "iopub.execute_input": "2024-01-27T08:20:32.023885Z",
     "iopub.status.busy": "2024-01-27T08:20:32.022745Z",
     "iopub.status.idle": "2024-01-27T08:20:32.039576Z",
     "shell.execute_reply": "2024-01-27T08:20:32.040167Z"
    },
    "papermill": {
     "duration": 0.100684,
     "end_time": "2024-01-27T08:20:32.040393",
     "exception": false,
     "start_time": "2024-01-27T08:20:31.939709",
     "status": "completed"
    },
    "tags": []
   },
   "outputs": [
    {
     "data": {
      "text/html": [
       "<div>\n",
       "<style scoped>\n",
       "    .dataframe tbody tr th:only-of-type {\n",
       "        vertical-align: middle;\n",
       "    }\n",
       "\n",
       "    .dataframe tbody tr th {\n",
       "        vertical-align: top;\n",
       "    }\n",
       "\n",
       "    .dataframe thead th {\n",
       "        text-align: right;\n",
       "    }\n",
       "</style>\n",
       "<table border=\"1\" class=\"dataframe\">\n",
       "  <thead>\n",
       "    <tr style=\"text-align: right;\">\n",
       "      <th></th>\n",
       "      <th>0</th>\n",
       "      <th>1</th>\n",
       "      <th>2</th>\n",
       "      <th>3</th>\n",
       "      <th>4</th>\n",
       "    </tr>\n",
       "  </thead>\n",
       "  <tbody>\n",
       "    <tr>\n",
       "      <th>월ID</th>\n",
       "      <td>0.000000</td>\n",
       "      <td>0.000000</td>\n",
       "      <td>0.000000</td>\n",
       "      <td>0.000000</td>\n",
       "      <td>0.000000</td>\n",
       "    </tr>\n",
       "    <tr>\n",
       "      <th>상점ID</th>\n",
       "      <td>59.000000</td>\n",
       "      <td>59.000000</td>\n",
       "      <td>59.000000</td>\n",
       "      <td>59.000000</td>\n",
       "      <td>59.000000</td>\n",
       "    </tr>\n",
       "    <tr>\n",
       "      <th>상품ID</th>\n",
       "      <td>22154.000000</td>\n",
       "      <td>2552.000000</td>\n",
       "      <td>2554.000000</td>\n",
       "      <td>2555.000000</td>\n",
       "      <td>2564.000000</td>\n",
       "    </tr>\n",
       "    <tr>\n",
       "      <th>월간 판매량</th>\n",
       "      <td>1.000000</td>\n",
       "      <td>0.000000</td>\n",
       "      <td>0.000000</td>\n",
       "      <td>0.000000</td>\n",
       "      <td>0.000000</td>\n",
       "    </tr>\n",
       "    <tr>\n",
       "      <th>평균 판매가</th>\n",
       "      <td>999.000000</td>\n",
       "      <td>0.000000</td>\n",
       "      <td>0.000000</td>\n",
       "      <td>0.000000</td>\n",
       "      <td>0.000000</td>\n",
       "    </tr>\n",
       "    <tr>\n",
       "      <th>판매건수</th>\n",
       "      <td>1.000000</td>\n",
       "      <td>0.000000</td>\n",
       "      <td>0.000000</td>\n",
       "      <td>0.000000</td>\n",
       "      <td>0.000000</td>\n",
       "    </tr>\n",
       "    <tr>\n",
       "      <th>도시</th>\n",
       "      <td>30.000000</td>\n",
       "      <td>30.000000</td>\n",
       "      <td>30.000000</td>\n",
       "      <td>30.000000</td>\n",
       "      <td>30.000000</td>\n",
       "    </tr>\n",
       "    <tr>\n",
       "      <th>상품분류ID</th>\n",
       "      <td>37.000000</td>\n",
       "      <td>58.000000</td>\n",
       "      <td>58.000000</td>\n",
       "      <td>56.000000</td>\n",
       "      <td>59.000000</td>\n",
       "    </tr>\n",
       "    <tr>\n",
       "      <th>첫 판매월</th>\n",
       "      <td>0.000000</td>\n",
       "      <td>0.000000</td>\n",
       "      <td>0.000000</td>\n",
       "      <td>0.000000</td>\n",
       "      <td>0.000000</td>\n",
       "    </tr>\n",
       "    <tr>\n",
       "      <th>대분류</th>\n",
       "      <td>5.000000</td>\n",
       "      <td>7.000000</td>\n",
       "      <td>7.000000</td>\n",
       "      <td>7.000000</td>\n",
       "      <td>7.000000</td>\n",
       "    </tr>\n",
       "    <tr>\n",
       "      <th>상품ID별 평균 판매량</th>\n",
       "      <td>0.400000</td>\n",
       "      <td>0.022222</td>\n",
       "      <td>0.022222</td>\n",
       "      <td>0.044444</td>\n",
       "      <td>0.111111</td>\n",
       "    </tr>\n",
       "    <tr>\n",
       "      <th>상품ID 도시별 평균 판매량</th>\n",
       "      <td>1.000000</td>\n",
       "      <td>0.000000</td>\n",
       "      <td>0.000000</td>\n",
       "      <td>0.000000</td>\n",
       "      <td>0.000000</td>\n",
       "    </tr>\n",
       "    <tr>\n",
       "      <th>상점ID 상품분류ID별 평균 판매량</th>\n",
       "      <td>0.088496</td>\n",
       "      <td>0.000000</td>\n",
       "      <td>0.000000</td>\n",
       "      <td>0.008333</td>\n",
       "      <td>0.011976</td>\n",
       "    </tr>\n",
       "    <tr>\n",
       "      <th>월간 판매량_시차1</th>\n",
       "      <td>0.000000</td>\n",
       "      <td>0.000000</td>\n",
       "      <td>0.000000</td>\n",
       "      <td>0.000000</td>\n",
       "      <td>0.000000</td>\n",
       "    </tr>\n",
       "    <tr>\n",
       "      <th>월간 판매량_시차2</th>\n",
       "      <td>0.000000</td>\n",
       "      <td>0.000000</td>\n",
       "      <td>0.000000</td>\n",
       "      <td>0.000000</td>\n",
       "      <td>0.000000</td>\n",
       "    </tr>\n",
       "    <tr>\n",
       "      <th>월간 판매량_시차3</th>\n",
       "      <td>0.000000</td>\n",
       "      <td>0.000000</td>\n",
       "      <td>0.000000</td>\n",
       "      <td>0.000000</td>\n",
       "      <td>0.000000</td>\n",
       "    </tr>\n",
       "  </tbody>\n",
       "</table>\n",
       "</div>"
      ],
      "text/plain": [
       "                                0            1            2            3  \\\n",
       "월ID                      0.000000     0.000000     0.000000     0.000000   \n",
       "상점ID                    59.000000    59.000000    59.000000    59.000000   \n",
       "상품ID                 22154.000000  2552.000000  2554.000000  2555.000000   \n",
       "월간 판매량                   1.000000     0.000000     0.000000     0.000000   \n",
       "평균 판매가                 999.000000     0.000000     0.000000     0.000000   \n",
       "판매건수                     1.000000     0.000000     0.000000     0.000000   \n",
       "도시                      30.000000    30.000000    30.000000    30.000000   \n",
       "상품분류ID                  37.000000    58.000000    58.000000    56.000000   \n",
       "첫 판매월                    0.000000     0.000000     0.000000     0.000000   \n",
       "대분류                      5.000000     7.000000     7.000000     7.000000   \n",
       "상품ID별 평균 판매량             0.400000     0.022222     0.022222     0.044444   \n",
       "상품ID 도시별 평균 판매량          1.000000     0.000000     0.000000     0.000000   \n",
       "상점ID 상품분류ID별 평균 판매량      0.088496     0.000000     0.000000     0.008333   \n",
       "월간 판매량_시차1               0.000000     0.000000     0.000000     0.000000   \n",
       "월간 판매량_시차2               0.000000     0.000000     0.000000     0.000000   \n",
       "월간 판매량_시차3               0.000000     0.000000     0.000000     0.000000   \n",
       "\n",
       "                               4  \n",
       "월ID                     0.000000  \n",
       "상점ID                   59.000000  \n",
       "상품ID                 2564.000000  \n",
       "월간 판매량                  0.000000  \n",
       "평균 판매가                  0.000000  \n",
       "판매건수                    0.000000  \n",
       "도시                     30.000000  \n",
       "상품분류ID                 59.000000  \n",
       "첫 판매월                   0.000000  \n",
       "대분류                     7.000000  \n",
       "상품ID별 평균 판매량            0.111111  \n",
       "상품ID 도시별 평균 판매량         0.000000  \n",
       "상점ID 상품분류ID별 평균 판매량     0.011976  \n",
       "월간 판매량_시차1              0.000000  \n",
       "월간 판매량_시차2              0.000000  \n",
       "월간 판매량_시차3              0.000000  "
      ]
     },
     "execution_count": 35,
     "metadata": {},
     "output_type": "execute_result"
    }
   ],
   "source": [
    "all_data.head().T"
   ]
  },
  {
   "cell_type": "code",
   "execution_count": 36,
   "id": "90a67f04",
   "metadata": {
    "execution": {
     "iopub.execute_input": "2024-01-27T08:20:32.218387Z",
     "iopub.status.busy": "2024-01-27T08:20:32.216729Z",
     "iopub.status.idle": "2024-01-27T08:20:32.221330Z",
     "shell.execute_reply": "2024-01-27T08:20:32.221938Z"
    },
    "papermill": {
     "duration": 0.099631,
     "end_time": "2024-01-27T08:20:32.222147",
     "exception": false,
     "start_time": "2024-01-27T08:20:32.122516",
     "status": "completed"
    },
    "tags": []
   },
   "outputs": [
    {
     "data": {
      "text/plain": [
       "['월간 판매량_시차1', '월간 판매량_시차2', '월간 판매량_시차3']"
      ]
     },
     "execution_count": 36,
     "metadata": {},
     "output_type": "execute_result"
    }
   ],
   "source": [
    "lag_features_to_clip"
   ]
  },
  {
   "cell_type": "markdown",
   "id": "bc5f5662",
   "metadata": {
    "papermill": {
     "duration": 0.080704,
     "end_time": "2024-01-27T08:20:32.384036",
     "exception": false,
     "start_time": "2024-01-27T08:20:32.303332",
     "status": "completed"
    },
    "tags": []
   },
   "source": [
    "### 시차 피처 생성 II : 판매건수, 평균 판매가"
   ]
  },
  {
   "cell_type": "code",
   "execution_count": 37,
   "id": "684c6e76",
   "metadata": {
    "execution": {
     "iopub.execute_input": "2024-01-27T08:20:32.551338Z",
     "iopub.status.busy": "2024-01-27T08:20:32.549661Z",
     "iopub.status.idle": "2024-01-27T08:21:50.272726Z",
     "shell.execute_reply": "2024-01-27T08:21:50.273503Z"
    },
    "papermill": {
     "duration": 77.810233,
     "end_time": "2024-01-27T08:21:50.273738",
     "exception": false,
     "start_time": "2024-01-27T08:20:32.463505",
     "status": "completed"
    },
    "tags": []
   },
   "outputs": [],
   "source": [
    "# idx_features를 기준으로 판매건수 피처의 세 달치 시차 피처 생성\n",
    "all_data, lag_features_to_clip = add_lag_features(df=all_data, \n",
    "                                                  lag_features_to_clip=lag_features_to_clip,\n",
    "                                                  idx_features=idx_features,\n",
    "                                                  lag_feature='판매건수', \n",
    "                                                  nlags=3)\n",
    "\n",
    "# idx_features를 기준으로 평균 판매가 피처의 세 달치 시차 피처 생성\n",
    "all_data, lag_features_to_clip = add_lag_features(df=all_data, \n",
    "                                                  lag_features_to_clip=lag_features_to_clip,\n",
    "                                                  idx_features=idx_features,\n",
    "                                                  lag_feature='평균 판매가', \n",
    "                                                  nlags=3)"
   ]
  },
  {
   "cell_type": "markdown",
   "id": "caf6223c",
   "metadata": {
    "papermill": {
     "duration": 0.096278,
     "end_time": "2024-01-27T08:21:50.454980",
     "exception": false,
     "start_time": "2024-01-27T08:21:50.358702",
     "status": "completed"
    },
    "tags": []
   },
   "source": [
    "### 시차 피처 생성 III : 평균 판매량"
   ]
  },
  {
   "cell_type": "code",
   "execution_count": 38,
   "id": "063b21c5",
   "metadata": {
    "execution": {
     "iopub.execute_input": "2024-01-27T08:21:50.625902Z",
     "iopub.status.busy": "2024-01-27T08:21:50.620767Z",
     "iopub.status.idle": "2024-01-27T08:23:11.135707Z",
     "shell.execute_reply": "2024-01-27T08:23:11.134541Z"
    },
    "papermill": {
     "duration": 80.600565,
     "end_time": "2024-01-27T08:23:11.135954",
     "exception": false,
     "start_time": "2024-01-27T08:21:50.535389",
     "status": "completed"
    },
    "tags": []
   },
   "outputs": [],
   "source": [
    "# idx_features를 기준으로 item_mean_features 요소별 시차 피처 생성\n",
    "for item_mean_feature in item_mean_features:\n",
    "    all_data, lag_features_to_clip = add_lag_features(df=all_data, \n",
    "                                                      lag_features_to_clip=lag_features_to_clip, \n",
    "                                                      idx_features=idx_features, \n",
    "                                                      lag_feature=item_mean_feature, \n",
    "                                                      nlags=3,\n",
    "                                                      clip=True)\n",
    "# item_mean_features 피처 제거\n",
    "all_data = all_data.drop(item_mean_features, axis=1)"
   ]
  },
  {
   "cell_type": "code",
   "execution_count": 39,
   "id": "12f0156b",
   "metadata": {
    "execution": {
     "iopub.execute_input": "2024-01-27T08:23:11.345158Z",
     "iopub.status.busy": "2024-01-27T08:23:11.323149Z",
     "iopub.status.idle": "2024-01-27T08:23:28.269902Z",
     "shell.execute_reply": "2024-01-27T08:23:28.269214Z"
    },
    "papermill": {
     "duration": 17.052732,
     "end_time": "2024-01-27T08:23:28.270097",
     "exception": false,
     "start_time": "2024-01-27T08:23:11.217365",
     "status": "completed"
    },
    "tags": []
   },
   "outputs": [],
   "source": [
    "# ['월ID', '상점ID', '상품분류ID']를 기준으로 shop_mean_features 요소별 시차 피처 생성\n",
    "for shop_mean_feature in shop_mean_features:\n",
    "    all_data, lag_features_to_clip = add_lag_features(df=all_data,\n",
    "                                                      lag_features_to_clip=lag_features_to_clip, \n",
    "                                                      idx_features=['월ID', '상점ID', '상품분류ID'], \n",
    "                                                      lag_feature=shop_mean_feature, \n",
    "                                                      nlags=3,\n",
    "                                                      clip=True)\n",
    "# shop_mean_features 피처 제거\n",
    "all_data = all_data.drop(shop_mean_features, axis=1)"
   ]
  },
  {
   "cell_type": "markdown",
   "id": "5b983f28",
   "metadata": {
    "papermill": {
     "duration": 0.084285,
     "end_time": "2024-01-27T08:23:28.434900",
     "exception": false,
     "start_time": "2024-01-27T08:23:28.350615",
     "status": "completed"
    },
    "tags": []
   },
   "source": [
    "### 시차 피처 생성 마무리 : 결측값 처리"
   ]
  },
  {
   "cell_type": "code",
   "execution_count": 40,
   "id": "7ebe2e23",
   "metadata": {
    "execution": {
     "iopub.execute_input": "2024-01-27T08:23:28.674897Z",
     "iopub.status.busy": "2024-01-27T08:23:28.673745Z",
     "iopub.status.idle": "2024-01-27T08:23:31.965925Z",
     "shell.execute_reply": "2024-01-27T08:23:31.965183Z"
    },
    "papermill": {
     "duration": 3.453158,
     "end_time": "2024-01-27T08:23:31.966091",
     "exception": false,
     "start_time": "2024-01-27T08:23:28.512933",
     "status": "completed"
    },
    "tags": []
   },
   "outputs": [],
   "source": [
    "# 월ID 3미만인 데이터 제거\n",
    "all_data = all_data.drop(all_data[all_data['월ID'] < 3].index)"
   ]
  },
  {
   "cell_type": "markdown",
   "id": "ba9ff616",
   "metadata": {
    "papermill": {
     "duration": 0.080942,
     "end_time": "2024-01-27T08:23:32.128386",
     "exception": false,
     "start_time": "2024-01-27T08:23:32.047444",
     "status": "completed"
    },
    "tags": []
   },
   "source": [
    "## 9.4.6 피처 엔지니어링 VI : 기타 피처 엔지니어링"
   ]
  },
  {
   "cell_type": "markdown",
   "id": "36afa536",
   "metadata": {
    "papermill": {
     "duration": 0.086038,
     "end_time": "2024-01-27T08:23:32.305792",
     "exception": false,
     "start_time": "2024-01-27T08:23:32.219754",
     "status": "completed"
    },
    "tags": []
   },
   "source": [
    "### 기타 피처 추가"
   ]
  },
  {
   "cell_type": "markdown",
   "id": "f78cf127",
   "metadata": {
    "papermill": {
     "duration": 0.083202,
     "end_time": "2024-01-27T08:23:32.473851",
     "exception": false,
     "start_time": "2024-01-27T08:23:32.390649",
     "status": "completed"
    },
    "tags": []
   },
   "source": [
    "#### 월간 판매량 시차 피처들의 평균"
   ]
  },
  {
   "cell_type": "code",
   "execution_count": 41,
   "id": "12594f88",
   "metadata": {
    "execution": {
     "iopub.execute_input": "2024-01-27T08:23:32.683553Z",
     "iopub.status.busy": "2024-01-27T08:23:32.682614Z",
     "iopub.status.idle": "2024-01-27T08:23:32.811541Z",
     "shell.execute_reply": "2024-01-27T08:23:32.810839Z"
    },
    "papermill": {
     "duration": 0.258202,
     "end_time": "2024-01-27T08:23:32.811720",
     "exception": false,
     "start_time": "2024-01-27T08:23:32.553518",
     "status": "completed"
    },
    "tags": []
   },
   "outputs": [],
   "source": [
    "all_data['월간 판매량 시차평균'] = all_data[['월간 판매량_시차1',\n",
    "                                          '월간 판매량_시차2', \n",
    "                                          '월간 판매량_시차3']].mean(axis=1)"
   ]
  },
  {
   "cell_type": "code",
   "execution_count": 42,
   "id": "8d032e3f",
   "metadata": {
    "execution": {
     "iopub.execute_input": "2024-01-27T08:23:33.267701Z",
     "iopub.status.busy": "2024-01-27T08:23:33.266871Z",
     "iopub.status.idle": "2024-01-27T08:23:36.226595Z",
     "shell.execute_reply": "2024-01-27T08:23:36.225926Z"
    },
    "papermill": {
     "duration": 3.332014,
     "end_time": "2024-01-27T08:23:36.226791",
     "exception": false,
     "start_time": "2024-01-27T08:23:32.894777",
     "status": "completed"
    },
    "tags": []
   },
   "outputs": [],
   "source": [
    "# 0 ~ 20 사이로 값 제한\n",
    "all_data[lag_features_to_clip + ['월간 판매량', '월간 판매량 시차평균']] = all_data[lag_features_to_clip + ['월간 판매량', '월간 판매량 시차평균']].clip(0, 20)"
   ]
  },
  {
   "cell_type": "markdown",
   "id": "5198fe84",
   "metadata": {
    "papermill": {
     "duration": 0.085617,
     "end_time": "2024-01-27T08:23:36.400627",
     "exception": false,
     "start_time": "2024-01-27T08:23:36.315010",
     "status": "completed"
    },
    "tags": []
   },
   "source": [
    "#### 시차 변화량"
   ]
  },
  {
   "cell_type": "code",
   "execution_count": 43,
   "id": "dcdf6b79",
   "metadata": {
    "execution": {
     "iopub.execute_input": "2024-01-27T08:23:36.570459Z",
     "iopub.status.busy": "2024-01-27T08:23:36.569615Z",
     "iopub.status.idle": "2024-01-27T08:23:37.115920Z",
     "shell.execute_reply": "2024-01-27T08:23:37.115163Z"
    },
    "papermill": {
     "duration": 0.633249,
     "end_time": "2024-01-27T08:23:37.116091",
     "exception": false,
     "start_time": "2024-01-27T08:23:36.482842",
     "status": "completed"
    },
    "tags": []
   },
   "outputs": [],
   "source": [
    "all_data['시차변화량1'] = all_data['월간 판매량_시차1']/all_data['월간 판매량_시차2']\n",
    "all_data['시차변화량1'] = all_data['시차변화량1'].replace([np.inf, -np.inf], \n",
    "                                                        np.nan).fillna(0)\n",
    "\n",
    "all_data['시차변화량2'] = all_data['월간 판매량_시차2']/all_data['월간 판매량_시차3']\n",
    "all_data['시차변화량2'] = all_data['시차변화량2'].replace([np.inf, -np.inf], \n",
    "                                                        np.nan).fillna(0)"
   ]
  },
  {
   "cell_type": "markdown",
   "id": "8dd028e0",
   "metadata": {
    "papermill": {
     "duration": 0.083082,
     "end_time": "2024-01-27T08:23:37.284459",
     "exception": false,
     "start_time": "2024-01-27T08:23:37.201377",
     "status": "completed"
    },
    "tags": []
   },
   "source": [
    "#### 신상 여부"
   ]
  },
  {
   "cell_type": "code",
   "execution_count": 44,
   "id": "e686cc5d",
   "metadata": {
    "execution": {
     "iopub.execute_input": "2024-01-27T08:23:37.460393Z",
     "iopub.status.busy": "2024-01-27T08:23:37.459541Z",
     "iopub.status.idle": "2024-01-27T08:23:37.470243Z",
     "shell.execute_reply": "2024-01-27T08:23:37.469317Z"
    },
    "papermill": {
     "duration": 0.10001,
     "end_time": "2024-01-27T08:23:37.470440",
     "exception": false,
     "start_time": "2024-01-27T08:23:37.370430",
     "status": "completed"
    },
    "tags": []
   },
   "outputs": [],
   "source": [
    "all_data['신상여부'] = all_data['첫 판매월'] == all_data['월ID']"
   ]
  },
  {
   "cell_type": "markdown",
   "id": "363ea297",
   "metadata": {
    "papermill": {
     "duration": 0.07895,
     "end_time": "2024-01-27T08:23:37.630341",
     "exception": false,
     "start_time": "2024-01-27T08:23:37.551391",
     "status": "completed"
    },
    "tags": []
   },
   "source": [
    "#### 첫 판매 후 경과 기간"
   ]
  },
  {
   "cell_type": "code",
   "execution_count": 45,
   "id": "2216ddb9",
   "metadata": {
    "execution": {
     "iopub.execute_input": "2024-01-27T08:23:37.801028Z",
     "iopub.status.busy": "2024-01-27T08:23:37.800240Z",
     "iopub.status.idle": "2024-01-27T08:23:37.810174Z",
     "shell.execute_reply": "2024-01-27T08:23:37.809369Z"
    },
    "papermill": {
     "duration": 0.096812,
     "end_time": "2024-01-27T08:23:37.810335",
     "exception": false,
     "start_time": "2024-01-27T08:23:37.713523",
     "status": "completed"
    },
    "tags": []
   },
   "outputs": [],
   "source": [
    "all_data['첫 판매 후 기간'] = all_data['월ID'] - all_data['첫 판매월']"
   ]
  },
  {
   "cell_type": "markdown",
   "id": "813adaa1",
   "metadata": {
    "papermill": {
     "duration": 0.080284,
     "end_time": "2024-01-27T08:23:37.974165",
     "exception": false,
     "start_time": "2024-01-27T08:23:37.893881",
     "status": "completed"
    },
    "tags": []
   },
   "source": [
    "#### 월(month)"
   ]
  },
  {
   "cell_type": "code",
   "execution_count": 46,
   "id": "dfb4ca88",
   "metadata": {
    "execution": {
     "iopub.execute_input": "2024-01-27T08:23:38.142605Z",
     "iopub.status.busy": "2024-01-27T08:23:38.141714Z",
     "iopub.status.idle": "2024-01-27T08:23:38.187693Z",
     "shell.execute_reply": "2024-01-27T08:23:38.186866Z"
    },
    "papermill": {
     "duration": 0.133604,
     "end_time": "2024-01-27T08:23:38.187877",
     "exception": false,
     "start_time": "2024-01-27T08:23:38.054273",
     "status": "completed"
    },
    "tags": []
   },
   "outputs": [],
   "source": [
    "all_data['월'] = all_data['월ID'] % 12"
   ]
  },
  {
   "cell_type": "markdown",
   "id": "169440db",
   "metadata": {
    "papermill": {
     "duration": 0.08071,
     "end_time": "2024-01-27T08:23:38.353171",
     "exception": false,
     "start_time": "2024-01-27T08:23:38.272461",
     "status": "completed"
    },
    "tags": []
   },
   "source": [
    "### 필요 없는 피처 제거"
   ]
  },
  {
   "cell_type": "code",
   "execution_count": 47,
   "id": "50ae47e5",
   "metadata": {
    "execution": {
     "iopub.execute_input": "2024-01-27T08:23:38.524017Z",
     "iopub.status.busy": "2024-01-27T08:23:38.521955Z",
     "iopub.status.idle": "2024-01-27T08:23:39.293826Z",
     "shell.execute_reply": "2024-01-27T08:23:39.293167Z"
    },
    "papermill": {
     "duration": 0.860882,
     "end_time": "2024-01-27T08:23:39.294018",
     "exception": false,
     "start_time": "2024-01-27T08:23:38.433136",
     "status": "completed"
    },
    "tags": []
   },
   "outputs": [],
   "source": [
    "# 첫 판매월, 평균 판매가, 판매건수 피처 제거\n",
    "all_data = all_data.drop(['첫 판매월', '평균 판매가', '판매건수'], axis=1)"
   ]
  },
  {
   "cell_type": "code",
   "execution_count": 48,
   "id": "ae00b293",
   "metadata": {
    "execution": {
     "iopub.execute_input": "2024-01-27T08:23:39.469680Z",
     "iopub.status.busy": "2024-01-27T08:23:39.468674Z",
     "iopub.status.idle": "2024-01-27T08:23:41.508869Z",
     "shell.execute_reply": "2024-01-27T08:23:41.507885Z"
    },
    "papermill": {
     "duration": 2.135573,
     "end_time": "2024-01-27T08:23:41.509245",
     "exception": false,
     "start_time": "2024-01-27T08:23:39.373672",
     "status": "completed"
    },
    "tags": []
   },
   "outputs": [],
   "source": [
    "all_data = downcast(all_data, False) # 데이터 다운캐스팅"
   ]
  },
  {
   "cell_type": "markdown",
   "id": "41e91e71",
   "metadata": {
    "papermill": {
     "duration": 0.090653,
     "end_time": "2024-01-27T08:23:41.686358",
     "exception": false,
     "start_time": "2024-01-27T08:23:41.595705",
     "status": "completed"
    },
    "tags": []
   },
   "source": [
    "## 9.4.7 피처 엔지니어링 VII : 마무리"
   ]
  },
  {
   "cell_type": "code",
   "execution_count": 49,
   "id": "1068a2e4",
   "metadata": {
    "execution": {
     "iopub.execute_input": "2024-01-27T08:23:41.872852Z",
     "iopub.status.busy": "2024-01-27T08:23:41.872045Z",
     "iopub.status.idle": "2024-01-27T08:23:41.877499Z",
     "shell.execute_reply": "2024-01-27T08:23:41.876838Z"
    },
    "papermill": {
     "duration": 0.100525,
     "end_time": "2024-01-27T08:23:41.877662",
     "exception": false,
     "start_time": "2024-01-27T08:23:41.777137",
     "status": "completed"
    },
    "tags": []
   },
   "outputs": [
    {
     "name": "stdout",
     "output_type": "stream",
     "text": [
      "<class 'pandas.core.frame.DataFrame'>\n",
      "Int64Index: 9904582 entries, 1122386 to 11026967\n",
      "Data columns (total 31 columns):\n",
      " #   Column                   Dtype  \n",
      "---  ------                   -----  \n",
      " 0   월ID                      int8   \n",
      " 1   상점ID                     int8   \n",
      " 2   상품ID                     int16  \n",
      " 3   월간 판매량                   int8   \n",
      " 4   도시                       int8   \n",
      " 5   상품분류ID                   int8   \n",
      " 6   대분류                      int8   \n",
      " 7   월간 판매량_시차1               int8   \n",
      " 8   월간 판매량_시차2               int8   \n",
      " 9   월간 판매량_시차3               int8   \n",
      " 10  판매건수_시차1                 int8   \n",
      " 11  판매건수_시차2                 int8   \n",
      " 12  판매건수_시차3                 int8   \n",
      " 13  평균 판매가_시차1               float32\n",
      " 14  평균 판매가_시차2               float32\n",
      " 15  평균 판매가_시차3               float32\n",
      " 16  상품ID별 평균 판매량_시차1         float32\n",
      " 17  상품ID별 평균 판매량_시차2         float32\n",
      " 18  상품ID별 평균 판매량_시차3         float32\n",
      " 19  상품ID 도시별 평균 판매량_시차1      float32\n",
      " 20  상품ID 도시별 평균 판매량_시차2      float32\n",
      " 21  상품ID 도시별 평균 판매량_시차3      float32\n",
      " 22  상점ID 상품분류ID별 평균 판매량_시차1  float32\n",
      " 23  상점ID 상품분류ID별 평균 판매량_시차2  float32\n",
      " 24  상점ID 상품분류ID별 평균 판매량_시차3  float32\n",
      " 25  월간 판매량 시차평균              float32\n",
      " 26  시차변화량1                   float32\n",
      " 27  시차변화량2                   float32\n",
      " 28  신상여부                     int8   \n",
      " 29  첫 판매 후 기간                int8   \n",
      " 30  월                        int8   \n",
      "dtypes: float32(15), int16(1), int8(15)\n",
      "memory usage: 802.9 MB\n"
     ]
    }
   ],
   "source": [
    "all_data.info()"
   ]
  },
  {
   "cell_type": "code",
   "execution_count": 50,
   "id": "0b2ecbd7",
   "metadata": {
    "execution": {
     "iopub.execute_input": "2024-01-27T08:23:42.052960Z",
     "iopub.status.busy": "2024-01-27T08:23:42.051766Z",
     "iopub.status.idle": "2024-01-27T08:23:45.713576Z",
     "shell.execute_reply": "2024-01-27T08:23:45.712886Z"
    },
    "papermill": {
     "duration": 3.753424,
     "end_time": "2024-01-27T08:23:45.713749",
     "exception": false,
     "start_time": "2024-01-27T08:23:41.960325",
     "status": "completed"
    },
    "tags": []
   },
   "outputs": [],
   "source": [
    "# 훈련 데이터 (피처)\n",
    "X_train = all_data[all_data['월ID'] < 33]\n",
    "X_train = X_train.drop(['월간 판매량'], axis=1)\n",
    "# 검증 데이터 (피처)\n",
    "X_valid = all_data[all_data['월ID'] == 33]\n",
    "X_valid = X_valid.drop(['월간 판매량'], axis=1)\n",
    "# 테스트 데이터 (피처)\n",
    "X_test = all_data[all_data['월ID'] == 34]\n",
    "X_test = X_test.drop(['월간 판매량'], axis=1)\n",
    "\n",
    "# 훈련 데이터 (타깃값)\n",
    "y_train = all_data[all_data['월ID'] < 33]['월간 판매량']\n",
    "# 검증 데이터 (타깃값)\n",
    "y_valid = all_data[all_data['월ID'] == 33]['월간 판매량']\n",
    "\n",
    "# 가비지 컬렉션\n",
    "del all_data\n",
    "gc.collect();"
   ]
  },
  {
   "cell_type": "markdown",
   "id": "1b87b1bf",
   "metadata": {
    "papermill": {
     "duration": 0.083122,
     "end_time": "2024-01-27T08:23:45.878987",
     "exception": false,
     "start_time": "2024-01-27T08:23:45.795865",
     "status": "completed"
    },
    "tags": []
   },
   "source": []
  },
  {
   "cell_type": "code",
   "execution_count": null,
   "id": "c46de59c",
   "metadata": {
    "papermill": {
     "duration": 0.083638,
     "end_time": "2024-01-27T08:23:46.048530",
     "exception": false,
     "start_time": "2024-01-27T08:23:45.964892",
     "status": "completed"
    },
    "tags": []
   },
   "outputs": [],
   "source": []
  },
  {
   "cell_type": "markdown",
   "id": "21e36fdb",
   "metadata": {
    "papermill": {
     "duration": 0.082385,
     "end_time": "2024-01-27T08:23:46.219698",
     "exception": false,
     "start_time": "2024-01-27T08:23:46.137313",
     "status": "completed"
    },
    "tags": []
   },
   "source": [
    "## 9.4.8 모델 훈련 및 성능 검증"
   ]
  },
  {
   "cell_type": "code",
   "execution_count": 51,
   "id": "eff9b338",
   "metadata": {
    "execution": {
     "iopub.execute_input": "2024-01-27T08:23:46.401030Z",
     "iopub.status.busy": "2024-01-27T08:23:46.400184Z",
     "iopub.status.idle": "2024-01-27T08:40:01.358809Z",
     "shell.execute_reply": "2024-01-27T08:40:01.357711Z"
    },
    "papermill": {
     "duration": 975.053754,
     "end_time": "2024-01-27T08:40:01.359041",
     "exception": false,
     "start_time": "2024-01-27T08:23:46.305287",
     "status": "completed"
    },
    "tags": []
   },
   "outputs": [
    {
     "data": {
      "text/html": [
       "<style type='text/css'>\n",
       ".datatable table.frame { margin-bottom: 0; }\n",
       ".datatable table.frame thead { border-bottom: none; }\n",
       ".datatable table.frame tr.coltypes td {  color: #FFFFFF;  line-height: 6px;  padding: 0 0.5em;}\n",
       ".datatable .bool    { background: #DDDD99; }\n",
       ".datatable .object  { background: #565656; }\n",
       ".datatable .int     { background: #5D9E5D; }\n",
       ".datatable .float   { background: #4040CC; }\n",
       ".datatable .str     { background: #CC4040; }\n",
       ".datatable .time    { background: #40CC40; }\n",
       ".datatable .row_index {  background: var(--jp-border-color3);  border-right: 1px solid var(--jp-border-color0);  color: var(--jp-ui-font-color3);  font-size: 9px;}\n",
       ".datatable .frame tbody td { text-align: left; }\n",
       ".datatable .frame tr.coltypes .row_index {  background: var(--jp-border-color0);}\n",
       ".datatable th:nth-child(2) { padding-left: 12px; }\n",
       ".datatable .hellipsis {  color: var(--jp-cell-editor-border-color);}\n",
       ".datatable .vellipsis {  background: var(--jp-layout-color0);  color: var(--jp-cell-editor-border-color);}\n",
       ".datatable .na {  color: var(--jp-cell-editor-border-color);  font-size: 80%;}\n",
       ".datatable .sp {  opacity: 0.25;}\n",
       ".datatable .footer { font-size: 9px; }\n",
       ".datatable .frame_dimensions {  background: var(--jp-border-color3);  border-top: 1px solid var(--jp-border-color0);  color: var(--jp-ui-font-color3);  display: inline-block;  opacity: 0.6;  padding: 1px 10px 1px 5px;}\n",
       "</style>\n"
      ],
      "text/plain": [
       "<IPython.core.display.HTML object>"
      ]
     },
     "metadata": {},
     "output_type": "display_data"
    },
    {
     "name": "stdout",
     "output_type": "stream",
     "text": [
      "[LightGBM] [Warning] Find whitespaces in feature_names, replace with underlines\n",
      "[LightGBM] [Info] Total Bins 3886\n",
      "[LightGBM] [Info] Number of data points in the train set: 9452298, number of used features: 30\n",
      "[LightGBM] [Warning] Find whitespaces in feature_names, replace with underlines\n",
      "[LightGBM] [Info] Start training from score 0.297707\n",
      "Training until validation scores don't improve for 150 rounds\n",
      "[100]\ttraining's rmse: 1.01082\tvalid_1's rmse: 0.987057\n",
      "[200]\ttraining's rmse: 0.909234\tvalid_1's rmse: 0.923085\n",
      "[300]\ttraining's rmse: 0.857869\tvalid_1's rmse: 0.898434\n",
      "[400]\ttraining's rmse: 0.829775\tvalid_1's rmse: 0.888633\n",
      "[500]\ttraining's rmse: 0.81135\tvalid_1's rmse: 0.884879\n",
      "[600]\ttraining's rmse: 0.797562\tvalid_1's rmse: 0.884279\n",
      "[700]\ttraining's rmse: 0.78753\tvalid_1's rmse: 0.884595\n",
      "Early stopping, best iteration is:\n",
      "[635]\ttraining's rmse: 0.793887\tvalid_1's rmse: 0.883926\n"
     ]
    }
   ],
   "source": [
    "import lightgbm as lgb\n",
    "\n",
    "# LightGBM 하이퍼파라미터\n",
    "params = {'metric': 'rmse', \n",
    "          'num_leaves': 255,\n",
    "          'learning_rate': 0.005,\n",
    "          'feature_fraction': 0.75,\n",
    "          'bagging_fraction': 0.75,\n",
    "          'bagging_freq': 5,\n",
    "          'force_col_wise': True,\n",
    "          'random_state': 10}\n",
    "\n",
    "cat_features = ['상점ID', '도시', '상품분류ID', '대분류', '월']\n",
    "\n",
    "# LightGBM 훈련 및 검증 데이터셋\n",
    "dtrain = lgb.Dataset(X_train, y_train)\n",
    "dvalid = lgb.Dataset(X_valid, y_valid)\n",
    " \n",
    "# LightGBM 모델 훈련\n",
    "lgb_model = lgb.train(params=params,\n",
    "                      train_set=dtrain,\n",
    "                      num_boost_round=1500,\n",
    "                      valid_sets=(dtrain, dvalid),\n",
    "                      early_stopping_rounds=150,\n",
    "                      categorical_feature=cat_features,\n",
    "                      verbose_eval=100)      "
   ]
  },
  {
   "cell_type": "markdown",
   "id": "f5ac7848",
   "metadata": {
    "papermill": {
     "duration": 0.097104,
     "end_time": "2024-01-27T08:40:01.557979",
     "exception": false,
     "start_time": "2024-01-27T08:40:01.460875",
     "status": "completed"
    },
    "tags": []
   },
   "source": [
    "## 9.4.9 예측 및 결과 제출"
   ]
  },
  {
   "cell_type": "code",
   "execution_count": 52,
   "id": "9cd36d3f",
   "metadata": {
    "execution": {
     "iopub.execute_input": "2024-01-27T08:40:01.748787Z",
     "iopub.status.busy": "2024-01-27T08:40:01.747947Z",
     "iopub.status.idle": "2024-01-27T08:40:11.487150Z",
     "shell.execute_reply": "2024-01-27T08:40:11.486419Z"
    },
    "papermill": {
     "duration": 9.834313,
     "end_time": "2024-01-27T08:40:11.487320",
     "exception": false,
     "start_time": "2024-01-27T08:40:01.653007",
     "status": "completed"
    },
    "tags": []
   },
   "outputs": [],
   "source": [
    "# 예측\n",
    "preds = lgb_model.predict(X_test).clip(0, 20)\n",
    "\n",
    "# 제출 파일 생성\n",
    "submission['item_cnt_month'] = preds\n",
    "submission.to_csv('submission.csv', index=False)"
   ]
  },
  {
   "cell_type": "code",
   "execution_count": 53,
   "id": "90181955",
   "metadata": {
    "execution": {
     "iopub.execute_input": "2024-01-27T08:40:11.676858Z",
     "iopub.status.busy": "2024-01-27T08:40:11.676112Z",
     "iopub.status.idle": "2024-01-27T08:40:11.815749Z",
     "shell.execute_reply": "2024-01-27T08:40:11.815033Z"
    },
    "papermill": {
     "duration": 0.241355,
     "end_time": "2024-01-27T08:40:11.815954",
     "exception": false,
     "start_time": "2024-01-27T08:40:11.574599",
     "status": "completed"
    },
    "tags": []
   },
   "outputs": [],
   "source": [
    "del X_train, y_train, X_valid, y_valid, X_test, lgb_model, dtrain, dvalid\n",
    "gc.collect();"
   ]
  }
 ],
 "metadata": {
  "kaggle": {
   "accelerator": "none",
   "dataSources": [
    {
     "databundleVersionId": 868304,
     "sourceId": 8587,
     "sourceType": "competition"
    }
   ],
   "dockerImageVersionId": 30123,
   "isGpuEnabled": false,
   "isInternetEnabled": true,
   "language": "python",
   "sourceType": "notebook"
  },
  "kernelspec": {
   "display_name": "Python 3",
   "language": "python",
   "name": "python3"
  },
  "language_info": {
   "codemirror_mode": {
    "name": "ipython",
    "version": 3
   },
   "file_extension": ".py",
   "mimetype": "text/x-python",
   "name": "python",
   "nbconvert_exporter": "python",
   "pygments_lexer": "ipython3",
   "version": "3.7.10"
  },
  "papermill": {
   "default_parameters": {},
   "duration": 1309.560654,
   "end_time": "2024-01-27T08:40:13.234540",
   "environment_variables": {},
   "exception": null,
   "input_path": "__notebook__.ipynb",
   "output_path": "__notebook__.ipynb",
   "parameters": {},
   "start_time": "2024-01-27T08:18:23.673886",
   "version": "2.3.3"
  }
 },
 "nbformat": 4,
 "nbformat_minor": 5
}
