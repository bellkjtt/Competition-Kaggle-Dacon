{
 "cells": [
  {
   "cell_type": "markdown",
   "id": "8f3b9b16",
   "metadata": {
    "papermill": {
     "duration": 0.050459,
     "end_time": "2024-01-26T05:25:40.660052",
     "exception": false,
     "start_time": "2024-01-26T05:25:40.609593",
     "status": "completed"
    },
    "tags": []
   },
   "source": [
    "# 9.4 향후 판매량 예측 경진대회 모델 성능 개선\n",
    "- [향후 판매량 예측 경진대회 링크](https://www.kaggle.com/c/competitive-data-science-predict-future-sales)\n",
    "- [모델링 코드 참고 링크](https://www.kaggle.com/dkomyagin/predict-future-sales-lightgbm-framework)"
   ]
  },
  {
   "cell_type": "code",
   "execution_count": 1,
   "id": "4cabf3f5",
   "metadata": {
    "execution": {
     "iopub.execute_input": "2024-01-26T05:25:40.757926Z",
     "iopub.status.busy": "2024-01-26T05:25:40.756585Z",
     "iopub.status.idle": "2024-01-26T05:25:43.242895Z",
     "shell.execute_reply": "2024-01-26T05:25:43.242024Z"
    },
    "papermill": {
     "duration": 2.53624,
     "end_time": "2024-01-26T05:25:43.243108",
     "exception": false,
     "start_time": "2024-01-26T05:25:40.706868",
     "status": "completed"
    },
    "tags": []
   },
   "outputs": [],
   "source": [
    "import numpy as np\n",
    "import pandas as pd\n",
    "import warnings\n",
    "\n",
    "warnings.filterwarnings(action='ignore') # 경고 메시지 생략\n",
    "\n",
    "# 데이터 경로\n",
    "data_path = '/kaggle/input/competitive-data-science-predict-future-sales/'\n",
    "\n",
    "sales_train = pd.read_csv(data_path + 'sales_train.csv')\n",
    "shops = pd.read_csv(data_path + 'shops.csv')\n",
    "items = pd.read_csv(data_path + 'items.csv')\n",
    "item_categories = pd.read_csv(data_path + 'item_categories.csv')\n",
    "test = pd.read_csv(data_path + 'test.csv')\n",
    "submission = pd.read_csv(data_path + 'sample_submission.csv')"
   ]
  },
  {
   "cell_type": "markdown",
   "id": "c28cab1d",
   "metadata": {
    "papermill": {
     "duration": 0.045571,
     "end_time": "2024-01-26T05:25:43.335164",
     "exception": false,
     "start_time": "2024-01-26T05:25:43.289593",
     "status": "completed"
    },
    "tags": []
   },
   "source": [
    "## 9.4.1 피처 엔지니어링 I : 피처명 한글화와 데이터 다운캐스팅"
   ]
  },
  {
   "cell_type": "code",
   "execution_count": 2,
   "id": "602fb02f",
   "metadata": {
    "execution": {
     "iopub.execute_input": "2024-01-26T05:25:43.435863Z",
     "iopub.status.busy": "2024-01-26T05:25:43.435093Z",
     "iopub.status.idle": "2024-01-26T05:25:43.531856Z",
     "shell.execute_reply": "2024-01-26T05:25:43.530960Z"
    },
    "papermill": {
     "duration": 0.150872,
     "end_time": "2024-01-26T05:25:43.532012",
     "exception": false,
     "start_time": "2024-01-26T05:25:43.381140",
     "status": "completed"
    },
    "tags": []
   },
   "outputs": [],
   "source": [
    "sales_train = sales_train.rename(columns={'date': '날짜', \n",
    "                                          'date_block_num': '월ID',\n",
    "                                          'shop_id': '상점ID',\n",
    "                                          'item_id': '상품ID',\n",
    "                                          'item_price': '판매가',\n",
    "                                          'item_cnt_day': '판매량'})\n",
    "\n",
    "shops = shops.rename(columns={'shop_name': '상점명',\n",
    "                              'shop_id': '상점ID'})\n",
    "\n",
    "items = items.rename(columns={'item_name': '상품명',\n",
    "                              'item_id': '상품ID',\n",
    "                              'item_category_id': '상품분류ID'})\n",
    "\n",
    "item_categories = item_categories.rename(columns=\n",
    "                                         {'item_category_name': '상품분류명',\n",
    "                                          'item_category_id': '상품분류ID'})\n",
    "\n",
    "test = test.rename(columns={'shop_id': '상점ID',\n",
    "                            'item_id': '상품ID'})"
   ]
  },
  {
   "cell_type": "code",
   "execution_count": 3,
   "id": "7943bf42",
   "metadata": {
    "execution": {
     "iopub.execute_input": "2024-01-26T05:25:43.641789Z",
     "iopub.status.busy": "2024-01-26T05:25:43.641014Z",
     "iopub.status.idle": "2024-01-26T05:25:44.011640Z",
     "shell.execute_reply": "2024-01-26T05:25:44.010874Z"
    },
    "papermill": {
     "duration": 0.432657,
     "end_time": "2024-01-26T05:25:44.011824",
     "exception": false,
     "start_time": "2024-01-26T05:25:43.579167",
     "status": "completed"
    },
    "tags": []
   },
   "outputs": [
    {
     "name": "stdout",
     "output_type": "stream",
     "text": [
      "62.5% 압축됨\n",
      "38.6% 압축됨\n",
      "54.2% 압축됨\n",
      "39.9% 압축됨\n",
      "70.8% 압축됨\n"
     ]
    }
   ],
   "source": [
    "def downcast(df, verbose=True):\n",
    "    start_mem = df.memory_usage().sum() / 1024**2\n",
    "    for col in df.columns:\n",
    "        dtype_name = df[col].dtype.name\n",
    "        if dtype_name == 'object':\n",
    "            pass\n",
    "        elif dtype_name == 'bool':\n",
    "            df[col] = df[col].astype('int8')\n",
    "        elif dtype_name.startswith('int') or (df[col].round() == df[col]).all():\n",
    "            df[col] = pd.to_numeric(df[col], downcast='integer')\n",
    "        else:\n",
    "            df[col] = pd.to_numeric(df[col], downcast='float')\n",
    "    end_mem = df.memory_usage().sum() / 1024**2\n",
    "    if verbose:\n",
    "        print('{:.1f}% 압축됨'.format(100 * (start_mem - end_mem) / start_mem))\n",
    "    \n",
    "    return df\n",
    "\n",
    "all_df = [sales_train, shops, items, item_categories, test]\n",
    "for df in all_df:\n",
    "    df = downcast(df)"
   ]
  },
  {
   "cell_type": "markdown",
   "id": "f9de0466",
   "metadata": {
    "papermill": {
     "duration": 0.046394,
     "end_time": "2024-01-26T05:25:44.105890",
     "exception": false,
     "start_time": "2024-01-26T05:25:44.059496",
     "status": "completed"
    },
    "tags": []
   },
   "source": [
    "## 9.4.2 피처 엔지니어링 II : 개별 데이터 피처 엔지니어링"
   ]
  },
  {
   "cell_type": "markdown",
   "id": "faedd54f",
   "metadata": {
    "papermill": {
     "duration": 0.046213,
     "end_time": "2024-01-26T05:25:44.200421",
     "exception": false,
     "start_time": "2024-01-26T05:25:44.154208",
     "status": "completed"
    },
    "tags": []
   },
   "source": [
    "### sales_train 이상치 제거 및 전처리"
   ]
  },
  {
   "cell_type": "code",
   "execution_count": 4,
   "id": "2bfce880",
   "metadata": {
    "execution": {
     "iopub.execute_input": "2024-01-26T05:25:44.300980Z",
     "iopub.status.busy": "2024-01-26T05:25:44.299889Z",
     "iopub.status.idle": "2024-01-26T05:25:44.857148Z",
     "shell.execute_reply": "2024-01-26T05:25:44.856506Z"
    },
    "papermill": {
     "duration": 0.610102,
     "end_time": "2024-01-26T05:25:44.857324",
     "exception": false,
     "start_time": "2024-01-26T05:25:44.247222",
     "status": "completed"
    },
    "tags": []
   },
   "outputs": [],
   "source": [
    "# 판매가가 0보다 큰 데이터 추출\n",
    "sales_train = sales_train[sales_train['판매가'] > 0]\n",
    "# 판매가가 50,000보다 작은 데이터 추출\n",
    "sales_train = sales_train[sales_train['판매가'] < 50000]\n",
    "\n",
    "# 판매량이 0보다 큰 데이터 추출\n",
    "sales_train = sales_train[sales_train['판매량'] > 0]\n",
    "# 판매량이 1,000보다 작은 데이터 추출\n",
    "sales_train = sales_train[sales_train['판매량'] < 1000]"
   ]
  },
  {
   "cell_type": "code",
   "execution_count": 5,
   "id": "8668872c",
   "metadata": {
    "execution": {
     "iopub.execute_input": "2024-01-26T05:25:44.960208Z",
     "iopub.status.busy": "2024-01-26T05:25:44.959115Z",
     "iopub.status.idle": "2024-01-26T05:25:44.964343Z",
     "shell.execute_reply": "2024-01-26T05:25:44.963813Z"
    },
    "papermill": {
     "duration": 0.059335,
     "end_time": "2024-01-26T05:25:44.964491",
     "exception": false,
     "start_time": "2024-01-26T05:25:44.905156",
     "status": "completed"
    },
    "tags": []
   },
   "outputs": [
    {
     "name": "stdout",
     "output_type": "stream",
     "text": [
      "!Якутск Орджоникидзе, 56 фран || Якутск Орджоникидзе, 56\n",
      "!Якутск ТЦ \"Центральный\" фран || Якутск ТЦ \"Центральный\"\n",
      "Жуковский ул. Чкалова 39м? || Жуковский ул. Чкалова 39м²\n",
      "РостовНаДону ТРК \"Мегацентр Горизонт\" || РостовНаДону ТРК \"Мегацентр Горизонт\" Островной\n"
     ]
    }
   ],
   "source": [
    "print(shops['상점명'][0], '||', shops['상점명'][57])\n",
    "print(shops['상점명'][1], '||', shops['상점명'][58])\n",
    "print(shops['상점명'][10], '||', shops['상점명'][11])\n",
    "print(shops['상점명'][39], '||', shops['상점명'][40])"
   ]
  },
  {
   "cell_type": "code",
   "execution_count": 6,
   "id": "b9a7bcc8",
   "metadata": {
    "execution": {
     "iopub.execute_input": "2024-01-26T05:25:45.067378Z",
     "iopub.status.busy": "2024-01-26T05:25:45.066619Z",
     "iopub.status.idle": "2024-01-26T05:25:45.086573Z",
     "shell.execute_reply": "2024-01-26T05:25:45.085940Z"
    },
    "papermill": {
     "duration": 0.074588,
     "end_time": "2024-01-26T05:25:45.086723",
     "exception": false,
     "start_time": "2024-01-26T05:25:45.012135",
     "status": "completed"
    },
    "tags": []
   },
   "outputs": [],
   "source": [
    "# sales_train 데이터에서 상점ID 수정\n",
    "sales_train.loc[sales_train['상점ID'] == 0, '상점ID'] = 57\n",
    "sales_train.loc[sales_train['상점ID'] == 1, '상점ID'] = 58\n",
    "sales_train.loc[sales_train['상점ID'] == 10, '상점ID'] = 11\n",
    "sales_train.loc[sales_train['상점ID'] == 39, '상점ID'] = 40\n",
    "\n",
    "# test 데이터에서 상점ID 수정\n",
    "test.loc[test['상점ID'] == 0, '상점ID'] = 57\n",
    "test.loc[test['상점ID'] == 1, '상점ID'] = 58\n",
    "test.loc[test['상점ID'] == 10, '상점ID'] = 11\n",
    "test.loc[test['상점ID'] == 39, '상점ID'] = 40"
   ]
  },
  {
   "cell_type": "markdown",
   "id": "d8503d86",
   "metadata": {
    "papermill": {
     "duration": 0.047656,
     "end_time": "2024-01-26T05:25:45.184005",
     "exception": false,
     "start_time": "2024-01-26T05:25:45.136349",
     "status": "completed"
    },
    "tags": []
   },
   "source": [
    "### shops 파생 피처 생성 및 인코딩"
   ]
  },
  {
   "cell_type": "code",
   "execution_count": 7,
   "id": "16feaf16",
   "metadata": {
    "execution": {
     "iopub.execute_input": "2024-01-26T05:25:45.283324Z",
     "iopub.status.busy": "2024-01-26T05:25:45.282632Z",
     "iopub.status.idle": "2024-01-26T05:25:45.288266Z",
     "shell.execute_reply": "2024-01-26T05:25:45.288817Z"
    },
    "papermill": {
     "duration": 0.05759,
     "end_time": "2024-01-26T05:25:45.289003",
     "exception": false,
     "start_time": "2024-01-26T05:25:45.231413",
     "status": "completed"
    },
    "tags": []
   },
   "outputs": [],
   "source": [
    "shops['도시'] = shops['상점명'].apply(lambda x: x.split()[0])"
   ]
  },
  {
   "cell_type": "code",
   "execution_count": 8,
   "id": "a512a912",
   "metadata": {
    "execution": {
     "iopub.execute_input": "2024-01-26T05:25:45.387179Z",
     "iopub.status.busy": "2024-01-26T05:25:45.386482Z",
     "iopub.status.idle": "2024-01-26T05:25:45.394961Z",
     "shell.execute_reply": "2024-01-26T05:25:45.394404Z"
    },
    "papermill": {
     "duration": 0.058845,
     "end_time": "2024-01-26T05:25:45.395114",
     "exception": false,
     "start_time": "2024-01-26T05:25:45.336269",
     "status": "completed"
    },
    "tags": []
   },
   "outputs": [
    {
     "data": {
      "text/plain": [
       "array(['!Якутск', 'Адыгея', 'Балашиха', 'Волжский', 'Вологда', 'Воронеж',\n",
       "       'Выездная', 'Жуковский', 'Интернет-магазин', 'Казань', 'Калуга',\n",
       "       'Коломна', 'Красноярск', 'Курск', 'Москва', 'Мытищи', 'Н.Новгород',\n",
       "       'Новосибирск', 'Омск', 'РостовНаДону', 'СПб', 'Самара', 'Сергиев',\n",
       "       'Сургут', 'Томск', 'Тюмень', 'Уфа', 'Химки', 'Цифровой', 'Чехов',\n",
       "       'Якутск', 'Ярославль'], dtype=object)"
      ]
     },
     "execution_count": 8,
     "metadata": {},
     "output_type": "execute_result"
    }
   ],
   "source": [
    "shops['도시'].unique()"
   ]
  },
  {
   "cell_type": "code",
   "execution_count": 9,
   "id": "b58e84fb",
   "metadata": {
    "execution": {
     "iopub.execute_input": "2024-01-26T05:25:45.494334Z",
     "iopub.status.busy": "2024-01-26T05:25:45.493625Z",
     "iopub.status.idle": "2024-01-26T05:25:45.499376Z",
     "shell.execute_reply": "2024-01-26T05:25:45.498694Z"
    },
    "papermill": {
     "duration": 0.056854,
     "end_time": "2024-01-26T05:25:45.499523",
     "exception": false,
     "start_time": "2024-01-26T05:25:45.442669",
     "status": "completed"
    },
    "tags": []
   },
   "outputs": [],
   "source": [
    "shops.loc[shops['도시'] =='!Якутск', '도시'] = 'Якутск'"
   ]
  },
  {
   "cell_type": "code",
   "execution_count": 10,
   "id": "8a291ba5",
   "metadata": {
    "execution": {
     "iopub.execute_input": "2024-01-26T05:25:45.601709Z",
     "iopub.status.busy": "2024-01-26T05:25:45.600973Z",
     "iopub.status.idle": "2024-01-26T05:25:46.419807Z",
     "shell.execute_reply": "2024-01-26T05:25:46.420323Z"
    },
    "papermill": {
     "duration": 0.872322,
     "end_time": "2024-01-26T05:25:46.420519",
     "exception": false,
     "start_time": "2024-01-26T05:25:45.548197",
     "status": "completed"
    },
    "tags": []
   },
   "outputs": [],
   "source": [
    "from sklearn.preprocessing import LabelEncoder\n",
    "\n",
    "# 레이블 인코더 생성\n",
    "label_encoder = LabelEncoder()\n",
    "# 도시 피처 레이블 인코딩\n",
    "shops['도시'] = label_encoder.fit_transform(shops['도시'])"
   ]
  },
  {
   "cell_type": "code",
   "execution_count": 11,
   "id": "84d2b660",
   "metadata": {
    "execution": {
     "iopub.execute_input": "2024-01-26T05:25:46.521388Z",
     "iopub.status.busy": "2024-01-26T05:25:46.520640Z",
     "iopub.status.idle": "2024-01-26T05:25:46.532613Z",
     "shell.execute_reply": "2024-01-26T05:25:46.533103Z"
    },
    "papermill": {
     "duration": 0.064662,
     "end_time": "2024-01-26T05:25:46.533289",
     "exception": false,
     "start_time": "2024-01-26T05:25:46.468627",
     "status": "completed"
    },
    "tags": []
   },
   "outputs": [
    {
     "data": {
      "text/html": [
       "<div>\n",
       "<style scoped>\n",
       "    .dataframe tbody tr th:only-of-type {\n",
       "        vertical-align: middle;\n",
       "    }\n",
       "\n",
       "    .dataframe tbody tr th {\n",
       "        vertical-align: top;\n",
       "    }\n",
       "\n",
       "    .dataframe thead th {\n",
       "        text-align: right;\n",
       "    }\n",
       "</style>\n",
       "<table border=\"1\" class=\"dataframe\">\n",
       "  <thead>\n",
       "    <tr style=\"text-align: right;\">\n",
       "      <th></th>\n",
       "      <th>상점ID</th>\n",
       "      <th>도시</th>\n",
       "    </tr>\n",
       "  </thead>\n",
       "  <tbody>\n",
       "    <tr>\n",
       "      <th>0</th>\n",
       "      <td>0</td>\n",
       "      <td>29</td>\n",
       "    </tr>\n",
       "    <tr>\n",
       "      <th>1</th>\n",
       "      <td>1</td>\n",
       "      <td>29</td>\n",
       "    </tr>\n",
       "    <tr>\n",
       "      <th>2</th>\n",
       "      <td>2</td>\n",
       "      <td>0</td>\n",
       "    </tr>\n",
       "    <tr>\n",
       "      <th>3</th>\n",
       "      <td>3</td>\n",
       "      <td>1</td>\n",
       "    </tr>\n",
       "    <tr>\n",
       "      <th>4</th>\n",
       "      <td>4</td>\n",
       "      <td>2</td>\n",
       "    </tr>\n",
       "  </tbody>\n",
       "</table>\n",
       "</div>"
      ],
      "text/plain": [
       "   상점ID  도시\n",
       "0     0  29\n",
       "1     1  29\n",
       "2     2   0\n",
       "3     3   1\n",
       "4     4   2"
      ]
     },
     "execution_count": 11,
     "metadata": {},
     "output_type": "execute_result"
    }
   ],
   "source": [
    "# 상점명 피처 제거\n",
    "shops = shops.drop('상점명', axis=1)\n",
    "\n",
    "shops.head()"
   ]
  },
  {
   "cell_type": "markdown",
   "id": "5d575310",
   "metadata": {
    "papermill": {
     "duration": 0.048044,
     "end_time": "2024-01-26T05:25:46.630613",
     "exception": false,
     "start_time": "2024-01-26T05:25:46.582569",
     "status": "completed"
    },
    "tags": []
   },
   "source": [
    "### itmes 파생 피처 생성"
   ]
  },
  {
   "cell_type": "code",
   "execution_count": 12,
   "id": "8d2c2961",
   "metadata": {
    "execution": {
     "iopub.execute_input": "2024-01-26T05:25:46.730584Z",
     "iopub.status.busy": "2024-01-26T05:25:46.729868Z",
     "iopub.status.idle": "2024-01-26T05:25:46.734647Z",
     "shell.execute_reply": "2024-01-26T05:25:46.735145Z"
    },
    "papermill": {
     "duration": 0.056128,
     "end_time": "2024-01-26T05:25:46.735329",
     "exception": false,
     "start_time": "2024-01-26T05:25:46.679201",
     "status": "completed"
    },
    "tags": []
   },
   "outputs": [],
   "source": [
    "# 상품명 피처 제거\n",
    "items = items.drop(['상품명'], axis=1)"
   ]
  },
  {
   "cell_type": "code",
   "execution_count": 13,
   "id": "3e02118d",
   "metadata": {
    "execution": {
     "iopub.execute_input": "2024-01-26T05:25:46.839208Z",
     "iopub.status.busy": "2024-01-26T05:25:46.838496Z",
     "iopub.status.idle": "2024-01-26T05:25:46.936963Z",
     "shell.execute_reply": "2024-01-26T05:25:46.937426Z"
    },
    "papermill": {
     "duration": 0.152965,
     "end_time": "2024-01-26T05:25:46.937620",
     "exception": false,
     "start_time": "2024-01-26T05:25:46.784655",
     "status": "completed"
    },
    "tags": []
   },
   "outputs": [
    {
     "data": {
      "text/html": [
       "<div>\n",
       "<style scoped>\n",
       "    .dataframe tbody tr th:only-of-type {\n",
       "        vertical-align: middle;\n",
       "    }\n",
       "\n",
       "    .dataframe tbody tr th {\n",
       "        vertical-align: top;\n",
       "    }\n",
       "\n",
       "    .dataframe thead th {\n",
       "        text-align: right;\n",
       "    }\n",
       "</style>\n",
       "<table border=\"1\" class=\"dataframe\">\n",
       "  <thead>\n",
       "    <tr style=\"text-align: right;\">\n",
       "      <th></th>\n",
       "      <th>상품ID</th>\n",
       "      <th>상품분류ID</th>\n",
       "      <th>첫 판매월</th>\n",
       "    </tr>\n",
       "  </thead>\n",
       "  <tbody>\n",
       "    <tr>\n",
       "      <th>0</th>\n",
       "      <td>0</td>\n",
       "      <td>40</td>\n",
       "      <td>20.0</td>\n",
       "    </tr>\n",
       "    <tr>\n",
       "      <th>1</th>\n",
       "      <td>1</td>\n",
       "      <td>76</td>\n",
       "      <td>15.0</td>\n",
       "    </tr>\n",
       "    <tr>\n",
       "      <th>2</th>\n",
       "      <td>2</td>\n",
       "      <td>40</td>\n",
       "      <td>19.0</td>\n",
       "    </tr>\n",
       "    <tr>\n",
       "      <th>3</th>\n",
       "      <td>3</td>\n",
       "      <td>40</td>\n",
       "      <td>18.0</td>\n",
       "    </tr>\n",
       "    <tr>\n",
       "      <th>4</th>\n",
       "      <td>4</td>\n",
       "      <td>40</td>\n",
       "      <td>20.0</td>\n",
       "    </tr>\n",
       "  </tbody>\n",
       "</table>\n",
       "</div>"
      ],
      "text/plain": [
       "   상품ID  상품분류ID  첫 판매월\n",
       "0     0      40   20.0\n",
       "1     1      76   15.0\n",
       "2     2      40   19.0\n",
       "3     3      40   18.0\n",
       "4     4      40   20.0"
      ]
     },
     "execution_count": 13,
     "metadata": {},
     "output_type": "execute_result"
    }
   ],
   "source": [
    "# 상품이 맨 처음 팔린 날을 피처로 추가\n",
    "items['첫 판매월'] = sales_train.groupby('상품ID').agg({'월ID': 'min'})['월ID']\n",
    "\n",
    "items.head()"
   ]
  },
  {
   "cell_type": "code",
   "execution_count": 14,
   "id": "4f32e8c2",
   "metadata": {
    "execution": {
     "iopub.execute_input": "2024-01-26T05:25:47.039100Z",
     "iopub.status.busy": "2024-01-26T05:25:47.038394Z",
     "iopub.status.idle": "2024-01-26T05:25:47.050647Z",
     "shell.execute_reply": "2024-01-26T05:25:47.051147Z"
    },
    "papermill": {
     "duration": 0.064621,
     "end_time": "2024-01-26T05:25:47.051341",
     "exception": false,
     "start_time": "2024-01-26T05:25:46.986720",
     "status": "completed"
    },
    "tags": []
   },
   "outputs": [
    {
     "data": {
      "text/html": [
       "<div>\n",
       "<style scoped>\n",
       "    .dataframe tbody tr th:only-of-type {\n",
       "        vertical-align: middle;\n",
       "    }\n",
       "\n",
       "    .dataframe tbody tr th {\n",
       "        vertical-align: top;\n",
       "    }\n",
       "\n",
       "    .dataframe thead th {\n",
       "        text-align: right;\n",
       "    }\n",
       "</style>\n",
       "<table border=\"1\" class=\"dataframe\">\n",
       "  <thead>\n",
       "    <tr style=\"text-align: right;\">\n",
       "      <th></th>\n",
       "      <th>상품ID</th>\n",
       "      <th>상품분류ID</th>\n",
       "      <th>첫 판매월</th>\n",
       "    </tr>\n",
       "  </thead>\n",
       "  <tbody>\n",
       "    <tr>\n",
       "      <th>83</th>\n",
       "      <td>83</td>\n",
       "      <td>40</td>\n",
       "      <td>NaN</td>\n",
       "    </tr>\n",
       "    <tr>\n",
       "      <th>140</th>\n",
       "      <td>140</td>\n",
       "      <td>45</td>\n",
       "      <td>NaN</td>\n",
       "    </tr>\n",
       "    <tr>\n",
       "      <th>168</th>\n",
       "      <td>168</td>\n",
       "      <td>44</td>\n",
       "      <td>NaN</td>\n",
       "    </tr>\n",
       "    <tr>\n",
       "      <th>173</th>\n",
       "      <td>173</td>\n",
       "      <td>45</td>\n",
       "      <td>NaN</td>\n",
       "    </tr>\n",
       "    <tr>\n",
       "      <th>204</th>\n",
       "      <td>204</td>\n",
       "      <td>44</td>\n",
       "      <td>NaN</td>\n",
       "    </tr>\n",
       "    <tr>\n",
       "      <th>...</th>\n",
       "      <td>...</td>\n",
       "      <td>...</td>\n",
       "      <td>...</td>\n",
       "    </tr>\n",
       "    <tr>\n",
       "      <th>21974</th>\n",
       "      <td>21974</td>\n",
       "      <td>61</td>\n",
       "      <td>NaN</td>\n",
       "    </tr>\n",
       "    <tr>\n",
       "      <th>21975</th>\n",
       "      <td>21975</td>\n",
       "      <td>61</td>\n",
       "      <td>NaN</td>\n",
       "    </tr>\n",
       "    <tr>\n",
       "      <th>22022</th>\n",
       "      <td>22022</td>\n",
       "      <td>40</td>\n",
       "      <td>NaN</td>\n",
       "    </tr>\n",
       "    <tr>\n",
       "      <th>22035</th>\n",
       "      <td>22035</td>\n",
       "      <td>40</td>\n",
       "      <td>NaN</td>\n",
       "    </tr>\n",
       "    <tr>\n",
       "      <th>22137</th>\n",
       "      <td>22137</td>\n",
       "      <td>40</td>\n",
       "      <td>NaN</td>\n",
       "    </tr>\n",
       "  </tbody>\n",
       "</table>\n",
       "<p>368 rows × 3 columns</p>\n",
       "</div>"
      ],
      "text/plain": [
       "        상품ID  상품분류ID  첫 판매월\n",
       "83        83      40    NaN\n",
       "140      140      45    NaN\n",
       "168      168      44    NaN\n",
       "173      173      45    NaN\n",
       "204      204      44    NaN\n",
       "...      ...     ...    ...\n",
       "21974  21974      61    NaN\n",
       "21975  21975      61    NaN\n",
       "22022  22022      40    NaN\n",
       "22035  22035      40    NaN\n",
       "22137  22137      40    NaN\n",
       "\n",
       "[368 rows x 3 columns]"
      ]
     },
     "execution_count": 14,
     "metadata": {},
     "output_type": "execute_result"
    }
   ],
   "source": [
    "items[items['첫 판매월'].isna()]"
   ]
  },
  {
   "cell_type": "code",
   "execution_count": 15,
   "id": "0183c000",
   "metadata": {
    "execution": {
     "iopub.execute_input": "2024-01-26T05:25:47.156245Z",
     "iopub.status.busy": "2024-01-26T05:25:47.155576Z",
     "iopub.status.idle": "2024-01-26T05:25:47.160053Z",
     "shell.execute_reply": "2024-01-26T05:25:47.160553Z"
    },
    "papermill": {
     "duration": 0.059571,
     "end_time": "2024-01-26T05:25:47.160725",
     "exception": false,
     "start_time": "2024-01-26T05:25:47.101154",
     "status": "completed"
    },
    "tags": []
   },
   "outputs": [],
   "source": [
    "# 첫 판매월 피처의 결측값을 34로 대체\n",
    "items['첫 판매월'] = items['첫 판매월'].fillna(34)"
   ]
  },
  {
   "cell_type": "markdown",
   "id": "e881b6c6",
   "metadata": {
    "papermill": {
     "duration": 0.049761,
     "end_time": "2024-01-26T05:25:47.260495",
     "exception": false,
     "start_time": "2024-01-26T05:25:47.210734",
     "status": "completed"
    },
    "tags": []
   },
   "source": [
    "### item_categories 파생 피처 생성 및 인코딩"
   ]
  },
  {
   "cell_type": "code",
   "execution_count": 16,
   "id": "26042c76",
   "metadata": {
    "execution": {
     "iopub.execute_input": "2024-01-26T05:25:47.363740Z",
     "iopub.status.busy": "2024-01-26T05:25:47.363107Z",
     "iopub.status.idle": "2024-01-26T05:25:47.368157Z",
     "shell.execute_reply": "2024-01-26T05:25:47.368655Z"
    },
    "papermill": {
     "duration": 0.058314,
     "end_time": "2024-01-26T05:25:47.368847",
     "exception": false,
     "start_time": "2024-01-26T05:25:47.310533",
     "status": "completed"
    },
    "tags": []
   },
   "outputs": [],
   "source": [
    "# 상품분류명의 첫 단어를 대분류로 추출\n",
    "item_categories['대분류'] = item_categories['상품분류명'].apply(lambda x: x.split()[0])  "
   ]
  },
  {
   "cell_type": "code",
   "execution_count": 17,
   "id": "550ff91d",
   "metadata": {
    "execution": {
     "iopub.execute_input": "2024-01-26T05:25:47.478049Z",
     "iopub.status.busy": "2024-01-26T05:25:47.477054Z",
     "iopub.status.idle": "2024-01-26T05:25:47.480952Z",
     "shell.execute_reply": "2024-01-26T05:25:47.480291Z"
    },
    "papermill": {
     "duration": 0.061416,
     "end_time": "2024-01-26T05:25:47.481112",
     "exception": false,
     "start_time": "2024-01-26T05:25:47.419696",
     "status": "completed"
    },
    "tags": []
   },
   "outputs": [
    {
     "data": {
      "text/plain": [
       "Игры          14\n",
       "Книги         13\n",
       "Подарки       12\n",
       "Игровые        8\n",
       "Аксессуары     7\n",
       "Музыка         6\n",
       "Программы      6\n",
       "Карты          5\n",
       "Кино           5\n",
       "Служебные      2\n",
       "Чистые         2\n",
       "PC             1\n",
       "Билеты         1\n",
       "Доставка       1\n",
       "Элементы       1\n",
       "Name: 대분류, dtype: int64"
      ]
     },
     "execution_count": 17,
     "metadata": {},
     "output_type": "execute_result"
    }
   ],
   "source": [
    "item_categories['대분류'].value_counts()"
   ]
  },
  {
   "cell_type": "code",
   "execution_count": 18,
   "id": "ea53f123",
   "metadata": {
    "execution": {
     "iopub.execute_input": "2024-01-26T05:25:47.591989Z",
     "iopub.status.busy": "2024-01-26T05:25:47.590905Z",
     "iopub.status.idle": "2024-01-26T05:25:47.624432Z",
     "shell.execute_reply": "2024-01-26T05:25:47.624980Z"
    },
    "papermill": {
     "duration": 0.093469,
     "end_time": "2024-01-26T05:25:47.625189",
     "exception": false,
     "start_time": "2024-01-26T05:25:47.531720",
     "status": "completed"
    },
    "tags": []
   },
   "outputs": [],
   "source": [
    "def make_etc(x):\n",
    "    if len(item_categories[item_categories['대분류']==x]) >= 5:\n",
    "        return x\n",
    "    else:\n",
    "        return 'etc'\n",
    "\n",
    "# 대분류의 고윳값 개수가 5개 미만이면 'etc'로 바꾸기\n",
    "item_categories['대분류'] = item_categories['대분류'].apply(make_etc)"
   ]
  },
  {
   "cell_type": "code",
   "execution_count": 19,
   "id": "df0cc6c4",
   "metadata": {
    "execution": {
     "iopub.execute_input": "2024-01-26T05:25:47.731238Z",
     "iopub.status.busy": "2024-01-26T05:25:47.730233Z",
     "iopub.status.idle": "2024-01-26T05:25:47.739399Z",
     "shell.execute_reply": "2024-01-26T05:25:47.739869Z"
    },
    "papermill": {
     "duration": 0.063897,
     "end_time": "2024-01-26T05:25:47.740051",
     "exception": false,
     "start_time": "2024-01-26T05:25:47.676154",
     "status": "completed"
    },
    "tags": []
   },
   "outputs": [
    {
     "data": {
      "text/html": [
       "<div>\n",
       "<style scoped>\n",
       "    .dataframe tbody tr th:only-of-type {\n",
       "        vertical-align: middle;\n",
       "    }\n",
       "\n",
       "    .dataframe tbody tr th {\n",
       "        vertical-align: top;\n",
       "    }\n",
       "\n",
       "    .dataframe thead th {\n",
       "        text-align: right;\n",
       "    }\n",
       "</style>\n",
       "<table border=\"1\" class=\"dataframe\">\n",
       "  <thead>\n",
       "    <tr style=\"text-align: right;\">\n",
       "      <th></th>\n",
       "      <th>상품분류명</th>\n",
       "      <th>상품분류ID</th>\n",
       "      <th>대분류</th>\n",
       "    </tr>\n",
       "  </thead>\n",
       "  <tbody>\n",
       "    <tr>\n",
       "      <th>0</th>\n",
       "      <td>PC - Гарнитуры/Наушники</td>\n",
       "      <td>0</td>\n",
       "      <td>etc</td>\n",
       "    </tr>\n",
       "    <tr>\n",
       "      <th>1</th>\n",
       "      <td>Аксессуары - PS2</td>\n",
       "      <td>1</td>\n",
       "      <td>Аксессуары</td>\n",
       "    </tr>\n",
       "    <tr>\n",
       "      <th>2</th>\n",
       "      <td>Аксессуары - PS3</td>\n",
       "      <td>2</td>\n",
       "      <td>Аксессуары</td>\n",
       "    </tr>\n",
       "    <tr>\n",
       "      <th>3</th>\n",
       "      <td>Аксессуары - PS4</td>\n",
       "      <td>3</td>\n",
       "      <td>Аксессуары</td>\n",
       "    </tr>\n",
       "    <tr>\n",
       "      <th>4</th>\n",
       "      <td>Аксессуары - PSP</td>\n",
       "      <td>4</td>\n",
       "      <td>Аксессуары</td>\n",
       "    </tr>\n",
       "  </tbody>\n",
       "</table>\n",
       "</div>"
      ],
      "text/plain": [
       "                     상품분류명  상품분류ID         대분류\n",
       "0  PC - Гарнитуры/Наушники       0         etc\n",
       "1         Аксессуары - PS2       1  Аксессуары\n",
       "2         Аксессуары - PS3       2  Аксессуары\n",
       "3         Аксессуары - PS4       3  Аксессуары\n",
       "4         Аксессуары - PSP       4  Аксессуары"
      ]
     },
     "execution_count": 19,
     "metadata": {},
     "output_type": "execute_result"
    }
   ],
   "source": [
    "item_categories.head()"
   ]
  },
  {
   "cell_type": "code",
   "execution_count": 20,
   "id": "ac62aac4",
   "metadata": {
    "execution": {
     "iopub.execute_input": "2024-01-26T05:25:47.850562Z",
     "iopub.status.busy": "2024-01-26T05:25:47.849722Z",
     "iopub.status.idle": "2024-01-26T05:25:47.852086Z",
     "shell.execute_reply": "2024-01-26T05:25:47.852577Z"
    },
    "papermill": {
     "duration": 0.061422,
     "end_time": "2024-01-26T05:25:47.852767",
     "exception": false,
     "start_time": "2024-01-26T05:25:47.791345",
     "status": "completed"
    },
    "tags": []
   },
   "outputs": [],
   "source": [
    "# 레이블 인코더 생성\n",
    "label_encoder = LabelEncoder()\n",
    "\n",
    "# 대분류 피처 레이블 인코딩\n",
    "item_categories['대분류'] = label_encoder.fit_transform(item_categories['대분류'])\n",
    "\n",
    "# 상품분류명 피처 제거\n",
    "item_categories = item_categories.drop('상품분류명', axis=1)"
   ]
  },
  {
   "cell_type": "markdown",
   "id": "a9b138b0",
   "metadata": {
    "papermill": {
     "duration": 0.051858,
     "end_time": "2024-01-26T05:25:47.956817",
     "exception": false,
     "start_time": "2024-01-26T05:25:47.904959",
     "status": "completed"
    },
    "tags": []
   },
   "source": [
    "## 9.4.3 피처 엔지니어링 III : 데이터 조합 및 파생 피처 생성"
   ]
  },
  {
   "cell_type": "markdown",
   "id": "80559c97",
   "metadata": {
    "papermill": {
     "duration": 0.051131,
     "end_time": "2024-01-26T05:25:48.059475",
     "exception": false,
     "start_time": "2024-01-26T05:25:48.008344",
     "status": "completed"
    },
    "tags": []
   },
   "source": [
    "### 데이터 조합"
   ]
  },
  {
   "cell_type": "code",
   "execution_count": 21,
   "id": "82e214f1",
   "metadata": {
    "execution": {
     "iopub.execute_input": "2024-01-26T05:25:48.172135Z",
     "iopub.status.busy": "2024-01-26T05:25:48.171452Z",
     "iopub.status.idle": "2024-01-26T05:26:01.776575Z",
     "shell.execute_reply": "2024-01-26T05:26:01.775940Z"
    },
    "papermill": {
     "duration": 13.665653,
     "end_time": "2024-01-26T05:26:01.776759",
     "exception": false,
     "start_time": "2024-01-26T05:25:48.111106",
     "status": "completed"
    },
    "tags": []
   },
   "outputs": [],
   "source": [
    "from itertools import product\n",
    "\n",
    "train = []\n",
    "# 월ID, 상점ID, 상품ID 조합 생성\n",
    "for i in sales_train['월ID'].unique():\n",
    "    all_shop = sales_train.loc[sales_train['월ID']==i, '상점ID'].unique()\n",
    "    all_item = sales_train.loc[sales_train['월ID']==i, '상품ID'].unique()\n",
    "    train.append(np.array(list(product([i], all_shop, all_item))))\n",
    "\n",
    "idx_features = ['월ID', '상점ID', '상품ID'] # 기준 피처\n",
    "train = pd.DataFrame(np.vstack(train), columns=idx_features)"
   ]
  },
  {
   "cell_type": "markdown",
   "id": "5bc3b7ae",
   "metadata": {
    "papermill": {
     "duration": 0.052845,
     "end_time": "2024-01-26T05:26:01.882673",
     "exception": false,
     "start_time": "2024-01-26T05:26:01.829828",
     "status": "completed"
    },
    "tags": []
   },
   "source": [
    "### 파생 피처 생성"
   ]
  },
  {
   "cell_type": "code",
   "execution_count": 22,
   "id": "75d2342c",
   "metadata": {
    "execution": {
     "iopub.execute_input": "2024-01-26T05:26:01.992501Z",
     "iopub.status.busy": "2024-01-26T05:26:01.991830Z",
     "iopub.status.idle": "2024-01-26T05:26:07.473794Z",
     "shell.execute_reply": "2024-01-26T05:26:07.473065Z"
    },
    "papermill": {
     "duration": 5.536501,
     "end_time": "2024-01-26T05:26:07.473956",
     "exception": false,
     "start_time": "2024-01-26T05:26:01.937455",
     "status": "completed"
    },
    "tags": []
   },
   "outputs": [
    {
     "data": {
      "text/html": [
       "<div>\n",
       "<style scoped>\n",
       "    .dataframe tbody tr th:only-of-type {\n",
       "        vertical-align: middle;\n",
       "    }\n",
       "\n",
       "    .dataframe tbody tr th {\n",
       "        vertical-align: top;\n",
       "    }\n",
       "\n",
       "    .dataframe thead th {\n",
       "        text-align: right;\n",
       "    }\n",
       "</style>\n",
       "<table border=\"1\" class=\"dataframe\">\n",
       "  <thead>\n",
       "    <tr style=\"text-align: right;\">\n",
       "      <th></th>\n",
       "      <th>월ID</th>\n",
       "      <th>상점ID</th>\n",
       "      <th>상품ID</th>\n",
       "      <th>월간 판매량</th>\n",
       "      <th>평균 판매가</th>\n",
       "    </tr>\n",
       "  </thead>\n",
       "  <tbody>\n",
       "    <tr>\n",
       "      <th>0</th>\n",
       "      <td>0</td>\n",
       "      <td>59</td>\n",
       "      <td>22154</td>\n",
       "      <td>1.0</td>\n",
       "      <td>999.0</td>\n",
       "    </tr>\n",
       "    <tr>\n",
       "      <th>1</th>\n",
       "      <td>0</td>\n",
       "      <td>59</td>\n",
       "      <td>2552</td>\n",
       "      <td>NaN</td>\n",
       "      <td>NaN</td>\n",
       "    </tr>\n",
       "    <tr>\n",
       "      <th>2</th>\n",
       "      <td>0</td>\n",
       "      <td>59</td>\n",
       "      <td>2554</td>\n",
       "      <td>NaN</td>\n",
       "      <td>NaN</td>\n",
       "    </tr>\n",
       "    <tr>\n",
       "      <th>3</th>\n",
       "      <td>0</td>\n",
       "      <td>59</td>\n",
       "      <td>2555</td>\n",
       "      <td>NaN</td>\n",
       "      <td>NaN</td>\n",
       "    </tr>\n",
       "    <tr>\n",
       "      <th>4</th>\n",
       "      <td>0</td>\n",
       "      <td>59</td>\n",
       "      <td>2564</td>\n",
       "      <td>NaN</td>\n",
       "      <td>NaN</td>\n",
       "    </tr>\n",
       "  </tbody>\n",
       "</table>\n",
       "</div>"
      ],
      "text/plain": [
       "   월ID  상점ID   상품ID  월간 판매량  평균 판매가\n",
       "0    0    59  22154     1.0   999.0\n",
       "1    0    59   2552     NaN     NaN\n",
       "2    0    59   2554     NaN     NaN\n",
       "3    0    59   2555     NaN     NaN\n",
       "4    0    59   2564     NaN     NaN"
      ]
     },
     "execution_count": 22,
     "metadata": {},
     "output_type": "execute_result"
    }
   ],
   "source": [
    "group = sales_train.groupby(idx_features).agg({'판매량': 'sum',\n",
    "                                               '판매가': 'mean'})\n",
    "group = group.reset_index()\n",
    "group = group.rename(columns={'판매량': '월간 판매량', '판매가': '평균 판매가'})\n",
    "\n",
    "train = train.merge(group, on=idx_features, how='left')\n",
    "\n",
    "train.head()"
   ]
  },
  {
   "cell_type": "code",
   "execution_count": 23,
   "id": "a382b19b",
   "metadata": {
    "execution": {
     "iopub.execute_input": "2024-01-26T05:26:07.691430Z",
     "iopub.status.busy": "2024-01-26T05:26:07.690620Z",
     "iopub.status.idle": "2024-01-26T05:26:07.693637Z",
     "shell.execute_reply": "2024-01-26T05:26:07.693117Z"
    },
    "papermill": {
     "duration": 0.166789,
     "end_time": "2024-01-26T05:26:07.693815",
     "exception": false,
     "start_time": "2024-01-26T05:26:07.527026",
     "status": "completed"
    },
    "tags": []
   },
   "outputs": [],
   "source": [
    "import gc\n",
    "\n",
    "# group 변수 가비지 컬렉션\n",
    "del group\n",
    "gc.collect();"
   ]
  },
  {
   "cell_type": "code",
   "execution_count": 24,
   "id": "4d87e0d0",
   "metadata": {
    "execution": {
     "iopub.execute_input": "2024-01-26T05:26:07.805653Z",
     "iopub.status.busy": "2024-01-26T05:26:07.804972Z",
     "iopub.status.idle": "2024-01-26T05:26:13.479607Z",
     "shell.execute_reply": "2024-01-26T05:26:13.479021Z"
    },
    "papermill": {
     "duration": 5.731452,
     "end_time": "2024-01-26T05:26:13.479780",
     "exception": false,
     "start_time": "2024-01-26T05:26:07.748328",
     "status": "completed"
    },
    "tags": []
   },
   "outputs": [
    {
     "data": {
      "text/html": [
       "<div>\n",
       "<style scoped>\n",
       "    .dataframe tbody tr th:only-of-type {\n",
       "        vertical-align: middle;\n",
       "    }\n",
       "\n",
       "    .dataframe tbody tr th {\n",
       "        vertical-align: top;\n",
       "    }\n",
       "\n",
       "    .dataframe thead th {\n",
       "        text-align: right;\n",
       "    }\n",
       "</style>\n",
       "<table border=\"1\" class=\"dataframe\">\n",
       "  <thead>\n",
       "    <tr style=\"text-align: right;\">\n",
       "      <th></th>\n",
       "      <th>월ID</th>\n",
       "      <th>상점ID</th>\n",
       "      <th>상품ID</th>\n",
       "      <th>월간 판매량</th>\n",
       "      <th>평균 판매가</th>\n",
       "      <th>판매건수</th>\n",
       "    </tr>\n",
       "  </thead>\n",
       "  <tbody>\n",
       "    <tr>\n",
       "      <th>0</th>\n",
       "      <td>0</td>\n",
       "      <td>59</td>\n",
       "      <td>22154</td>\n",
       "      <td>1.0</td>\n",
       "      <td>999.0</td>\n",
       "      <td>1.0</td>\n",
       "    </tr>\n",
       "    <tr>\n",
       "      <th>1</th>\n",
       "      <td>0</td>\n",
       "      <td>59</td>\n",
       "      <td>2552</td>\n",
       "      <td>NaN</td>\n",
       "      <td>NaN</td>\n",
       "      <td>NaN</td>\n",
       "    </tr>\n",
       "    <tr>\n",
       "      <th>2</th>\n",
       "      <td>0</td>\n",
       "      <td>59</td>\n",
       "      <td>2554</td>\n",
       "      <td>NaN</td>\n",
       "      <td>NaN</td>\n",
       "      <td>NaN</td>\n",
       "    </tr>\n",
       "    <tr>\n",
       "      <th>3</th>\n",
       "      <td>0</td>\n",
       "      <td>59</td>\n",
       "      <td>2555</td>\n",
       "      <td>NaN</td>\n",
       "      <td>NaN</td>\n",
       "      <td>NaN</td>\n",
       "    </tr>\n",
       "    <tr>\n",
       "      <th>4</th>\n",
       "      <td>0</td>\n",
       "      <td>59</td>\n",
       "      <td>2564</td>\n",
       "      <td>NaN</td>\n",
       "      <td>NaN</td>\n",
       "      <td>NaN</td>\n",
       "    </tr>\n",
       "  </tbody>\n",
       "</table>\n",
       "</div>"
      ],
      "text/plain": [
       "   월ID  상점ID   상품ID  월간 판매량  평균 판매가  판매건수\n",
       "0    0    59  22154     1.0   999.0   1.0\n",
       "1    0    59   2552     NaN     NaN   NaN\n",
       "2    0    59   2554     NaN     NaN   NaN\n",
       "3    0    59   2555     NaN     NaN   NaN\n",
       "4    0    59   2564     NaN     NaN   NaN"
      ]
     },
     "execution_count": 24,
     "metadata": {},
     "output_type": "execute_result"
    }
   ],
   "source": [
    "# 상품 판매건수 피처 추가\n",
    "group = sales_train.groupby(idx_features).agg({'판매량': 'count'})\n",
    "group = group.reset_index()\n",
    "group = group.rename(columns={'판매량': '판매건수'})\n",
    "\n",
    "train = train.merge(group, on=idx_features, how='left')\n",
    "\n",
    "# 가비지 컬렉션\n",
    "del group, sales_train\n",
    "gc.collect()\n",
    "\n",
    "train.head()"
   ]
  },
  {
   "cell_type": "markdown",
   "id": "088b6807",
   "metadata": {
    "papermill": {
     "duration": 0.055862,
     "end_time": "2024-01-26T05:26:13.590129",
     "exception": false,
     "start_time": "2024-01-26T05:26:13.534267",
     "status": "completed"
    },
    "tags": []
   },
   "source": [
    "## 9.4.4 피처 엔지니어링 IV : 데이터 합치기"
   ]
  },
  {
   "cell_type": "markdown",
   "id": "eb18fa6e",
   "metadata": {
    "papermill": {
     "duration": 0.052764,
     "end_time": "2024-01-26T05:26:13.696380",
     "exception": false,
     "start_time": "2024-01-26T05:26:13.643616",
     "status": "completed"
    },
    "tags": []
   },
   "source": [
    "### 테스트 데이터 이어붙이기"
   ]
  },
  {
   "cell_type": "code",
   "execution_count": 25,
   "id": "61b1d7d7",
   "metadata": {
    "execution": {
     "iopub.execute_input": "2024-01-26T05:26:13.805348Z",
     "iopub.status.busy": "2024-01-26T05:26:13.804647Z",
     "iopub.status.idle": "2024-01-26T05:26:14.342909Z",
     "shell.execute_reply": "2024-01-26T05:26:14.342309Z"
    },
    "papermill": {
     "duration": 0.593776,
     "end_time": "2024-01-26T05:26:14.343064",
     "exception": false,
     "start_time": "2024-01-26T05:26:13.749288",
     "status": "completed"
    },
    "tags": []
   },
   "outputs": [
    {
     "data": {
      "text/html": [
       "<div>\n",
       "<style scoped>\n",
       "    .dataframe tbody tr th:only-of-type {\n",
       "        vertical-align: middle;\n",
       "    }\n",
       "\n",
       "    .dataframe tbody tr th {\n",
       "        vertical-align: top;\n",
       "    }\n",
       "\n",
       "    .dataframe thead th {\n",
       "        text-align: right;\n",
       "    }\n",
       "</style>\n",
       "<table border=\"1\" class=\"dataframe\">\n",
       "  <thead>\n",
       "    <tr style=\"text-align: right;\">\n",
       "      <th></th>\n",
       "      <th>월ID</th>\n",
       "      <th>상점ID</th>\n",
       "      <th>상품ID</th>\n",
       "      <th>월간 판매량</th>\n",
       "      <th>평균 판매가</th>\n",
       "      <th>판매건수</th>\n",
       "    </tr>\n",
       "  </thead>\n",
       "  <tbody>\n",
       "    <tr>\n",
       "      <th>0</th>\n",
       "      <td>0</td>\n",
       "      <td>59</td>\n",
       "      <td>22154</td>\n",
       "      <td>1.0</td>\n",
       "      <td>999.0</td>\n",
       "      <td>1.0</td>\n",
       "    </tr>\n",
       "    <tr>\n",
       "      <th>1</th>\n",
       "      <td>0</td>\n",
       "      <td>59</td>\n",
       "      <td>2552</td>\n",
       "      <td>0.0</td>\n",
       "      <td>0.0</td>\n",
       "      <td>0.0</td>\n",
       "    </tr>\n",
       "    <tr>\n",
       "      <th>2</th>\n",
       "      <td>0</td>\n",
       "      <td>59</td>\n",
       "      <td>2554</td>\n",
       "      <td>0.0</td>\n",
       "      <td>0.0</td>\n",
       "      <td>0.0</td>\n",
       "    </tr>\n",
       "    <tr>\n",
       "      <th>3</th>\n",
       "      <td>0</td>\n",
       "      <td>59</td>\n",
       "      <td>2555</td>\n",
       "      <td>0.0</td>\n",
       "      <td>0.0</td>\n",
       "      <td>0.0</td>\n",
       "    </tr>\n",
       "    <tr>\n",
       "      <th>4</th>\n",
       "      <td>0</td>\n",
       "      <td>59</td>\n",
       "      <td>2564</td>\n",
       "      <td>0.0</td>\n",
       "      <td>0.0</td>\n",
       "      <td>0.0</td>\n",
       "    </tr>\n",
       "  </tbody>\n",
       "</table>\n",
       "</div>"
      ],
      "text/plain": [
       "   월ID  상점ID   상품ID  월간 판매량  평균 판매가  판매건수\n",
       "0    0    59  22154     1.0   999.0   1.0\n",
       "1    0    59   2552     0.0     0.0   0.0\n",
       "2    0    59   2554     0.0     0.0   0.0\n",
       "3    0    59   2555     0.0     0.0   0.0\n",
       "4    0    59   2564     0.0     0.0   0.0"
      ]
     },
     "execution_count": 25,
     "metadata": {},
     "output_type": "execute_result"
    }
   ],
   "source": [
    "# 테스트 데이터 월ID를 34로 설정\n",
    "test['월ID'] = 34\n",
    "\n",
    "# train과 test 이어붙이기\n",
    "all_data = pd.concat([train, test.drop('ID', axis=1)],\n",
    "                     ignore_index=True,\n",
    "                     keys=idx_features)\n",
    "# 결측값을 0으로 대체\n",
    "all_data = all_data.fillna(0)\n",
    "\n",
    "all_data.head()"
   ]
  },
  {
   "cell_type": "markdown",
   "id": "68ae3d40",
   "metadata": {
    "papermill": {
     "duration": 0.054282,
     "end_time": "2024-01-26T05:26:14.451405",
     "exception": false,
     "start_time": "2024-01-26T05:26:14.397123",
     "status": "completed"
    },
    "tags": []
   },
   "source": [
    "### 모든 데이터 병합"
   ]
  },
  {
   "cell_type": "code",
   "execution_count": 26,
   "id": "ec970a26",
   "metadata": {
    "execution": {
     "iopub.execute_input": "2024-01-26T05:26:14.573051Z",
     "iopub.status.busy": "2024-01-26T05:26:14.572252Z",
     "iopub.status.idle": "2024-01-26T05:26:21.346195Z",
     "shell.execute_reply": "2024-01-26T05:26:21.345599Z"
    },
    "papermill": {
     "duration": 6.835843,
     "end_time": "2024-01-26T05:26:21.346344",
     "exception": false,
     "start_time": "2024-01-26T05:26:14.510501",
     "status": "completed"
    },
    "tags": []
   },
   "outputs": [
    {
     "name": "stdout",
     "output_type": "stream",
     "text": [
      "64.6% 압축됨\n"
     ]
    }
   ],
   "source": [
    "# 나머지 데이터 병합\n",
    "all_data = all_data.merge(shops, on='상점ID', how='left')\n",
    "all_data = all_data.merge(items, on='상품ID', how='left')\n",
    "all_data = all_data.merge(item_categories, on='상품분류ID', how='left')\n",
    "\n",
    "# 데이터 다운캐스팅\n",
    "all_data = downcast(all_data)"
   ]
  },
  {
   "cell_type": "code",
   "execution_count": 27,
   "id": "f023028d",
   "metadata": {
    "execution": {
     "iopub.execute_input": "2024-01-26T05:26:21.560583Z",
     "iopub.status.busy": "2024-01-26T05:26:21.559527Z",
     "iopub.status.idle": "2024-01-26T05:26:21.563319Z",
     "shell.execute_reply": "2024-01-26T05:26:21.562693Z"
    },
    "papermill": {
     "duration": 0.162924,
     "end_time": "2024-01-26T05:26:21.563485",
     "exception": false,
     "start_time": "2024-01-26T05:26:21.400561",
     "status": "completed"
    },
    "tags": []
   },
   "outputs": [],
   "source": [
    "# 가비지 컬렉션\n",
    "del shops, items, item_categories\n",
    "gc.collect();"
   ]
  },
  {
   "cell_type": "markdown",
   "id": "9b270805",
   "metadata": {
    "papermill": {
     "duration": 0.053559,
     "end_time": "2024-01-26T05:26:21.670995",
     "exception": false,
     "start_time": "2024-01-26T05:26:21.617436",
     "status": "completed"
    },
    "tags": []
   },
   "source": [
    "## 9.4.5 피처 엔지니어링 V : 시차 피처 생성"
   ]
  },
  {
   "cell_type": "markdown",
   "id": "63adecfb",
   "metadata": {
    "papermill": {
     "duration": 0.053799,
     "end_time": "2024-01-26T05:26:21.778819",
     "exception": false,
     "start_time": "2024-01-26T05:26:21.725020",
     "status": "completed"
    },
    "tags": []
   },
   "source": [
    "### 기준 피처별 월간 평균 판매량 파생 피처 생성"
   ]
  },
  {
   "cell_type": "code",
   "execution_count": 28,
   "id": "948280e7",
   "metadata": {
    "execution": {
     "iopub.execute_input": "2024-01-26T05:26:21.890503Z",
     "iopub.status.busy": "2024-01-26T05:26:21.889469Z",
     "iopub.status.idle": "2024-01-26T05:26:21.896864Z",
     "shell.execute_reply": "2024-01-26T05:26:21.897379Z"
    },
    "papermill": {
     "duration": 0.064928,
     "end_time": "2024-01-26T05:26:21.897557",
     "exception": false,
     "start_time": "2024-01-26T05:26:21.832629",
     "status": "completed"
    },
    "tags": []
   },
   "outputs": [],
   "source": [
    "def add_mean_features(df, mean_features, idx_features):\n",
    "    # 기준 피처 확인 \n",
    "    assert (idx_features[0] == '월ID') and \\\n",
    "           len(idx_features) in [2, 3]\n",
    "    \n",
    "    # 파생 피처명 설정 \n",
    "    if len(idx_features) == 2:\n",
    "        feature_name = idx_features[1] + '별 평균 판매량'\n",
    "    else:\n",
    "        feature_name = idx_features[1] + ' ' + idx_features[2] + '별 평균 판매량'\n",
    "    \n",
    "    # 기준 피처를 토대로 그룹화해 월간 평균 판매량 구하기 \n",
    "    group = df.groupby(idx_features).agg({'월간 판매량': 'mean'})\n",
    "    group = group.reset_index()\n",
    "    group = group.rename(columns={'월간 판매량': feature_name})\n",
    "    \n",
    "    # df와 group 병합 \n",
    "    df = df.merge(group, on=idx_features, how='left')\n",
    "    # 데이터 다운캐스팅 \n",
    "    df = downcast(df, verbose=False)\n",
    "    # 새로 만든 feature_name 피처명을 mean_features 리스트에 추가 \n",
    "    mean_features.append(feature_name)\n",
    "    \n",
    "    # 가비지 컬렉션\n",
    "    del group\n",
    "    gc.collect()\n",
    "    \n",
    "    return df, mean_features"
   ]
  },
  {
   "cell_type": "code",
   "execution_count": 29,
   "id": "d62723af",
   "metadata": {
    "execution": {
     "iopub.execute_input": "2024-01-26T05:26:22.010328Z",
     "iopub.status.busy": "2024-01-26T05:26:22.009279Z",
     "iopub.status.idle": "2024-01-26T05:26:37.002818Z",
     "shell.execute_reply": "2024-01-26T05:26:37.002172Z"
    },
    "papermill": {
     "duration": 15.05062,
     "end_time": "2024-01-26T05:26:37.003013",
     "exception": false,
     "start_time": "2024-01-26T05:26:21.952393",
     "status": "completed"
    },
    "tags": []
   },
   "outputs": [],
   "source": [
    "# 그룹화 기준 피처 중 '상품ID'가 포함된 파생 피처명을 담을 리스트\n",
    "item_mean_features = []\n",
    "\n",
    "# ['월ID', '상품ID']로 그룹화한 월간 평균 판매량 파생 피처 생성\n",
    "all_data, item_mean_features = add_mean_features(df=all_data,\n",
    "                                                 mean_features=item_mean_features,\n",
    "                                                 idx_features=['월ID', '상품ID'])\n",
    "\n",
    "# ['월ID', '상품ID', '도시']로 그룹화한 월간 평균 판매량 파생 피처 생성\n",
    "all_data, item_mean_features = add_mean_features(df=all_data,\n",
    "                                                 mean_features=item_mean_features,\n",
    "                                                 idx_features=['월ID', '상품ID', '도시'])"
   ]
  },
  {
   "cell_type": "code",
   "execution_count": 30,
   "id": "13caaf49",
   "metadata": {
    "execution": {
     "iopub.execute_input": "2024-01-26T05:26:37.117300Z",
     "iopub.status.busy": "2024-01-26T05:26:37.116442Z",
     "iopub.status.idle": "2024-01-26T05:26:37.119714Z",
     "shell.execute_reply": "2024-01-26T05:26:37.120237Z"
    },
    "papermill": {
     "duration": 0.062963,
     "end_time": "2024-01-26T05:26:37.120411",
     "exception": false,
     "start_time": "2024-01-26T05:26:37.057448",
     "status": "completed"
    },
    "tags": []
   },
   "outputs": [
    {
     "data": {
      "text/plain": [
       "['상품ID별 평균 판매량', '상품ID 도시별 평균 판매량']"
      ]
     },
     "execution_count": 30,
     "metadata": {},
     "output_type": "execute_result"
    }
   ],
   "source": [
    "item_mean_features"
   ]
  },
  {
   "cell_type": "code",
   "execution_count": 31,
   "id": "084c8014",
   "metadata": {
    "execution": {
     "iopub.execute_input": "2024-01-26T05:26:37.235846Z",
     "iopub.status.busy": "2024-01-26T05:26:37.232043Z",
     "iopub.status.idle": "2024-01-26T05:26:40.928505Z",
     "shell.execute_reply": "2024-01-26T05:26:40.927900Z"
    },
    "papermill": {
     "duration": 3.753834,
     "end_time": "2024-01-26T05:26:40.928667",
     "exception": false,
     "start_time": "2024-01-26T05:26:37.174833",
     "status": "completed"
    },
    "tags": []
   },
   "outputs": [],
   "source": [
    "# 그룹화 기준 피처 중 '상점ID'가 포함된 파생 피처명을 담을 리스트\n",
    "shop_mean_features = []\n",
    "\n",
    "# ['월ID', '상점ID', '상품분류ID']로 그룹화한 월간 평균 판매량 파생 피처 생성\n",
    "all_data, shop_mean_features = add_mean_features(df=all_data, \n",
    "                                                 mean_features=shop_mean_features,\n",
    "                                                 idx_features=['월ID', '상점ID', '상품분류ID'])"
   ]
  },
  {
   "cell_type": "code",
   "execution_count": 32,
   "id": "35621d8b",
   "metadata": {
    "execution": {
     "iopub.execute_input": "2024-01-26T05:26:41.048935Z",
     "iopub.status.busy": "2024-01-26T05:26:41.048224Z",
     "iopub.status.idle": "2024-01-26T05:26:41.050869Z",
     "shell.execute_reply": "2024-01-26T05:26:41.051373Z"
    },
    "papermill": {
     "duration": 0.065583,
     "end_time": "2024-01-26T05:26:41.051547",
     "exception": false,
     "start_time": "2024-01-26T05:26:40.985964",
     "status": "completed"
    },
    "tags": []
   },
   "outputs": [
    {
     "data": {
      "text/plain": [
       "['상점ID 상품분류ID별 평균 판매량']"
      ]
     },
     "execution_count": 32,
     "metadata": {},
     "output_type": "execute_result"
    }
   ],
   "source": [
    "shop_mean_features"
   ]
  },
  {
   "cell_type": "markdown",
   "id": "aa3df1b0",
   "metadata": {
    "papermill": {
     "duration": 0.055646,
     "end_time": "2024-01-26T05:26:41.164527",
     "exception": false,
     "start_time": "2024-01-26T05:26:41.108881",
     "status": "completed"
    },
    "tags": []
   },
   "source": [
    "### 시차 피처 생성 원리와 구현"
   ]
  },
  {
   "cell_type": "code",
   "execution_count": 33,
   "id": "198fb26c",
   "metadata": {
    "execution": {
     "iopub.execute_input": "2024-01-26T05:26:41.281869Z",
     "iopub.status.busy": "2024-01-26T05:26:41.281079Z",
     "iopub.status.idle": "2024-01-26T05:26:41.289215Z",
     "shell.execute_reply": "2024-01-26T05:26:41.289841Z"
    },
    "papermill": {
     "duration": 0.068899,
     "end_time": "2024-01-26T05:26:41.290041",
     "exception": false,
     "start_time": "2024-01-26T05:26:41.221142",
     "status": "completed"
    },
    "tags": []
   },
   "outputs": [],
   "source": [
    "def add_lag_features(df, lag_features_to_clip, idx_features, \n",
    "                     lag_feature, nlags=3, clip=False):\n",
    "    # 시차 피처 생성에 필요한 DataFrame 부분만 복사 \n",
    "    df_temp = df[idx_features + [lag_feature]].copy() \n",
    "\n",
    "    # 시차 피처 생성 \n",
    "    for i in range(1, nlags+1):\n",
    "        # 시차 피처명 \n",
    "        lag_feature_name = lag_feature +'_시차' + str(i)\n",
    "        # df_temp 열 이름 설정 \n",
    "        df_temp.columns = idx_features + [lag_feature_name]\n",
    "        # df_temp의 date_block_num 피처에 1 더하기 \n",
    "        df_temp['월ID'] += 1\n",
    "        # idx_feature를 기준으로 df와 df_temp 병합하기 \n",
    "        df = df.merge(df_temp.drop_duplicates(), \n",
    "                      on=idx_features, \n",
    "                      how='left')\n",
    "        # 결측값 0으로 대체 \n",
    "        df[lag_feature_name] = df[lag_feature_name].fillna(0)\n",
    "        # 0 ~ 20 사이로 제한할 시차 피처명을 lag_features_to_clip에 추가 \n",
    "        if clip: \n",
    "            lag_features_to_clip.append(lag_feature_name)\n",
    "    \n",
    "    # 데이터 다운캐스팅\n",
    "    df = downcast(df, False)\n",
    "    # 가비지 컬렉션\n",
    "    del df_temp\n",
    "    gc.collect()\n",
    "    \n",
    "    return df, lag_features_to_clip"
   ]
  },
  {
   "cell_type": "markdown",
   "id": "020e2a17",
   "metadata": {
    "papermill": {
     "duration": 0.0573,
     "end_time": "2024-01-26T05:26:41.406593",
     "exception": false,
     "start_time": "2024-01-26T05:26:41.349293",
     "status": "completed"
    },
    "tags": []
   },
   "source": [
    "### 시차 피처 생성 I : 월간 판매량"
   ]
  },
  {
   "cell_type": "code",
   "execution_count": 34,
   "id": "f706dafc",
   "metadata": {
    "execution": {
     "iopub.execute_input": "2024-01-26T05:26:41.523002Z",
     "iopub.status.busy": "2024-01-26T05:26:41.522303Z",
     "iopub.status.idle": "2024-01-26T05:27:16.800715Z",
     "shell.execute_reply": "2024-01-26T05:27:16.801337Z"
    },
    "papermill": {
     "duration": 35.337667,
     "end_time": "2024-01-26T05:27:16.801534",
     "exception": false,
     "start_time": "2024-01-26T05:26:41.463867",
     "status": "completed"
    },
    "tags": []
   },
   "outputs": [],
   "source": [
    "lag_features_to_clip = [] # 0 ~ 20 사이로 제한할 시차 피처명을 담을 리스트\n",
    "idx_features = ['월ID', '상점ID', '상품ID'] # 기준 피처\n",
    "\n",
    "# idx_features를 기준으로 월간 판매량의 세 달치 시차 피처 생성\n",
    "all_data, lag_features_to_clip = add_lag_features(df=all_data, \n",
    "                                                  lag_features_to_clip=lag_features_to_clip,\n",
    "                                                  idx_features=idx_features,\n",
    "                                                  lag_feature='월간 판매량', \n",
    "                                                  nlags=3,\n",
    "                                                  clip=True) # 값을 0 ~ 20 사이로 제한"
   ]
  },
  {
   "cell_type": "code",
   "execution_count": 35,
   "id": "7e31344e",
   "metadata": {
    "execution": {
     "iopub.execute_input": "2024-01-26T05:27:16.921274Z",
     "iopub.status.busy": "2024-01-26T05:27:16.920568Z",
     "iopub.status.idle": "2024-01-26T05:27:16.937165Z",
     "shell.execute_reply": "2024-01-26T05:27:16.937712Z"
    },
    "papermill": {
     "duration": 0.078954,
     "end_time": "2024-01-26T05:27:16.937925",
     "exception": false,
     "start_time": "2024-01-26T05:27:16.858971",
     "status": "completed"
    },
    "tags": []
   },
   "outputs": [
    {
     "data": {
      "text/html": [
       "<div>\n",
       "<style scoped>\n",
       "    .dataframe tbody tr th:only-of-type {\n",
       "        vertical-align: middle;\n",
       "    }\n",
       "\n",
       "    .dataframe tbody tr th {\n",
       "        vertical-align: top;\n",
       "    }\n",
       "\n",
       "    .dataframe thead th {\n",
       "        text-align: right;\n",
       "    }\n",
       "</style>\n",
       "<table border=\"1\" class=\"dataframe\">\n",
       "  <thead>\n",
       "    <tr style=\"text-align: right;\">\n",
       "      <th></th>\n",
       "      <th>0</th>\n",
       "      <th>1</th>\n",
       "      <th>2</th>\n",
       "      <th>3</th>\n",
       "      <th>4</th>\n",
       "    </tr>\n",
       "  </thead>\n",
       "  <tbody>\n",
       "    <tr>\n",
       "      <th>월ID</th>\n",
       "      <td>0.000000</td>\n",
       "      <td>0.000000</td>\n",
       "      <td>0.000000</td>\n",
       "      <td>0.000000</td>\n",
       "      <td>0.000000</td>\n",
       "    </tr>\n",
       "    <tr>\n",
       "      <th>상점ID</th>\n",
       "      <td>59.000000</td>\n",
       "      <td>59.000000</td>\n",
       "      <td>59.000000</td>\n",
       "      <td>59.000000</td>\n",
       "      <td>59.000000</td>\n",
       "    </tr>\n",
       "    <tr>\n",
       "      <th>상품ID</th>\n",
       "      <td>22154.000000</td>\n",
       "      <td>2552.000000</td>\n",
       "      <td>2554.000000</td>\n",
       "      <td>2555.000000</td>\n",
       "      <td>2564.000000</td>\n",
       "    </tr>\n",
       "    <tr>\n",
       "      <th>월간 판매량</th>\n",
       "      <td>1.000000</td>\n",
       "      <td>0.000000</td>\n",
       "      <td>0.000000</td>\n",
       "      <td>0.000000</td>\n",
       "      <td>0.000000</td>\n",
       "    </tr>\n",
       "    <tr>\n",
       "      <th>평균 판매가</th>\n",
       "      <td>999.000000</td>\n",
       "      <td>0.000000</td>\n",
       "      <td>0.000000</td>\n",
       "      <td>0.000000</td>\n",
       "      <td>0.000000</td>\n",
       "    </tr>\n",
       "    <tr>\n",
       "      <th>판매건수</th>\n",
       "      <td>1.000000</td>\n",
       "      <td>0.000000</td>\n",
       "      <td>0.000000</td>\n",
       "      <td>0.000000</td>\n",
       "      <td>0.000000</td>\n",
       "    </tr>\n",
       "    <tr>\n",
       "      <th>도시</th>\n",
       "      <td>30.000000</td>\n",
       "      <td>30.000000</td>\n",
       "      <td>30.000000</td>\n",
       "      <td>30.000000</td>\n",
       "      <td>30.000000</td>\n",
       "    </tr>\n",
       "    <tr>\n",
       "      <th>상품분류ID</th>\n",
       "      <td>37.000000</td>\n",
       "      <td>58.000000</td>\n",
       "      <td>58.000000</td>\n",
       "      <td>56.000000</td>\n",
       "      <td>59.000000</td>\n",
       "    </tr>\n",
       "    <tr>\n",
       "      <th>첫 판매월</th>\n",
       "      <td>0.000000</td>\n",
       "      <td>0.000000</td>\n",
       "      <td>0.000000</td>\n",
       "      <td>0.000000</td>\n",
       "      <td>0.000000</td>\n",
       "    </tr>\n",
       "    <tr>\n",
       "      <th>대분류</th>\n",
       "      <td>5.000000</td>\n",
       "      <td>7.000000</td>\n",
       "      <td>7.000000</td>\n",
       "      <td>7.000000</td>\n",
       "      <td>7.000000</td>\n",
       "    </tr>\n",
       "    <tr>\n",
       "      <th>상품ID별 평균 판매량</th>\n",
       "      <td>0.400000</td>\n",
       "      <td>0.022222</td>\n",
       "      <td>0.022222</td>\n",
       "      <td>0.044444</td>\n",
       "      <td>0.111111</td>\n",
       "    </tr>\n",
       "    <tr>\n",
       "      <th>상품ID 도시별 평균 판매량</th>\n",
       "      <td>1.000000</td>\n",
       "      <td>0.000000</td>\n",
       "      <td>0.000000</td>\n",
       "      <td>0.000000</td>\n",
       "      <td>0.000000</td>\n",
       "    </tr>\n",
       "    <tr>\n",
       "      <th>상점ID 상품분류ID별 평균 판매량</th>\n",
       "      <td>0.088496</td>\n",
       "      <td>0.000000</td>\n",
       "      <td>0.000000</td>\n",
       "      <td>0.008333</td>\n",
       "      <td>0.011976</td>\n",
       "    </tr>\n",
       "    <tr>\n",
       "      <th>월간 판매량_시차1</th>\n",
       "      <td>0.000000</td>\n",
       "      <td>0.000000</td>\n",
       "      <td>0.000000</td>\n",
       "      <td>0.000000</td>\n",
       "      <td>0.000000</td>\n",
       "    </tr>\n",
       "    <tr>\n",
       "      <th>월간 판매량_시차2</th>\n",
       "      <td>0.000000</td>\n",
       "      <td>0.000000</td>\n",
       "      <td>0.000000</td>\n",
       "      <td>0.000000</td>\n",
       "      <td>0.000000</td>\n",
       "    </tr>\n",
       "    <tr>\n",
       "      <th>월간 판매량_시차3</th>\n",
       "      <td>0.000000</td>\n",
       "      <td>0.000000</td>\n",
       "      <td>0.000000</td>\n",
       "      <td>0.000000</td>\n",
       "      <td>0.000000</td>\n",
       "    </tr>\n",
       "  </tbody>\n",
       "</table>\n",
       "</div>"
      ],
      "text/plain": [
       "                                0            1            2            3  \\\n",
       "월ID                      0.000000     0.000000     0.000000     0.000000   \n",
       "상점ID                    59.000000    59.000000    59.000000    59.000000   \n",
       "상품ID                 22154.000000  2552.000000  2554.000000  2555.000000   \n",
       "월간 판매량                   1.000000     0.000000     0.000000     0.000000   \n",
       "평균 판매가                 999.000000     0.000000     0.000000     0.000000   \n",
       "판매건수                     1.000000     0.000000     0.000000     0.000000   \n",
       "도시                      30.000000    30.000000    30.000000    30.000000   \n",
       "상품분류ID                  37.000000    58.000000    58.000000    56.000000   \n",
       "첫 판매월                    0.000000     0.000000     0.000000     0.000000   \n",
       "대분류                      5.000000     7.000000     7.000000     7.000000   \n",
       "상품ID별 평균 판매량             0.400000     0.022222     0.022222     0.044444   \n",
       "상품ID 도시별 평균 판매량          1.000000     0.000000     0.000000     0.000000   \n",
       "상점ID 상품분류ID별 평균 판매량      0.088496     0.000000     0.000000     0.008333   \n",
       "월간 판매량_시차1               0.000000     0.000000     0.000000     0.000000   \n",
       "월간 판매량_시차2               0.000000     0.000000     0.000000     0.000000   \n",
       "월간 판매량_시차3               0.000000     0.000000     0.000000     0.000000   \n",
       "\n",
       "                               4  \n",
       "월ID                     0.000000  \n",
       "상점ID                   59.000000  \n",
       "상품ID                 2564.000000  \n",
       "월간 판매량                  0.000000  \n",
       "평균 판매가                  0.000000  \n",
       "판매건수                    0.000000  \n",
       "도시                     30.000000  \n",
       "상품분류ID                 59.000000  \n",
       "첫 판매월                   0.000000  \n",
       "대분류                     7.000000  \n",
       "상품ID별 평균 판매량            0.111111  \n",
       "상품ID 도시별 평균 판매량         0.000000  \n",
       "상점ID 상품분류ID별 평균 판매량     0.011976  \n",
       "월간 판매량_시차1              0.000000  \n",
       "월간 판매량_시차2              0.000000  \n",
       "월간 판매량_시차3              0.000000  "
      ]
     },
     "execution_count": 35,
     "metadata": {},
     "output_type": "execute_result"
    }
   ],
   "source": [
    "all_data.head().T"
   ]
  },
  {
   "cell_type": "code",
   "execution_count": 36,
   "id": "0b1c33d6",
   "metadata": {
    "execution": {
     "iopub.execute_input": "2024-01-26T05:27:17.055383Z",
     "iopub.status.busy": "2024-01-26T05:27:17.054705Z",
     "iopub.status.idle": "2024-01-26T05:27:17.060802Z",
     "shell.execute_reply": "2024-01-26T05:27:17.060131Z"
    },
    "papermill": {
     "duration": 0.064593,
     "end_time": "2024-01-26T05:27:17.060947",
     "exception": false,
     "start_time": "2024-01-26T05:27:16.996354",
     "status": "completed"
    },
    "tags": []
   },
   "outputs": [
    {
     "data": {
      "text/plain": [
       "['월간 판매량_시차1', '월간 판매량_시차2', '월간 판매량_시차3']"
      ]
     },
     "execution_count": 36,
     "metadata": {},
     "output_type": "execute_result"
    }
   ],
   "source": [
    "lag_features_to_clip"
   ]
  },
  {
   "cell_type": "markdown",
   "id": "97dbbc21",
   "metadata": {
    "papermill": {
     "duration": 0.057476,
     "end_time": "2024-01-26T05:27:17.175935",
     "exception": false,
     "start_time": "2024-01-26T05:27:17.118459",
     "status": "completed"
    },
    "tags": []
   },
   "source": [
    "### 시차 피처 생성 II : 판매건수, 평균 판매가"
   ]
  },
  {
   "cell_type": "code",
   "execution_count": 37,
   "id": "6b69ced0",
   "metadata": {
    "execution": {
     "iopub.execute_input": "2024-01-26T05:27:17.296029Z",
     "iopub.status.busy": "2024-01-26T05:27:17.295339Z",
     "iopub.status.idle": "2024-01-26T05:28:28.452779Z",
     "shell.execute_reply": "2024-01-26T05:28:28.453479Z"
    },
    "papermill": {
     "duration": 71.221258,
     "end_time": "2024-01-26T05:28:28.453685",
     "exception": false,
     "start_time": "2024-01-26T05:27:17.232427",
     "status": "completed"
    },
    "tags": []
   },
   "outputs": [],
   "source": [
    "# idx_features를 기준으로 판매건수 피처의 세 달치 시차 피처 생성\n",
    "all_data, lag_features_to_clip = add_lag_features(df=all_data, \n",
    "                                                  lag_features_to_clip=lag_features_to_clip,\n",
    "                                                  idx_features=idx_features,\n",
    "                                                  lag_feature='판매건수', \n",
    "                                                  nlags=3)\n",
    "\n",
    "# idx_features를 기준으로 평균 판매가 피처의 세 달치 시차 피처 생성\n",
    "all_data, lag_features_to_clip = add_lag_features(df=all_data, \n",
    "                                                  lag_features_to_clip=lag_features_to_clip,\n",
    "                                                  idx_features=idx_features,\n",
    "                                                  lag_feature='평균 판매가', \n",
    "                                                  nlags=3)"
   ]
  },
  {
   "cell_type": "markdown",
   "id": "b0fe9dcc",
   "metadata": {
    "papermill": {
     "duration": 0.058319,
     "end_time": "2024-01-26T05:28:28.570814",
     "exception": false,
     "start_time": "2024-01-26T05:28:28.512495",
     "status": "completed"
    },
    "tags": []
   },
   "source": [
    "### 시차 피처 생성 III : 평균 판매량"
   ]
  },
  {
   "cell_type": "code",
   "execution_count": 38,
   "id": "9b28363f",
   "metadata": {
    "execution": {
     "iopub.execute_input": "2024-01-26T05:28:28.694696Z",
     "iopub.status.busy": "2024-01-26T05:28:28.693282Z",
     "iopub.status.idle": "2024-01-26T05:29:44.032631Z",
     "shell.execute_reply": "2024-01-26T05:29:44.031956Z"
    },
    "papermill": {
     "duration": 75.403862,
     "end_time": "2024-01-26T05:29:44.032827",
     "exception": false,
     "start_time": "2024-01-26T05:28:28.628965",
     "status": "completed"
    },
    "tags": []
   },
   "outputs": [],
   "source": [
    "# idx_features를 기준으로 item_mean_features 요소별 시차 피처 생성\n",
    "for item_mean_feature in item_mean_features:\n",
    "    all_data, lag_features_to_clip = add_lag_features(df=all_data, \n",
    "                                                      lag_features_to_clip=lag_features_to_clip, \n",
    "                                                      idx_features=idx_features, \n",
    "                                                      lag_feature=item_mean_feature, \n",
    "                                                      nlags=3,\n",
    "                                                      clip=True)\n",
    "# item_mean_features 피처 제거\n",
    "all_data = all_data.drop(item_mean_features, axis=1)"
   ]
  },
  {
   "cell_type": "code",
   "execution_count": 39,
   "id": "48869d33",
   "metadata": {
    "execution": {
     "iopub.execute_input": "2024-01-26T05:29:44.209217Z",
     "iopub.status.busy": "2024-01-26T05:29:44.208441Z",
     "iopub.status.idle": "2024-01-26T05:29:59.840769Z",
     "shell.execute_reply": "2024-01-26T05:29:59.841279Z"
    },
    "papermill": {
     "duration": 15.747063,
     "end_time": "2024-01-26T05:29:59.841476",
     "exception": false,
     "start_time": "2024-01-26T05:29:44.094413",
     "status": "completed"
    },
    "tags": []
   },
   "outputs": [],
   "source": [
    "# ['월ID', '상점ID', '상품분류ID']를 기준으로 shop_mean_features 요소별 시차 피처 생성\n",
    "for shop_mean_feature in shop_mean_features:\n",
    "    all_data, lag_features_to_clip = add_lag_features(df=all_data,\n",
    "                                                      lag_features_to_clip=lag_features_to_clip, \n",
    "                                                      idx_features=['월ID', '상점ID', '상품분류ID'], \n",
    "                                                      lag_feature=shop_mean_feature, \n",
    "                                                      nlags=3,\n",
    "                                                      clip=True)\n",
    "# shop_mean_features 피처 제거\n",
    "all_data = all_data.drop(shop_mean_features, axis=1)"
   ]
  },
  {
   "cell_type": "markdown",
   "id": "e530ec87",
   "metadata": {
    "papermill": {
     "duration": 0.056475,
     "end_time": "2024-01-26T05:29:59.955093",
     "exception": false,
     "start_time": "2024-01-26T05:29:59.898618",
     "status": "completed"
    },
    "tags": []
   },
   "source": [
    "### 시차 피처 생성 마무리 : 결측값 처리"
   ]
  },
  {
   "cell_type": "code",
   "execution_count": 40,
   "id": "83e2737c",
   "metadata": {
    "execution": {
     "iopub.execute_input": "2024-01-26T05:30:00.136341Z",
     "iopub.status.busy": "2024-01-26T05:30:00.135338Z",
     "iopub.status.idle": "2024-01-26T05:30:03.028269Z",
     "shell.execute_reply": "2024-01-26T05:30:03.027585Z"
    },
    "papermill": {
     "duration": 3.015927,
     "end_time": "2024-01-26T05:30:03.028435",
     "exception": false,
     "start_time": "2024-01-26T05:30:00.012508",
     "status": "completed"
    },
    "tags": []
   },
   "outputs": [],
   "source": [
    "# 월ID 3미만인 데이터 제거\n",
    "all_data = all_data.drop(all_data[all_data['월ID'] < 3].index)"
   ]
  },
  {
   "cell_type": "markdown",
   "id": "20eb2423",
   "metadata": {
    "papermill": {
     "duration": 0.05991,
     "end_time": "2024-01-26T05:30:03.147480",
     "exception": false,
     "start_time": "2024-01-26T05:30:03.087570",
     "status": "completed"
    },
    "tags": []
   },
   "source": [
    "## 9.4.6 피처 엔지니어링 VI : 기타 피처 엔지니어링"
   ]
  },
  {
   "cell_type": "markdown",
   "id": "860a46b0",
   "metadata": {
    "papermill": {
     "duration": 0.059253,
     "end_time": "2024-01-26T05:30:03.265514",
     "exception": false,
     "start_time": "2024-01-26T05:30:03.206261",
     "status": "completed"
    },
    "tags": []
   },
   "source": [
    "### 기타 피처 추가"
   ]
  },
  {
   "cell_type": "markdown",
   "id": "1208ae62",
   "metadata": {
    "papermill": {
     "duration": 0.058847,
     "end_time": "2024-01-26T05:30:03.382661",
     "exception": false,
     "start_time": "2024-01-26T05:30:03.323814",
     "status": "completed"
    },
    "tags": []
   },
   "source": [
    "#### 월간 판매량 시차 피처들의 평균"
   ]
  },
  {
   "cell_type": "code",
   "execution_count": 41,
   "id": "6c8de40c",
   "metadata": {
    "execution": {
     "iopub.execute_input": "2024-01-26T05:30:03.531622Z",
     "iopub.status.busy": "2024-01-26T05:30:03.530799Z",
     "iopub.status.idle": "2024-01-26T05:30:03.637262Z",
     "shell.execute_reply": "2024-01-26T05:30:03.636537Z"
    },
    "papermill": {
     "duration": 0.19586,
     "end_time": "2024-01-26T05:30:03.637420",
     "exception": false,
     "start_time": "2024-01-26T05:30:03.441560",
     "status": "completed"
    },
    "tags": []
   },
   "outputs": [],
   "source": [
    "all_data['월간 판매량 시차평균'] = all_data[['월간 판매량_시차1',\n",
    "                                          '월간 판매량_시차2', \n",
    "                                          '월간 판매량_시차3']].mean(axis=1)"
   ]
  },
  {
   "cell_type": "code",
   "execution_count": 42,
   "id": "c16c380c",
   "metadata": {
    "execution": {
     "iopub.execute_input": "2024-01-26T05:30:03.977224Z",
     "iopub.status.busy": "2024-01-26T05:30:03.976306Z",
     "iopub.status.idle": "2024-01-26T05:30:06.762446Z",
     "shell.execute_reply": "2024-01-26T05:30:06.761879Z"
    },
    "papermill": {
     "duration": 3.06637,
     "end_time": "2024-01-26T05:30:06.762618",
     "exception": false,
     "start_time": "2024-01-26T05:30:03.696248",
     "status": "completed"
    },
    "tags": []
   },
   "outputs": [],
   "source": [
    "# 0 ~ 20 사이로 값 제한\n",
    "all_data[lag_features_to_clip + ['월간 판매량', '월간 판매량 시차평균']] = all_data[lag_features_to_clip + ['월간 판매량', '월간 판매량 시차평균']].clip(0, 20)"
   ]
  },
  {
   "cell_type": "markdown",
   "id": "18e5e615",
   "metadata": {
    "papermill": {
     "duration": 0.057907,
     "end_time": "2024-01-26T05:30:06.878670",
     "exception": false,
     "start_time": "2024-01-26T05:30:06.820763",
     "status": "completed"
    },
    "tags": []
   },
   "source": [
    "#### 시차 변화량"
   ]
  },
  {
   "cell_type": "code",
   "execution_count": 43,
   "id": "4c6bf44d",
   "metadata": {
    "execution": {
     "iopub.execute_input": "2024-01-26T05:30:07.000553Z",
     "iopub.status.busy": "2024-01-26T05:30:06.999839Z",
     "iopub.status.idle": "2024-01-26T05:30:07.502616Z",
     "shell.execute_reply": "2024-01-26T05:30:07.502056Z"
    },
    "papermill": {
     "duration": 0.566399,
     "end_time": "2024-01-26T05:30:07.502803",
     "exception": false,
     "start_time": "2024-01-26T05:30:06.936404",
     "status": "completed"
    },
    "tags": []
   },
   "outputs": [],
   "source": [
    "all_data['시차변화량1'] = all_data['월간 판매량_시차1']/all_data['월간 판매량_시차2']\n",
    "all_data['시차변화량1'] = all_data['시차변화량1'].replace([np.inf, -np.inf], \n",
    "                                                        np.nan).fillna(0)\n",
    "\n",
    "all_data['시차변화량2'] = all_data['월간 판매량_시차2']/all_data['월간 판매량_시차3']\n",
    "all_data['시차변화량2'] = all_data['시차변화량2'].replace([np.inf, -np.inf], \n",
    "                                                        np.nan).fillna(0)"
   ]
  },
  {
   "cell_type": "markdown",
   "id": "6cabae15",
   "metadata": {
    "papermill": {
     "duration": 0.057964,
     "end_time": "2024-01-26T05:30:07.621459",
     "exception": false,
     "start_time": "2024-01-26T05:30:07.563495",
     "status": "completed"
    },
    "tags": []
   },
   "source": [
    "#### 신상 여부"
   ]
  },
  {
   "cell_type": "code",
   "execution_count": 44,
   "id": "93900539",
   "metadata": {
    "execution": {
     "iopub.execute_input": "2024-01-26T05:30:07.743734Z",
     "iopub.status.busy": "2024-01-26T05:30:07.742558Z",
     "iopub.status.idle": "2024-01-26T05:30:07.751351Z",
     "shell.execute_reply": "2024-01-26T05:30:07.750671Z"
    },
    "papermill": {
     "duration": 0.072102,
     "end_time": "2024-01-26T05:30:07.751512",
     "exception": false,
     "start_time": "2024-01-26T05:30:07.679410",
     "status": "completed"
    },
    "tags": []
   },
   "outputs": [],
   "source": [
    "all_data['신상여부'] = all_data['첫 판매월'] == all_data['월ID']"
   ]
  },
  {
   "cell_type": "markdown",
   "id": "a49baf9a",
   "metadata": {
    "papermill": {
     "duration": 0.057433,
     "end_time": "2024-01-26T05:30:07.866657",
     "exception": false,
     "start_time": "2024-01-26T05:30:07.809224",
     "status": "completed"
    },
    "tags": []
   },
   "source": [
    "#### 첫 판매 후 경과 기간"
   ]
  },
  {
   "cell_type": "code",
   "execution_count": 45,
   "id": "8f4528c9",
   "metadata": {
    "execution": {
     "iopub.execute_input": "2024-01-26T05:30:07.987963Z",
     "iopub.status.busy": "2024-01-26T05:30:07.987250Z",
     "iopub.status.idle": "2024-01-26T05:30:07.998441Z",
     "shell.execute_reply": "2024-01-26T05:30:07.997892Z"
    },
    "papermill": {
     "duration": 0.07296,
     "end_time": "2024-01-26T05:30:07.998628",
     "exception": false,
     "start_time": "2024-01-26T05:30:07.925668",
     "status": "completed"
    },
    "tags": []
   },
   "outputs": [],
   "source": [
    "all_data['첫 판매 후 기간'] = all_data['월ID'] - all_data['첫 판매월']"
   ]
  },
  {
   "cell_type": "markdown",
   "id": "6010b620",
   "metadata": {
    "papermill": {
     "duration": 0.057657,
     "end_time": "2024-01-26T05:30:08.116016",
     "exception": false,
     "start_time": "2024-01-26T05:30:08.058359",
     "status": "completed"
    },
    "tags": []
   },
   "source": [
    "#### 월(month)"
   ]
  },
  {
   "cell_type": "code",
   "execution_count": 46,
   "id": "1abb33f5",
   "metadata": {
    "execution": {
     "iopub.execute_input": "2024-01-26T05:30:08.238526Z",
     "iopub.status.busy": "2024-01-26T05:30:08.237799Z",
     "iopub.status.idle": "2024-01-26T05:30:08.282370Z",
     "shell.execute_reply": "2024-01-26T05:30:08.281776Z"
    },
    "papermill": {
     "duration": 0.107137,
     "end_time": "2024-01-26T05:30:08.282518",
     "exception": false,
     "start_time": "2024-01-26T05:30:08.175381",
     "status": "completed"
    },
    "tags": []
   },
   "outputs": [],
   "source": [
    "all_data['월'] = all_data['월ID'] % 12"
   ]
  },
  {
   "cell_type": "markdown",
   "id": "33c04af2",
   "metadata": {
    "papermill": {
     "duration": 0.057502,
     "end_time": "2024-01-26T05:30:08.398682",
     "exception": false,
     "start_time": "2024-01-26T05:30:08.341180",
     "status": "completed"
    },
    "tags": []
   },
   "source": [
    "### 필요 없는 피처 제거"
   ]
  },
  {
   "cell_type": "code",
   "execution_count": 47,
   "id": "6b5e9426",
   "metadata": {
    "execution": {
     "iopub.execute_input": "2024-01-26T05:30:08.524102Z",
     "iopub.status.busy": "2024-01-26T05:30:08.523352Z",
     "iopub.status.idle": "2024-01-26T05:30:09.268491Z",
     "shell.execute_reply": "2024-01-26T05:30:09.267831Z"
    },
    "papermill": {
     "duration": 0.809273,
     "end_time": "2024-01-26T05:30:09.268638",
     "exception": false,
     "start_time": "2024-01-26T05:30:08.459365",
     "status": "completed"
    },
    "tags": []
   },
   "outputs": [],
   "source": [
    "# 첫 판매월, 평균 판매가, 판매건수 피처 제거\n",
    "all_data = all_data.drop(['첫 판매월', '평균 판매가', '판매건수'], axis=1)"
   ]
  },
  {
   "cell_type": "code",
   "execution_count": 48,
   "id": "47883aa2",
   "metadata": {
    "execution": {
     "iopub.execute_input": "2024-01-26T05:30:09.393816Z",
     "iopub.status.busy": "2024-01-26T05:30:09.393056Z",
     "iopub.status.idle": "2024-01-26T05:30:10.993472Z",
     "shell.execute_reply": "2024-01-26T05:30:10.992247Z"
    },
    "papermill": {
     "duration": 1.666453,
     "end_time": "2024-01-26T05:30:10.993646",
     "exception": false,
     "start_time": "2024-01-26T05:30:09.327193",
     "status": "completed"
    },
    "tags": []
   },
   "outputs": [],
   "source": [
    "all_data = downcast(all_data, False) # 데이터 다운캐스팅"
   ]
  },
  {
   "cell_type": "markdown",
   "id": "bde2d89e",
   "metadata": {
    "papermill": {
     "duration": 0.058065,
     "end_time": "2024-01-26T05:30:11.110256",
     "exception": false,
     "start_time": "2024-01-26T05:30:11.052191",
     "status": "completed"
    },
    "tags": []
   },
   "source": [
    "## 9.4.7 피처 엔지니어링 VII : 마무리"
   ]
  },
  {
   "cell_type": "code",
   "execution_count": 49,
   "id": "c90f7410",
   "metadata": {
    "execution": {
     "iopub.execute_input": "2024-01-26T05:30:11.239525Z",
     "iopub.status.busy": "2024-01-26T05:30:11.238563Z",
     "iopub.status.idle": "2024-01-26T05:30:11.242080Z",
     "shell.execute_reply": "2024-01-26T05:30:11.242631Z"
    },
    "papermill": {
     "duration": 0.074536,
     "end_time": "2024-01-26T05:30:11.242850",
     "exception": false,
     "start_time": "2024-01-26T05:30:11.168314",
     "status": "completed"
    },
    "tags": []
   },
   "outputs": [
    {
     "name": "stdout",
     "output_type": "stream",
     "text": [
      "<class 'pandas.core.frame.DataFrame'>\n",
      "Int64Index: 9904582 entries, 1122386 to 11026967\n",
      "Data columns (total 31 columns):\n",
      " #   Column                   Dtype  \n",
      "---  ------                   -----  \n",
      " 0   월ID                      int8   \n",
      " 1   상점ID                     int8   \n",
      " 2   상품ID                     int16  \n",
      " 3   월간 판매량                   int8   \n",
      " 4   도시                       int8   \n",
      " 5   상품분류ID                   int8   \n",
      " 6   대분류                      int8   \n",
      " 7   월간 판매량_시차1               int8   \n",
      " 8   월간 판매량_시차2               int8   \n",
      " 9   월간 판매량_시차3               int8   \n",
      " 10  판매건수_시차1                 int8   \n",
      " 11  판매건수_시차2                 int8   \n",
      " 12  판매건수_시차3                 int8   \n",
      " 13  평균 판매가_시차1               float32\n",
      " 14  평균 판매가_시차2               float32\n",
      " 15  평균 판매가_시차3               float32\n",
      " 16  상품ID별 평균 판매량_시차1         float32\n",
      " 17  상품ID별 평균 판매량_시차2         float32\n",
      " 18  상품ID별 평균 판매량_시차3         float32\n",
      " 19  상품ID 도시별 평균 판매량_시차1      float32\n",
      " 20  상품ID 도시별 평균 판매량_시차2      float32\n",
      " 21  상품ID 도시별 평균 판매량_시차3      float32\n",
      " 22  상점ID 상품분류ID별 평균 판매량_시차1  float32\n",
      " 23  상점ID 상품분류ID별 평균 판매량_시차2  float32\n",
      " 24  상점ID 상품분류ID별 평균 판매량_시차3  float32\n",
      " 25  월간 판매량 시차평균              float32\n",
      " 26  시차변화량1                   float32\n",
      " 27  시차변화량2                   float32\n",
      " 28  신상여부                     int8   \n",
      " 29  첫 판매 후 기간                int8   \n",
      " 30  월                        int8   \n",
      "dtypes: float32(15), int16(1), int8(15)\n",
      "memory usage: 802.9 MB\n"
     ]
    }
   ],
   "source": [
    "all_data.info()"
   ]
  },
  {
   "cell_type": "code",
   "execution_count": 50,
   "id": "2c447330",
   "metadata": {
    "execution": {
     "iopub.execute_input": "2024-01-26T05:30:11.368031Z",
     "iopub.status.busy": "2024-01-26T05:30:11.366918Z",
     "iopub.status.idle": "2024-01-26T05:30:14.865262Z",
     "shell.execute_reply": "2024-01-26T05:30:14.863909Z"
    },
    "papermill": {
     "duration": 3.564275,
     "end_time": "2024-01-26T05:30:14.865430",
     "exception": false,
     "start_time": "2024-01-26T05:30:11.301155",
     "status": "completed"
    },
    "tags": []
   },
   "outputs": [],
   "source": [
    "# 훈련 데이터 (피처)\n",
    "X_train = all_data[all_data['월ID'] < 33]\n",
    "X_train = X_train.drop(['월간 판매량'], axis=1)\n",
    "# 검증 데이터 (피처)\n",
    "X_valid = all_data[all_data['월ID'] == 33]\n",
    "X_valid = X_valid.drop(['월간 판매량'], axis=1)\n",
    "# 테스트 데이터 (피처)\n",
    "X_test = all_data[all_data['월ID'] == 34]\n",
    "X_test = X_test.drop(['월간 판매량'], axis=1)\n",
    "\n",
    "# 훈련 데이터 (타깃값)\n",
    "y_train = all_data[all_data['월ID'] < 33]['월간 판매량']\n",
    "# 검증 데이터 (타깃값)\n",
    "y_valid = all_data[all_data['월ID'] == 33]['월간 판매량']\n",
    "\n",
    "# 가비지 컬렉션\n",
    "del all_data\n",
    "gc.collect();"
   ]
  },
  {
   "cell_type": "markdown",
   "id": "334b210b",
   "metadata": {
    "papermill": {
     "duration": 0.057796,
     "end_time": "2024-01-26T05:30:14.983148",
     "exception": false,
     "start_time": "2024-01-26T05:30:14.925352",
     "status": "completed"
    },
    "tags": []
   },
   "source": [
    "## 9.4.8 모델 훈련 및 성능 검증"
   ]
  },
  {
   "cell_type": "code",
   "execution_count": 51,
   "id": "345cbf0b",
   "metadata": {
    "execution": {
     "iopub.execute_input": "2024-01-26T05:30:15.107868Z",
     "iopub.status.busy": "2024-01-26T05:30:15.107093Z",
     "iopub.status.idle": "2024-01-26T05:43:45.842463Z",
     "shell.execute_reply": "2024-01-26T05:43:45.841667Z"
    },
    "papermill": {
     "duration": 810.801045,
     "end_time": "2024-01-26T05:43:45.842626",
     "exception": false,
     "start_time": "2024-01-26T05:30:15.041581",
     "status": "completed"
    },
    "tags": []
   },
   "outputs": [
    {
     "data": {
      "text/html": [
       "<style type='text/css'>\n",
       ".datatable table.frame { margin-bottom: 0; }\n",
       ".datatable table.frame thead { border-bottom: none; }\n",
       ".datatable table.frame tr.coltypes td {  color: #FFFFFF;  line-height: 6px;  padding: 0 0.5em;}\n",
       ".datatable .bool    { background: #DDDD99; }\n",
       ".datatable .object  { background: #565656; }\n",
       ".datatable .int     { background: #5D9E5D; }\n",
       ".datatable .float   { background: #4040CC; }\n",
       ".datatable .str     { background: #CC4040; }\n",
       ".datatable .time    { background: #40CC40; }\n",
       ".datatable .row_index {  background: var(--jp-border-color3);  border-right: 1px solid var(--jp-border-color0);  color: var(--jp-ui-font-color3);  font-size: 9px;}\n",
       ".datatable .frame tbody td { text-align: left; }\n",
       ".datatable .frame tr.coltypes .row_index {  background: var(--jp-border-color0);}\n",
       ".datatable th:nth-child(2) { padding-left: 12px; }\n",
       ".datatable .hellipsis {  color: var(--jp-cell-editor-border-color);}\n",
       ".datatable .vellipsis {  background: var(--jp-layout-color0);  color: var(--jp-cell-editor-border-color);}\n",
       ".datatable .na {  color: var(--jp-cell-editor-border-color);  font-size: 80%;}\n",
       ".datatable .sp {  opacity: 0.25;}\n",
       ".datatable .footer { font-size: 9px; }\n",
       ".datatable .frame_dimensions {  background: var(--jp-border-color3);  border-top: 1px solid var(--jp-border-color0);  color: var(--jp-ui-font-color3);  display: inline-block;  opacity: 0.6;  padding: 1px 10px 1px 5px;}\n",
       "</style>\n"
      ],
      "text/plain": [
       "<IPython.core.display.HTML object>"
      ]
     },
     "metadata": {},
     "output_type": "display_data"
    },
    {
     "name": "stdout",
     "output_type": "stream",
     "text": [
      "[LightGBM] [Warning] Find whitespaces in feature_names, replace with underlines\n",
      "[LightGBM] [Info] Total Bins 3886\n",
      "[LightGBM] [Info] Number of data points in the train set: 9452298, number of used features: 30\n",
      "[LightGBM] [Warning] Find whitespaces in feature_names, replace with underlines\n",
      "[LightGBM] [Info] Start training from score 0.297707\n",
      "Training until validation scores don't improve for 150 rounds\n",
      "[100]\ttraining's rmse: 1.01082\tvalid_1's rmse: 0.987057\n",
      "[200]\ttraining's rmse: 0.909234\tvalid_1's rmse: 0.923085\n",
      "[300]\ttraining's rmse: 0.857869\tvalid_1's rmse: 0.898434\n",
      "[400]\ttraining's rmse: 0.829775\tvalid_1's rmse: 0.888633\n",
      "[500]\ttraining's rmse: 0.81135\tvalid_1's rmse: 0.884879\n",
      "[600]\ttraining's rmse: 0.797562\tvalid_1's rmse: 0.884279\n",
      "[700]\ttraining's rmse: 0.78753\tvalid_1's rmse: 0.884595\n",
      "Early stopping, best iteration is:\n",
      "[635]\ttraining's rmse: 0.793887\tvalid_1's rmse: 0.883926\n"
     ]
    }
   ],
   "source": [
    "import lightgbm as lgb\n",
    "\n",
    "# LightGBM 하이퍼파라미터\n",
    "params = {'metric': 'rmse', \n",
    "          'num_leaves': 255,\n",
    "          'learning_rate': 0.005,\n",
    "          'feature_fraction': 0.75,\n",
    "          'bagging_fraction': 0.75,\n",
    "          'bagging_freq': 5,\n",
    "          'force_col_wise': True,\n",
    "          'random_state': 10}\n",
    "\n",
    "cat_features = ['상점ID', '도시', '상품분류ID', '대분류', '월']\n",
    "\n",
    "# LightGBM 훈련 및 검증 데이터셋\n",
    "dtrain = lgb.Dataset(X_train, y_train)\n",
    "dvalid = lgb.Dataset(X_valid, y_valid)\n",
    " \n",
    "# LightGBM 모델 훈련\n",
    "lgb_model = lgb.train(params=params,\n",
    "                      train_set=dtrain,\n",
    "                      num_boost_round=1500,\n",
    "                      valid_sets=(dtrain, dvalid),\n",
    "                      early_stopping_rounds=150,\n",
    "                      categorical_feature=cat_features,\n",
    "                      verbose_eval=100)      "
   ]
  },
  {
   "cell_type": "markdown",
   "id": "bd79811a",
   "metadata": {
    "papermill": {
     "duration": 0.062894,
     "end_time": "2024-01-26T05:43:45.968874",
     "exception": false,
     "start_time": "2024-01-26T05:43:45.905980",
     "status": "completed"
    },
    "tags": []
   },
   "source": [
    "## 9.4.9 예측 및 결과 제출"
   ]
  },
  {
   "cell_type": "code",
   "execution_count": 52,
   "id": "f164b84a",
   "metadata": {
    "execution": {
     "iopub.execute_input": "2024-01-26T05:43:46.103498Z",
     "iopub.status.busy": "2024-01-26T05:43:46.102009Z",
     "iopub.status.idle": "2024-01-26T05:43:55.259204Z",
     "shell.execute_reply": "2024-01-26T05:43:55.259725Z"
    },
    "papermill": {
     "duration": 9.227749,
     "end_time": "2024-01-26T05:43:55.259960",
     "exception": false,
     "start_time": "2024-01-26T05:43:46.032211",
     "status": "completed"
    },
    "tags": []
   },
   "outputs": [],
   "source": [
    "# 예측\n",
    "preds = lgb_model.predict(X_test).clip(0, 20)\n",
    "\n",
    "# 제출 파일 생성\n",
    "submission['item_cnt_month'] = preds\n",
    "submission.to_csv('submission.csv', index=False)"
   ]
  },
  {
   "cell_type": "code",
   "execution_count": 53,
   "id": "56a6970b",
   "metadata": {
    "execution": {
     "iopub.execute_input": "2024-01-26T05:43:55.392201Z",
     "iopub.status.busy": "2024-01-26T05:43:55.391542Z",
     "iopub.status.idle": "2024-01-26T05:43:55.521178Z",
     "shell.execute_reply": "2024-01-26T05:43:55.521691Z"
    },
    "papermill": {
     "duration": 0.195595,
     "end_time": "2024-01-26T05:43:55.521905",
     "exception": false,
     "start_time": "2024-01-26T05:43:55.326310",
     "status": "completed"
    },
    "tags": []
   },
   "outputs": [],
   "source": [
    "del X_train, y_train, X_valid, y_valid, X_test, lgb_model, dtrain, dvalid\n",
    "gc.collect();"
   ]
  }
 ],
 "metadata": {
  "kaggle": {
   "accelerator": "none",
   "dataSources": [
    {
     "databundleVersionId": 868304,
     "sourceId": 8587,
     "sourceType": "competition"
    }
   ],
   "dockerImageVersionId": 30123,
   "isGpuEnabled": false,
   "isInternetEnabled": true,
   "language": "python",
   "sourceType": "notebook"
  },
  "kernelspec": {
   "display_name": "Python 3",
   "language": "python",
   "name": "python3"
  },
  "language_info": {
   "codemirror_mode": {
    "name": "ipython",
    "version": 3
   },
   "file_extension": ".py",
   "mimetype": "text/x-python",
   "name": "python",
   "nbconvert_exporter": "python",
   "pygments_lexer": "ipython3",
   "version": "3.7.10"
  },
  "papermill": {
   "default_parameters": {},
   "duration": 1105.23184,
   "end_time": "2024-01-26T05:43:57.314604",
   "environment_variables": {},
   "exception": null,
   "input_path": "__notebook__.ipynb",
   "output_path": "__notebook__.ipynb",
   "parameters": {},
   "start_time": "2024-01-26T05:25:32.082764",
   "version": "2.3.3"
  }
 },
 "nbformat": 4,
 "nbformat_minor": 5
}
