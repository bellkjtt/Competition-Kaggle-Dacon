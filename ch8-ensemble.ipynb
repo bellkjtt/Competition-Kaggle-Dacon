{
 "cells": [
  {
   "cell_type": "markdown",
   "id": "8d07f450",
   "metadata": {
    "papermill": {
     "duration": 0.018944,
     "end_time": "2024-01-24T11:48:56.050554",
     "exception": false,
     "start_time": "2024-01-24T11:48:56.031610",
     "status": "completed"
    },
    "tags": []
   },
   "source": [
    "# 8.6 안전 운전자 예측 경진대회 성능 개선 III : LightGBM과 XGBoost 앙상블"
   ]
  },
  {
   "cell_type": "markdown",
   "id": "f66aeeb0",
   "metadata": {
    "papermill": {
     "duration": 0.017318,
     "end_time": "2024-01-24T11:48:56.085535",
     "exception": false,
     "start_time": "2024-01-24T11:48:56.068217",
     "status": "completed"
    },
    "tags": []
   },
   "source": [
    "- [안전 운전자 예측 경진대회 링크](https://www.kaggle.com/c/porto-seguro-safe-driver-prediction)\n",
    "- [모델링 코드 참고 링크](https://www.kaggle.com/xiaozhouwang/2nd-place-lightgbm-solution)"
   ]
  },
  {
   "cell_type": "code",
   "execution_count": 1,
   "id": "ffe87d2c",
   "metadata": {
    "execution": {
     "iopub.execute_input": "2024-01-24T11:48:56.128815Z",
     "iopub.status.busy": "2024-01-24T11:48:56.128141Z",
     "iopub.status.idle": "2024-01-24T11:49:05.902672Z",
     "shell.execute_reply": "2024-01-24T11:49:05.903249Z"
    },
    "papermill": {
     "duration": 9.800825,
     "end_time": "2024-01-24T11:49:05.903585",
     "exception": false,
     "start_time": "2024-01-24T11:48:56.102760",
     "status": "completed"
    },
    "tags": []
   },
   "outputs": [],
   "source": [
    "import pandas as pd\n",
    "\n",
    "# 데이터 경로\n",
    "data_path = '/kaggle/input/porto-seguro-safe-driver-prediction/'\n",
    "\n",
    "train = pd.read_csv(data_path + 'train.csv', index_col='id')\n",
    "test = pd.read_csv(data_path + 'test.csv', index_col='id')\n",
    "submission = pd.read_csv(data_path + 'sample_submission.csv', index_col='id')"
   ]
  },
  {
   "cell_type": "code",
   "execution_count": 2,
   "id": "65956768",
   "metadata": {
    "execution": {
     "iopub.execute_input": "2024-01-24T11:49:05.942389Z",
     "iopub.status.busy": "2024-01-24T11:49:05.941655Z",
     "iopub.status.idle": "2024-01-24T11:49:07.114490Z",
     "shell.execute_reply": "2024-01-24T11:49:07.113848Z"
    },
    "papermill": {
     "duration": 1.193015,
     "end_time": "2024-01-24T11:49:07.114653",
     "exception": false,
     "start_time": "2024-01-24T11:49:05.921638",
     "status": "completed"
    },
    "tags": []
   },
   "outputs": [],
   "source": [
    "all_data = pd.concat([train, test], ignore_index=True)\n",
    "all_data = all_data.drop('target', axis=1) # 타깃값 제거\n",
    "\n",
    "all_features = all_data.columns # 전체 피처"
   ]
  },
  {
   "cell_type": "code",
   "execution_count": 3,
   "id": "d4c004f1",
   "metadata": {
    "execution": {
     "iopub.execute_input": "2024-01-24T11:49:07.157680Z",
     "iopub.status.busy": "2024-01-24T11:49:07.156799Z",
     "iopub.status.idle": "2024-01-24T11:49:10.223784Z",
     "shell.execute_reply": "2024-01-24T11:49:10.223193Z"
    },
    "papermill": {
     "duration": 3.0912,
     "end_time": "2024-01-24T11:49:10.223952",
     "exception": false,
     "start_time": "2024-01-24T11:49:07.132752",
     "status": "completed"
    },
    "tags": []
   },
   "outputs": [],
   "source": [
    "from sklearn.preprocessing import OneHotEncoder\n",
    "\n",
    "cat_features = [feature for feature in all_features if 'cat' in feature] # 명목형 피처\n",
    "\n",
    "# 원-핫 인코딩 적용\n",
    "onehot_encoder = OneHotEncoder()\n",
    "encoded_cat_matrix = onehot_encoder.fit_transform(all_data[cat_features]) "
   ]
  },
  {
   "cell_type": "code",
   "execution_count": 4,
   "id": "3190cca3",
   "metadata": {
    "execution": {
     "iopub.execute_input": "2024-01-24T11:49:10.285950Z",
     "iopub.status.busy": "2024-01-24T11:49:10.284677Z",
     "iopub.status.idle": "2024-01-24T11:49:10.471550Z",
     "shell.execute_reply": "2024-01-24T11:49:10.470628Z"
    },
    "papermill": {
     "duration": 0.229223,
     "end_time": "2024-01-24T11:49:10.471713",
     "exception": false,
     "start_time": "2024-01-24T11:49:10.242490",
     "status": "completed"
    },
    "tags": []
   },
   "outputs": [],
   "source": [
    "# '데이터 하나당 결측값 개수'를 파생 피로 추가\n",
    "all_data['num_missing'] = (all_data==-1).sum(axis=1)"
   ]
  },
  {
   "cell_type": "code",
   "execution_count": 5,
   "id": "3be4de9b",
   "metadata": {
    "execution": {
     "iopub.execute_input": "2024-01-24T11:49:10.513693Z",
     "iopub.status.busy": "2024-01-24T11:49:10.512635Z",
     "iopub.status.idle": "2024-01-24T11:49:10.515690Z",
     "shell.execute_reply": "2024-01-24T11:49:10.515111Z"
    },
    "papermill": {
     "duration": 0.025968,
     "end_time": "2024-01-24T11:49:10.515850",
     "exception": false,
     "start_time": "2024-01-24T11:49:10.489882",
     "status": "completed"
    },
    "tags": []
   },
   "outputs": [],
   "source": [
    "# 명목형 피처, calc 분류 피처를 제외한 피처\n",
    "remaining_features = [feature for feature in all_features \n",
    "                      if ('cat' not in feature and 'calc' not in feature)] \n",
    "# num_missing을 remaining_features에 추가\n",
    "remaining_features.append('num_missing')"
   ]
  },
  {
   "cell_type": "code",
   "execution_count": 6,
   "id": "fd5910bd",
   "metadata": {
    "execution": {
     "iopub.execute_input": "2024-01-24T11:49:10.561272Z",
     "iopub.status.busy": "2024-01-24T11:49:10.560353Z",
     "iopub.status.idle": "2024-01-24T11:49:37.036019Z",
     "shell.execute_reply": "2024-01-24T11:49:37.035180Z"
    },
    "papermill": {
     "duration": 26.499754,
     "end_time": "2024-01-24T11:49:37.036213",
     "exception": false,
     "start_time": "2024-01-24T11:49:10.536459",
     "status": "completed"
    },
    "tags": []
   },
   "outputs": [],
   "source": [
    "# 분류가 ind인 피처\n",
    "ind_features = [feature for feature in all_features if 'ind' in feature]\n",
    "\n",
    "is_first_feature = True\n",
    "for ind_feature in ind_features:\n",
    "    if is_first_feature:\n",
    "        all_data['mix_ind'] = all_data[ind_feature].astype(str) + '_'\n",
    "        is_first_feature = False\n",
    "    else:\n",
    "        all_data['mix_ind'] += all_data[ind_feature].astype(str) + '_'"
   ]
  },
  {
   "cell_type": "code",
   "execution_count": 7,
   "id": "9c8fa2e1",
   "metadata": {
    "execution": {
     "iopub.execute_input": "2024-01-24T11:49:37.094917Z",
     "iopub.status.busy": "2024-01-24T11:49:37.093794Z",
     "iopub.status.idle": "2024-01-24T11:49:47.144248Z",
     "shell.execute_reply": "2024-01-24T11:49:47.144800Z"
    },
    "papermill": {
     "duration": 10.090276,
     "end_time": "2024-01-24T11:49:47.145032",
     "exception": false,
     "start_time": "2024-01-24T11:49:37.054756",
     "status": "completed"
    },
    "tags": []
   },
   "outputs": [],
   "source": [
    "cat_count_features = []\n",
    "for feature in cat_features+['mix_ind']:\n",
    "    val_counts_dict = all_data[feature].value_counts().to_dict()\n",
    "    all_data[f'{feature}_count'] = all_data[feature].apply(lambda x: \n",
    "                                                           val_counts_dict[x])\n",
    "    cat_count_features.append(f'{feature}_count')"
   ]
  },
  {
   "cell_type": "code",
   "execution_count": 8,
   "id": "735b355a",
   "metadata": {
    "execution": {
     "iopub.execute_input": "2024-01-24T11:49:47.191417Z",
     "iopub.status.busy": "2024-01-24T11:49:47.190274Z",
     "iopub.status.idle": "2024-01-24T11:49:47.195676Z",
     "shell.execute_reply": "2024-01-24T11:49:47.196241Z"
    },
    "papermill": {
     "duration": 0.03352,
     "end_time": "2024-01-24T11:49:47.196429",
     "exception": false,
     "start_time": "2024-01-24T11:49:47.162909",
     "status": "completed"
    },
    "tags": []
   },
   "outputs": [
    {
     "data": {
      "text/plain": [
       "['ps_ind_02_cat_count',\n",
       " 'ps_ind_04_cat_count',\n",
       " 'ps_ind_05_cat_count',\n",
       " 'ps_car_01_cat_count',\n",
       " 'ps_car_02_cat_count',\n",
       " 'ps_car_03_cat_count',\n",
       " 'ps_car_04_cat_count',\n",
       " 'ps_car_05_cat_count',\n",
       " 'ps_car_06_cat_count',\n",
       " 'ps_car_07_cat_count',\n",
       " 'ps_car_08_cat_count',\n",
       " 'ps_car_09_cat_count',\n",
       " 'ps_car_10_cat_count',\n",
       " 'ps_car_11_cat_count',\n",
       " 'mix_ind_count']"
      ]
     },
     "execution_count": 8,
     "metadata": {},
     "output_type": "execute_result"
    }
   ],
   "source": [
    "cat_count_features"
   ]
  },
  {
   "cell_type": "code",
   "execution_count": 9,
   "id": "79a8ca94",
   "metadata": {
    "execution": {
     "iopub.execute_input": "2024-01-24T11:49:47.240021Z",
     "iopub.status.busy": "2024-01-24T11:49:47.238931Z",
     "iopub.status.idle": "2024-01-24T11:49:53.506397Z",
     "shell.execute_reply": "2024-01-24T11:49:53.505775Z"
    },
    "papermill": {
     "duration": 6.2901,
     "end_time": "2024-01-24T11:49:53.506552",
     "exception": false,
     "start_time": "2024-01-24T11:49:47.216452",
     "status": "completed"
    },
    "tags": []
   },
   "outputs": [],
   "source": [
    "from scipy import sparse\n",
    "\n",
    "# 필요 없는 피처들\n",
    "drop_features = ['ps_ind_14', 'ps_ind_10_bin', 'ps_ind_11_bin', \n",
    "                 'ps_ind_12_bin', 'ps_ind_13_bin', 'ps_car_14']\n",
    "\n",
    "# remaining_features, cat_count_features에서 drop_features를 제거한 데이터\n",
    "all_data_remaining = all_data[remaining_features+cat_count_features].drop(drop_features, axis=1)\n",
    "\n",
    "# 데이터 합치기\n",
    "all_data_sprs = sparse.hstack([sparse.csr_matrix(all_data_remaining),\n",
    "                               encoded_cat_matrix],\n",
    "                              format='csr')"
   ]
  },
  {
   "cell_type": "code",
   "execution_count": 10,
   "id": "39bbba6e",
   "metadata": {
    "execution": {
     "iopub.execute_input": "2024-01-24T11:49:53.550384Z",
     "iopub.status.busy": "2024-01-24T11:49:53.549521Z",
     "iopub.status.idle": "2024-01-24T11:49:54.745876Z",
     "shell.execute_reply": "2024-01-24T11:49:54.745112Z"
    },
    "papermill": {
     "duration": 1.221163,
     "end_time": "2024-01-24T11:49:54.746066",
     "exception": false,
     "start_time": "2024-01-24T11:49:53.524903",
     "status": "completed"
    },
    "tags": []
   },
   "outputs": [],
   "source": [
    "num_train = len(train) # 훈련 데이터 개수\n",
    "\n",
    "# 훈련 데이터와 테스트 데이터 나누기\n",
    "X = all_data_sprs[:num_train]\n",
    "X_test = all_data_sprs[num_train:]\n",
    "\n",
    "y = train['target'].values"
   ]
  },
  {
   "cell_type": "code",
   "execution_count": 11,
   "id": "cb271f8e",
   "metadata": {
    "execution": {
     "iopub.execute_input": "2024-01-24T11:49:54.792161Z",
     "iopub.status.busy": "2024-01-24T11:49:54.791032Z",
     "iopub.status.idle": "2024-01-24T11:49:54.793742Z",
     "shell.execute_reply": "2024-01-24T11:49:54.794438Z"
    },
    "papermill": {
     "duration": 0.029644,
     "end_time": "2024-01-24T11:49:54.794638",
     "exception": false,
     "start_time": "2024-01-24T11:49:54.764994",
     "status": "completed"
    },
    "tags": []
   },
   "outputs": [],
   "source": [
    "import numpy as np\n",
    "\n",
    "def eval_gini(y_true, y_pred):\n",
    "    # 실제값과 예측값의 크기가 같은지 확인 (값이 다르면 오류 발생)\n",
    "    assert y_true.shape == y_pred.shape\n",
    "\n",
    "    n_samples = y_true.shape[0]                      # 데이터 개수\n",
    "    L_mid = np.linspace(1 / n_samples, 1, n_samples) # 대각선 값\n",
    "\n",
    "    # 1) 예측값에 대한 지니계수\n",
    "    pred_order = y_true[y_pred.argsort()] # y_pred 크기순으로 y_true 값 정렬\n",
    "    L_pred = np.cumsum(pred_order) / np.sum(pred_order) # 로렌츠 곡선\n",
    "    G_pred = np.sum(L_mid - L_pred)       # 예측 값에 대한 지니계수\n",
    "\n",
    "    # 2) 예측이 완벽할 때 지니계수\n",
    "    true_order = y_true[y_true.argsort()] # y_true 크기순으로 y_true 값 정렬\n",
    "    L_true = np.cumsum(true_order) / np.sum(true_order) # 로렌츠 곡선\n",
    "    G_true = np.sum(L_mid - L_true)       # 예측이 완벽할 때 지니계수\n",
    "\n",
    "    # 정규화된 지니계수\n",
    "    return G_pred / G_true"
   ]
  },
  {
   "cell_type": "code",
   "execution_count": 12,
   "id": "4e10c0e5",
   "metadata": {
    "execution": {
     "iopub.execute_input": "2024-01-24T11:49:54.842911Z",
     "iopub.status.busy": "2024-01-24T11:49:54.841857Z",
     "iopub.status.idle": "2024-01-24T11:49:54.844900Z",
     "shell.execute_reply": "2024-01-24T11:49:54.844242Z"
    },
    "papermill": {
     "duration": 0.026976,
     "end_time": "2024-01-24T11:49:54.845094",
     "exception": false,
     "start_time": "2024-01-24T11:49:54.818118",
     "status": "completed"
    },
    "tags": []
   },
   "outputs": [],
   "source": [
    "# LightGBM용 gini() 함수\n",
    "def gini_lgb(preds, dtrain):\n",
    "    labels = dtrain.get_label()\n",
    "    return 'gini', eval_gini(labels, preds), True"
   ]
  },
  {
   "cell_type": "code",
   "execution_count": 13,
   "id": "2f7abf74",
   "metadata": {
    "execution": {
     "iopub.execute_input": "2024-01-24T11:49:54.890408Z",
     "iopub.status.busy": "2024-01-24T11:49:54.889323Z",
     "iopub.status.idle": "2024-01-24T11:49:54.892608Z",
     "shell.execute_reply": "2024-01-24T11:49:54.891903Z"
    },
    "papermill": {
     "duration": 0.028275,
     "end_time": "2024-01-24T11:49:54.892764",
     "exception": false,
     "start_time": "2024-01-24T11:49:54.864489",
     "status": "completed"
    },
    "tags": []
   },
   "outputs": [],
   "source": [
    "# XGBoost용 gini() 함수\n",
    "def gini_xgb(preds, dtrain):\n",
    "    labels = dtrain.get_label()\n",
    "    return 'gini', eval_gini(labels, preds)"
   ]
  },
  {
   "cell_type": "code",
   "execution_count": 14,
   "id": "3fe9c82b",
   "metadata": {
    "execution": {
     "iopub.execute_input": "2024-01-24T11:49:54.942123Z",
     "iopub.status.busy": "2024-01-24T11:49:54.940958Z",
     "iopub.status.idle": "2024-01-24T11:49:55.004308Z",
     "shell.execute_reply": "2024-01-24T11:49:55.004891Z"
    },
    "papermill": {
     "duration": 0.092526,
     "end_time": "2024-01-24T11:49:55.005121",
     "exception": false,
     "start_time": "2024-01-24T11:49:54.912595",
     "status": "completed"
    },
    "tags": []
   },
   "outputs": [],
   "source": [
    "from sklearn.model_selection import StratifiedKFold\n",
    "\n",
    "# 층화 K 폴드 교차 검증기 생성\n",
    "folds = StratifiedKFold(n_splits=5, shuffle=True, random_state=1991)"
   ]
  },
  {
   "cell_type": "code",
   "execution_count": 15,
   "id": "46256da1",
   "metadata": {
    "execution": {
     "iopub.execute_input": "2024-01-24T11:49:55.048350Z",
     "iopub.status.busy": "2024-01-24T11:49:55.047350Z",
     "iopub.status.idle": "2024-01-24T11:49:55.054065Z",
     "shell.execute_reply": "2024-01-24T11:49:55.053459Z"
    },
    "papermill": {
     "duration": 0.029405,
     "end_time": "2024-01-24T11:49:55.054237",
     "exception": false,
     "start_time": "2024-01-24T11:49:55.024832",
     "status": "completed"
    },
    "tags": []
   },
   "outputs": [],
   "source": [
    "max_params_lgb = {\n",
    "    'bagging_fraction': 0.6213108174593661,\n",
    "    'feature_fraction': 0.608712929970154,\n",
    "    'lambda_l1': 0.7040436794880651,\n",
    "    'lambda_l2': 0.9832619845547939,\n",
    "    'min_child_samples': 9,\n",
    "    'min_child_weight': 36.10036444740457,\n",
    "    'num_leaves': 40,\n",
    "    'objective': 'binary',\n",
    "    'learning_rate': 0.005,\n",
    "    'bagging_freq': 1,\n",
    "    'force_row_wise': True,\n",
    "    'random_state': 1991\n",
    "}"
   ]
  },
  {
   "cell_type": "code",
   "execution_count": 16,
   "id": "7561f227",
   "metadata": {
    "execution": {
     "iopub.execute_input": "2024-01-24T11:49:55.099233Z",
     "iopub.status.busy": "2024-01-24T11:49:55.098194Z",
     "iopub.status.idle": "2024-01-24T12:13:55.962282Z",
     "shell.execute_reply": "2024-01-24T12:13:55.962851Z"
    },
    "papermill": {
     "duration": 1440.887746,
     "end_time": "2024-01-24T12:13:55.963081",
     "exception": false,
     "start_time": "2024-01-24T11:49:55.075335",
     "status": "completed"
    },
    "tags": []
   },
   "outputs": [
    {
     "data": {
      "text/html": [
       "<style type='text/css'>\n",
       ".datatable table.frame { margin-bottom: 0; }\n",
       ".datatable table.frame thead { border-bottom: none; }\n",
       ".datatable table.frame tr.coltypes td {  color: #FFFFFF;  line-height: 6px;  padding: 0 0.5em;}\n",
       ".datatable .bool    { background: #DDDD99; }\n",
       ".datatable .object  { background: #565656; }\n",
       ".datatable .int     { background: #5D9E5D; }\n",
       ".datatable .float   { background: #4040CC; }\n",
       ".datatable .str     { background: #CC4040; }\n",
       ".datatable .time    { background: #40CC40; }\n",
       ".datatable .row_index {  background: var(--jp-border-color3);  border-right: 1px solid var(--jp-border-color0);  color: var(--jp-ui-font-color3);  font-size: 9px;}\n",
       ".datatable .frame tbody td { text-align: left; }\n",
       ".datatable .frame tr.coltypes .row_index {  background: var(--jp-border-color0);}\n",
       ".datatable th:nth-child(2) { padding-left: 12px; }\n",
       ".datatable .hellipsis {  color: var(--jp-cell-editor-border-color);}\n",
       ".datatable .vellipsis {  background: var(--jp-layout-color0);  color: var(--jp-cell-editor-border-color);}\n",
       ".datatable .na {  color: var(--jp-cell-editor-border-color);  font-size: 80%;}\n",
       ".datatable .sp {  opacity: 0.25;}\n",
       ".datatable .footer { font-size: 9px; }\n",
       ".datatable .frame_dimensions {  background: var(--jp-border-color3);  border-top: 1px solid var(--jp-border-color0);  color: var(--jp-ui-font-color3);  display: inline-block;  opacity: 0.6;  padding: 1px 10px 1px 5px;}\n",
       "</style>\n"
      ],
      "text/plain": [
       "<IPython.core.display.HTML object>"
      ]
     },
     "metadata": {},
     "output_type": "display_data"
    },
    {
     "name": "stdout",
     "output_type": "stream",
     "text": [
      "######################################## 폴드 1 / 폴드 5 ########################################\n",
      "[LightGBM] [Info] Number of positive: 17355, number of negative: 458814\n",
      "[LightGBM] [Info] Total Bins 1554\n",
      "[LightGBM] [Info] Number of data points in the train set: 476169, number of used features: 216\n",
      "[LightGBM] [Info] [binary:BoostFromScore]: pavg=0.036447 -> initscore=-3.274764\n",
      "[LightGBM] [Info] Start training from score -3.274764\n",
      "Training until validation scores don't improve for 300 rounds\n",
      "[100]\tvalid_0's binary_logloss: 0.154239\tvalid_0's gini: 0.270944\n",
      "[200]\tvalid_0's binary_logloss: 0.153176\tvalid_0's gini: 0.275764\n",
      "[300]\tvalid_0's binary_logloss: 0.152584\tvalid_0's gini: 0.279501\n",
      "[400]\tvalid_0's binary_logloss: 0.152222\tvalid_0's gini: 0.282893\n",
      "[500]\tvalid_0's binary_logloss: 0.151986\tvalid_0's gini: 0.286058\n",
      "[600]\tvalid_0's binary_logloss: 0.151824\tvalid_0's gini: 0.288805\n",
      "[700]\tvalid_0's binary_logloss: 0.151712\tvalid_0's gini: 0.290719\n",
      "[800]\tvalid_0's binary_logloss: 0.151622\tvalid_0's gini: 0.292581\n",
      "[900]\tvalid_0's binary_logloss: 0.151552\tvalid_0's gini: 0.294212\n",
      "[1000]\tvalid_0's binary_logloss: 0.151505\tvalid_0's gini: 0.295204\n",
      "[1100]\tvalid_0's binary_logloss: 0.151471\tvalid_0's gini: 0.295909\n",
      "[1200]\tvalid_0's binary_logloss: 0.151438\tvalid_0's gini: 0.296721\n",
      "[1300]\tvalid_0's binary_logloss: 0.151414\tvalid_0's gini: 0.297335\n",
      "[1400]\tvalid_0's binary_logloss: 0.151402\tvalid_0's gini: 0.297569\n",
      "[1500]\tvalid_0's binary_logloss: 0.15139\tvalid_0's gini: 0.297881\n",
      "[1600]\tvalid_0's binary_logloss: 0.151382\tvalid_0's gini: 0.298033\n",
      "[1700]\tvalid_0's binary_logloss: 0.151376\tvalid_0's gini: 0.298238\n",
      "[1800]\tvalid_0's binary_logloss: 0.151372\tvalid_0's gini: 0.298342\n",
      "[1900]\tvalid_0's binary_logloss: 0.151369\tvalid_0's gini: 0.298371\n",
      "[2000]\tvalid_0's binary_logloss: 0.151371\tvalid_0's gini: 0.298222\n",
      "[2100]\tvalid_0's binary_logloss: 0.151362\tvalid_0's gini: 0.298463\n",
      "[2200]\tvalid_0's binary_logloss: 0.151359\tvalid_0's gini: 0.298466\n",
      "[2300]\tvalid_0's binary_logloss: 0.151362\tvalid_0's gini: 0.298415\n",
      "[2400]\tvalid_0's binary_logloss: 0.151359\tvalid_0's gini: 0.298569\n",
      "[2500]\tvalid_0's binary_logloss: 0.151361\tvalid_0's gini: 0.298542\n",
      "Did not meet early stopping. Best iteration is:\n",
      "[2458]\tvalid_0's binary_logloss: 0.151355\tvalid_0's gini: 0.29865\n",
      "폴드 1 지니계수 : 0.2986504843987991\n",
      "\n",
      "######################################## 폴드 2 / 폴드 5 ########################################\n",
      "[LightGBM] [Info] Number of positive: 17355, number of negative: 458814\n",
      "[LightGBM] [Info] Total Bins 1560\n",
      "[LightGBM] [Info] Number of data points in the train set: 476169, number of used features: 216\n",
      "[LightGBM] [Info] [binary:BoostFromScore]: pavg=0.036447 -> initscore=-3.274764\n",
      "[LightGBM] [Info] Start training from score -3.274764\n",
      "Training until validation scores don't improve for 300 rounds\n",
      "[100]\tvalid_0's binary_logloss: 0.154347\tvalid_0's gini: 0.258575\n",
      "[200]\tvalid_0's binary_logloss: 0.153338\tvalid_0's gini: 0.263768\n",
      "[300]\tvalid_0's binary_logloss: 0.152804\tvalid_0's gini: 0.267635\n",
      "[400]\tvalid_0's binary_logloss: 0.152483\tvalid_0's gini: 0.271009\n",
      "[500]\tvalid_0's binary_logloss: 0.152299\tvalid_0's gini: 0.27324\n",
      "[600]\tvalid_0's binary_logloss: 0.152157\tvalid_0's gini: 0.275756\n",
      "[700]\tvalid_0's binary_logloss: 0.15206\tvalid_0's gini: 0.277655\n",
      "[800]\tvalid_0's binary_logloss: 0.151986\tvalid_0's gini: 0.279371\n",
      "[900]\tvalid_0's binary_logloss: 0.151942\tvalid_0's gini: 0.280359\n",
      "[1000]\tvalid_0's binary_logloss: 0.151898\tvalid_0's gini: 0.281475\n",
      "[1100]\tvalid_0's binary_logloss: 0.15186\tvalid_0's gini: 0.282482\n",
      "[1200]\tvalid_0's binary_logloss: 0.151835\tvalid_0's gini: 0.283198\n",
      "[1300]\tvalid_0's binary_logloss: 0.15181\tvalid_0's gini: 0.283848\n",
      "[1400]\tvalid_0's binary_logloss: 0.151796\tvalid_0's gini: 0.284221\n",
      "[1500]\tvalid_0's binary_logloss: 0.151781\tvalid_0's gini: 0.284645\n",
      "[1600]\tvalid_0's binary_logloss: 0.15177\tvalid_0's gini: 0.284943\n",
      "[1700]\tvalid_0's binary_logloss: 0.151761\tvalid_0's gini: 0.285129\n",
      "[1800]\tvalid_0's binary_logloss: 0.151755\tvalid_0's gini: 0.28522\n",
      "[1900]\tvalid_0's binary_logloss: 0.151752\tvalid_0's gini: 0.285325\n",
      "[2000]\tvalid_0's binary_logloss: 0.151749\tvalid_0's gini: 0.285504\n",
      "[2100]\tvalid_0's binary_logloss: 0.151748\tvalid_0's gini: 0.285633\n",
      "[2200]\tvalid_0's binary_logloss: 0.151744\tvalid_0's gini: 0.285711\n",
      "[2300]\tvalid_0's binary_logloss: 0.15174\tvalid_0's gini: 0.285853\n",
      "[2400]\tvalid_0's binary_logloss: 0.15174\tvalid_0's gini: 0.28594\n",
      "[2500]\tvalid_0's binary_logloss: 0.151745\tvalid_0's gini: 0.285916\n",
      "Did not meet early stopping. Best iteration is:\n",
      "[2334]\tvalid_0's binary_logloss: 0.151736\tvalid_0's gini: 0.285929\n",
      "폴드 2 지니계수 : 0.2859292916021393\n",
      "\n",
      "######################################## 폴드 3 / 폴드 5 ########################################\n",
      "[LightGBM] [Info] Number of positive: 17356, number of negative: 458814\n",
      "[LightGBM] [Info] Total Bins 1558\n",
      "[LightGBM] [Info] Number of data points in the train set: 476170, number of used features: 217\n",
      "[LightGBM] [Info] [binary:BoostFromScore]: pavg=0.036449 -> initscore=-3.274707\n",
      "[LightGBM] [Info] Start training from score -3.274707\n",
      "Training until validation scores don't improve for 300 rounds\n",
      "[100]\tvalid_0's binary_logloss: 0.15424\tvalid_0's gini: 0.263985\n",
      "[200]\tvalid_0's binary_logloss: 0.153171\tvalid_0's gini: 0.268713\n",
      "[300]\tvalid_0's binary_logloss: 0.152574\tvalid_0's gini: 0.272773\n",
      "[400]\tvalid_0's binary_logloss: 0.152223\tvalid_0's gini: 0.275785\n",
      "[500]\tvalid_0's binary_logloss: 0.152001\tvalid_0's gini: 0.278098\n",
      "[600]\tvalid_0's binary_logloss: 0.151847\tvalid_0's gini: 0.280206\n",
      "[700]\tvalid_0's binary_logloss: 0.151748\tvalid_0's gini: 0.281603\n",
      "[800]\tvalid_0's binary_logloss: 0.151682\tvalid_0's gini: 0.282672\n",
      "[900]\tvalid_0's binary_logloss: 0.151637\tvalid_0's gini: 0.283423\n",
      "[1000]\tvalid_0's binary_logloss: 0.151608\tvalid_0's gini: 0.283963\n",
      "[1100]\tvalid_0's binary_logloss: 0.151589\tvalid_0's gini: 0.284105\n",
      "[1200]\tvalid_0's binary_logloss: 0.151574\tvalid_0's gini: 0.284387\n",
      "[1300]\tvalid_0's binary_logloss: 0.151575\tvalid_0's gini: 0.284318\n",
      "[1400]\tvalid_0's binary_logloss: 0.151572\tvalid_0's gini: 0.284372\n",
      "[1500]\tvalid_0's binary_logloss: 0.151569\tvalid_0's gini: 0.284466\n",
      "[1600]\tvalid_0's binary_logloss: 0.151574\tvalid_0's gini: 0.284435\n",
      "[1700]\tvalid_0's binary_logloss: 0.151579\tvalid_0's gini: 0.284362\n",
      "Early stopping, best iteration is:\n",
      "[1478]\tvalid_0's binary_logloss: 0.151568\tvalid_0's gini: 0.284492\n",
      "폴드 3 지니계수 : 0.2844916047790675\n",
      "\n",
      "######################################## 폴드 4 / 폴드 5 ########################################\n",
      "[LightGBM] [Info] Number of positive: 17355, number of negative: 458815\n",
      "[LightGBM] [Info] Total Bins 1555\n",
      "[LightGBM] [Info] Number of data points in the train set: 476170, number of used features: 216\n",
      "[LightGBM] [Info] [binary:BoostFromScore]: pavg=0.036447 -> initscore=-3.274766\n",
      "[LightGBM] [Info] Start training from score -3.274766\n",
      "Training until validation scores don't improve for 300 rounds\n",
      "[100]\tvalid_0's binary_logloss: 0.154327\tvalid_0's gini: 0.256916\n",
      "[200]\tvalid_0's binary_logloss: 0.15331\tvalid_0's gini: 0.261871\n",
      "[300]\tvalid_0's binary_logloss: 0.152761\tvalid_0's gini: 0.265441\n",
      "[400]\tvalid_0's binary_logloss: 0.152441\tvalid_0's gini: 0.268613\n",
      "[500]\tvalid_0's binary_logloss: 0.152245\tvalid_0's gini: 0.271168\n",
      "[600]\tvalid_0's binary_logloss: 0.152098\tvalid_0's gini: 0.273746\n",
      "[700]\tvalid_0's binary_logloss: 0.152012\tvalid_0's gini: 0.275192\n",
      "[800]\tvalid_0's binary_logloss: 0.151952\tvalid_0's gini: 0.276278\n",
      "[900]\tvalid_0's binary_logloss: 0.151911\tvalid_0's gini: 0.277039\n",
      "[1000]\tvalid_0's binary_logloss: 0.151871\tvalid_0's gini: 0.277996\n",
      "[1100]\tvalid_0's binary_logloss: 0.151844\tvalid_0's gini: 0.278535\n",
      "[1200]\tvalid_0's binary_logloss: 0.151827\tvalid_0's gini: 0.279055\n",
      "[1300]\tvalid_0's binary_logloss: 0.151817\tvalid_0's gini: 0.27936\n",
      "[1400]\tvalid_0's binary_logloss: 0.151799\tvalid_0's gini: 0.279872\n",
      "[1500]\tvalid_0's binary_logloss: 0.151797\tvalid_0's gini: 0.280053\n",
      "[1600]\tvalid_0's binary_logloss: 0.151792\tvalid_0's gini: 0.280148\n",
      "[1700]\tvalid_0's binary_logloss: 0.151794\tvalid_0's gini: 0.280162\n",
      "[1800]\tvalid_0's binary_logloss: 0.151793\tvalid_0's gini: 0.280319\n",
      "[1900]\tvalid_0's binary_logloss: 0.151795\tvalid_0's gini: 0.280422\n",
      "[2000]\tvalid_0's binary_logloss: 0.151797\tvalid_0's gini: 0.280419\n",
      "[2100]\tvalid_0's binary_logloss: 0.151799\tvalid_0's gini: 0.280516\n",
      "Early stopping, best iteration is:\n",
      "[1852]\tvalid_0's binary_logloss: 0.15179\tvalid_0's gini: 0.280514\n",
      "폴드 4 지니계수 : 0.2805136229288192\n",
      "\n",
      "######################################## 폴드 5 / 폴드 5 ########################################\n",
      "[LightGBM] [Info] Number of positive: 17355, number of negative: 458815\n",
      "[LightGBM] [Info] Total Bins 1558\n",
      "[LightGBM] [Info] Number of data points in the train set: 476170, number of used features: 217\n",
      "[LightGBM] [Info] [binary:BoostFromScore]: pavg=0.036447 -> initscore=-3.274766\n",
      "[LightGBM] [Info] Start training from score -3.274766\n",
      "Training until validation scores don't improve for 300 rounds\n",
      "[100]\tvalid_0's binary_logloss: 0.15439\tvalid_0's gini: 0.26681\n",
      "[200]\tvalid_0's binary_logloss: 0.15338\tvalid_0's gini: 0.272186\n",
      "[300]\tvalid_0's binary_logloss: 0.152821\tvalid_0's gini: 0.275897\n",
      "[400]\tvalid_0's binary_logloss: 0.1525\tvalid_0's gini: 0.278734\n",
      "[500]\tvalid_0's binary_logloss: 0.152277\tvalid_0's gini: 0.282151\n",
      "[600]\tvalid_0's binary_logloss: 0.15212\tvalid_0's gini: 0.285039\n",
      "[700]\tvalid_0's binary_logloss: 0.152009\tvalid_0's gini: 0.287435\n",
      "[800]\tvalid_0's binary_logloss: 0.15192\tvalid_0's gini: 0.289549\n",
      "[900]\tvalid_0's binary_logloss: 0.151862\tvalid_0's gini: 0.290886\n",
      "[1000]\tvalid_0's binary_logloss: 0.151819\tvalid_0's gini: 0.291935\n",
      "[1100]\tvalid_0's binary_logloss: 0.151782\tvalid_0's gini: 0.292972\n",
      "[1200]\tvalid_0's binary_logloss: 0.151752\tvalid_0's gini: 0.293784\n",
      "[1300]\tvalid_0's binary_logloss: 0.151732\tvalid_0's gini: 0.294315\n",
      "[1400]\tvalid_0's binary_logloss: 0.151724\tvalid_0's gini: 0.294475\n",
      "[1500]\tvalid_0's binary_logloss: 0.151713\tvalid_0's gini: 0.294786\n",
      "[1600]\tvalid_0's binary_logloss: 0.1517\tvalid_0's gini: 0.295146\n",
      "[1700]\tvalid_0's binary_logloss: 0.151694\tvalid_0's gini: 0.295268\n",
      "[1800]\tvalid_0's binary_logloss: 0.151695\tvalid_0's gini: 0.295212\n",
      "[1900]\tvalid_0's binary_logloss: 0.151689\tvalid_0's gini: 0.295454\n",
      "[2000]\tvalid_0's binary_logloss: 0.151693\tvalid_0's gini: 0.2954\n",
      "[2100]\tvalid_0's binary_logloss: 0.151694\tvalid_0's gini: 0.295427\n",
      "[2200]\tvalid_0's binary_logloss: 0.151692\tvalid_0's gini: 0.295538\n",
      "[2300]\tvalid_0's binary_logloss: 0.151699\tvalid_0's gini: 0.295411\n",
      "Early stopping, best iteration is:\n",
      "[2045]\tvalid_0's binary_logloss: 0.151689\tvalid_0's gini: 0.295553\n",
      "폴드 5 지니계수 : 0.29555250456072807\n",
      "\n"
     ]
    }
   ],
   "source": [
    "import lightgbm as lgb\n",
    "\n",
    "# OOF 방식으로 훈련된 모델로 검증 데이터 타깃값을 예측한 확률을 담을 1차원 배열\n",
    "oof_val_preds_lgb = np.zeros(X.shape[0]) \n",
    "# OOF 방식으로 훈련된 모델로 테스트 데이터 타깃값을 예측한 확률을 담을 1차원 배열\n",
    "oof_test_preds_lgb = np.zeros(X_test.shape[0]) \n",
    "\n",
    "# OOF 방식으로 모델 훈련, 검증, 예측\n",
    "for idx, (train_idx, valid_idx) in enumerate(folds.split(X, y)):\n",
    "    # 각 폴드를 구분하는 문구 출력\n",
    "    print('#'*40, f'폴드 {idx+1} / 폴드 {folds.n_splits}', '#'*40)\n",
    "    \n",
    "    # 훈련용 데이터, 검증용 데이터 설정\n",
    "    X_train, y_train = X[train_idx], y[train_idx] # 훈련용 데이터\n",
    "    X_valid, y_valid = X[valid_idx], y[valid_idx] # 검증용 데이터\n",
    "\n",
    "    # LightGBM 전용 데이터셋 생성\n",
    "    dtrain = lgb.Dataset(X_train, y_train) # LightGBM 전용 훈련 데이터셋\n",
    "    dvalid = lgb.Dataset(X_valid, y_valid) # LightGBM 전용 검증 데이터셋\n",
    "                          \n",
    "    # LightGBM 모델 훈련\n",
    "    lgb_model = lgb.train(params=max_params_lgb,     # 최적 하이퍼파라미터\n",
    "                          train_set=dtrain,          # 훈련 데이터셋\n",
    "                          num_boost_round=2500,      # 부스팅 반복 횟수\n",
    "                          valid_sets=dvalid,         # 성능 평가용 검증 데이터셋\n",
    "                          feval=gini_lgb,            # 검증용 평가지표\n",
    "                          early_stopping_rounds=300, # 조기종료 조건\n",
    "                          verbose_eval=100)          # 100번째마다 점수 출력\n",
    "    \n",
    "    # 테스트 데이터를 활용해 OOF 예측\n",
    "    oof_test_preds_lgb += lgb_model.predict(X_test)/folds.n_splits\n",
    "    \n",
    "    # 모델 성능 평가를 위한 검증 데이터 타깃값 예측 \n",
    "    oof_val_preds_lgb[valid_idx] += lgb_model.predict(X_valid)\n",
    "    \n",
    "    # 검증 데이터 예측확률에 대한 정규화 지니계수\n",
    "    gini_score = eval_gini(y_valid, oof_val_preds_lgb[valid_idx])\n",
    "    print(f'폴드 {idx+1} 지니계수 : {gini_score}\\n')"
   ]
  },
  {
   "cell_type": "code",
   "execution_count": 17,
   "id": "920085b2",
   "metadata": {
    "execution": {
     "iopub.execute_input": "2024-01-24T12:13:56.091391Z",
     "iopub.status.busy": "2024-01-24T12:13:56.090681Z",
     "iopub.status.idle": "2024-01-24T12:13:56.093601Z",
     "shell.execute_reply": "2024-01-24T12:13:56.093067Z"
    },
    "papermill": {
     "duration": 0.07118,
     "end_time": "2024-01-24T12:13:56.093756",
     "exception": false,
     "start_time": "2024-01-24T12:13:56.022576",
     "status": "completed"
    },
    "tags": []
   },
   "outputs": [],
   "source": [
    "max_params_xgb = {\n",
    "    'colsample_bytree': 0.8843124587484356,\n",
    "    'gamma': 10.452246227672624,\n",
    "    'max_depth': 7,\n",
    "    'min_child_weight': 6.494091293383359,\n",
    "    'reg_alpha': 8.551838810159788,\n",
    "    'reg_lambda': 1.3814765995549108,\n",
    "    'scale_pos_weight': 1.423280772455086,\n",
    "    'subsample': 0.7001630536555632,\n",
    "    'objective': 'binary:logistic',\n",
    "    'learning_rate': 0.02,\n",
    "    'random_state': 1991\n",
    "}"
   ]
  },
  {
   "cell_type": "code",
   "execution_count": 18,
   "id": "6dc3f7df",
   "metadata": {
    "execution": {
     "iopub.execute_input": "2024-01-24T12:13:56.228280Z",
     "iopub.status.busy": "2024-01-24T12:13:56.227504Z",
     "iopub.status.idle": "2024-01-24T13:56:42.937513Z",
     "shell.execute_reply": "2024-01-24T13:56:42.936490Z"
    },
    "papermill": {
     "duration": 6166.782814,
     "end_time": "2024-01-24T13:56:42.937693",
     "exception": false,
     "start_time": "2024-01-24T12:13:56.154879",
     "status": "completed"
    },
    "tags": []
   },
   "outputs": [
    {
     "name": "stdout",
     "output_type": "stream",
     "text": [
      "######################################## 폴드 1 / 폴드 5 ########################################\n",
      "[12:13:58] WARNING: ../src/learner.cc:1095: Starting in XGBoost 1.3.0, the default evaluation metric used with the objective 'binary:logistic' was changed from 'error' to 'logloss'. Explicitly set eval_metric if you'd like to restore the old behavior.\n",
      "[0]\tvalid-logloss:0.67674\tvalid-gini:0.15993\n",
      "[100]\tvalid-logloss:0.19089\tvalid-gini:0.24958\n",
      "[200]\tvalid-logloss:0.15778\tvalid-gini:0.27832\n",
      "[300]\tvalid-logloss:0.15458\tvalid-gini:0.28767\n",
      "[400]\tvalid-logloss:0.15406\tvalid-gini:0.29234\n",
      "[500]\tvalid-logloss:0.15391\tvalid-gini:0.29475\n",
      "[600]\tvalid-logloss:0.15386\tvalid-gini:0.29597\n",
      "[700]\tvalid-logloss:0.15380\tvalid-gini:0.29749\n",
      "[800]\tvalid-logloss:0.15378\tvalid-gini:0.29842\n",
      "[900]\tvalid-logloss:0.15375\tvalid-gini:0.29890\n",
      "[1000]\tvalid-logloss:0.15373\tvalid-gini:0.29963\n",
      "[1100]\tvalid-logloss:0.15371\tvalid-gini:0.29988\n",
      "[1200]\tvalid-logloss:0.15370\tvalid-gini:0.30000\n",
      "[1300]\tvalid-logloss:0.15369\tvalid-gini:0.30005\n",
      "[1400]\tvalid-logloss:0.15370\tvalid-gini:0.30017\n",
      "[1500]\tvalid-logloss:0.15367\tvalid-gini:0.30076\n",
      "[1600]\tvalid-logloss:0.15370\tvalid-gini:0.30043\n",
      "[1700]\tvalid-logloss:0.15370\tvalid-gini:0.30049\n",
      "[1705]\tvalid-logloss:0.15369\tvalid-gini:0.30050\n",
      "폴드 1 지니계수 : 0.3007997522108954\n",
      "\n",
      "######################################## 폴드 2 / 폴드 5 ########################################\n",
      "[12:35:31] WARNING: ../src/learner.cc:1095: Starting in XGBoost 1.3.0, the default evaluation metric used with the objective 'binary:logistic' was changed from 'error' to 'logloss'. Explicitly set eval_metric if you'd like to restore the old behavior.\n",
      "[0]\tvalid-logloss:0.67667\tvalid-gini:0.12437\n",
      "[100]\tvalid-logloss:0.19102\tvalid-gini:0.23610\n",
      "[200]\tvalid-logloss:0.15807\tvalid-gini:0.26298\n",
      "[300]\tvalid-logloss:0.15496\tvalid-gini:0.27271\n",
      "[400]\tvalid-logloss:0.15446\tvalid-gini:0.27751\n",
      "[500]\tvalid-logloss:0.15433\tvalid-gini:0.27974\n",
      "[600]\tvalid-logloss:0.15429\tvalid-gini:0.28123\n",
      "[700]\tvalid-logloss:0.15426\tvalid-gini:0.28225\n",
      "[800]\tvalid-logloss:0.15423\tvalid-gini:0.28324\n",
      "[900]\tvalid-logloss:0.15420\tvalid-gini:0.28380\n",
      "[1000]\tvalid-logloss:0.15419\tvalid-gini:0.28426\n",
      "[1100]\tvalid-logloss:0.15420\tvalid-gini:0.28422\n",
      "[1200]\tvalid-logloss:0.15419\tvalid-gini:0.28422\n",
      "[1300]\tvalid-logloss:0.15418\tvalid-gini:0.28440\n",
      "[1400]\tvalid-logloss:0.15415\tvalid-gini:0.28465\n",
      "[1500]\tvalid-logloss:0.15417\tvalid-gini:0.28480\n",
      "[1600]\tvalid-logloss:0.15416\tvalid-gini:0.28499\n",
      "[1700]\tvalid-logloss:0.15415\tvalid-gini:0.28518\n",
      "[1800]\tvalid-logloss:0.15417\tvalid-gini:0.28518\n",
      "[1900]\tvalid-logloss:0.15415\tvalid-gini:0.28528\n",
      "[1999]\tvalid-logloss:0.15416\tvalid-gini:0.28550\n",
      "폴드 2 지니계수 : 0.2854709839884158\n",
      "\n",
      "######################################## 폴드 3 / 폴드 5 ########################################\n",
      "[13:00:58] WARNING: ../src/learner.cc:1095: Starting in XGBoost 1.3.0, the default evaluation metric used with the objective 'binary:logistic' was changed from 'error' to 'logloss'. Explicitly set eval_metric if you'd like to restore the old behavior.\n",
      "[0]\tvalid-logloss:0.67673\tvalid-gini:0.15482\n",
      "[100]\tvalid-logloss:0.19092\tvalid-gini:0.24566\n",
      "[200]\tvalid-logloss:0.15780\tvalid-gini:0.27105\n",
      "[300]\tvalid-logloss:0.15460\tvalid-gini:0.27965\n",
      "[400]\tvalid-logloss:0.15414\tvalid-gini:0.28260\n",
      "[500]\tvalid-logloss:0.15405\tvalid-gini:0.28340\n",
      "[600]\tvalid-logloss:0.15402\tvalid-gini:0.28403\n",
      "[700]\tvalid-logloss:0.15400\tvalid-gini:0.28423\n",
      "[800]\tvalid-logloss:0.15398\tvalid-gini:0.28459\n",
      "[900]\tvalid-logloss:0.15398\tvalid-gini:0.28478\n",
      "[1000]\tvalid-logloss:0.15398\tvalid-gini:0.28478\n",
      "[1100]\tvalid-logloss:0.15399\tvalid-gini:0.28479\n",
      "[1141]\tvalid-logloss:0.15399\tvalid-gini:0.28472\n",
      "폴드 3 지니계수 : 0.28490813985037916\n",
      "\n",
      "######################################## 폴드 4 / 폴드 5 ########################################\n",
      "[13:15:26] WARNING: ../src/learner.cc:1095: Starting in XGBoost 1.3.0, the default evaluation metric used with the objective 'binary:logistic' was changed from 'error' to 'logloss'. Explicitly set eval_metric if you'd like to restore the old behavior.\n",
      "[0]\tvalid-logloss:0.67664\tvalid-gini:0.15196\n",
      "[100]\tvalid-logloss:0.19084\tvalid-gini:0.23719\n",
      "[200]\tvalid-logloss:0.15791\tvalid-gini:0.26372\n",
      "[300]\tvalid-logloss:0.15483\tvalid-gini:0.27166\n",
      "[400]\tvalid-logloss:0.15438\tvalid-gini:0.27451\n",
      "[500]\tvalid-logloss:0.15429\tvalid-gini:0.27617\n",
      "[600]\tvalid-logloss:0.15424\tvalid-gini:0.27749\n",
      "[700]\tvalid-logloss:0.15421\tvalid-gini:0.27802\n",
      "[800]\tvalid-logloss:0.15420\tvalid-gini:0.27858\n",
      "[900]\tvalid-logloss:0.15417\tvalid-gini:0.27880\n",
      "[1000]\tvalid-logloss:0.15417\tvalid-gini:0.27890\n",
      "[1100]\tvalid-logloss:0.15418\tvalid-gini:0.27887\n",
      "[1200]\tvalid-logloss:0.15418\tvalid-gini:0.27891\n",
      "[1248]\tvalid-logloss:0.15418\tvalid-gini:0.27901\n",
      "폴드 4 지니계수 : 0.2789940456802698\n",
      "\n",
      "######################################## 폴드 5 / 폴드 5 ########################################\n",
      "[13:31:14] WARNING: ../src/learner.cc:1095: Starting in XGBoost 1.3.0, the default evaluation metric used with the objective 'binary:logistic' was changed from 'error' to 'logloss'. Explicitly set eval_metric if you'd like to restore the old behavior.\n",
      "[0]\tvalid-logloss:0.67665\tvalid-gini:0.14131\n",
      "[100]\tvalid-logloss:0.19094\tvalid-gini:0.24611\n",
      "[200]\tvalid-logloss:0.15802\tvalid-gini:0.27181\n",
      "[300]\tvalid-logloss:0.15485\tvalid-gini:0.28306\n",
      "[400]\tvalid-logloss:0.15433\tvalid-gini:0.28812\n",
      "[500]\tvalid-logloss:0.15420\tvalid-gini:0.29071\n",
      "[600]\tvalid-logloss:0.15414\tvalid-gini:0.29263\n",
      "[700]\tvalid-logloss:0.15408\tvalid-gini:0.29391\n",
      "[800]\tvalid-logloss:0.15407\tvalid-gini:0.29481\n",
      "[900]\tvalid-logloss:0.15402\tvalid-gini:0.29544\n",
      "[1000]\tvalid-logloss:0.15401\tvalid-gini:0.29599\n",
      "[1100]\tvalid-logloss:0.15401\tvalid-gini:0.29623\n",
      "[1200]\tvalid-logloss:0.15398\tvalid-gini:0.29669\n",
      "[1300]\tvalid-logloss:0.15396\tvalid-gini:0.29688\n",
      "[1400]\tvalid-logloss:0.15397\tvalid-gini:0.29680\n",
      "[1500]\tvalid-logloss:0.15396\tvalid-gini:0.29683\n",
      "[1600]\tvalid-logloss:0.15396\tvalid-gini:0.29699\n",
      "[1700]\tvalid-logloss:0.15394\tvalid-gini:0.29721\n",
      "[1800]\tvalid-logloss:0.15395\tvalid-gini:0.29730\n",
      "[1900]\tvalid-logloss:0.15395\tvalid-gini:0.29740\n",
      "[1999]\tvalid-logloss:0.15395\tvalid-gini:0.29731\n",
      "폴드 5 지니계수 : 0.2974836540733333\n",
      "\n"
     ]
    }
   ],
   "source": [
    "import xgboost as xgb\n",
    "\n",
    "# OOF 방식으로 훈련된 모델로 검증 데이터 타깃값을 예측한 확률을 담을 1차원 배열\n",
    "oof_val_preds_xgb = np.zeros(X.shape[0]) \n",
    "# OOF 방식으로 훈련된 모델로 테스트 데이터 타깃값을 예측한 확률을 담을 1차원 배열\n",
    "oof_test_preds_xgb = np.zeros(X_test.shape[0]) \n",
    "\n",
    "# OOF 방식으로 모델 훈련, 검증, 예측\n",
    "for idx, (train_idx, valid_idx) in enumerate(folds.split(X, y)):\n",
    "    # 각 폴드를 구분하는 문구 출력\n",
    "    print('#'*40, f'폴드 {idx+1} / 폴드 {folds.n_splits}', '#'*40)\n",
    "    \n",
    "    # 훈련용 데이터, 검증용 데이터 설정\n",
    "    X_train, y_train = X[train_idx], y[train_idx]\n",
    "    X_valid, y_valid = X[valid_idx], y[valid_idx]\n",
    "\n",
    "    # XGBoost 전용 데이터셋 생성 \n",
    "    dtrain = xgb.DMatrix(X_train, y_train)\n",
    "    dvalid = xgb.DMatrix(X_valid, y_valid)\n",
    "    dtest = xgb.DMatrix(X_test)\n",
    "\n",
    "    # XGBoost 모델 훈련\n",
    "    xgb_model = xgb.train(params=max_params_xgb, \n",
    "                          dtrain=dtrain,\n",
    "                          num_boost_round=2000,\n",
    "                          evals=[(dvalid, 'valid')],\n",
    "                          maximize=True,\n",
    "                          feval=gini_xgb,\n",
    "                          early_stopping_rounds=200,\n",
    "                          verbose_eval=100)\n",
    "\n",
    "    # 모델 성능이 가장 좋을 때의 부스팅 반복 횟수 저장\n",
    "    best_iter = xgb_model.best_iteration\n",
    "\n",
    "    # 테스트 데이터를 활용해 OOF 예측\n",
    "    oof_test_preds_xgb += xgb_model.predict(dtest,\n",
    "                                            iteration_range=(0, best_iter))/folds.n_splits\n",
    "    \n",
    "    # 모델 성능 평가를 위한 검증 데이터 타깃값 예측 \n",
    "    oof_val_preds_xgb[valid_idx] += xgb_model.predict(dvalid, \n",
    "                                                      iteration_range=(0, best_iter))\n",
    "    \n",
    "    # 검증 데이터 예측확률에 대한 정규화 지니계수\n",
    "    gini_score = eval_gini(y_valid, oof_val_preds_xgb[valid_idx])\n",
    "    print(f'폴드 {idx+1} 지니계수 : {gini_score}\\n')"
   ]
  },
  {
   "cell_type": "code",
   "execution_count": 19,
   "id": "34dc532f",
   "metadata": {
    "execution": {
     "iopub.execute_input": "2024-01-24T13:56:43.122236Z",
     "iopub.status.busy": "2024-01-24T13:56:43.119799Z",
     "iopub.status.idle": "2024-01-24T13:56:43.230435Z",
     "shell.execute_reply": "2024-01-24T13:56:43.230923Z"
    },
    "papermill": {
     "duration": 0.203023,
     "end_time": "2024-01-24T13:56:43.231134",
     "exception": false,
     "start_time": "2024-01-24T13:56:43.028111",
     "status": "completed"
    },
    "tags": []
   },
   "outputs": [
    {
     "name": "stdout",
     "output_type": "stream",
     "text": [
      "LightGBM OOF 검증 데이터 지니계수 : 0.2889651000887542\n"
     ]
    }
   ],
   "source": [
    "print('LightGBM OOF 검증 데이터 지니계수 :', eval_gini(y, oof_val_preds_lgb))"
   ]
  },
  {
   "cell_type": "code",
   "execution_count": 20,
   "id": "c3603d5e",
   "metadata": {
    "execution": {
     "iopub.execute_input": "2024-01-24T13:56:43.413625Z",
     "iopub.status.busy": "2024-01-24T13:56:43.412904Z",
     "iopub.status.idle": "2024-01-24T13:56:43.524115Z",
     "shell.execute_reply": "2024-01-24T13:56:43.523406Z"
    },
    "papermill": {
     "duration": 0.203436,
     "end_time": "2024-01-24T13:56:43.524278",
     "exception": false,
     "start_time": "2024-01-24T13:56:43.320842",
     "status": "completed"
    },
    "tags": []
   },
   "outputs": [
    {
     "name": "stdout",
     "output_type": "stream",
     "text": [
      "XGBoost OOF 검증 데이터 지니계수 : 0.2894739428104039\n"
     ]
    }
   ],
   "source": [
    "print('XGBoost OOF 검증 데이터 지니계수 :', eval_gini(y, oof_val_preds_xgb))"
   ]
  },
  {
   "cell_type": "markdown",
   "id": "d04ea01b",
   "metadata": {
    "papermill": {
     "duration": 0.088767,
     "end_time": "2024-01-24T13:56:43.704297",
     "exception": false,
     "start_time": "2024-01-24T13:56:43.615530",
     "status": "completed"
    },
    "tags": []
   },
   "source": [
    "## 8.6.1 앙상블 수행"
   ]
  },
  {
   "cell_type": "code",
   "execution_count": 21,
   "id": "58709260",
   "metadata": {
    "execution": {
     "iopub.execute_input": "2024-01-24T13:56:43.888700Z",
     "iopub.status.busy": "2024-01-24T13:56:43.887931Z",
     "iopub.status.idle": "2024-01-24T13:56:43.895382Z",
     "shell.execute_reply": "2024-01-24T13:56:43.894740Z"
    },
    "papermill": {
     "duration": 0.101939,
     "end_time": "2024-01-24T13:56:43.895537",
     "exception": false,
     "start_time": "2024-01-24T13:56:43.793598",
     "status": "completed"
    },
    "tags": []
   },
   "outputs": [],
   "source": [
    "oof_test_preds = oof_test_preds_lgb * 0.5 + oof_test_preds_xgb * 0.5"
   ]
  },
  {
   "cell_type": "markdown",
   "id": "71eb86ed",
   "metadata": {
    "papermill": {
     "duration": 0.090841,
     "end_time": "2024-01-24T13:56:44.073480",
     "exception": false,
     "start_time": "2024-01-24T13:56:43.982639",
     "status": "completed"
    },
    "tags": []
   },
   "source": [
    "## 8.6.2 예측 및 결과 제출"
   ]
  },
  {
   "cell_type": "code",
   "execution_count": 22,
   "id": "461dec29",
   "metadata": {
    "execution": {
     "iopub.execute_input": "2024-01-24T13:56:44.258376Z",
     "iopub.status.busy": "2024-01-24T13:56:44.257618Z",
     "iopub.status.idle": "2024-01-24T13:56:46.775265Z",
     "shell.execute_reply": "2024-01-24T13:56:46.774535Z"
    },
    "papermill": {
     "duration": 2.612629,
     "end_time": "2024-01-24T13:56:46.775446",
     "exception": false,
     "start_time": "2024-01-24T13:56:44.162817",
     "status": "completed"
    },
    "tags": []
   },
   "outputs": [],
   "source": [
    "submission['target'] = oof_test_preds\n",
    "submission.to_csv('submission.csv')"
   ]
  }
 ],
 "metadata": {
  "kaggle": {
   "accelerator": "none",
   "dataSources": [
    {
     "databundleVersionId": 874852,
     "sourceId": 7082,
     "sourceType": "competition"
    }
   ],
   "dockerImageVersionId": 30123,
   "isGpuEnabled": false,
   "isInternetEnabled": true,
   "language": "python",
   "sourceType": "notebook"
  },
  "kernelspec": {
   "display_name": "Python 3",
   "language": "python",
   "name": "python3"
  },
  "language_info": {
   "codemirror_mode": {
    "name": "ipython",
    "version": 3
   },
   "file_extension": ".py",
   "mimetype": "text/x-python",
   "name": "python",
   "nbconvert_exporter": "python",
   "pygments_lexer": "ipython3",
   "version": "3.7.10"
  },
  "papermill": {
   "default_parameters": {},
   "duration": 7681.201516,
   "end_time": "2024-01-24T13:56:49.035501",
   "environment_variables": {},
   "exception": null,
   "input_path": "__notebook__.ipynb",
   "output_path": "__notebook__.ipynb",
   "parameters": {},
   "start_time": "2024-01-24T11:48:47.833985",
   "version": "2.3.3"
  }
 },
 "nbformat": 4,
 "nbformat_minor": 5
}
