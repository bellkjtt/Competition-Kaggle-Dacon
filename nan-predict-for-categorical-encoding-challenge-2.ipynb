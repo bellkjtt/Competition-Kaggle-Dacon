{
 "cells": [
  {
   "cell_type": "code",
   "execution_count": 1,
   "id": "530d9432",
   "metadata": {
    "_cell_guid": "b1076dfc-b9ad-4769-8c92-a6c4dae69d19",
    "_uuid": "8f2839f25d086af736a60e9eeb907d3b93b6e0e5",
    "execution": {
     "iopub.execute_input": "2024-01-23T00:27:38.739004Z",
     "iopub.status.busy": "2024-01-23T00:27:38.738538Z",
     "iopub.status.idle": "2024-01-23T00:27:46.076380Z",
     "shell.execute_reply": "2024-01-23T00:27:46.075096Z"
    },
    "papermill": {
     "duration": 7.352486,
     "end_time": "2024-01-23T00:27:46.079615",
     "exception": false,
     "start_time": "2024-01-23T00:27:38.727129",
     "status": "completed"
    },
    "tags": []
   },
   "outputs": [],
   "source": [
    "import pandas as pd\n",
    "# 데이터 경로\n",
    "data_path = '/kaggle/input/cat-in-the-dat-ii/'\n",
    "\n",
    "train = pd.read_csv(data_path + 'train.csv', index_col='id')\n",
    "test = pd.read_csv(data_path + 'test.csv', index_col='id')\n",
    "submission = pd.read_csv(data_path + 'sample_submission.csv', index_col='id')"
   ]
  },
  {
   "cell_type": "code",
   "execution_count": 2,
   "id": "ba0f0256",
   "metadata": {
    "execution": {
     "iopub.execute_input": "2024-01-23T00:27:46.100343Z",
     "iopub.status.busy": "2024-01-23T00:27:46.099619Z",
     "iopub.status.idle": "2024-01-23T00:27:46.768760Z",
     "shell.execute_reply": "2024-01-23T00:27:46.767689Z"
    },
    "papermill": {
     "duration": 0.682806,
     "end_time": "2024-01-23T00:27:46.771806",
     "exception": false,
     "start_time": "2024-01-23T00:27:46.089000",
     "status": "completed"
    },
    "tags": []
   },
   "outputs": [],
   "source": [
    "# 훈련 데이터와 테스트 데이터 합치기\n",
    "all_data = pd.concat([train, test])\n",
    "all_data = all_data.drop('target', axis=1) # 타깃값 제거"
   ]
  },
  {
   "cell_type": "code",
   "execution_count": 3,
   "id": "5aec819d",
   "metadata": {
    "execution": {
     "iopub.execute_input": "2024-01-23T00:27:46.792227Z",
     "iopub.status.busy": "2024-01-23T00:27:46.791826Z",
     "iopub.status.idle": "2024-01-23T00:27:47.070091Z",
     "shell.execute_reply": "2024-01-23T00:27:47.068978Z"
    },
    "papermill": {
     "duration": 0.29201,
     "end_time": "2024-01-23T00:27:47.072976",
     "exception": false,
     "start_time": "2024-01-23T00:27:46.780966",
     "status": "completed"
    },
    "tags": []
   },
   "outputs": [],
   "source": [
    "def fill(df,feature,g):\n",
    "    df[feature] = df[feature].fillna(g)\n",
    "    \n",
    "    return df\n",
    "\n",
    "fe1 = ['bin_0' ,'bin_1','bin_2','bin_3','bin_4']\n",
    "g1 = [0.0, 0.0, 0.0, 'F','Y']\n",
    "\n",
    "for i,j in zip(fe1,g1):\n",
    "    fill(all_data,i,j)\n",
    "#bin_0~4는 대세값인 0으로 처리"
   ]
  },
  {
   "cell_type": "code",
   "execution_count": 4,
   "id": "c0f7dc93",
   "metadata": {
    "execution": {
     "iopub.execute_input": "2024-01-23T00:27:47.094004Z",
     "iopub.status.busy": "2024-01-23T00:27:47.093153Z",
     "iopub.status.idle": "2024-01-23T00:27:48.384016Z",
     "shell.execute_reply": "2024-01-23T00:27:48.382992Z"
    },
    "papermill": {
     "duration": 1.304384,
     "end_time": "2024-01-23T00:27:48.386681",
     "exception": false,
     "start_time": "2024-01-23T00:27:47.082297",
     "status": "completed"
    },
    "tags": []
   },
   "outputs": [],
   "source": [
    "fe = ['nom_0' ,'nom_1','nom_2','nom_3','nom_4','ord_0' ,'ord_1','ord_2','ord_3','ord_4','ord_5']\n",
    "g = ['red','Triangle','Hamster','india','Theremin',1.0,'Novice','Freezing','n', 'N','Fl']\n",
    "\n",
    "for i,j in zip(fe,g):\n",
    "    fill(all_data,i,j)"
   ]
  },
  {
   "cell_type": "code",
   "execution_count": 5,
   "id": "d167c815",
   "metadata": {
    "execution": {
     "iopub.execute_input": "2024-01-23T00:27:48.407093Z",
     "iopub.status.busy": "2024-01-23T00:27:48.406148Z",
     "iopub.status.idle": "2024-01-23T00:27:48.427654Z",
     "shell.execute_reply": "2024-01-23T00:27:48.426598Z"
    },
    "papermill": {
     "duration": 0.034739,
     "end_time": "2024-01-23T00:27:48.430503",
     "exception": false,
     "start_time": "2024-01-23T00:27:48.395764",
     "status": "completed"
    },
    "tags": []
   },
   "outputs": [],
   "source": [
    "fe = ['day','month']\n",
    "g = [3.0,8.0]\n",
    "\n",
    "for i,j in zip(fe,g):\n",
    "    fill(all_data,i,j)\n",
    "\n",
    "#ord_0~4는 대세값 처리"
   ]
  },
  {
   "cell_type": "code",
   "execution_count": 6,
   "id": "21109a7b",
   "metadata": {
    "execution": {
     "iopub.execute_input": "2024-01-23T00:27:48.450589Z",
     "iopub.status.busy": "2024-01-23T00:27:48.450161Z",
     "iopub.status.idle": "2024-01-23T00:27:50.937266Z",
     "shell.execute_reply": "2024-01-23T00:27:50.935556Z"
    },
    "papermill": {
     "duration": 2.500017,
     "end_time": "2024-01-23T00:27:50.939753",
     "exception": false,
     "start_time": "2024-01-23T00:27:48.439736",
     "status": "completed"
    },
    "tags": []
   },
   "outputs": [
    {
     "name": "stdout",
     "output_type": "stream",
     "text": [
      "<class 'pandas.core.frame.DataFrame'>\n",
      "Index: 1000000 entries, 0 to 999999\n",
      "Data columns (total 23 columns):\n",
      " #   Column  Non-Null Count    Dtype  \n",
      "---  ------  --------------    -----  \n",
      " 0   bin_0   1000000 non-null  float64\n",
      " 1   bin_1   1000000 non-null  float64\n",
      " 2   bin_2   1000000 non-null  float64\n",
      " 3   bin_3   1000000 non-null  object \n",
      " 4   bin_4   1000000 non-null  object \n",
      " 5   nom_0   1000000 non-null  object \n",
      " 6   nom_1   1000000 non-null  object \n",
      " 7   nom_2   1000000 non-null  object \n",
      " 8   nom_3   1000000 non-null  object \n",
      " 9   nom_4   1000000 non-null  object \n",
      " 10  nom_5   1000000 non-null  object \n",
      " 11  nom_6   1000000 non-null  object \n",
      " 12  nom_7   1000000 non-null  object \n",
      " 13  nom_8   1000000 non-null  object \n",
      " 14  nom_9   1000000 non-null  object \n",
      " 15  ord_0   1000000 non-null  float64\n",
      " 16  ord_1   1000000 non-null  object \n",
      " 17  ord_2   1000000 non-null  object \n",
      " 18  ord_3   1000000 non-null  object \n",
      " 19  ord_4   1000000 non-null  object \n",
      " 20  ord_5   1000000 non-null  object \n",
      " 21  day     1000000 non-null  float64\n",
      " 22  month   1000000 non-null  float64\n",
      "dtypes: float64(6), object(17)\n",
      "memory usage: 183.1+ MB\n"
     ]
    },
    {
     "data": {
      "text/html": [
       "<div>\n",
       "<style scoped>\n",
       "    .dataframe tbody tr th:only-of-type {\n",
       "        vertical-align: middle;\n",
       "    }\n",
       "\n",
       "    .dataframe tbody tr th {\n",
       "        vertical-align: top;\n",
       "    }\n",
       "\n",
       "    .dataframe thead th {\n",
       "        text-align: right;\n",
       "    }\n",
       "</style>\n",
       "<table border=\"1\" class=\"dataframe\">\n",
       "  <thead>\n",
       "    <tr style=\"text-align: right;\">\n",
       "      <th></th>\n",
       "      <th>bin_0</th>\n",
       "      <th>bin_1</th>\n",
       "      <th>bin_2</th>\n",
       "      <th>bin_3</th>\n",
       "      <th>bin_4</th>\n",
       "      <th>nom_0</th>\n",
       "      <th>nom_1</th>\n",
       "      <th>nom_2</th>\n",
       "      <th>nom_3</th>\n",
       "      <th>nom_4</th>\n",
       "      <th>...</th>\n",
       "      <th>nom_8</th>\n",
       "      <th>nom_9</th>\n",
       "      <th>ord_0</th>\n",
       "      <th>ord_1</th>\n",
       "      <th>ord_2</th>\n",
       "      <th>ord_3</th>\n",
       "      <th>ord_4</th>\n",
       "      <th>ord_5</th>\n",
       "      <th>day</th>\n",
       "      <th>month</th>\n",
       "    </tr>\n",
       "    <tr>\n",
       "      <th>id</th>\n",
       "      <th></th>\n",
       "      <th></th>\n",
       "      <th></th>\n",
       "      <th></th>\n",
       "      <th></th>\n",
       "      <th></th>\n",
       "      <th></th>\n",
       "      <th></th>\n",
       "      <th></th>\n",
       "      <th></th>\n",
       "      <th></th>\n",
       "      <th></th>\n",
       "      <th></th>\n",
       "      <th></th>\n",
       "      <th></th>\n",
       "      <th></th>\n",
       "      <th></th>\n",
       "      <th></th>\n",
       "      <th></th>\n",
       "      <th></th>\n",
       "      <th></th>\n",
       "    </tr>\n",
       "  </thead>\n",
       "  <tbody>\n",
       "    <tr>\n",
       "      <th>0</th>\n",
       "      <td>0.0</td>\n",
       "      <td>0.0</td>\n",
       "      <td>0.0</td>\n",
       "      <td>F</td>\n",
       "      <td>N</td>\n",
       "      <td>Red</td>\n",
       "      <td>Trapezoid</td>\n",
       "      <td>Hamster</td>\n",
       "      <td>Russia</td>\n",
       "      <td>Bassoon</td>\n",
       "      <td>...</td>\n",
       "      <td>0256c7a4b</td>\n",
       "      <td>02e7c8990</td>\n",
       "      <td>3.0</td>\n",
       "      <td>Contributor</td>\n",
       "      <td>Hot</td>\n",
       "      <td>c</td>\n",
       "      <td>U</td>\n",
       "      <td>Pw</td>\n",
       "      <td>6.0</td>\n",
       "      <td>3.0</td>\n",
       "    </tr>\n",
       "    <tr>\n",
       "      <th>1</th>\n",
       "      <td>1.0</td>\n",
       "      <td>1.0</td>\n",
       "      <td>0.0</td>\n",
       "      <td>F</td>\n",
       "      <td>Y</td>\n",
       "      <td>Red</td>\n",
       "      <td>Star</td>\n",
       "      <td>Axolotl</td>\n",
       "      <td>india</td>\n",
       "      <td>Theremin</td>\n",
       "      <td>...</td>\n",
       "      <td>52ead350c</td>\n",
       "      <td>f37df64af</td>\n",
       "      <td>3.0</td>\n",
       "      <td>Grandmaster</td>\n",
       "      <td>Warm</td>\n",
       "      <td>e</td>\n",
       "      <td>X</td>\n",
       "      <td>pE</td>\n",
       "      <td>7.0</td>\n",
       "      <td>7.0</td>\n",
       "    </tr>\n",
       "    <tr>\n",
       "      <th>2</th>\n",
       "      <td>0.0</td>\n",
       "      <td>1.0</td>\n",
       "      <td>0.0</td>\n",
       "      <td>F</td>\n",
       "      <td>N</td>\n",
       "      <td>Red</td>\n",
       "      <td>Triangle</td>\n",
       "      <td>Hamster</td>\n",
       "      <td>Canada</td>\n",
       "      <td>Bassoon</td>\n",
       "      <td>...</td>\n",
       "      <td>745b909d1</td>\n",
       "      <td>other</td>\n",
       "      <td>3.0</td>\n",
       "      <td>Novice</td>\n",
       "      <td>Freezing</td>\n",
       "      <td>n</td>\n",
       "      <td>P</td>\n",
       "      <td>eN</td>\n",
       "      <td>5.0</td>\n",
       "      <td>9.0</td>\n",
       "    </tr>\n",
       "    <tr>\n",
       "      <th>3</th>\n",
       "      <td>0.0</td>\n",
       "      <td>0.0</td>\n",
       "      <td>0.0</td>\n",
       "      <td>F</td>\n",
       "      <td>N</td>\n",
       "      <td>Red</td>\n",
       "      <td>Circle</td>\n",
       "      <td>Hamster</td>\n",
       "      <td>Finland</td>\n",
       "      <td>Theremin</td>\n",
       "      <td>...</td>\n",
       "      <td>bdaa56dd1</td>\n",
       "      <td>f9d456e57</td>\n",
       "      <td>1.0</td>\n",
       "      <td>Novice</td>\n",
       "      <td>Lava Hot</td>\n",
       "      <td>a</td>\n",
       "      <td>C</td>\n",
       "      <td>Fl</td>\n",
       "      <td>3.0</td>\n",
       "      <td>3.0</td>\n",
       "    </tr>\n",
       "    <tr>\n",
       "      <th>4</th>\n",
       "      <td>0.0</td>\n",
       "      <td>0.0</td>\n",
       "      <td>0.0</td>\n",
       "      <td>T</td>\n",
       "      <td>N</td>\n",
       "      <td>Red</td>\n",
       "      <td>Triangle</td>\n",
       "      <td>Hamster</td>\n",
       "      <td>Costa Rica</td>\n",
       "      <td>Theremin</td>\n",
       "      <td>...</td>\n",
       "      <td>other</td>\n",
       "      <td>c5361037c</td>\n",
       "      <td>3.0</td>\n",
       "      <td>Grandmaster</td>\n",
       "      <td>Cold</td>\n",
       "      <td>h</td>\n",
       "      <td>C</td>\n",
       "      <td>OZ</td>\n",
       "      <td>5.0</td>\n",
       "      <td>12.0</td>\n",
       "    </tr>\n",
       "  </tbody>\n",
       "</table>\n",
       "<p>5 rows × 23 columns</p>\n",
       "</div>"
      ],
      "text/plain": [
       "    bin_0  bin_1  bin_2 bin_3 bin_4 nom_0      nom_1    nom_2       nom_3  \\\n",
       "id                                                                          \n",
       "0     0.0    0.0    0.0     F     N   Red  Trapezoid  Hamster      Russia   \n",
       "1     1.0    1.0    0.0     F     Y   Red       Star  Axolotl       india   \n",
       "2     0.0    1.0    0.0     F     N   Red   Triangle  Hamster      Canada   \n",
       "3     0.0    0.0    0.0     F     N   Red     Circle  Hamster     Finland   \n",
       "4     0.0    0.0    0.0     T     N   Red   Triangle  Hamster  Costa Rica   \n",
       "\n",
       "       nom_4  ...      nom_8      nom_9 ord_0        ord_1     ord_2  ord_3  \\\n",
       "id            ...                                                             \n",
       "0    Bassoon  ...  0256c7a4b  02e7c8990   3.0  Contributor       Hot      c   \n",
       "1   Theremin  ...  52ead350c  f37df64af   3.0  Grandmaster      Warm      e   \n",
       "2    Bassoon  ...  745b909d1      other   3.0       Novice  Freezing      n   \n",
       "3   Theremin  ...  bdaa56dd1  f9d456e57   1.0       Novice  Lava Hot      a   \n",
       "4   Theremin  ...      other  c5361037c   3.0  Grandmaster      Cold      h   \n",
       "\n",
       "   ord_4 ord_5  day month  \n",
       "id                         \n",
       "0      U    Pw  6.0   3.0  \n",
       "1      X    pE  7.0   7.0  \n",
       "2      P    eN  5.0   9.0  \n",
       "3      C    Fl  3.0   3.0  \n",
       "4      C    OZ  5.0  12.0  \n",
       "\n",
       "[5 rows x 23 columns]"
      ]
     },
     "execution_count": 6,
     "metadata": {},
     "output_type": "execute_result"
    }
   ],
   "source": [
    "fe = ['nom_5' ,'nom_6','nom_7','nom_8','nom_9',]\n",
    "g = ['other','other','other','other','other']\n",
    "\n",
    "for i,j in zip(fe,g):\n",
    "    fill(all_data,i,j)\n",
    "all_data.info()\n",
    "#ord_0~4, nom_0~4는 각각 대세값 처리\n",
    "all_data.head()"
   ]
  },
  {
   "cell_type": "code",
   "execution_count": 7,
   "id": "6fcf79ae",
   "metadata": {
    "execution": {
     "iopub.execute_input": "2024-01-23T00:27:50.961111Z",
     "iopub.status.busy": "2024-01-23T00:27:50.960695Z",
     "iopub.status.idle": "2024-01-23T00:27:51.354512Z",
     "shell.execute_reply": "2024-01-23T00:27:51.353270Z"
    },
    "papermill": {
     "duration": 0.407948,
     "end_time": "2024-01-23T00:27:51.357510",
     "exception": false,
     "start_time": "2024-01-23T00:27:50.949562",
     "status": "completed"
    },
    "tags": []
   },
   "outputs": [],
   "source": [
    "all_data['bin_3'] = all_data['bin_3'].map({'F':0.0, 'T':1.0})\n",
    "all_data['bin_4'] = all_data['bin_4'].map({'N':0.0, 'Y':1.0})\n",
    "\n",
    "ord1dict = {'Novice':0.0, 'Contributor':1.0, \n",
    "            'Expert':2.0, 'Master':3.0, 'Grandmaster':4.0}\n",
    "ord2dict = {'Freezing':0.0, 'Cold':1.0, 'Warm':2.0, \n",
    "            'Hot':3.0, 'Boiling Hot':4.0, 'Lava Hot':5.0}\n",
    "\n",
    "all_data['ord_1'] = all_data['ord_1'].map(ord1dict)\n",
    "all_data['ord_2'] = all_data['ord_2'].map(ord2dict)"
   ]
  },
  {
   "cell_type": "code",
   "execution_count": 8,
   "id": "8528391d",
   "metadata": {
    "execution": {
     "iopub.execute_input": "2024-01-23T00:27:51.379638Z",
     "iopub.status.busy": "2024-01-23T00:27:51.379158Z",
     "iopub.status.idle": "2024-01-23T00:27:53.863471Z",
     "shell.execute_reply": "2024-01-23T00:27:53.862241Z"
    },
    "papermill": {
     "duration": 2.498338,
     "end_time": "2024-01-23T00:27:53.866220",
     "exception": false,
     "start_time": "2024-01-23T00:27:51.367882",
     "status": "completed"
    },
    "tags": []
   },
   "outputs": [
    {
     "name": "stdout",
     "output_type": "stream",
     "text": [
      "ord_3\n",
      "['a' 'b' 'c' 'd' 'e' 'f' 'g' 'h' 'i' 'j' 'k' 'l' 'm' 'n' 'o']\n",
      "ord_4\n",
      "['A' 'B' 'C' 'D' 'E' 'F' 'G' 'H' 'I' 'J' 'K' 'L' 'M' 'N' 'O' 'P' 'Q' 'R'\n",
      " 'S' 'T' 'U' 'V' 'W' 'X' 'Y' 'Z']\n",
      "ord_5\n",
      "['AG' 'AI' 'AU' 'AW' 'Ay' 'BL' 'BX' 'Bx' 'CN' 'CU' 'Cn' 'DI' 'DN' 'DR'\n",
      " 'DT' 'Dj' 'Dn' 'EC' 'Ey' 'FB' 'FH' 'Fl' 'GZ' 'HF' 'HK' 'HO' 'Hk' 'IA'\n",
      " 'IS' 'Ib' 'In' 'Io' 'Iq' 'JQ' 'JT' 'Ji' 'Kq' 'LS' 'LY' 'Lo' 'MF' 'MU'\n",
      " 'MV' 'MX' 'Mg' 'Mq' 'NS' 'NT' 'Nh' 'OM' 'OZ' 'Oe' 'Ox' 'PG' 'PS' 'Pk'\n",
      " 'Pw' 'QV' 'Qm' 'RB' 'RD' 'RT' 'RV' 'Re' 'Rj' 'Ro' 'Rv' 'Rz' 'SL' 'SS'\n",
      " 'Sk' 'Sz' 'TH' 'TL' 'TP' 'TZ' 'Tg' 'Ty' 'Tz' 'US' 'UV' 'WC' 'WW' 'Wr'\n",
      " 'XC' 'XI' 'XM' 'XR' 'XU' 'YJ' 'Yb' 'Yi' 'Yr' 'Zv' 'aA' 'aE' 'al' 'be'\n",
      " 'cR' 'cY' 'cg' 'cy' 'dh' 'dp' 'eA' 'eN' 'ep' 'fF' 'fO' 'fV' 'fe' 'gK'\n",
      " 'gL' 'gV' 'gc' 'gj' 'gt' 'hG' 'hT' 'ht' 'hx' 'iS' 'iv' 'ja' 'jf' 'jp'\n",
      " 'kB' 'kP' 'kT' 'kv' 'lA' 'lR' 'lS' 'ly' 'mD' 'mP' 'mX' 'mi' 'mo' 'nS'\n",
      " 'ne' 'nf' 'nj' 'nn' 'oI' 'oJ' 'oU' 'oh' 'ok' 'pB' 'pE' 'pT' 'pZ' 'pl'\n",
      " 'qN' 'qP' 'rA' 'rM' 'rg' 'rl' 'sF' 'sY' 'sc' 'sf' 'tT' 'th' 'tn' 'uI'\n",
      " 'uP' 'uQ' 'uW' 'uZ' 'ur' 'us' 'vQ' 'vq' 'vw' 'vx' 'wJ' 'wU' 'wa' 'xB'\n",
      " 'xF' 'xG' 'yE' 'yK' 'zc' 'ze' 'zf' 'zp']\n"
     ]
    }
   ],
   "source": [
    "from sklearn.preprocessing import OrdinalEncoder\n",
    "\n",
    "ord_345 = ['ord_3', 'ord_4', 'ord_5']\n",
    "\n",
    "ord_encoder = OrdinalEncoder() # OrdinalEncoder 객체 생성\n",
    "# ordinal 인코딩 적용\n",
    "all_data[ord_345] = ord_encoder.fit_transform(all_data[ord_345])\n",
    "\n",
    "# 피처별 인코딩 순서 출력\n",
    "for feature, categories in zip(ord_345, ord_encoder.categories_):\n",
    "    print(feature)\n",
    "    print(categories)"
   ]
  },
  {
   "cell_type": "code",
   "execution_count": 9,
   "id": "002a2cf5",
   "metadata": {
    "execution": {
     "iopub.execute_input": "2024-01-23T00:27:53.888530Z",
     "iopub.status.busy": "2024-01-23T00:27:53.888095Z",
     "iopub.status.idle": "2024-01-23T00:27:53.894195Z",
     "shell.execute_reply": "2024-01-23T00:27:53.892882Z"
    },
    "papermill": {
     "duration": 0.020145,
     "end_time": "2024-01-23T00:27:53.897044",
     "exception": false,
     "start_time": "2024-01-23T00:27:53.876899",
     "status": "completed"
    },
    "tags": []
   },
   "outputs": [],
   "source": [
    "nom_features = ['nom_' + str(i) for i in range(10)] # 명목형 피처"
   ]
  },
  {
   "cell_type": "code",
   "execution_count": 10,
   "id": "33255395",
   "metadata": {
    "execution": {
     "iopub.execute_input": "2024-01-23T00:27:53.919589Z",
     "iopub.status.busy": "2024-01-23T00:27:53.918723Z",
     "iopub.status.idle": "2024-01-23T00:27:58.218816Z",
     "shell.execute_reply": "2024-01-23T00:27:58.217556Z"
    },
    "papermill": {
     "duration": 4.314529,
     "end_time": "2024-01-23T00:27:58.221536",
     "exception": false,
     "start_time": "2024-01-23T00:27:53.907007",
     "status": "completed"
    },
    "tags": []
   },
   "outputs": [
    {
     "data": {
      "text/plain": [
       "<1000000x5434 sparse matrix of type '<class 'numpy.float64'>'\n",
       "\twith 10000000 stored elements in Compressed Sparse Row format>"
      ]
     },
     "execution_count": 10,
     "metadata": {},
     "output_type": "execute_result"
    }
   ],
   "source": [
    "from sklearn.preprocessing import OneHotEncoder\n",
    "\n",
    "onehot_encoder = OneHotEncoder() # OneHotEncoder 객체 생성\n",
    "# 원-핫 인코딩 적용\n",
    "encoded_nom_matrix = onehot_encoder.fit_transform(all_data[nom_features])\n",
    "\n",
    "encoded_nom_matrix"
   ]
  },
  {
   "cell_type": "code",
   "execution_count": 11,
   "id": "2ca6ed63",
   "metadata": {
    "execution": {
     "iopub.execute_input": "2024-01-23T00:27:58.244185Z",
     "iopub.status.busy": "2024-01-23T00:27:58.243745Z",
     "iopub.status.idle": "2024-01-23T00:27:58.255126Z",
     "shell.execute_reply": "2024-01-23T00:27:58.253833Z"
    },
    "papermill": {
     "duration": 0.025741,
     "end_time": "2024-01-23T00:27:58.257838",
     "exception": false,
     "start_time": "2024-01-23T00:27:58.232097",
     "status": "completed"
    },
    "tags": []
   },
   "outputs": [
    {
     "name": "stdout",
     "output_type": "stream",
     "text": [
      "  (0, 2)\t1.0\n",
      "  (0, 8)\t1.0\n",
      "  (0, 13)\t1.0\n",
      "  (0, 21)\t1.0\n",
      "  (0, 23)\t1.0\n",
      "  (0, 1086)\t1.0\n",
      "  (0, 2261)\t1.0\n",
      "  (0, 2856)\t1.0\n",
      "  (0, 2993)\t1.0\n",
      "  (0, 3242)\t1.0\n"
     ]
    }
   ],
   "source": [
    "print(encoded_nom_matrix[0])"
   ]
  },
  {
   "cell_type": "code",
   "execution_count": 12,
   "id": "570e31c6",
   "metadata": {
    "execution": {
     "iopub.execute_input": "2024-01-23T00:27:58.281205Z",
     "iopub.status.busy": "2024-01-23T00:27:58.280565Z",
     "iopub.status.idle": "2024-01-23T00:27:58.360369Z",
     "shell.execute_reply": "2024-01-23T00:27:58.358941Z"
    },
    "papermill": {
     "duration": 0.095189,
     "end_time": "2024-01-23T00:27:58.363343",
     "exception": false,
     "start_time": "2024-01-23T00:27:58.268154",
     "status": "completed"
    },
    "tags": []
   },
   "outputs": [],
   "source": [
    "all_data = all_data.drop(nom_features, axis=1) # 기존 명목형 피처 삭제"
   ]
  },
  {
   "cell_type": "code",
   "execution_count": 13,
   "id": "e4fed118",
   "metadata": {
    "execution": {
     "iopub.execute_input": "2024-01-23T00:27:58.387142Z",
     "iopub.status.busy": "2024-01-23T00:27:58.385834Z",
     "iopub.status.idle": "2024-01-23T00:27:58.789537Z",
     "shell.execute_reply": "2024-01-23T00:27:58.788579Z"
    },
    "papermill": {
     "duration": 0.421513,
     "end_time": "2024-01-23T00:27:58.795389",
     "exception": false,
     "start_time": "2024-01-23T00:27:58.373876",
     "status": "completed"
    },
    "tags": []
   },
   "outputs": [
    {
     "data": {
      "text/plain": [
       "<1000000x19 sparse matrix of type '<class 'numpy.float64'>'\n",
       "\twith 2000000 stored elements in Compressed Sparse Row format>"
      ]
     },
     "execution_count": 13,
     "metadata": {},
     "output_type": "execute_result"
    }
   ],
   "source": [
    "date_features  = ['day', 'month'] # 날짜 피처\n",
    "\n",
    "# 원-핫 인코딩 적용\n",
    "encoded_date_matrix = onehot_encoder.fit_transform(all_data[date_features])\n",
    "\n",
    "all_data = all_data.drop(date_features, axis=1) # 기존 날짜 피처 삭제\n",
    "\n",
    "encoded_date_matrix"
   ]
  },
  {
   "cell_type": "markdown",
   "id": "10243b8a",
   "metadata": {
    "papermill": {
     "duration": 0.011161,
     "end_time": "2024-01-23T00:27:58.817761",
     "exception": false,
     "start_time": "2024-01-23T00:27:58.806600",
     "status": "completed"
    },
    "tags": []
   },
   "source": [
    "## 피처 스케일링"
   ]
  },
  {
   "cell_type": "code",
   "execution_count": 14,
   "id": "9f739c75",
   "metadata": {
    "execution": {
     "iopub.execute_input": "2024-01-23T00:27:58.842339Z",
     "iopub.status.busy": "2024-01-23T00:27:58.840857Z",
     "iopub.status.idle": "2024-01-23T00:27:58.980657Z",
     "shell.execute_reply": "2024-01-23T00:27:58.979380Z"
    },
    "papermill": {
     "duration": 0.15461,
     "end_time": "2024-01-23T00:27:58.983596",
     "exception": false,
     "start_time": "2024-01-23T00:27:58.828986",
     "status": "completed"
    },
    "tags": []
   },
   "outputs": [
    {
     "name": "stdout",
     "output_type": "stream",
     "text": [
      "<class 'pandas.core.frame.DataFrame'>\n",
      "Index: 1000000 entries, 0 to 999999\n",
      "Data columns (total 11 columns):\n",
      " #   Column  Non-Null Count    Dtype  \n",
      "---  ------  --------------    -----  \n",
      " 0   bin_0   1000000 non-null  float64\n",
      " 1   bin_1   1000000 non-null  float64\n",
      " 2   bin_2   1000000 non-null  float64\n",
      " 3   bin_3   1000000 non-null  float64\n",
      " 4   bin_4   1000000 non-null  float64\n",
      " 5   ord_0   1000000 non-null  float64\n",
      " 6   ord_1   1000000 non-null  float64\n",
      " 7   ord_2   1000000 non-null  float64\n",
      " 8   ord_3   1000000 non-null  float64\n",
      " 9   ord_4   1000000 non-null  float64\n",
      " 10  ord_5   1000000 non-null  float64\n",
      "dtypes: float64(11)\n",
      "memory usage: 91.6 MB\n"
     ]
    }
   ],
   "source": [
    "from sklearn.preprocessing import MinMaxScaler\n",
    "\n",
    "ord_features = ['ord_' + str(i) for i in range(6)] # 순서형 피처\n",
    "# min-max 정규화\n",
    "all_data[ord_features] = MinMaxScaler().fit_transform(all_data[ord_features])\n",
    "all_data.info()"
   ]
  },
  {
   "cell_type": "code",
   "execution_count": 15,
   "id": "88f1b585",
   "metadata": {
    "execution": {
     "iopub.execute_input": "2024-01-23T00:27:59.006585Z",
     "iopub.status.busy": "2024-01-23T00:27:59.006134Z",
     "iopub.status.idle": "2024-01-23T00:27:59.747986Z",
     "shell.execute_reply": "2024-01-23T00:27:59.746941Z"
    },
    "papermill": {
     "duration": 0.756734,
     "end_time": "2024-01-23T00:27:59.750694",
     "exception": false,
     "start_time": "2024-01-23T00:27:58.993960",
     "status": "completed"
    },
    "tags": []
   },
   "outputs": [],
   "source": [
    "from scipy import sparse\n",
    "\n",
    "# 인코딩 및 스케일링된 피처 합치기\n",
    "all_data_sprs = sparse.hstack([sparse.csr_matrix(all_data),\n",
    "                               encoded_nom_matrix,\n",
    "                               encoded_date_matrix],\n",
    "                              format='csr')"
   ]
  },
  {
   "cell_type": "code",
   "execution_count": 16,
   "id": "dbd20774",
   "metadata": {
    "execution": {
     "iopub.execute_input": "2024-01-23T00:27:59.773830Z",
     "iopub.status.busy": "2024-01-23T00:27:59.772688Z",
     "iopub.status.idle": "2024-01-23T00:27:59.780164Z",
     "shell.execute_reply": "2024-01-23T00:27:59.778979Z"
    },
    "papermill": {
     "duration": 0.021583,
     "end_time": "2024-01-23T00:27:59.782647",
     "exception": false,
     "start_time": "2024-01-23T00:27:59.761064",
     "status": "completed"
    },
    "tags": []
   },
   "outputs": [
    {
     "data": {
      "text/plain": [
       "<1000000x5464 sparse matrix of type '<class 'numpy.float64'>'\n",
       "\twith 18225434 stored elements in Compressed Sparse Row format>"
      ]
     },
     "execution_count": 16,
     "metadata": {},
     "output_type": "execute_result"
    }
   ],
   "source": [
    "all_data_sprs"
   ]
  },
  {
   "cell_type": "code",
   "execution_count": 17,
   "id": "88b0be05",
   "metadata": {
    "execution": {
     "iopub.execute_input": "2024-01-23T00:27:59.805604Z",
     "iopub.status.busy": "2024-01-23T00:27:59.805175Z",
     "iopub.status.idle": "2024-01-23T00:28:00.147383Z",
     "shell.execute_reply": "2024-01-23T00:28:00.146356Z"
    },
    "papermill": {
     "duration": 0.357119,
     "end_time": "2024-01-23T00:28:00.150235",
     "exception": false,
     "start_time": "2024-01-23T00:27:59.793116",
     "status": "completed"
    },
    "tags": []
   },
   "outputs": [],
   "source": [
    "num_train = len(train) # 훈련 데이터 개수\n",
    "\n",
    "# 훈련 데이터와 테스트 데이터 나누기\n",
    "X_train = all_data_sprs[:num_train] # 0 ~ num_train - 1행\n",
    "X_test = all_data_sprs[num_train:] # num_train ~ 마지막 행\n",
    "\n",
    "y = train['target']"
   ]
  },
  {
   "cell_type": "code",
   "execution_count": 18,
   "id": "ad3fe6e5",
   "metadata": {
    "execution": {
     "iopub.execute_input": "2024-01-23T00:28:00.173146Z",
     "iopub.status.busy": "2024-01-23T00:28:00.172765Z",
     "iopub.status.idle": "2024-01-23T00:28:00.179626Z",
     "shell.execute_reply": "2024-01-23T00:28:00.178394Z"
    },
    "papermill": {
     "duration": 0.021193,
     "end_time": "2024-01-23T00:28:00.182191",
     "exception": false,
     "start_time": "2024-01-23T00:28:00.160998",
     "status": "completed"
    },
    "tags": []
   },
   "outputs": [
    {
     "data": {
      "text/plain": [
       "(600000, 5464)"
      ]
     },
     "execution_count": 18,
     "metadata": {},
     "output_type": "execute_result"
    }
   ],
   "source": [
    "X_train.shape"
   ]
  },
  {
   "cell_type": "code",
   "execution_count": 19,
   "id": "06db1572",
   "metadata": {
    "execution": {
     "iopub.execute_input": "2024-01-23T00:28:00.205855Z",
     "iopub.status.busy": "2024-01-23T00:28:00.205386Z",
     "iopub.status.idle": "2024-01-23T00:28:00.212598Z",
     "shell.execute_reply": "2024-01-23T00:28:00.211467Z"
    },
    "papermill": {
     "duration": 0.022371,
     "end_time": "2024-01-23T00:28:00.215364",
     "exception": false,
     "start_time": "2024-01-23T00:28:00.192993",
     "status": "completed"
    },
    "tags": []
   },
   "outputs": [
    {
     "data": {
      "text/plain": [
       "(600000,)"
      ]
     },
     "execution_count": 19,
     "metadata": {},
     "output_type": "execute_result"
    }
   ],
   "source": [
    "y.shape"
   ]
  },
  {
   "cell_type": "code",
   "execution_count": 20,
   "id": "83ae3488",
   "metadata": {
    "execution": {
     "iopub.execute_input": "2024-01-23T00:28:00.239922Z",
     "iopub.status.busy": "2024-01-23T00:28:00.239385Z",
     "iopub.status.idle": "2024-01-23T00:28:00.790859Z",
     "shell.execute_reply": "2024-01-23T00:28:00.789507Z"
    },
    "papermill": {
     "duration": 0.567125,
     "end_time": "2024-01-23T00:28:00.793642",
     "exception": false,
     "start_time": "2024-01-23T00:28:00.226517",
     "status": "completed"
    },
    "tags": []
   },
   "outputs": [],
   "source": [
    "from sklearn.model_selection import train_test_split\n",
    "\n",
    "# 훈련 데이터, 검증 데이터 분리\n",
    "X_train, X_valid, y_train, y_valid = train_test_split(X_train, y,\n",
    "                                                      test_size=0.1,\n",
    "                                                      stratify=y,\n",
    "                                                      random_state=10)"
   ]
  },
  {
   "cell_type": "code",
   "execution_count": 21,
   "id": "b53e493c",
   "metadata": {
    "execution": {
     "iopub.execute_input": "2024-01-23T00:28:00.817149Z",
     "iopub.status.busy": "2024-01-23T00:28:00.816758Z",
     "iopub.status.idle": "2024-01-23T00:28:00.824842Z",
     "shell.execute_reply": "2024-01-23T00:28:00.823274Z"
    },
    "papermill": {
     "duration": 0.023102,
     "end_time": "2024-01-23T00:28:00.827638",
     "exception": false,
     "start_time": "2024-01-23T00:28:00.804536",
     "status": "completed"
    },
    "tags": []
   },
   "outputs": [
    {
     "data": {
      "text/plain": [
       "(600000,)"
      ]
     },
     "execution_count": 21,
     "metadata": {},
     "output_type": "execute_result"
    }
   ],
   "source": [
    "y.shape"
   ]
  },
  {
   "cell_type": "markdown",
   "id": "79077e49",
   "metadata": {
    "papermill": {
     "duration": 0.010443,
     "end_time": "2024-01-23T00:28:00.849179",
     "exception": false,
     "start_time": "2024-01-23T00:28:00.838736",
     "status": "completed"
    },
    "tags": []
   },
   "source": [
    "## 하이퍼 파라미터 최적화"
   ]
  },
  {
   "cell_type": "code",
   "execution_count": 22,
   "id": "09c04460",
   "metadata": {
    "execution": {
     "iopub.execute_input": "2024-01-23T00:28:00.873051Z",
     "iopub.status.busy": "2024-01-23T00:28:00.872658Z",
     "iopub.status.idle": "2024-01-23T00:40:50.552233Z",
     "shell.execute_reply": "2024-01-23T00:40:50.550263Z"
    },
    "papermill": {
     "duration": 769.702912,
     "end_time": "2024-01-23T00:40:50.563122",
     "exception": false,
     "start_time": "2024-01-23T00:28:00.860210",
     "status": "completed"
    },
    "tags": []
   },
   "outputs": [
    {
     "name": "stdout",
     "output_type": "stream",
     "text": [
      "최적 하이퍼파라미터: {'C': 0.049, 'max_iter': 800, 'random_state': 42, 'solver': 'liblinear'}\n",
      "CPU times: user 12min 43s, sys: 5.82 s, total: 12min 49s\n",
      "Wall time: 12min 49s\n"
     ]
    }
   ],
   "source": [
    "%%time\n",
    "\n",
    "from sklearn.model_selection import GridSearchCV\n",
    "from sklearn.linear_model import LogisticRegression\n",
    "\n",
    "# 로지스틱 회귀 모델 생성\n",
    "logistic_model = LogisticRegression(\n",
    "    C=0.049,\n",
    "    class_weight={0: 1, 1: 1.42},\n",
    "    solver='liblinear',\n",
    "    fit_intercept=True,\n",
    "    penalty='l2')\n",
    "# 하이퍼파라미터 값 목록\n",
    "lr_params = {'C':[0.049, 0.1, 0.2], 'max_iter':[800, 900, 1000], \n",
    "             'solver':['liblinear'], 'random_state':[42]}\n",
    "\n",
    "# 그리드서치 객체 생성\n",
    "gridsearch_logistic_model = GridSearchCV(estimator=logistic_model,\n",
    "                                         param_grid=lr_params,\n",
    "                                         scoring='roc_auc', # 평가지표\n",
    "                                         cv=5)\n",
    "# 그리드서치 수행\n",
    "gridsearch_logistic_model.fit(X_train, y_train)\n",
    "\n",
    "print('최적 하이퍼파라미터:', gridsearch_logistic_model.best_params_)"
   ]
  },
  {
   "cell_type": "code",
   "execution_count": 23,
   "id": "16ca27f5",
   "metadata": {
    "execution": {
     "iopub.execute_input": "2024-01-23T00:40:50.589825Z",
     "iopub.status.busy": "2024-01-23T00:40:50.589384Z",
     "iopub.status.idle": "2024-01-23T00:40:50.599478Z",
     "shell.execute_reply": "2024-01-23T00:40:50.598220Z"
    },
    "papermill": {
     "duration": 0.026608,
     "end_time": "2024-01-23T00:40:50.602415",
     "exception": false,
     "start_time": "2024-01-23T00:40:50.575807",
     "status": "completed"
    },
    "tags": []
   },
   "outputs": [],
   "source": [
    "y_valid_preds = gridsearch_logistic_model.predict_proba(X_valid)[:, 1]"
   ]
  },
  {
   "cell_type": "code",
   "execution_count": 24,
   "id": "5c2d3b2a",
   "metadata": {
    "execution": {
     "iopub.execute_input": "2024-01-23T00:40:50.696824Z",
     "iopub.status.busy": "2024-01-23T00:40:50.696386Z",
     "iopub.status.idle": "2024-01-23T00:40:50.725123Z",
     "shell.execute_reply": "2024-01-23T00:40:50.723735Z"
    },
    "papermill": {
     "duration": 0.113644,
     "end_time": "2024-01-23T00:40:50.727766",
     "exception": false,
     "start_time": "2024-01-23T00:40:50.614122",
     "status": "completed"
    },
    "tags": []
   },
   "outputs": [
    {
     "name": "stdout",
     "output_type": "stream",
     "text": [
      "검증 데이터 ROC AUC : 0.7849\n"
     ]
    }
   ],
   "source": [
    "from sklearn.metrics import roc_auc_score # ROC AUC 점수 계산 함수\n",
    "\n",
    "# 검증 데이터 ROC AUC\n",
    "roc_auc = roc_auc_score(y_valid, y_valid_preds)\n",
    "\n",
    "print(f'검증 데이터 ROC AUC : {roc_auc:.4f}')"
   ]
  },
  {
   "cell_type": "code",
   "execution_count": 25,
   "id": "50c36e38",
   "metadata": {
    "execution": {
     "iopub.execute_input": "2024-01-23T00:40:50.753731Z",
     "iopub.status.busy": "2024-01-23T00:40:50.753275Z",
     "iopub.status.idle": "2024-01-23T00:40:52.603993Z",
     "shell.execute_reply": "2024-01-23T00:40:52.602793Z"
    },
    "papermill": {
     "duration": 1.867813,
     "end_time": "2024-01-23T00:40:52.607024",
     "exception": false,
     "start_time": "2024-01-23T00:40:50.739211",
     "status": "completed"
    },
    "tags": []
   },
   "outputs": [],
   "source": [
    "# 타깃값 1일 확률 예측\n",
    "y_preds = gridsearch_logistic_model.best_estimator_.predict_proba(X_test)[:,1]\n",
    "\n",
    "# 제출 파일 생성\n",
    "submission['target'] = y_preds\n",
    "submission.to_csv('submission.csv')"
   ]
  }
 ],
 "metadata": {
  "kaggle": {
   "accelerator": "none",
   "dataSources": [
    {
     "databundleVersionId": 895292,
     "sourceId": 17000,
     "sourceType": "competition"
    }
   ],
   "dockerImageVersionId": 30635,
   "isGpuEnabled": false,
   "isInternetEnabled": true,
   "language": "python",
   "sourceType": "notebook"
  },
  "kernelspec": {
   "display_name": "Python 3",
   "language": "python",
   "name": "python3"
  },
  "language_info": {
   "codemirror_mode": {
    "name": "ipython",
    "version": 3
   },
   "file_extension": ".py",
   "mimetype": "text/x-python",
   "name": "python",
   "nbconvert_exporter": "python",
   "pygments_lexer": "ipython3",
   "version": "3.10.12"
  },
  "papermill": {
   "default_parameters": {},
   "duration": 798.425543,
   "end_time": "2024-01-23T00:40:53.444864",
   "environment_variables": {},
   "exception": null,
   "input_path": "__notebook__.ipynb",
   "output_path": "__notebook__.ipynb",
   "parameters": {},
   "start_time": "2024-01-23T00:27:35.019321",
   "version": "2.4.0"
  }
 },
 "nbformat": 4,
 "nbformat_minor": 5
}
