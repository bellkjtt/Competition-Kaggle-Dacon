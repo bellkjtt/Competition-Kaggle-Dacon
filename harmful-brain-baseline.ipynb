{
 "cells": [
  {
   "cell_type": "markdown",
   "id": "6c472d2b",
   "metadata": {
    "papermill": {
     "duration": 0.011805,
     "end_time": "2024-02-19T03:57:20.716795",
     "exception": false,
     "start_time": "2024-02-19T03:57:20.704990",
     "status": "completed"
    },
    "tags": []
   },
   "source": [
    "# Some Beautiful codes are from here"
   ]
  },
  {
   "cell_type": "markdown",
   "id": "87cdf42e",
   "metadata": {
    "papermill": {
     "duration": 0.011518,
     "end_time": "2024-02-19T03:57:20.739880",
     "exception": false,
     "start_time": "2024-02-19T03:57:20.728362",
     "status": "completed"
    },
    "tags": []
   },
   "source": [
    "https://www.kaggle.com/competitions/hms-harmful-brain-activity-classification/discussion/467021\n",
    "\n",
    "https://www.kaggle.com/code/sikaro/catboost-starter-lb-0-67/edit"
   ]
  },
  {
   "cell_type": "markdown",
   "id": "99fbb64f",
   "metadata": {
    "papermill": {
     "duration": 0.010909,
     "end_time": "2024-02-19T03:57:20.761881",
     "exception": false,
     "start_time": "2024-02-19T03:57:20.750972",
     "status": "completed"
    },
    "tags": []
   },
   "source": [
    "I really appreciate for every work"
   ]
  },
  {
   "cell_type": "code",
   "execution_count": 1,
   "id": "b1177648",
   "metadata": {
    "execution": {
     "iopub.execute_input": "2024-02-19T03:57:20.786348Z",
     "iopub.status.busy": "2024-02-19T03:57:20.786009Z",
     "iopub.status.idle": "2024-02-19T03:57:20.796511Z",
     "shell.execute_reply": "2024-02-19T03:57:20.795771Z"
    },
    "papermill": {
     "duration": 0.025549,
     "end_time": "2024-02-19T03:57:20.798503",
     "exception": false,
     "start_time": "2024-02-19T03:57:20.772954",
     "status": "completed"
    },
    "tags": []
   },
   "outputs": [],
   "source": [
    "import os, gc\n",
    "os.environ[\"CUDA_VISIBLE_DEVICES\"]=\"0,1\""
   ]
  },
  {
   "cell_type": "code",
   "execution_count": 2,
   "id": "54a43ec1",
   "metadata": {
    "_cell_guid": "b1076dfc-b9ad-4769-8c92-a6c4dae69d19",
    "_uuid": "8f2839f25d086af736a60e9eeb907d3b93b6e0e5",
    "execution": {
     "iopub.execute_input": "2024-02-19T03:57:20.821799Z",
     "iopub.status.busy": "2024-02-19T03:57:20.821513Z",
     "iopub.status.idle": "2024-02-19T03:57:23.244777Z",
     "shell.execute_reply": "2024-02-19T03:57:23.243804Z"
    },
    "papermill": {
     "duration": 2.437358,
     "end_time": "2024-02-19T03:57:23.246973",
     "exception": false,
     "start_time": "2024-02-19T03:57:20.809615",
     "status": "completed"
    },
    "tags": []
   },
   "outputs": [
    {
     "data": {
      "text/html": [
       "<div>\n",
       "<style scoped>\n",
       "    .dataframe tbody tr th:only-of-type {\n",
       "        vertical-align: middle;\n",
       "    }\n",
       "\n",
       "    .dataframe tbody tr th {\n",
       "        vertical-align: top;\n",
       "    }\n",
       "\n",
       "    .dataframe thead th {\n",
       "        text-align: right;\n",
       "    }\n",
       "</style>\n",
       "<table border=\"1\" class=\"dataframe\">\n",
       "  <thead>\n",
       "    <tr style=\"text-align: right;\">\n",
       "      <th></th>\n",
       "      <th>eeg_id</th>\n",
       "      <th>eeg_sub_id</th>\n",
       "      <th>eeg_label_offset_seconds</th>\n",
       "      <th>spectrogram_id</th>\n",
       "      <th>spectrogram_sub_id</th>\n",
       "      <th>spectrogram_label_offset_seconds</th>\n",
       "      <th>label_id</th>\n",
       "      <th>patient_id</th>\n",
       "      <th>expert_consensus</th>\n",
       "      <th>seizure_vote</th>\n",
       "      <th>lpd_vote</th>\n",
       "      <th>gpd_vote</th>\n",
       "      <th>lrda_vote</th>\n",
       "      <th>grda_vote</th>\n",
       "      <th>other_vote</th>\n",
       "    </tr>\n",
       "  </thead>\n",
       "  <tbody>\n",
       "    <tr>\n",
       "      <th>0</th>\n",
       "      <td>1628180742</td>\n",
       "      <td>0</td>\n",
       "      <td>0.0</td>\n",
       "      <td>353733</td>\n",
       "      <td>0</td>\n",
       "      <td>0.0</td>\n",
       "      <td>127492639</td>\n",
       "      <td>42516</td>\n",
       "      <td>Seizure</td>\n",
       "      <td>3</td>\n",
       "      <td>0</td>\n",
       "      <td>0</td>\n",
       "      <td>0</td>\n",
       "      <td>0</td>\n",
       "      <td>0</td>\n",
       "    </tr>\n",
       "    <tr>\n",
       "      <th>1</th>\n",
       "      <td>1628180742</td>\n",
       "      <td>1</td>\n",
       "      <td>6.0</td>\n",
       "      <td>353733</td>\n",
       "      <td>1</td>\n",
       "      <td>6.0</td>\n",
       "      <td>3887563113</td>\n",
       "      <td>42516</td>\n",
       "      <td>Seizure</td>\n",
       "      <td>3</td>\n",
       "      <td>0</td>\n",
       "      <td>0</td>\n",
       "      <td>0</td>\n",
       "      <td>0</td>\n",
       "      <td>0</td>\n",
       "    </tr>\n",
       "    <tr>\n",
       "      <th>2</th>\n",
       "      <td>1628180742</td>\n",
       "      <td>2</td>\n",
       "      <td>8.0</td>\n",
       "      <td>353733</td>\n",
       "      <td>2</td>\n",
       "      <td>8.0</td>\n",
       "      <td>1142670488</td>\n",
       "      <td>42516</td>\n",
       "      <td>Seizure</td>\n",
       "      <td>3</td>\n",
       "      <td>0</td>\n",
       "      <td>0</td>\n",
       "      <td>0</td>\n",
       "      <td>0</td>\n",
       "      <td>0</td>\n",
       "    </tr>\n",
       "    <tr>\n",
       "      <th>3</th>\n",
       "      <td>1628180742</td>\n",
       "      <td>3</td>\n",
       "      <td>18.0</td>\n",
       "      <td>353733</td>\n",
       "      <td>3</td>\n",
       "      <td>18.0</td>\n",
       "      <td>2718991173</td>\n",
       "      <td>42516</td>\n",
       "      <td>Seizure</td>\n",
       "      <td>3</td>\n",
       "      <td>0</td>\n",
       "      <td>0</td>\n",
       "      <td>0</td>\n",
       "      <td>0</td>\n",
       "      <td>0</td>\n",
       "    </tr>\n",
       "    <tr>\n",
       "      <th>4</th>\n",
       "      <td>1628180742</td>\n",
       "      <td>4</td>\n",
       "      <td>24.0</td>\n",
       "      <td>353733</td>\n",
       "      <td>4</td>\n",
       "      <td>24.0</td>\n",
       "      <td>3080632009</td>\n",
       "      <td>42516</td>\n",
       "      <td>Seizure</td>\n",
       "      <td>3</td>\n",
       "      <td>0</td>\n",
       "      <td>0</td>\n",
       "      <td>0</td>\n",
       "      <td>0</td>\n",
       "      <td>0</td>\n",
       "    </tr>\n",
       "  </tbody>\n",
       "</table>\n",
       "</div>"
      ],
      "text/plain": [
       "       eeg_id  eeg_sub_id  eeg_label_offset_seconds  spectrogram_id  \\\n",
       "0  1628180742           0                       0.0          353733   \n",
       "1  1628180742           1                       6.0          353733   \n",
       "2  1628180742           2                       8.0          353733   \n",
       "3  1628180742           3                      18.0          353733   \n",
       "4  1628180742           4                      24.0          353733   \n",
       "\n",
       "   spectrogram_sub_id  spectrogram_label_offset_seconds    label_id  \\\n",
       "0                   0                               0.0   127492639   \n",
       "1                   1                               6.0  3887563113   \n",
       "2                   2                               8.0  1142670488   \n",
       "3                   3                              18.0  2718991173   \n",
       "4                   4                              24.0  3080632009   \n",
       "\n",
       "   patient_id expert_consensus  seizure_vote  lpd_vote  gpd_vote  lrda_vote  \\\n",
       "0       42516          Seizure             3         0         0          0   \n",
       "1       42516          Seizure             3         0         0          0   \n",
       "2       42516          Seizure             3         0         0          0   \n",
       "3       42516          Seizure             3         0         0          0   \n",
       "4       42516          Seizure             3         0         0          0   \n",
       "\n",
       "   grda_vote  other_vote  \n",
       "0          0           0  \n",
       "1          0           0  \n",
       "2          0           0  \n",
       "3          0           0  \n",
       "4          0           0  "
      ]
     },
     "execution_count": 2,
     "metadata": {},
     "output_type": "execute_result"
    }
   ],
   "source": [
    "import numpy as np # linear algebra\n",
    "import pandas as pd # data processing, CSV file I/O (e.g. pd.read_csv)\n",
    "import matplotlib.pyplot as plt\n",
    "import seaborn as sns\n",
    "import warnings\n",
    "\n",
    "warnings.filterwarnings(action='ignore') # 경고 메시지 생략\n",
    "\n",
    "df=pd.read_csv('/kaggle/input/hms-harmful-brain-activity-classification/train.csv')\n",
    "test=pd.read_csv('/kaggle/input/hms-harmful-brain-activity-classification/test.csv')\n",
    "submission=pd.read_csv('/kaggle/input/hms-harmful-brain-activity-classification/sample_submission.csv')\n",
    "\n",
    "TARGETS = df.columns[-6:]\n",
    "df.head()"
   ]
  },
  {
   "cell_type": "markdown",
   "id": "c6e3cbe0",
   "metadata": {
    "papermill": {
     "duration": 0.01173,
     "end_time": "2024-02-19T03:57:23.270317",
     "exception": false,
     "start_time": "2024-02-19T03:57:23.258587",
     "status": "completed"
    },
    "tags": []
   },
   "source": [
    "## Non-overlapping EEG ID TRAIN"
   ]
  },
  {
   "cell_type": "code",
   "execution_count": 3,
   "id": "d9c30600",
   "metadata": {
    "execution": {
     "iopub.execute_input": "2024-02-19T03:57:23.295165Z",
     "iopub.status.busy": "2024-02-19T03:57:23.294503Z",
     "iopub.status.idle": "2024-02-19T03:57:23.345451Z",
     "shell.execute_reply": "2024-02-19T03:57:23.344476Z"
    },
    "papermill": {
     "duration": 0.065809,
     "end_time": "2024-02-19T03:57:23.347775",
     "exception": false,
     "start_time": "2024-02-19T03:57:23.281966",
     "status": "completed"
    },
    "tags": []
   },
   "outputs": [
    {
     "name": "stdout",
     "output_type": "stream",
     "text": [
      "            patient_id\n",
      "eeg_id                \n",
      "568657           20654\n",
      "582999           20230\n",
      "642382            5955\n",
      "751790           38549\n",
      "778705           40955\n",
      "...                ...\n",
      "4293354003       16610\n",
      "4293843368       15065\n",
      "4294455489          56\n",
      "4294858825        4312\n",
      "4294958358       25986\n",
      "\n",
      "[17089 rows x 1 columns]\n"
     ]
    }
   ],
   "source": [
    "train = df.groupby('eeg_id')[['spectrogram_id','spectrogram_label_offset_seconds']].agg(\n",
    "    {'spectrogram_id':'first','spectrogram_label_offset_seconds':'min'})\n",
    "\n",
    "train.columns = ['spec_id','min']\n",
    "\n",
    "tmp = df.groupby('eeg_id')[['spectrogram_id','spectrogram_label_offset_seconds']].agg(\n",
    "    {'spectrogram_label_offset_seconds':'max'})\n",
    "train['max'] = tmp\n",
    "\n",
    "tmp = df.groupby('eeg_id')[['patient_id']].agg('first')\n",
    "train['patient_id'] = tmp\n",
    "print(tmp)"
   ]
  },
  {
   "cell_type": "code",
   "execution_count": 4,
   "id": "a415be8e",
   "metadata": {
    "execution": {
     "iopub.execute_input": "2024-02-19T03:57:23.373412Z",
     "iopub.status.busy": "2024-02-19T03:57:23.373136Z",
     "iopub.status.idle": "2024-02-19T03:57:23.381208Z",
     "shell.execute_reply": "2024-02-19T03:57:23.380372Z"
    },
    "papermill": {
     "duration": 0.022844,
     "end_time": "2024-02-19T03:57:23.383322",
     "exception": false,
     "start_time": "2024-02-19T03:57:23.360478",
     "status": "completed"
    },
    "tags": []
   },
   "outputs": [
    {
     "name": "stdout",
     "output_type": "stream",
     "text": [
      "               spec_id     min     max  patient_id\n",
      "eeg_id                                            \n",
      "568657       789577333     0.0    16.0       20654\n",
      "582999      1552638400     0.0    38.0       20230\n",
      "642382        14960202  1008.0  1032.0        5955\n",
      "751790       618728447   908.0   908.0       38549\n",
      "778705        52296320     0.0     0.0       40955\n",
      "...                ...     ...     ...         ...\n",
      "4293354003  1188113564     0.0     0.0       16610\n",
      "4293843368  1549502620     0.0     0.0       15065\n",
      "4294455489  2105480289     0.0     0.0          56\n",
      "4294858825   657299228     0.0    12.0        4312\n",
      "4294958358   260520016  2508.0  2508.0       25986\n",
      "\n",
      "[17089 rows x 4 columns]\n"
     ]
    }
   ],
   "source": [
    "print(train)"
   ]
  },
  {
   "cell_type": "code",
   "execution_count": 5,
   "id": "e9706c79",
   "metadata": {
    "execution": {
     "iopub.execute_input": "2024-02-19T03:57:23.408615Z",
     "iopub.status.busy": "2024-02-19T03:57:23.407936Z",
     "iopub.status.idle": "2024-02-19T03:57:23.462943Z",
     "shell.execute_reply": "2024-02-19T03:57:23.462053Z"
    },
    "papermill": {
     "duration": 0.069628,
     "end_time": "2024-02-19T03:57:23.465122",
     "exception": false,
     "start_time": "2024-02-19T03:57:23.395494",
     "status": "completed"
    },
    "tags": []
   },
   "outputs": [
    {
     "name": "stdout",
     "output_type": "stream",
     "text": [
      "Train non-overlapp eeg_id shape: (17089, 12)\n"
     ]
    },
    {
     "data": {
      "text/html": [
       "<div>\n",
       "<style scoped>\n",
       "    .dataframe tbody tr th:only-of-type {\n",
       "        vertical-align: middle;\n",
       "    }\n",
       "\n",
       "    .dataframe tbody tr th {\n",
       "        vertical-align: top;\n",
       "    }\n",
       "\n",
       "    .dataframe thead th {\n",
       "        text-align: right;\n",
       "    }\n",
       "</style>\n",
       "<table border=\"1\" class=\"dataframe\">\n",
       "  <thead>\n",
       "    <tr style=\"text-align: right;\">\n",
       "      <th></th>\n",
       "      <th>eeg_id</th>\n",
       "      <th>spec_id</th>\n",
       "      <th>min</th>\n",
       "      <th>max</th>\n",
       "      <th>patient_id</th>\n",
       "      <th>seizure_vote</th>\n",
       "      <th>lpd_vote</th>\n",
       "      <th>gpd_vote</th>\n",
       "      <th>lrda_vote</th>\n",
       "      <th>grda_vote</th>\n",
       "      <th>other_vote</th>\n",
       "      <th>target</th>\n",
       "    </tr>\n",
       "  </thead>\n",
       "  <tbody>\n",
       "    <tr>\n",
       "      <th>0</th>\n",
       "      <td>568657</td>\n",
       "      <td>789577333</td>\n",
       "      <td>0.0</td>\n",
       "      <td>16.0</td>\n",
       "      <td>20654</td>\n",
       "      <td>0.0</td>\n",
       "      <td>0.000000</td>\n",
       "      <td>0.25</td>\n",
       "      <td>0.000000</td>\n",
       "      <td>0.166667</td>\n",
       "      <td>0.583333</td>\n",
       "      <td>Other</td>\n",
       "    </tr>\n",
       "    <tr>\n",
       "      <th>1</th>\n",
       "      <td>582999</td>\n",
       "      <td>1552638400</td>\n",
       "      <td>0.0</td>\n",
       "      <td>38.0</td>\n",
       "      <td>20230</td>\n",
       "      <td>0.0</td>\n",
       "      <td>0.857143</td>\n",
       "      <td>0.00</td>\n",
       "      <td>0.071429</td>\n",
       "      <td>0.000000</td>\n",
       "      <td>0.071429</td>\n",
       "      <td>LPD</td>\n",
       "    </tr>\n",
       "    <tr>\n",
       "      <th>2</th>\n",
       "      <td>642382</td>\n",
       "      <td>14960202</td>\n",
       "      <td>1008.0</td>\n",
       "      <td>1032.0</td>\n",
       "      <td>5955</td>\n",
       "      <td>0.0</td>\n",
       "      <td>0.000000</td>\n",
       "      <td>0.00</td>\n",
       "      <td>0.000000</td>\n",
       "      <td>0.000000</td>\n",
       "      <td>1.000000</td>\n",
       "      <td>Other</td>\n",
       "    </tr>\n",
       "    <tr>\n",
       "      <th>3</th>\n",
       "      <td>751790</td>\n",
       "      <td>618728447</td>\n",
       "      <td>908.0</td>\n",
       "      <td>908.0</td>\n",
       "      <td>38549</td>\n",
       "      <td>0.0</td>\n",
       "      <td>0.000000</td>\n",
       "      <td>1.00</td>\n",
       "      <td>0.000000</td>\n",
       "      <td>0.000000</td>\n",
       "      <td>0.000000</td>\n",
       "      <td>GPD</td>\n",
       "    </tr>\n",
       "    <tr>\n",
       "      <th>4</th>\n",
       "      <td>778705</td>\n",
       "      <td>52296320</td>\n",
       "      <td>0.0</td>\n",
       "      <td>0.0</td>\n",
       "      <td>40955</td>\n",
       "      <td>0.0</td>\n",
       "      <td>0.000000</td>\n",
       "      <td>0.00</td>\n",
       "      <td>0.000000</td>\n",
       "      <td>0.000000</td>\n",
       "      <td>1.000000</td>\n",
       "      <td>Other</td>\n",
       "    </tr>\n",
       "  </tbody>\n",
       "</table>\n",
       "</div>"
      ],
      "text/plain": [
       "   eeg_id     spec_id     min     max  patient_id  seizure_vote  lpd_vote  \\\n",
       "0  568657   789577333     0.0    16.0       20654           0.0  0.000000   \n",
       "1  582999  1552638400     0.0    38.0       20230           0.0  0.857143   \n",
       "2  642382    14960202  1008.0  1032.0        5955           0.0  0.000000   \n",
       "3  751790   618728447   908.0   908.0       38549           0.0  0.000000   \n",
       "4  778705    52296320     0.0     0.0       40955           0.0  0.000000   \n",
       "\n",
       "   gpd_vote  lrda_vote  grda_vote  other_vote target  \n",
       "0      0.25   0.000000   0.166667    0.583333  Other  \n",
       "1      0.00   0.071429   0.000000    0.071429    LPD  \n",
       "2      0.00   0.000000   0.000000    1.000000  Other  \n",
       "3      1.00   0.000000   0.000000    0.000000    GPD  \n",
       "4      0.00   0.000000   0.000000    1.000000  Other  "
      ]
     },
     "execution_count": 5,
     "metadata": {},
     "output_type": "execute_result"
    }
   ],
   "source": [
    "tmp = df.groupby('eeg_id')[TARGETS].agg('sum')\n",
    "for t in TARGETS:\n",
    "    train[t] = tmp[t].values\n",
    "    \n",
    "#print(tmp)\n",
    "#print(train)\n",
    "    \n",
    "y_data = train[TARGETS].values\n",
    "y_data = y_data / y_data.sum(axis=1,keepdims=True)\n",
    "train[TARGETS] = y_data\n",
    "\n",
    "\n",
    "tmp = df.groupby('eeg_id')[['expert_consensus']].agg('first')\n",
    "train['target'] = tmp\n",
    "\n",
    "train = train.reset_index()\n",
    "print('Train non-overlapp eeg_id shape:', train.shape )\n",
    "train.head()"
   ]
  },
  {
   "cell_type": "code",
   "execution_count": 6,
   "id": "c5f23797",
   "metadata": {
    "execution": {
     "iopub.execute_input": "2024-02-19T03:57:23.492919Z",
     "iopub.status.busy": "2024-02-19T03:57:23.492194Z",
     "iopub.status.idle": "2024-02-19T03:57:23.514128Z",
     "shell.execute_reply": "2024-02-19T03:57:23.513243Z"
    },
    "papermill": {
     "duration": 0.036897,
     "end_time": "2024-02-19T03:57:23.516233",
     "exception": false,
     "start_time": "2024-02-19T03:57:23.479336",
     "status": "completed"
    },
    "tags": []
   },
   "outputs": [
    {
     "data": {
      "text/html": [
       "<div>\n",
       "<style scoped>\n",
       "    .dataframe tbody tr th:only-of-type {\n",
       "        vertical-align: middle;\n",
       "    }\n",
       "\n",
       "    .dataframe tbody tr th {\n",
       "        vertical-align: top;\n",
       "    }\n",
       "\n",
       "    .dataframe thead th {\n",
       "        text-align: right;\n",
       "    }\n",
       "</style>\n",
       "<table border=\"1\" class=\"dataframe\">\n",
       "  <thead>\n",
       "    <tr style=\"text-align: right;\">\n",
       "      <th></th>\n",
       "      <th>eeg_id</th>\n",
       "      <th>spec_id</th>\n",
       "      <th>min</th>\n",
       "      <th>max</th>\n",
       "      <th>patient_id</th>\n",
       "      <th>seizure_vote</th>\n",
       "      <th>lpd_vote</th>\n",
       "      <th>gpd_vote</th>\n",
       "      <th>lrda_vote</th>\n",
       "      <th>grda_vote</th>\n",
       "      <th>other_vote</th>\n",
       "      <th>target</th>\n",
       "    </tr>\n",
       "  </thead>\n",
       "  <tbody>\n",
       "    <tr>\n",
       "      <th>0</th>\n",
       "      <td>568657</td>\n",
       "      <td>789577333</td>\n",
       "      <td>0.0</td>\n",
       "      <td>16.0</td>\n",
       "      <td>20654</td>\n",
       "      <td>0.0</td>\n",
       "      <td>0.000000</td>\n",
       "      <td>0.25</td>\n",
       "      <td>0.000000</td>\n",
       "      <td>0.166667</td>\n",
       "      <td>0.583333</td>\n",
       "      <td>Other</td>\n",
       "    </tr>\n",
       "    <tr>\n",
       "      <th>1</th>\n",
       "      <td>582999</td>\n",
       "      <td>1552638400</td>\n",
       "      <td>0.0</td>\n",
       "      <td>38.0</td>\n",
       "      <td>20230</td>\n",
       "      <td>0.0</td>\n",
       "      <td>0.857143</td>\n",
       "      <td>0.00</td>\n",
       "      <td>0.071429</td>\n",
       "      <td>0.000000</td>\n",
       "      <td>0.071429</td>\n",
       "      <td>LPD</td>\n",
       "    </tr>\n",
       "    <tr>\n",
       "      <th>2</th>\n",
       "      <td>642382</td>\n",
       "      <td>14960202</td>\n",
       "      <td>1008.0</td>\n",
       "      <td>1032.0</td>\n",
       "      <td>5955</td>\n",
       "      <td>0.0</td>\n",
       "      <td>0.000000</td>\n",
       "      <td>0.00</td>\n",
       "      <td>0.000000</td>\n",
       "      <td>0.000000</td>\n",
       "      <td>1.000000</td>\n",
       "      <td>Other</td>\n",
       "    </tr>\n",
       "    <tr>\n",
       "      <th>3</th>\n",
       "      <td>751790</td>\n",
       "      <td>618728447</td>\n",
       "      <td>908.0</td>\n",
       "      <td>908.0</td>\n",
       "      <td>38549</td>\n",
       "      <td>0.0</td>\n",
       "      <td>0.000000</td>\n",
       "      <td>1.00</td>\n",
       "      <td>0.000000</td>\n",
       "      <td>0.000000</td>\n",
       "      <td>0.000000</td>\n",
       "      <td>GPD</td>\n",
       "    </tr>\n",
       "    <tr>\n",
       "      <th>4</th>\n",
       "      <td>778705</td>\n",
       "      <td>52296320</td>\n",
       "      <td>0.0</td>\n",
       "      <td>0.0</td>\n",
       "      <td>40955</td>\n",
       "      <td>0.0</td>\n",
       "      <td>0.000000</td>\n",
       "      <td>0.00</td>\n",
       "      <td>0.000000</td>\n",
       "      <td>0.000000</td>\n",
       "      <td>1.000000</td>\n",
       "      <td>Other</td>\n",
       "    </tr>\n",
       "    <tr>\n",
       "      <th>...</th>\n",
       "      <td>...</td>\n",
       "      <td>...</td>\n",
       "      <td>...</td>\n",
       "      <td>...</td>\n",
       "      <td>...</td>\n",
       "      <td>...</td>\n",
       "      <td>...</td>\n",
       "      <td>...</td>\n",
       "      <td>...</td>\n",
       "      <td>...</td>\n",
       "      <td>...</td>\n",
       "      <td>...</td>\n",
       "    </tr>\n",
       "    <tr>\n",
       "      <th>17084</th>\n",
       "      <td>4293354003</td>\n",
       "      <td>1188113564</td>\n",
       "      <td>0.0</td>\n",
       "      <td>0.0</td>\n",
       "      <td>16610</td>\n",
       "      <td>0.0</td>\n",
       "      <td>0.000000</td>\n",
       "      <td>0.00</td>\n",
       "      <td>0.000000</td>\n",
       "      <td>0.500000</td>\n",
       "      <td>0.500000</td>\n",
       "      <td>GRDA</td>\n",
       "    </tr>\n",
       "    <tr>\n",
       "      <th>17085</th>\n",
       "      <td>4293843368</td>\n",
       "      <td>1549502620</td>\n",
       "      <td>0.0</td>\n",
       "      <td>0.0</td>\n",
       "      <td>15065</td>\n",
       "      <td>0.0</td>\n",
       "      <td>0.000000</td>\n",
       "      <td>0.00</td>\n",
       "      <td>0.000000</td>\n",
       "      <td>0.500000</td>\n",
       "      <td>0.500000</td>\n",
       "      <td>GRDA</td>\n",
       "    </tr>\n",
       "    <tr>\n",
       "      <th>17086</th>\n",
       "      <td>4294455489</td>\n",
       "      <td>2105480289</td>\n",
       "      <td>0.0</td>\n",
       "      <td>0.0</td>\n",
       "      <td>56</td>\n",
       "      <td>0.0</td>\n",
       "      <td>0.000000</td>\n",
       "      <td>0.00</td>\n",
       "      <td>0.000000</td>\n",
       "      <td>0.000000</td>\n",
       "      <td>1.000000</td>\n",
       "      <td>Other</td>\n",
       "    </tr>\n",
       "    <tr>\n",
       "      <th>17087</th>\n",
       "      <td>4294858825</td>\n",
       "      <td>657299228</td>\n",
       "      <td>0.0</td>\n",
       "      <td>12.0</td>\n",
       "      <td>4312</td>\n",
       "      <td>0.0</td>\n",
       "      <td>0.000000</td>\n",
       "      <td>0.00</td>\n",
       "      <td>0.000000</td>\n",
       "      <td>0.066667</td>\n",
       "      <td>0.933333</td>\n",
       "      <td>Other</td>\n",
       "    </tr>\n",
       "    <tr>\n",
       "      <th>17088</th>\n",
       "      <td>4294958358</td>\n",
       "      <td>260520016</td>\n",
       "      <td>2508.0</td>\n",
       "      <td>2508.0</td>\n",
       "      <td>25986</td>\n",
       "      <td>0.0</td>\n",
       "      <td>0.000000</td>\n",
       "      <td>0.00</td>\n",
       "      <td>0.000000</td>\n",
       "      <td>0.000000</td>\n",
       "      <td>1.000000</td>\n",
       "      <td>Other</td>\n",
       "    </tr>\n",
       "  </tbody>\n",
       "</table>\n",
       "<p>17089 rows × 12 columns</p>\n",
       "</div>"
      ],
      "text/plain": [
       "           eeg_id     spec_id     min     max  patient_id  seizure_vote  \\\n",
       "0          568657   789577333     0.0    16.0       20654           0.0   \n",
       "1          582999  1552638400     0.0    38.0       20230           0.0   \n",
       "2          642382    14960202  1008.0  1032.0        5955           0.0   \n",
       "3          751790   618728447   908.0   908.0       38549           0.0   \n",
       "4          778705    52296320     0.0     0.0       40955           0.0   \n",
       "...           ...         ...     ...     ...         ...           ...   \n",
       "17084  4293354003  1188113564     0.0     0.0       16610           0.0   \n",
       "17085  4293843368  1549502620     0.0     0.0       15065           0.0   \n",
       "17086  4294455489  2105480289     0.0     0.0          56           0.0   \n",
       "17087  4294858825   657299228     0.0    12.0        4312           0.0   \n",
       "17088  4294958358   260520016  2508.0  2508.0       25986           0.0   \n",
       "\n",
       "       lpd_vote  gpd_vote  lrda_vote  grda_vote  other_vote target  \n",
       "0      0.000000      0.25   0.000000   0.166667    0.583333  Other  \n",
       "1      0.857143      0.00   0.071429   0.000000    0.071429    LPD  \n",
       "2      0.000000      0.00   0.000000   0.000000    1.000000  Other  \n",
       "3      0.000000      1.00   0.000000   0.000000    0.000000    GPD  \n",
       "4      0.000000      0.00   0.000000   0.000000    1.000000  Other  \n",
       "...         ...       ...        ...        ...         ...    ...  \n",
       "17084  0.000000      0.00   0.000000   0.500000    0.500000   GRDA  \n",
       "17085  0.000000      0.00   0.000000   0.500000    0.500000   GRDA  \n",
       "17086  0.000000      0.00   0.000000   0.000000    1.000000  Other  \n",
       "17087  0.000000      0.00   0.000000   0.066667    0.933333  Other  \n",
       "17088  0.000000      0.00   0.000000   0.000000    1.000000  Other  \n",
       "\n",
       "[17089 rows x 12 columns]"
      ]
     },
     "execution_count": 6,
     "metadata": {},
     "output_type": "execute_result"
    }
   ],
   "source": [
    "t_copy= train.copy()\n",
    "t_copy"
   ]
  },
  {
   "cell_type": "code",
   "execution_count": 7,
   "id": "63840ae8",
   "metadata": {
    "execution": {
     "iopub.execute_input": "2024-02-19T03:57:23.542973Z",
     "iopub.status.busy": "2024-02-19T03:57:23.542707Z",
     "iopub.status.idle": "2024-02-19T03:57:23.585438Z",
     "shell.execute_reply": "2024-02-19T03:57:23.584507Z"
    },
    "papermill": {
     "duration": 0.058293,
     "end_time": "2024-02-19T03:57:23.587416",
     "exception": false,
     "start_time": "2024-02-19T03:57:23.529123",
     "status": "completed"
    },
    "tags": []
   },
   "outputs": [
    {
     "data": {
      "text/html": [
       "<div>\n",
       "<style scoped>\n",
       "    .dataframe tbody tr th:only-of-type {\n",
       "        vertical-align: middle;\n",
       "    }\n",
       "\n",
       "    .dataframe tbody tr th {\n",
       "        vertical-align: top;\n",
       "    }\n",
       "\n",
       "    .dataframe thead th {\n",
       "        text-align: right;\n",
       "    }\n",
       "</style>\n",
       "<table border=\"1\" class=\"dataframe\">\n",
       "  <thead>\n",
       "    <tr style=\"text-align: right;\">\n",
       "      <th></th>\n",
       "      <th>eeg_id</th>\n",
       "      <th>spec_id</th>\n",
       "      <th>min</th>\n",
       "      <th>max</th>\n",
       "      <th>patient_id</th>\n",
       "      <th>seizure_vote</th>\n",
       "      <th>lpd_vote</th>\n",
       "      <th>gpd_vote</th>\n",
       "      <th>lrda_vote</th>\n",
       "      <th>grda_vote</th>\n",
       "      <th>other_vote</th>\n",
       "    </tr>\n",
       "  </thead>\n",
       "  <tbody>\n",
       "    <tr>\n",
       "      <th>count</th>\n",
       "      <td>1.708900e+04</td>\n",
       "      <td>1.708900e+04</td>\n",
       "      <td>17089.000000</td>\n",
       "      <td>17089.000000</td>\n",
       "      <td>17089.000000</td>\n",
       "      <td>17089.000000</td>\n",
       "      <td>17089.000000</td>\n",
       "      <td>17089.000000</td>\n",
       "      <td>17089.000000</td>\n",
       "      <td>17089.000000</td>\n",
       "      <td>17089.000000</td>\n",
       "    </tr>\n",
       "    <tr>\n",
       "      <th>mean</th>\n",
       "      <td>2.135226e+09</td>\n",
       "      <td>1.080640e+09</td>\n",
       "      <td>401.650711</td>\n",
       "      <td>431.761191</td>\n",
       "      <td>32839.981977</td>\n",
       "      <td>0.152810</td>\n",
       "      <td>0.142456</td>\n",
       "      <td>0.104062</td>\n",
       "      <td>0.065407</td>\n",
       "      <td>0.114851</td>\n",
       "      <td>0.420413</td>\n",
       "    </tr>\n",
       "    <tr>\n",
       "      <th>std</th>\n",
       "      <td>1.235712e+09</td>\n",
       "      <td>6.251739e+08</td>\n",
       "      <td>1226.839779</td>\n",
       "      <td>1232.863269</td>\n",
       "      <td>18351.751174</td>\n",
       "      <td>0.331563</td>\n",
       "      <td>0.295541</td>\n",
       "      <td>0.258825</td>\n",
       "      <td>0.187005</td>\n",
       "      <td>0.271425</td>\n",
       "      <td>0.418454</td>\n",
       "    </tr>\n",
       "    <tr>\n",
       "      <th>min</th>\n",
       "      <td>5.686570e+05</td>\n",
       "      <td>3.537330e+05</td>\n",
       "      <td>0.000000</td>\n",
       "      <td>0.000000</td>\n",
       "      <td>56.000000</td>\n",
       "      <td>0.000000</td>\n",
       "      <td>0.000000</td>\n",
       "      <td>0.000000</td>\n",
       "      <td>0.000000</td>\n",
       "      <td>0.000000</td>\n",
       "      <td>0.000000</td>\n",
       "    </tr>\n",
       "    <tr>\n",
       "      <th>25%</th>\n",
       "      <td>1.062096e+09</td>\n",
       "      <td>5.396648e+08</td>\n",
       "      <td>0.000000</td>\n",
       "      <td>4.000000</td>\n",
       "      <td>17408.000000</td>\n",
       "      <td>0.000000</td>\n",
       "      <td>0.000000</td>\n",
       "      <td>0.000000</td>\n",
       "      <td>0.000000</td>\n",
       "      <td>0.000000</td>\n",
       "      <td>0.000000</td>\n",
       "    </tr>\n",
       "    <tr>\n",
       "      <th>50%</th>\n",
       "      <td>2.123560e+09</td>\n",
       "      <td>1.073264e+09</td>\n",
       "      <td>0.000000</td>\n",
       "      <td>40.000000</td>\n",
       "      <td>32068.000000</td>\n",
       "      <td>0.000000</td>\n",
       "      <td>0.000000</td>\n",
       "      <td>0.000000</td>\n",
       "      <td>0.000000</td>\n",
       "      <td>0.000000</td>\n",
       "      <td>0.333333</td>\n",
       "    </tr>\n",
       "    <tr>\n",
       "      <th>75%</th>\n",
       "      <td>3.208261e+09</td>\n",
       "      <td>1.641428e+09</td>\n",
       "      <td>308.000000</td>\n",
       "      <td>346.000000</td>\n",
       "      <td>48272.000000</td>\n",
       "      <td>0.000000</td>\n",
       "      <td>0.068966</td>\n",
       "      <td>0.000000</td>\n",
       "      <td>0.000000</td>\n",
       "      <td>0.000000</td>\n",
       "      <td>0.941176</td>\n",
       "    </tr>\n",
       "    <tr>\n",
       "      <th>max</th>\n",
       "      <td>4.294958e+09</td>\n",
       "      <td>2.147388e+09</td>\n",
       "      <td>17556.000000</td>\n",
       "      <td>17632.000000</td>\n",
       "      <td>65494.000000</td>\n",
       "      <td>1.000000</td>\n",
       "      <td>1.000000</td>\n",
       "      <td>1.000000</td>\n",
       "      <td>1.000000</td>\n",
       "      <td>1.000000</td>\n",
       "      <td>1.000000</td>\n",
       "    </tr>\n",
       "  </tbody>\n",
       "</table>\n",
       "</div>"
      ],
      "text/plain": [
       "             eeg_id       spec_id           min           max    patient_id  \\\n",
       "count  1.708900e+04  1.708900e+04  17089.000000  17089.000000  17089.000000   \n",
       "mean   2.135226e+09  1.080640e+09    401.650711    431.761191  32839.981977   \n",
       "std    1.235712e+09  6.251739e+08   1226.839779   1232.863269  18351.751174   \n",
       "min    5.686570e+05  3.537330e+05      0.000000      0.000000     56.000000   \n",
       "25%    1.062096e+09  5.396648e+08      0.000000      4.000000  17408.000000   \n",
       "50%    2.123560e+09  1.073264e+09      0.000000     40.000000  32068.000000   \n",
       "75%    3.208261e+09  1.641428e+09    308.000000    346.000000  48272.000000   \n",
       "max    4.294958e+09  2.147388e+09  17556.000000  17632.000000  65494.000000   \n",
       "\n",
       "       seizure_vote      lpd_vote      gpd_vote     lrda_vote     grda_vote  \\\n",
       "count  17089.000000  17089.000000  17089.000000  17089.000000  17089.000000   \n",
       "mean       0.152810      0.142456      0.104062      0.065407      0.114851   \n",
       "std        0.331563      0.295541      0.258825      0.187005      0.271425   \n",
       "min        0.000000      0.000000      0.000000      0.000000      0.000000   \n",
       "25%        0.000000      0.000000      0.000000      0.000000      0.000000   \n",
       "50%        0.000000      0.000000      0.000000      0.000000      0.000000   \n",
       "75%        0.000000      0.068966      0.000000      0.000000      0.000000   \n",
       "max        1.000000      1.000000      1.000000      1.000000      1.000000   \n",
       "\n",
       "         other_vote  \n",
       "count  17089.000000  \n",
       "mean       0.420413  \n",
       "std        0.418454  \n",
       "min        0.000000  \n",
       "25%        0.000000  \n",
       "50%        0.333333  \n",
       "75%        0.941176  \n",
       "max        1.000000  "
      ]
     },
     "execution_count": 7,
     "metadata": {},
     "output_type": "execute_result"
    }
   ],
   "source": [
    "t_copy.describe()"
   ]
  },
  {
   "cell_type": "code",
   "execution_count": 8,
   "id": "f9b1afa8",
   "metadata": {
    "execution": {
     "iopub.execute_input": "2024-02-19T03:57:23.614613Z",
     "iopub.status.busy": "2024-02-19T03:57:23.614109Z",
     "iopub.status.idle": "2024-02-19T03:57:23.648209Z",
     "shell.execute_reply": "2024-02-19T03:57:23.647370Z"
    },
    "papermill": {
     "duration": 0.049429,
     "end_time": "2024-02-19T03:57:23.650150",
     "exception": false,
     "start_time": "2024-02-19T03:57:23.600721",
     "status": "completed"
    },
    "tags": []
   },
   "outputs": [
    {
     "name": "stdout",
     "output_type": "stream",
     "text": [
      "데이터 세트 형상: (17089, 12)\n"
     ]
    },
    {
     "data": {
      "text/html": [
       "<div>\n",
       "<style scoped>\n",
       "    .dataframe tbody tr th:only-of-type {\n",
       "        vertical-align: middle;\n",
       "    }\n",
       "\n",
       "    .dataframe tbody tr th {\n",
       "        vertical-align: top;\n",
       "    }\n",
       "\n",
       "    .dataframe thead th {\n",
       "        text-align: right;\n",
       "    }\n",
       "</style>\n",
       "<table border=\"1\" class=\"dataframe\">\n",
       "  <thead>\n",
       "    <tr style=\"text-align: right;\">\n",
       "      <th></th>\n",
       "      <th>피처</th>\n",
       "      <th>데이터 타입</th>\n",
       "      <th>결측값 개수</th>\n",
       "      <th>고윳값 개수</th>\n",
       "      <th>데이터 종류</th>\n",
       "      <th>첫 번째 값</th>\n",
       "      <th>두 번째 값</th>\n",
       "    </tr>\n",
       "  </thead>\n",
       "  <tbody>\n",
       "    <tr>\n",
       "      <th>0</th>\n",
       "      <td>eeg_id</td>\n",
       "      <td>int64</td>\n",
       "      <td>0</td>\n",
       "      <td>17089</td>\n",
       "      <td>id형</td>\n",
       "      <td>568657</td>\n",
       "      <td>582999</td>\n",
       "    </tr>\n",
       "    <tr>\n",
       "      <th>1</th>\n",
       "      <td>spec_id</td>\n",
       "      <td>int64</td>\n",
       "      <td>0</td>\n",
       "      <td>11138</td>\n",
       "      <td>id형</td>\n",
       "      <td>789577333</td>\n",
       "      <td>1552638400</td>\n",
       "    </tr>\n",
       "    <tr>\n",
       "      <th>2</th>\n",
       "      <td>min</td>\n",
       "      <td>float64</td>\n",
       "      <td>0</td>\n",
       "      <td>1606</td>\n",
       "      <td>연속형</td>\n",
       "      <td>0.0</td>\n",
       "      <td>0.0</td>\n",
       "    </tr>\n",
       "    <tr>\n",
       "      <th>3</th>\n",
       "      <td>max</td>\n",
       "      <td>float64</td>\n",
       "      <td>0</td>\n",
       "      <td>1638</td>\n",
       "      <td>연속형</td>\n",
       "      <td>16.0</td>\n",
       "      <td>38.0</td>\n",
       "    </tr>\n",
       "    <tr>\n",
       "      <th>4</th>\n",
       "      <td>patient_id</td>\n",
       "      <td>int64</td>\n",
       "      <td>0</td>\n",
       "      <td>1950</td>\n",
       "      <td>id형</td>\n",
       "      <td>20654</td>\n",
       "      <td>20230</td>\n",
       "    </tr>\n",
       "    <tr>\n",
       "      <th>5</th>\n",
       "      <td>seizure_vote</td>\n",
       "      <td>float64</td>\n",
       "      <td>0</td>\n",
       "      <td>606</td>\n",
       "      <td>연속형</td>\n",
       "      <td>0.0</td>\n",
       "      <td>0.0</td>\n",
       "    </tr>\n",
       "    <tr>\n",
       "      <th>6</th>\n",
       "      <td>lpd_vote</td>\n",
       "      <td>float64</td>\n",
       "      <td>0</td>\n",
       "      <td>595</td>\n",
       "      <td>연속형</td>\n",
       "      <td>0.0</td>\n",
       "      <td>0.857143</td>\n",
       "    </tr>\n",
       "    <tr>\n",
       "      <th>7</th>\n",
       "      <td>gpd_vote</td>\n",
       "      <td>float64</td>\n",
       "      <td>0</td>\n",
       "      <td>366</td>\n",
       "      <td>연속형</td>\n",
       "      <td>0.25</td>\n",
       "      <td>0.0</td>\n",
       "    </tr>\n",
       "    <tr>\n",
       "      <th>8</th>\n",
       "      <td>lrda_vote</td>\n",
       "      <td>float64</td>\n",
       "      <td>0</td>\n",
       "      <td>487</td>\n",
       "      <td>연속형</td>\n",
       "      <td>0.0</td>\n",
       "      <td>0.071429</td>\n",
       "    </tr>\n",
       "    <tr>\n",
       "      <th>9</th>\n",
       "      <td>grda_vote</td>\n",
       "      <td>float64</td>\n",
       "      <td>0</td>\n",
       "      <td>379</td>\n",
       "      <td>연속형</td>\n",
       "      <td>0.166667</td>\n",
       "      <td>0.0</td>\n",
       "    </tr>\n",
       "    <tr>\n",
       "      <th>10</th>\n",
       "      <td>other_vote</td>\n",
       "      <td>float64</td>\n",
       "      <td>0</td>\n",
       "      <td>740</td>\n",
       "      <td>연속형</td>\n",
       "      <td>0.583333</td>\n",
       "      <td>0.071429</td>\n",
       "    </tr>\n",
       "    <tr>\n",
       "      <th>11</th>\n",
       "      <td>target</td>\n",
       "      <td>object</td>\n",
       "      <td>0</td>\n",
       "      <td>6</td>\n",
       "      <td>명목형</td>\n",
       "      <td>Other</td>\n",
       "      <td>LPD</td>\n",
       "    </tr>\n",
       "  </tbody>\n",
       "</table>\n",
       "</div>"
      ],
      "text/plain": [
       "              피처   데이터 타입  결측값 개수  고윳값 개수 데이터 종류     첫 번째 값      두 번째 값\n",
       "0         eeg_id    int64       0   17089    id형     568657      582999\n",
       "1        spec_id    int64       0   11138    id형  789577333  1552638400\n",
       "2            min  float64       0    1606    연속형        0.0         0.0\n",
       "3            max  float64       0    1638    연속형       16.0        38.0\n",
       "4     patient_id    int64       0    1950    id형      20654       20230\n",
       "5   seizure_vote  float64       0     606    연속형        0.0         0.0\n",
       "6       lpd_vote  float64       0     595    연속형        0.0    0.857143\n",
       "7       gpd_vote  float64       0     366    연속형       0.25         0.0\n",
       "8      lrda_vote  float64       0     487    연속형        0.0    0.071429\n",
       "9      grda_vote  float64       0     379    연속형   0.166667         0.0\n",
       "10    other_vote  float64       0     740    연속형   0.583333    0.071429\n",
       "11        target   object       0       6    명목형      Other         LPD"
      ]
     },
     "execution_count": 8,
     "metadata": {},
     "output_type": "execute_result"
    }
   ],
   "source": [
    "def resumetable(df):\n",
    "    print(f'데이터 세트 형상: {df.shape}')\n",
    "    summary = pd.DataFrame(df.dtypes, columns=['데이터 타입'])\n",
    "    \n",
    "    summary['결측값 개수'] = df.isnull().sum().values #결측값 개수 열 추가\n",
    "    summary['고윳값 개수'] = df.nunique().values\n",
    "    summary['데이터 종류'] = None\n",
    "    for col in df.columns: #데이터 종류 추가\n",
    "        if 'id' in col:\n",
    "            summary.loc[col, '데이터 종류'] = 'id형'\n",
    "        elif df[col].dtype == object:\n",
    "            summary.loc[col, '데이터 종류'] = '명목형'\n",
    "        elif df[col].dtype == float:\n",
    "            summary.loc[col, '데이터 종류'] = '연속형'\n",
    "        elif 'vote' in col:\n",
    "            summary.loc[col, '데이터 종류'] = '투표형'\n",
    "    summary['첫 번째 값'] = df.loc[0].values #첫째값\n",
    "    summary['두 번째 값'] = df.loc[1].values #둘째값\n",
    "    return summary\n",
    "\n",
    "\n",
    "summary=resumetable(train)\n",
    "summary = summary.reset_index() #그렇게 구한 서버리를 index 리셋\n",
    "summary = summary.rename(columns={'index': '피처'}) #피처를 \n",
    "summary"
   ]
  },
  {
   "cell_type": "code",
   "execution_count": 9,
   "id": "254cd622",
   "metadata": {
    "execution": {
     "iopub.execute_input": "2024-02-19T03:57:23.678297Z",
     "iopub.status.busy": "2024-02-19T03:57:23.677832Z",
     "iopub.status.idle": "2024-02-19T03:57:26.607808Z",
     "shell.execute_reply": "2024-02-19T03:57:26.606853Z"
    },
    "papermill": {
     "duration": 2.947202,
     "end_time": "2024-02-19T03:57:26.611097",
     "exception": false,
     "start_time": "2024-02-19T03:57:23.663895",
     "status": "completed"
    },
    "tags": []
   },
   "outputs": [
    {
     "data": {
      "image/png": "[encoded data removed]",
      "text/plain": [
       "<Figure size 1500x1000 with 6 Axes>"
      ]
     },
     "metadata": {},
     "output_type": "display_data"
    }
   ],
   "source": [
    "targets = ['seizure_vote', 'lpd_vote', 'gpd_vote', 'lrda_vote', 'grda_vote', 'other_vote']\n",
    "\n",
    "plt.figure(figsize=(15, 10))\n",
    "for i, column in enumerate(targets, 1):\n",
    "    plt.subplot(2, 4, i)\n",
    "    sns.histplot(train[column], kde=True, bins=30)\n",
    "    plt.title(column)\n",
    "plt.tight_layout()"
   ]
  },
  {
   "cell_type": "code",
   "execution_count": 10,
   "id": "0bf3e301",
   "metadata": {
    "execution": {
     "iopub.execute_input": "2024-02-19T03:57:26.642006Z",
     "iopub.status.busy": "2024-02-19T03:57:26.641721Z",
     "iopub.status.idle": "2024-02-19T03:57:26.651110Z",
     "shell.execute_reply": "2024-02-19T03:57:26.650089Z"
    },
    "papermill": {
     "duration": 0.02681,
     "end_time": "2024-02-19T03:57:26.652986",
     "exception": false,
     "start_time": "2024-02-19T03:57:26.626176",
     "status": "completed"
    },
    "tags": []
   },
   "outputs": [
    {
     "name": "stdout",
     "output_type": "stream",
     "text": [
      "seizure_vote의 와도 1.9452\n",
      "seizure_vote의 첨도 2.0266\n",
      "lpd_vote의 와도 2.0389\n",
      "lpd_vote의 첨도 2.7467\n",
      "gpd_vote의 와도 2.5679\n",
      "gpd_vote의 첨도 5.3327\n",
      "lrda_vote의 와도 3.5719\n",
      "lrda_vote의 첨도 13.0794\n",
      "grda_vote의 와도 2.5111\n",
      "grda_vote의 첨도 5.0367\n",
      "other_vote의 와도 0.3276\n",
      "other_vote의 첨도 -1.5957\n"
     ]
    }
   ],
   "source": [
    "for feature in targets:\n",
    "    print('{0}의 와도 {1:0.4f}'.format(feature, train[feature].skew())) #데이터 프레임 내 컬럼을 먼저 입력하고, 그 뒤에 skew나 kurt\n",
    "    print('{0}의 첨도 {1:0.4f}'.format(feature,train[feature].kurt()))\n"
   ]
  },
  {
   "cell_type": "code",
   "execution_count": 11,
   "id": "901aebd1",
   "metadata": {
    "execution": {
     "iopub.execute_input": "2024-02-19T03:57:26.684053Z",
     "iopub.status.busy": "2024-02-19T03:57:26.683473Z",
     "iopub.status.idle": "2024-02-19T03:58:27.893736Z",
     "shell.execute_reply": "2024-02-19T03:58:27.892701Z"
    },
    "papermill": {
     "duration": 61.22837,
     "end_time": "2024-02-19T03:58:27.896157",
     "exception": false,
     "start_time": "2024-02-19T03:57:26.667787",
     "status": "completed"
    },
    "tags": []
   },
   "outputs": [],
   "source": [
    "spectrograms = np.load('/kaggle/input/brain-spectrograms/specs.npy',allow_pickle=True).item()"
   ]
  },
  {
   "cell_type": "code",
   "execution_count": 12,
   "id": "8862a54f",
   "metadata": {
    "execution": {
     "iopub.execute_input": "2024-02-19T03:58:27.927815Z",
     "iopub.status.busy": "2024-02-19T03:58:27.927420Z",
     "iopub.status.idle": "2024-02-19T03:59:42.703725Z",
     "shell.execute_reply": "2024-02-19T03:59:42.702832Z"
    },
    "papermill": {
     "duration": 74.794675,
     "end_time": "2024-02-19T03:59:42.706087",
     "exception": false,
     "start_time": "2024-02-19T03:58:27.911412",
     "status": "completed"
    },
    "tags": []
   },
   "outputs": [],
   "source": [
    "all_eegs = np.load('/kaggle/input/brain-eeg-spectrograms/eeg_specs.npy',allow_pickle=True).item()"
   ]
  },
  {
   "cell_type": "code",
   "execution_count": 13,
   "id": "e5555789",
   "metadata": {
    "execution": {
     "iopub.execute_input": "2024-02-19T03:59:42.736751Z",
     "iopub.status.busy": "2024-02-19T03:59:42.736404Z",
     "iopub.status.idle": "2024-02-19T03:59:42.740590Z",
     "shell.execute_reply": "2024-02-19T03:59:42.739868Z"
    },
    "papermill": {
     "duration": 0.021384,
     "end_time": "2024-02-19T03:59:42.742423",
     "exception": false,
     "start_time": "2024-02-19T03:59:42.721039",
     "status": "completed"
    },
    "tags": []
   },
   "outputs": [],
   "source": [
    "PATH = '/kaggle/input/hms-harmful-brain-activity-classification/train_spectrograms/'"
   ]
  },
  {
   "cell_type": "code",
   "execution_count": 14,
   "id": "f668b3d3",
   "metadata": {
    "execution": {
     "iopub.execute_input": "2024-02-19T03:59:42.772047Z",
     "iopub.status.busy": "2024-02-19T03:59:42.771796Z",
     "iopub.status.idle": "2024-02-19T03:59:43.007647Z",
     "shell.execute_reply": "2024-02-19T03:59:43.006702Z"
    },
    "papermill": {
     "duration": 0.253095,
     "end_time": "2024-02-19T03:59:43.009793",
     "exception": false,
     "start_time": "2024-02-19T03:59:42.756698",
     "status": "completed"
    },
    "tags": []
   },
   "outputs": [
    {
     "name": "stdout",
     "output_type": "stream",
     "text": [
      "CPU times: user 2 µs, sys: 1 µs, total: 3 µs\n",
      "Wall time: 7.15 µs\n",
      "We are creating 3648 features for 17089 rows... "
     ]
    }
   ],
   "source": [
    "%time\n",
    "# ENGINEER FEATURES\n",
    "import warnings\n",
    "warnings.filterwarnings('ignore')\n",
    "\n",
    "# FEATURE NAMES\n",
    "SPEC_COLS = pd.read_parquet(f'{PATH}1000086677.parquet').columns[1:]\n",
    "FEATURES = [f'{c}_mean_10m' for c in SPEC_COLS]\n",
    "FEATURES += [f'{c}_min_10m' for c in SPEC_COLS]\n",
    "FEATURES += [f'{c}_mean_20s' for c in SPEC_COLS]\n",
    "FEATURES += [f'{c}_min_20s' for c in SPEC_COLS]\n",
    "FEATURES += [f'eeg_mean_f{x}_10s' for x in range(512)]\n",
    "FEATURES += [f'eeg_min_f{x}_10s' for x in range(512)]\n",
    "FEATURES += [f'eeg_max_f{x}_10s' for x in range(512)]\n",
    "FEATURES += [f'eeg_std_f{x}_10s' for x in range(512)]\n",
    "print(f'We are creating {len(FEATURES)} features for {len(train)} rows... ',end='')"
   ]
  },
  {
   "cell_type": "code",
   "execution_count": 15,
   "id": "12755aa6",
   "metadata": {
    "execution": {
     "iopub.execute_input": "2024-02-19T03:59:43.040799Z",
     "iopub.status.busy": "2024-02-19T03:59:43.040486Z",
     "iopub.status.idle": "2024-02-19T03:59:43.047474Z",
     "shell.execute_reply": "2024-02-19T03:59:43.046615Z"
    },
    "papermill": {
     "duration": 0.024803,
     "end_time": "2024-02-19T03:59:43.049498",
     "exception": false,
     "start_time": "2024-02-19T03:59:43.024695",
     "status": "completed"
    },
    "tags": []
   },
   "outputs": [
    {
     "data": {
      "text/plain": [
       "eeg_id            2061593\n",
       "spec_id         320962633\n",
       "min                1450.0\n",
       "max                1450.0\n",
       "patient_id          23828\n",
       "seizure_vote          0.0\n",
       "lpd_vote              0.0\n",
       "gpd_vote              0.0\n",
       "lrda_vote             0.0\n",
       "grda_vote             0.0\n",
       "other_vote            1.0\n",
       "target              Other\n",
       "Name: 7, dtype: object"
      ]
     },
     "execution_count": 15,
     "metadata": {},
     "output_type": "execute_result"
    }
   ],
   "source": [
    "row = train.iloc[7]\n",
    "row"
   ]
  },
  {
   "cell_type": "code",
   "execution_count": 16,
   "id": "885c9d3d",
   "metadata": {
    "execution": {
     "iopub.execute_input": "2024-02-19T03:59:43.080100Z",
     "iopub.status.busy": "2024-02-19T03:59:43.079837Z",
     "iopub.status.idle": "2024-02-19T03:59:43.085091Z",
     "shell.execute_reply": "2024-02-19T03:59:43.084288Z"
    },
    "papermill": {
     "duration": 0.022905,
     "end_time": "2024-02-19T03:59:43.087028",
     "exception": false,
     "start_time": "2024-02-19T03:59:43.064123",
     "status": "completed"
    },
    "tags": []
   },
   "outputs": [
    {
     "data": {
      "text/plain": [
       "17089"
      ]
     },
     "execution_count": 16,
     "metadata": {},
     "output_type": "execute_result"
    }
   ],
   "source": [
    "len(train)"
   ]
  },
  {
   "cell_type": "code",
   "execution_count": 17,
   "id": "578fee80",
   "metadata": {
    "execution": {
     "iopub.execute_input": "2024-02-19T03:59:43.117639Z",
     "iopub.status.busy": "2024-02-19T03:59:43.117383Z",
     "iopub.status.idle": "2024-02-19T03:59:43.122654Z",
     "shell.execute_reply": "2024-02-19T03:59:43.121840Z"
    },
    "papermill": {
     "duration": 0.022476,
     "end_time": "2024-02-19T03:59:43.124547",
     "exception": false,
     "start_time": "2024-02-19T03:59:43.102071",
     "status": "completed"
    },
    "tags": []
   },
   "outputs": [
    {
     "data": {
      "text/plain": [
       "3648"
      ]
     },
     "execution_count": 17,
     "metadata": {},
     "output_type": "execute_result"
    }
   ],
   "source": [
    "len(FEATURES)"
   ]
  },
  {
   "cell_type": "code",
   "execution_count": 18,
   "id": "bc1d0260",
   "metadata": {
    "execution": {
     "iopub.execute_input": "2024-02-19T03:59:43.156267Z",
     "iopub.status.busy": "2024-02-19T03:59:43.156015Z",
     "iopub.status.idle": "2024-02-19T04:00:31.206918Z",
     "shell.execute_reply": "2024-02-19T04:00:31.205646Z"
    },
    "papermill": {
     "duration": 48.069247,
     "end_time": "2024-02-19T04:00:31.209147",
     "exception": false,
     "start_time": "2024-02-19T03:59:43.139900",
     "status": "completed"
    },
    "tags": []
   },
   "outputs": [
    {
     "name": "stdout",
     "output_type": "stream",
     "text": [
      "0 , 100 , 200 , 300 , 400 , 500 , 600 , 700 , 800 , 900 , 1000 , 1100 , 1200 , 1300 , 1400 , 1500 , 1600 , 1700 , 1800 , 1900 , 2000 , 2100 , 2200 , 2300 , 2400 , 2500 , 2600 , 2700 , 2800 , 2900 , 3000 , 3100 , 3200 , 3300 , 3400 , 3500 , 3600 , 3700 , 3800 , 3900 , 4000 , 4100 , 4200 , 4300 , 4400 , 4500 , 4600 , 4700 , 4800 , 4900 , 5000 , 5100 , 5200 , 5300 , 5400 , 5500 , 5600 , 5700 , 5800 , 5900 , 6000 , 6100 , 6200 , 6300 , 6400 , 6500 , 6600 , 6700 , 6800 , 6900 , 7000 , 7100 , 7200 , 7300 , 7400 , 7500 , 7600 , 7700 , 7800 , 7900 , 8000 , 8100 , 8200 , 8300 , 8400 , 8500 , 8600 , 8700 , 8800 , 8900 , 9000 , 9100 , 9200 , 9300 , 9400 , 9500 , 9600 , 9700 , 9800 , 9900 , 10000 , 10100 , 10200 , 10300 , 10400 , 10500 , 10600 , 10700 , 10800 , 10900 , 11000 , 11100 , 11200 , 11300 , 11400 , 11500 , 11600 , 11700 , 11800 , 11900 , 12000 , 12100 , 12200 , 12300 , 12400 , 12500 , 12600 , 12700 , 12800 , 12900 , 13000 , 13100 , 13200 , 13300 , 13400 , 13500 , 13600 , 13700 , 13800 , 13900 , 14000 , 14100 , 14200 , 14300 , 14400 , 14500 , 14600 , 14700 , 14800 , 14900 , 15000 , 15100 , 15200 , 15300 , 15400 , 15500 , 15600 , 15700 , 15800 , 15900 , 16000 , 16100 , 16200 , 16300 , 16400 , 16500 , 16600 , 16700 , 16800 , 16900 , 17000 , \n",
      "New train shape: (17089, 3660)\n"
     ]
    }
   ],
   "source": [
    "data = np.zeros((len(train),len(FEATURES)))\n",
    "for k in range(len(train)):\n",
    "    if k%100==0: print(k,', ',end='')\n",
    "    row = train.iloc[k]\n",
    "    r = int( (row['min'] + row['max'])//4 ) \n",
    "\n",
    "    # 10 MINUTE WINDOW FEATURES (MEANS and MINS)\n",
    "    x = np.nanmean(spectrograms[row.spec_id][r:r+300,:],axis=0)\n",
    "    data[k,:400] = x\n",
    "    x = np.nanmin(spectrograms[row.spec_id][r:r+300,:],axis=0)\n",
    "    data[k,400:800] = x\n",
    "\n",
    "    # 20 SECOND WINDOW FEATURES (MEANS and MINS)\n",
    "    x = np.nanmean(spectrograms[row.spec_id][r+145:r+155,:],axis=0)\n",
    "    data[k,800:1200] = x\n",
    "    x = np.nanmin(spectrograms[row.spec_id][r+145:r+155,:],axis=0)\n",
    "    data[k,1200:1600] = x\n",
    "\n",
    "    # RESHAPE EEG SPECTROGRAMS 128x256x4 => 512x256\n",
    "    eeg_spec = np.zeros((512,256),dtype='float32')\n",
    "    xx = all_eegs[row.eeg_id]\n",
    "    for j in range(4): eeg_spec[128*j:128*(j+1),] = xx[:,:,j]\n",
    "\n",
    "    # 10 SECOND WINDOW FROM EEG SPECTROGRAMS \n",
    "    x = np.nanmean(eeg_spec.T[100:-100,:],axis=0)\n",
    "    data[k,1600:2112] = x\n",
    "    x = np.nanmin(eeg_spec.T[100:-100,:],axis=0)\n",
    "    data[k,2112:2624] = x\n",
    "    x = np.nanmax(eeg_spec.T[100:-100,:],axis=0)\n",
    "    data[k,2624:3136] = x\n",
    "    x = np.nanstd(eeg_spec.T[100:-100,:],axis=0)\n",
    "    data[k,3136:3648] = x\n",
    "\n",
    "train[FEATURES] = data\n",
    "print(); print('New train shape:',train.shape)"
   ]
  },
  {
   "cell_type": "code",
   "execution_count": 19,
   "id": "79d4b595",
   "metadata": {
    "execution": {
     "iopub.execute_input": "2024-02-19T04:00:31.267861Z",
     "iopub.status.busy": "2024-02-19T04:00:31.267327Z",
     "iopub.status.idle": "2024-02-19T04:00:31.461237Z",
     "shell.execute_reply": "2024-02-19T04:00:31.460315Z"
    },
    "papermill": {
     "duration": 0.224917,
     "end_time": "2024-02-19T04:00:31.463256",
     "exception": false,
     "start_time": "2024-02-19T04:00:31.238339",
     "status": "completed"
    },
    "tags": []
   },
   "outputs": [
    {
     "data": {
      "text/plain": [
       "30138"
      ]
     },
     "execution_count": 19,
     "metadata": {},
     "output_type": "execute_result"
    }
   ],
   "source": [
    "# FREE MEMORY\n",
    "del all_eegs, spectrograms, data\n",
    "gc.collect()"
   ]
  },
  {
   "cell_type": "markdown",
   "id": "c796bb25",
   "metadata": {
    "papermill": {
     "duration": 0.068156,
     "end_time": "2024-02-19T04:00:31.559852",
     "exception": false,
     "start_time": "2024-02-19T04:00:31.491696",
     "status": "completed"
    },
    "tags": []
   },
   "source": [
    "# CAT BOOST MODEL"
   ]
  },
  {
   "cell_type": "code",
   "execution_count": 20,
   "id": "b7e63a71",
   "metadata": {
    "execution": {
     "iopub.execute_input": "2024-02-19T04:00:31.617033Z",
     "iopub.status.busy": "2024-02-19T04:00:31.616267Z",
     "iopub.status.idle": "2024-02-19T04:00:32.318850Z",
     "shell.execute_reply": "2024-02-19T04:00:32.317707Z"
    },
    "papermill": {
     "duration": 0.733595,
     "end_time": "2024-02-19T04:00:32.320999",
     "exception": false,
     "start_time": "2024-02-19T04:00:31.587404",
     "status": "completed"
    },
    "tags": []
   },
   "outputs": [
    {
     "name": "stdout",
     "output_type": "stream",
     "text": [
      "CatBoost version 1.2.2\n"
     ]
    }
   ],
   "source": [
    "import catboost as cat\n",
    "from catboost import CatBoostClassifier, Pool\n",
    "print('CatBoost version',cat.__version__)"
   ]
  },
  {
   "cell_type": "code",
   "execution_count": 21,
   "id": "286aaccb",
   "metadata": {
    "execution": {
     "iopub.execute_input": "2024-02-19T04:00:32.384467Z",
     "iopub.status.busy": "2024-02-19T04:00:32.383967Z",
     "iopub.status.idle": "2024-02-19T04:00:32.390698Z",
     "shell.execute_reply": "2024-02-19T04:00:32.389736Z"
    },
    "papermill": {
     "duration": 0.041725,
     "end_time": "2024-02-19T04:00:32.392599",
     "exception": false,
     "start_time": "2024-02-19T04:00:32.350874",
     "status": "completed"
    },
    "tags": []
   },
   "outputs": [],
   "source": [
    "from sklearn.model_selection import KFold, GroupKFold\n",
    "\n",
    "all_oof = []\n",
    "all_true = []\n",
    "TARS = {'Seizure':0, 'LPD':1, 'GPD':2, 'LRDA':3, 'GRDA':4, 'Other':5}\n",
    "gkf = GroupKFold(n_splits=5)"
   ]
  },
  {
   "cell_type": "code",
   "execution_count": 22,
   "id": "646977bf",
   "metadata": {
    "execution": {
     "iopub.execute_input": "2024-02-19T04:00:32.451773Z",
     "iopub.status.busy": "2024-02-19T04:00:32.451058Z",
     "iopub.status.idle": "2024-02-19T04:00:32.476317Z",
     "shell.execute_reply": "2024-02-19T04:00:32.475233Z"
    },
    "papermill": {
     "duration": 0.057243,
     "end_time": "2024-02-19T04:00:32.478618",
     "exception": false,
     "start_time": "2024-02-19T04:00:32.421375",
     "status": "completed"
    },
    "tags": []
   },
   "outputs": [
    {
     "data": {
      "text/html": [
       "<div>\n",
       "<style scoped>\n",
       "    .dataframe tbody tr th:only-of-type {\n",
       "        vertical-align: middle;\n",
       "    }\n",
       "\n",
       "    .dataframe tbody tr th {\n",
       "        vertical-align: top;\n",
       "    }\n",
       "\n",
       "    .dataframe thead th {\n",
       "        text-align: right;\n",
       "    }\n",
       "</style>\n",
       "<table border=\"1\" class=\"dataframe\">\n",
       "  <thead>\n",
       "    <tr style=\"text-align: right;\">\n",
       "      <th></th>\n",
       "      <th>eeg_id</th>\n",
       "      <th>spec_id</th>\n",
       "      <th>min</th>\n",
       "      <th>max</th>\n",
       "      <th>patient_id</th>\n",
       "      <th>seizure_vote</th>\n",
       "      <th>lpd_vote</th>\n",
       "      <th>gpd_vote</th>\n",
       "      <th>lrda_vote</th>\n",
       "      <th>grda_vote</th>\n",
       "      <th>other_vote</th>\n",
       "      <th>target</th>\n",
       "    </tr>\n",
       "  </thead>\n",
       "  <tbody>\n",
       "    <tr>\n",
       "      <th>0</th>\n",
       "      <td>568657</td>\n",
       "      <td>789577333</td>\n",
       "      <td>0.0</td>\n",
       "      <td>16.0</td>\n",
       "      <td>20654</td>\n",
       "      <td>0.0</td>\n",
       "      <td>0.000000</td>\n",
       "      <td>0.25</td>\n",
       "      <td>0.000000</td>\n",
       "      <td>0.166667</td>\n",
       "      <td>0.583333</td>\n",
       "      <td>Other</td>\n",
       "    </tr>\n",
       "    <tr>\n",
       "      <th>1</th>\n",
       "      <td>582999</td>\n",
       "      <td>1552638400</td>\n",
       "      <td>0.0</td>\n",
       "      <td>38.0</td>\n",
       "      <td>20230</td>\n",
       "      <td>0.0</td>\n",
       "      <td>0.857143</td>\n",
       "      <td>0.00</td>\n",
       "      <td>0.071429</td>\n",
       "      <td>0.000000</td>\n",
       "      <td>0.071429</td>\n",
       "      <td>LPD</td>\n",
       "    </tr>\n",
       "    <tr>\n",
       "      <th>2</th>\n",
       "      <td>642382</td>\n",
       "      <td>14960202</td>\n",
       "      <td>1008.0</td>\n",
       "      <td>1032.0</td>\n",
       "      <td>5955</td>\n",
       "      <td>0.0</td>\n",
       "      <td>0.000000</td>\n",
       "      <td>0.00</td>\n",
       "      <td>0.000000</td>\n",
       "      <td>0.000000</td>\n",
       "      <td>1.000000</td>\n",
       "      <td>Other</td>\n",
       "    </tr>\n",
       "    <tr>\n",
       "      <th>3</th>\n",
       "      <td>751790</td>\n",
       "      <td>618728447</td>\n",
       "      <td>908.0</td>\n",
       "      <td>908.0</td>\n",
       "      <td>38549</td>\n",
       "      <td>0.0</td>\n",
       "      <td>0.000000</td>\n",
       "      <td>1.00</td>\n",
       "      <td>0.000000</td>\n",
       "      <td>0.000000</td>\n",
       "      <td>0.000000</td>\n",
       "      <td>GPD</td>\n",
       "    </tr>\n",
       "    <tr>\n",
       "      <th>4</th>\n",
       "      <td>778705</td>\n",
       "      <td>52296320</td>\n",
       "      <td>0.0</td>\n",
       "      <td>0.0</td>\n",
       "      <td>40955</td>\n",
       "      <td>0.0</td>\n",
       "      <td>0.000000</td>\n",
       "      <td>0.00</td>\n",
       "      <td>0.000000</td>\n",
       "      <td>0.000000</td>\n",
       "      <td>1.000000</td>\n",
       "      <td>Other</td>\n",
       "    </tr>\n",
       "    <tr>\n",
       "      <th>...</th>\n",
       "      <td>...</td>\n",
       "      <td>...</td>\n",
       "      <td>...</td>\n",
       "      <td>...</td>\n",
       "      <td>...</td>\n",
       "      <td>...</td>\n",
       "      <td>...</td>\n",
       "      <td>...</td>\n",
       "      <td>...</td>\n",
       "      <td>...</td>\n",
       "      <td>...</td>\n",
       "      <td>...</td>\n",
       "    </tr>\n",
       "    <tr>\n",
       "      <th>17084</th>\n",
       "      <td>4293354003</td>\n",
       "      <td>1188113564</td>\n",
       "      <td>0.0</td>\n",
       "      <td>0.0</td>\n",
       "      <td>16610</td>\n",
       "      <td>0.0</td>\n",
       "      <td>0.000000</td>\n",
       "      <td>0.00</td>\n",
       "      <td>0.000000</td>\n",
       "      <td>0.500000</td>\n",
       "      <td>0.500000</td>\n",
       "      <td>GRDA</td>\n",
       "    </tr>\n",
       "    <tr>\n",
       "      <th>17085</th>\n",
       "      <td>4293843368</td>\n",
       "      <td>1549502620</td>\n",
       "      <td>0.0</td>\n",
       "      <td>0.0</td>\n",
       "      <td>15065</td>\n",
       "      <td>0.0</td>\n",
       "      <td>0.000000</td>\n",
       "      <td>0.00</td>\n",
       "      <td>0.000000</td>\n",
       "      <td>0.500000</td>\n",
       "      <td>0.500000</td>\n",
       "      <td>GRDA</td>\n",
       "    </tr>\n",
       "    <tr>\n",
       "      <th>17086</th>\n",
       "      <td>4294455489</td>\n",
       "      <td>2105480289</td>\n",
       "      <td>0.0</td>\n",
       "      <td>0.0</td>\n",
       "      <td>56</td>\n",
       "      <td>0.0</td>\n",
       "      <td>0.000000</td>\n",
       "      <td>0.00</td>\n",
       "      <td>0.000000</td>\n",
       "      <td>0.000000</td>\n",
       "      <td>1.000000</td>\n",
       "      <td>Other</td>\n",
       "    </tr>\n",
       "    <tr>\n",
       "      <th>17087</th>\n",
       "      <td>4294858825</td>\n",
       "      <td>657299228</td>\n",
       "      <td>0.0</td>\n",
       "      <td>12.0</td>\n",
       "      <td>4312</td>\n",
       "      <td>0.0</td>\n",
       "      <td>0.000000</td>\n",
       "      <td>0.00</td>\n",
       "      <td>0.000000</td>\n",
       "      <td>0.066667</td>\n",
       "      <td>0.933333</td>\n",
       "      <td>Other</td>\n",
       "    </tr>\n",
       "    <tr>\n",
       "      <th>17088</th>\n",
       "      <td>4294958358</td>\n",
       "      <td>260520016</td>\n",
       "      <td>2508.0</td>\n",
       "      <td>2508.0</td>\n",
       "      <td>25986</td>\n",
       "      <td>0.0</td>\n",
       "      <td>0.000000</td>\n",
       "      <td>0.00</td>\n",
       "      <td>0.000000</td>\n",
       "      <td>0.000000</td>\n",
       "      <td>1.000000</td>\n",
       "      <td>Other</td>\n",
       "    </tr>\n",
       "  </tbody>\n",
       "</table>\n",
       "<p>17089 rows × 12 columns</p>\n",
       "</div>"
      ],
      "text/plain": [
       "           eeg_id     spec_id     min     max  patient_id  seizure_vote  \\\n",
       "0          568657   789577333     0.0    16.0       20654           0.0   \n",
       "1          582999  1552638400     0.0    38.0       20230           0.0   \n",
       "2          642382    14960202  1008.0  1032.0        5955           0.0   \n",
       "3          751790   618728447   908.0   908.0       38549           0.0   \n",
       "4          778705    52296320     0.0     0.0       40955           0.0   \n",
       "...           ...         ...     ...     ...         ...           ...   \n",
       "17084  4293354003  1188113564     0.0     0.0       16610           0.0   \n",
       "17085  4293843368  1549502620     0.0     0.0       15065           0.0   \n",
       "17086  4294455489  2105480289     0.0     0.0          56           0.0   \n",
       "17087  4294858825   657299228     0.0    12.0        4312           0.0   \n",
       "17088  4294958358   260520016  2508.0  2508.0       25986           0.0   \n",
       "\n",
       "       lpd_vote  gpd_vote  lrda_vote  grda_vote  other_vote target  \n",
       "0      0.000000      0.25   0.000000   0.166667    0.583333  Other  \n",
       "1      0.857143      0.00   0.071429   0.000000    0.071429    LPD  \n",
       "2      0.000000      0.00   0.000000   0.000000    1.000000  Other  \n",
       "3      0.000000      1.00   0.000000   0.000000    0.000000    GPD  \n",
       "4      0.000000      0.00   0.000000   0.000000    1.000000  Other  \n",
       "...         ...       ...        ...        ...         ...    ...  \n",
       "17084  0.000000      0.00   0.000000   0.500000    0.500000   GRDA  \n",
       "17085  0.000000      0.00   0.000000   0.500000    0.500000   GRDA  \n",
       "17086  0.000000      0.00   0.000000   0.000000    1.000000  Other  \n",
       "17087  0.000000      0.00   0.000000   0.066667    0.933333  Other  \n",
       "17088  0.000000      0.00   0.000000   0.000000    1.000000  Other  \n",
       "\n",
       "[17089 rows x 12 columns]"
      ]
     },
     "execution_count": 22,
     "metadata": {},
     "output_type": "execute_result"
    }
   ],
   "source": [
    "t_copy"
   ]
  },
  {
   "cell_type": "code",
   "execution_count": 23,
   "id": "a2b7042e",
   "metadata": {
    "execution": {
     "iopub.execute_input": "2024-02-19T04:00:32.546391Z",
     "iopub.status.busy": "2024-02-19T04:00:32.546003Z",
     "iopub.status.idle": "2024-02-19T04:08:56.005591Z",
     "shell.execute_reply": "2024-02-19T04:08:56.003873Z"
    },
    "papermill": {
     "duration": 503.498878,
     "end_time": "2024-02-19T04:08:56.008347",
     "exception": false,
     "start_time": "2024-02-19T04:00:32.509469",
     "status": "completed"
    },
    "tags": []
   },
   "outputs": [
    {
     "name": "stdout",
     "output_type": "stream",
     "text": [
      "#########################\n",
      "### Fold 1\n",
      "### train size 13671, valid size 3418\n",
      "#########################\n",
      "Learning rate set to 0.136945\n",
      "0:\tlearn: 1.6396718\ttest: 1.6737097\tbest: 1.6737097 (0)\ttotal: 364ms\tremaining: 6m 4s\n",
      "100:\tlearn: 0.7138030\ttest: 1.0707910\tbest: 1.0706476 (99)\ttotal: 10.1s\tremaining: 1m 29s\n",
      "200:\tlearn: 0.5592359\ttest: 1.0337357\tbest: 1.0334695 (195)\ttotal: 19.6s\tremaining: 1m 18s\n",
      "300:\tlearn: 0.4583913\ttest: 1.0275270\tbest: 1.0265477 (297)\ttotal: 29s\tremaining: 1m 7s\n",
      "400:\tlearn: 0.3850699\ttest: 1.0202451\tbest: 1.0186940 (381)\ttotal: 38.2s\tremaining: 57.1s\n",
      "500:\tlearn: 0.3279357\ttest: 1.0191329\tbest: 1.0169798 (451)\ttotal: 47.6s\tremaining: 47.4s\n",
      "600:\tlearn: 0.2789594\ttest: 1.0212841\tbest: 1.0169798 (451)\ttotal: 57.1s\tremaining: 37.9s\n",
      "700:\tlearn: 0.2417184\ttest: 1.0289869\tbest: 1.0169798 (451)\ttotal: 1m 6s\tremaining: 28.2s\n",
      "800:\tlearn: 0.2087914\ttest: 1.0308966\tbest: 1.0169798 (451)\ttotal: 1m 15s\tremaining: 18.7s\n",
      "900:\tlearn: 0.1814822\ttest: 1.0345071\tbest: 1.0169798 (451)\ttotal: 1m 24s\tremaining: 9.3s\n",
      "999:\tlearn: 0.1584024\ttest: 1.0393612\tbest: 1.0169798 (451)\ttotal: 1m 34s\tremaining: 0us\n",
      "bestTest = 1.016979773\n",
      "bestIteration = 451\n",
      "Shrink model to first 452 iterations.\n",
      "#########################\n",
      "### Fold 2\n",
      "### train size 13671, valid size 3418\n",
      "#########################\n",
      "Learning rate set to 0.136945\n",
      "0:\tlearn: 1.6459431\ttest: 1.6612391\tbest: 1.6612391 (0)\ttotal: 189ms\tremaining: 3m 9s\n",
      "100:\tlearn: 0.7239931\ttest: 0.9743822\tbest: 0.9743822 (100)\ttotal: 10.1s\tremaining: 1m 29s\n",
      "200:\tlearn: 0.5699213\ttest: 0.9486675\tbest: 0.9475629 (196)\ttotal: 19.8s\tremaining: 1m 18s\n",
      "300:\tlearn: 0.4692892\ttest: 0.9401213\tbest: 0.9386121 (250)\ttotal: 29.4s\tremaining: 1m 8s\n",
      "400:\tlearn: 0.3927167\ttest: 0.9435424\tbest: 0.9380796 (334)\ttotal: 38.9s\tremaining: 58.1s\n",
      "500:\tlearn: 0.3334851\ttest: 0.9401934\tbest: 0.9380796 (334)\ttotal: 48.5s\tremaining: 48.3s\n",
      "600:\tlearn: 0.2836813\ttest: 0.9425557\tbest: 0.9380796 (334)\ttotal: 58s\tremaining: 38.5s\n",
      "700:\tlearn: 0.2463686\ttest: 0.9453786\tbest: 0.9380796 (334)\ttotal: 1m 7s\tremaining: 28.8s\n",
      "800:\tlearn: 0.2142613\ttest: 0.9493190\tbest: 0.9380796 (334)\ttotal: 1m 17s\tremaining: 19.1s\n",
      "900:\tlearn: 0.1865893\ttest: 0.9539502\tbest: 0.9380796 (334)\ttotal: 1m 26s\tremaining: 9.52s\n",
      "999:\tlearn: 0.1634501\ttest: 0.9583274\tbest: 0.9380796 (334)\ttotal: 1m 35s\tremaining: 0us\n",
      "bestTest = 0.9380796376\n",
      "bestIteration = 334\n",
      "Shrink model to first 335 iterations.\n",
      "#########################\n",
      "### Fold 3\n",
      "### train size 13671, valid size 3418\n",
      "#########################\n",
      "Learning rate set to 0.136945\n",
      "0:\tlearn: 1.6526243\ttest: 1.6461549\tbest: 1.6461549 (0)\ttotal: 176ms\tremaining: 2m 55s\n",
      "100:\tlearn: 0.7192573\ttest: 0.9477826\tbest: 0.9477826 (100)\ttotal: 9.98s\tremaining: 1m 28s\n",
      "200:\tlearn: 0.5676187\ttest: 0.9136545\tbest: 0.9132190 (199)\ttotal: 19.6s\tremaining: 1m 18s\n",
      "300:\tlearn: 0.4623657\ttest: 0.9014712\tbest: 0.9014712 (300)\ttotal: 29.2s\tremaining: 1m 7s\n",
      "400:\tlearn: 0.3905510\ttest: 0.8963422\tbest: 0.8963422 (400)\ttotal: 38.6s\tremaining: 57.7s\n",
      "500:\tlearn: 0.3314110\ttest: 0.8955509\tbest: 0.8955509 (500)\ttotal: 47.6s\tremaining: 47.4s\n",
      "600:\tlearn: 0.2845700\ttest: 0.8952821\tbest: 0.8941599 (553)\ttotal: 57s\tremaining: 37.9s\n",
      "700:\tlearn: 0.2468110\ttest: 0.8944520\tbest: 0.8919386 (663)\ttotal: 1m 6s\tremaining: 28.2s\n",
      "800:\tlearn: 0.2150994\ttest: 0.8967177\tbest: 0.8919386 (663)\ttotal: 1m 15s\tremaining: 18.8s\n",
      "900:\tlearn: 0.1886719\ttest: 0.8992452\tbest: 0.8919386 (663)\ttotal: 1m 24s\tremaining: 9.34s\n",
      "999:\tlearn: 0.1673126\ttest: 0.9020778\tbest: 0.8919386 (663)\ttotal: 1m 33s\tremaining: 0us\n",
      "bestTest = 0.8919386308\n",
      "bestIteration = 663\n",
      "Shrink model to first 664 iterations.\n",
      "#########################\n",
      "### Fold 4\n",
      "### train size 13671, valid size 3418\n",
      "#########################\n",
      "Learning rate set to 0.136945\n",
      "0:\tlearn: 1.6420037\ttest: 1.6771631\tbest: 1.6771631 (0)\ttotal: 175ms\tremaining: 2m 55s\n",
      "100:\tlearn: 0.6988360\ttest: 1.0617346\tbest: 1.0617346 (100)\ttotal: 10.1s\tremaining: 1m 30s\n",
      "200:\tlearn: 0.5479705\ttest: 1.0344301\tbest: 1.0341465 (199)\ttotal: 19.9s\tremaining: 1m 18s\n",
      "300:\tlearn: 0.4513955\ttest: 1.0227484\tbest: 1.0224448 (291)\ttotal: 29.4s\tremaining: 1m 8s\n",
      "400:\tlearn: 0.3733306\ttest: 1.0193283\tbest: 1.0184457 (390)\ttotal: 39s\tremaining: 58.3s\n",
      "500:\tlearn: 0.3148853\ttest: 1.0265901\tbest: 1.0184457 (390)\ttotal: 48.4s\tremaining: 48.2s\n",
      "600:\tlearn: 0.2694676\ttest: 1.0313164\tbest: 1.0184457 (390)\ttotal: 58s\tremaining: 38.5s\n",
      "700:\tlearn: 0.2328043\ttest: 1.0363076\tbest: 1.0184457 (390)\ttotal: 1m 7s\tremaining: 28.8s\n",
      "800:\tlearn: 0.2014938\ttest: 1.0438617\tbest: 1.0184457 (390)\ttotal: 1m 16s\tremaining: 19.1s\n",
      "900:\tlearn: 0.1756809\ttest: 1.0497177\tbest: 1.0184457 (390)\ttotal: 1m 26s\tremaining: 9.51s\n",
      "999:\tlearn: 0.1549550\ttest: 1.0551090\tbest: 1.0184457 (390)\ttotal: 1m 35s\tremaining: 0us\n",
      "bestTest = 1.018445688\n",
      "bestIteration = 390\n",
      "Shrink model to first 391 iterations.\n",
      "#########################\n",
      "### Fold 5\n",
      "### train size 13672, valid size 3417\n",
      "#########################\n",
      "Learning rate set to 0.136946\n",
      "0:\tlearn: 1.6437713\ttest: 1.6641434\tbest: 1.6641434 (0)\ttotal: 175ms\tremaining: 2m 55s\n",
      "100:\tlearn: 0.7118215\ttest: 1.0937654\tbest: 1.0899618 (97)\ttotal: 9.85s\tremaining: 1m 27s\n",
      "200:\tlearn: 0.5599617\ttest: 1.0796883\tbest: 1.0786670 (197)\ttotal: 19.5s\tremaining: 1m 17s\n",
      "300:\tlearn: 0.4614252\ttest: 1.0733069\tbest: 1.0696153 (283)\ttotal: 29.1s\tremaining: 1m 7s\n",
      "400:\tlearn: 0.3873805\ttest: 1.0744071\tbest: 1.0696153 (283)\ttotal: 38.5s\tremaining: 57.5s\n",
      "500:\tlearn: 0.3271544\ttest: 1.0697373\tbest: 1.0693168 (484)\ttotal: 48.2s\tremaining: 48s\n",
      "600:\tlearn: 0.2826510\ttest: 1.0702573\tbest: 1.0670974 (522)\ttotal: 57.5s\tremaining: 38.1s\n",
      "700:\tlearn: 0.2440299\ttest: 1.0755318\tbest: 1.0670974 (522)\ttotal: 1m 6s\tremaining: 28.4s\n",
      "800:\tlearn: 0.2114120\ttest: 1.0751453\tbest: 1.0670974 (522)\ttotal: 1m 16s\tremaining: 18.9s\n",
      "900:\tlearn: 0.1853439\ttest: 1.0859292\tbest: 1.0670974 (522)\ttotal: 1m 25s\tremaining: 9.38s\n",
      "999:\tlearn: 0.1635328\ttest: 1.0937741\tbest: 1.0670974 (522)\ttotal: 1m 34s\tremaining: 0us\n",
      "bestTest = 1.067097374\n",
      "bestIteration = 522\n",
      "Shrink model to first 523 iterations.\n"
     ]
    }
   ],
   "source": [
    "from sklearn.model_selection import KFold, GroupKFold\n",
    "\n",
    "all_oof = []\n",
    "all_true = []\n",
    "TARS = {'Seizure':0, 'LPD':1, 'GPD':2, 'LRDA':3, 'GRDA':4, 'Other':5}\n",
    "\n",
    "gkf = GroupKFold(n_splits=5)\n",
    "for i, (train_index, valid_index) in enumerate(gkf.split(train, train.target, train.patient_id)):   \n",
    "    \n",
    "    print('#'*25)\n",
    "    print(f'### Fold {i+1}')\n",
    "    print(f'### train size {len(train_index)}, valid size {len(valid_index)}')\n",
    "    print('#'*25)\n",
    "    \n",
    "    model = CatBoostClassifier(task_type='GPU',\n",
    "                               loss_function='MultiClass')\n",
    "    \n",
    "    train_pool = Pool(\n",
    "        data = train.loc[train_index,FEATURES],\n",
    "        label = train.loc[train_index,'target'].map(TARS),\n",
    "    )\n",
    "    \n",
    "    valid_pool = Pool(\n",
    "        data = train.loc[valid_index,FEATURES],\n",
    "        label = train.loc[valid_index,'target'].map(TARS),\n",
    "    )\n",
    "    \n",
    "    model.fit(train_pool,\n",
    "             verbose=100,\n",
    "             eval_set=valid_pool,\n",
    "             )\n",
    "    model.save_model(f'CAT_v{1}_f{i}.cat')\n",
    "    \n",
    "    oof = model.predict_proba(valid_pool)\n",
    "    all_oof.append(oof)\n",
    "    all_true.append(train.loc[valid_index, TARGETS].values)\n",
    "    \n",
    "    del train_pool, valid_pool, oof #model\n",
    "    gc.collect()\n",
    "    \n",
    "    #break\n",
    "    \n",
    "all_oof = np.concatenate(all_oof)\n",
    "all_true = np.concatenate(all_true)"
   ]
  },
  {
   "cell_type": "code",
   "execution_count": null,
   "id": "82e28cf9",
   "metadata": {
    "papermill": {
     "duration": 0.046691,
     "end_time": "2024-02-19T04:08:56.103790",
     "exception": false,
     "start_time": "2024-02-19T04:08:56.057099",
     "status": "completed"
    },
    "tags": []
   },
   "outputs": [],
   "source": []
  },
  {
   "cell_type": "code",
   "execution_count": 24,
   "id": "dd6889c3",
   "metadata": {
    "execution": {
     "iopub.execute_input": "2024-02-19T04:08:56.197246Z",
     "iopub.status.busy": "2024-02-19T04:08:56.196632Z",
     "iopub.status.idle": "2024-02-19T04:08:56.205315Z",
     "shell.execute_reply": "2024-02-19T04:08:56.204534Z"
    },
    "papermill": {
     "duration": 0.057586,
     "end_time": "2024-02-19T04:08:56.207517",
     "exception": false,
     "start_time": "2024-02-19T04:08:56.149931",
     "status": "completed"
    },
    "tags": []
   },
   "outputs": [
    {
     "data": {
      "text/plain": [
       "array([[8.54164864e-02, 1.38399229e-01, 2.26718950e-01, 5.17475961e-02,\n",
       "        1.50044004e-01, 3.47673734e-01],\n",
       "       [2.67589262e-02, 8.78184895e-03, 5.07318140e-04, 9.37429230e-02,\n",
       "        1.70750480e-01, 6.99458504e-01],\n",
       "       [8.23822130e-01, 2.54214770e-02, 1.76694279e-02, 1.87613274e-03,\n",
       "        7.96039570e-03, 1.23250436e-01],\n",
       "       [5.20692158e-02, 7.67570880e-03, 9.76535628e-05, 3.91950503e-02,\n",
       "        6.43161155e-03, 8.94530760e-01],\n",
       "       [1.39063354e-01, 2.07491598e-01, 4.08163451e-03, 3.15441050e-01,\n",
       "        2.87310774e-02, 3.05191286e-01]])"
      ]
     },
     "execution_count": 24,
     "metadata": {},
     "output_type": "execute_result"
    }
   ],
   "source": [
    "all_oof[0:5]"
   ]
  },
  {
   "cell_type": "code",
   "execution_count": 25,
   "id": "32df7536",
   "metadata": {
    "execution": {
     "iopub.execute_input": "2024-02-19T04:08:56.313431Z",
     "iopub.status.busy": "2024-02-19T04:08:56.312823Z",
     "iopub.status.idle": "2024-02-19T04:08:56.318090Z",
     "shell.execute_reply": "2024-02-19T04:08:56.317354Z"
    },
    "papermill": {
     "duration": 0.062364,
     "end_time": "2024-02-19T04:08:56.320213",
     "exception": false,
     "start_time": "2024-02-19T04:08:56.257849",
     "status": "completed"
    },
    "tags": []
   },
   "outputs": [
    {
     "data": {
      "text/plain": [
       "17089"
      ]
     },
     "execution_count": 25,
     "metadata": {},
     "output_type": "execute_result"
    }
   ],
   "source": [
    "len(all_oof)"
   ]
  },
  {
   "cell_type": "code",
   "execution_count": 26,
   "id": "cfd5adf5",
   "metadata": {
    "execution": {
     "iopub.execute_input": "2024-02-19T04:08:56.420518Z",
     "iopub.status.busy": "2024-02-19T04:08:56.420218Z",
     "iopub.status.idle": "2024-02-19T04:08:56.426763Z",
     "shell.execute_reply": "2024-02-19T04:08:56.425873Z"
    },
    "papermill": {
     "duration": 0.059756,
     "end_time": "2024-02-19T04:08:56.429070",
     "exception": false,
     "start_time": "2024-02-19T04:08:56.369314",
     "status": "completed"
    },
    "tags": []
   },
   "outputs": [
    {
     "data": {
      "text/plain": [
       "array([[0., 0., 0., 0., 0., 1.],\n",
       "       [0., 0., 0., 0., 0., 1.],\n",
       "       [1., 0., 0., 0., 0., 0.],\n",
       "       [0., 0., 0., 0., 0., 1.],\n",
       "       [0., 0., 0., 1., 0., 0.]])"
      ]
     },
     "execution_count": 26,
     "metadata": {},
     "output_type": "execute_result"
    }
   ],
   "source": [
    "all_true[0:5]"
   ]
  },
  {
   "cell_type": "code",
   "execution_count": 27,
   "id": "a82793cd",
   "metadata": {
    "execution": {
     "iopub.execute_input": "2024-02-19T04:08:56.532208Z",
     "iopub.status.busy": "2024-02-19T04:08:56.531581Z",
     "iopub.status.idle": "2024-02-19T04:08:57.236905Z",
     "shell.execute_reply": "2024-02-19T04:08:57.235965Z"
    },
    "papermill": {
     "duration": 0.759628,
     "end_time": "2024-02-19T04:08:57.239449",
     "exception": false,
     "start_time": "2024-02-19T04:08:56.479821",
     "status": "completed"
    },
    "tags": []
   },
   "outputs": [
    {
     "data": {
      "image/png": "[encoded data removed]",
      "text/plain": [
       "<Figure size 1000x800 with 1 Axes>"
      ]
     },
     "metadata": {},
     "output_type": "display_data"
    }
   ],
   "source": [
    "TOP = 25\n",
    "\n",
    "feature_importance = model.feature_importances_\n",
    "sorted_idx = np.argsort(feature_importance)\n",
    "fig = plt.figure(figsize=(10, 8))\n",
    "plt.barh(np.arange(len(sorted_idx))[-TOP:], feature_importance[sorted_idx][-TOP:], align='center')\n",
    "plt.yticks(np.arange(len(sorted_idx))[-TOP:], np.array(FEATURES)[sorted_idx][-TOP:])\n",
    "plt.title(f'Feature Importance - Top {TOP}')\n",
    "plt.savefig('fig1.png',bbox_inches='tight')\n",
    "plt.show()"
   ]
  },
  {
   "cell_type": "code",
   "execution_count": 28,
   "id": "5c44bb5a",
   "metadata": {
    "execution": {
     "iopub.execute_input": "2024-02-19T04:08:57.312403Z",
     "iopub.status.busy": "2024-02-19T04:08:57.311783Z",
     "iopub.status.idle": "2024-02-19T04:08:57.318083Z",
     "shell.execute_reply": "2024-02-19T04:08:57.317180Z"
    },
    "papermill": {
     "duration": 0.044925,
     "end_time": "2024-02-19T04:08:57.320029",
     "exception": false,
     "start_time": "2024-02-19T04:08:57.275104",
     "status": "completed"
    },
    "tags": []
   },
   "outputs": [
    {
     "data": {
      "text/plain": [
       "array([0.11431696, 0.03351751, 0.        , 0.03803926, 0.        ])"
      ]
     },
     "execution_count": 28,
     "metadata": {},
     "output_type": "execute_result"
    }
   ],
   "source": [
    "feature_importance[0:5]"
   ]
  },
  {
   "cell_type": "code",
   "execution_count": 29,
   "id": "a06d1b02",
   "metadata": {
    "execution": {
     "iopub.execute_input": "2024-02-19T04:08:57.393601Z",
     "iopub.status.busy": "2024-02-19T04:08:57.393299Z",
     "iopub.status.idle": "2024-02-19T04:08:57.398984Z",
     "shell.execute_reply": "2024-02-19T04:08:57.398145Z"
    },
    "papermill": {
     "duration": 0.043157,
     "end_time": "2024-02-19T04:08:57.400993",
     "exception": false,
     "start_time": "2024-02-19T04:08:57.357836",
     "status": "completed"
    },
    "tags": []
   },
   "outputs": [
    {
     "data": {
      "text/plain": [
       "3648"
      ]
     },
     "execution_count": 29,
     "metadata": {},
     "output_type": "execute_result"
    }
   ],
   "source": [
    "len(sorted_idx)"
   ]
  },
  {
   "cell_type": "code",
   "execution_count": 30,
   "id": "c9f232fb",
   "metadata": {
    "execution": {
     "iopub.execute_input": "2024-02-19T04:08:57.473636Z",
     "iopub.status.busy": "2024-02-19T04:08:57.473353Z",
     "iopub.status.idle": "2024-02-19T04:08:57.479267Z",
     "shell.execute_reply": "2024-02-19T04:08:57.478436Z"
    },
    "papermill": {
     "duration": 0.043971,
     "end_time": "2024-02-19T04:08:57.481208",
     "exception": false,
     "start_time": "2024-02-19T04:08:57.437237",
     "status": "completed"
    },
    "tags": []
   },
   "outputs": [
    {
     "data": {
      "text/plain": [
       "array([3623, 3624, 3625, 3626, 3627, 3628, 3629, 3630, 3631, 3632, 3633,\n",
       "       3634, 3635, 3636, 3637, 3638, 3639, 3640, 3641, 3642, 3643, 3644,\n",
       "       3645, 3646, 3647])"
      ]
     },
     "execution_count": 30,
     "metadata": {},
     "output_type": "execute_result"
    }
   ],
   "source": [
    "np.arange(len(sorted_idx))[-TOP:]"
   ]
  },
  {
   "cell_type": "code",
   "execution_count": 31,
   "id": "20da8dc5",
   "metadata": {
    "execution": {
     "iopub.execute_input": "2024-02-19T04:08:57.553178Z",
     "iopub.status.busy": "2024-02-19T04:08:57.552922Z",
     "iopub.status.idle": "2024-02-19T04:08:57.559079Z",
     "shell.execute_reply": "2024-02-19T04:08:57.558139Z"
    },
    "papermill": {
     "duration": 0.043991,
     "end_time": "2024-02-19T04:08:57.561015",
     "exception": false,
     "start_time": "2024-02-19T04:08:57.517024",
     "status": "completed"
    },
    "tags": []
   },
   "outputs": [
    {
     "data": {
      "text/plain": [
       "array([0.36424973, 0.37880933, 0.38001791, 0.39010772, 0.39643271,\n",
       "       0.39730672, 0.40102671, 0.42070425, 0.43316715, 0.44875696,\n",
       "       0.4924778 , 0.49596785, 0.50387737, 0.50502569, 0.51085957,\n",
       "       0.53758586, 0.54737969, 0.5524732 , 0.57873736, 0.60106374,\n",
       "       0.62980888, 0.66452143, 0.82455308, 0.90555407, 1.00502717])"
      ]
     },
     "execution_count": 31,
     "metadata": {},
     "output_type": "execute_result"
    }
   ],
   "source": [
    "feature_importance[sorted_idx][-TOP:]  "
   ]
  },
  {
   "cell_type": "code",
   "execution_count": 32,
   "id": "7138524d",
   "metadata": {
    "execution": {
     "iopub.execute_input": "2024-02-19T04:08:57.631644Z",
     "iopub.status.busy": "2024-02-19T04:08:57.631401Z",
     "iopub.status.idle": "2024-02-19T04:08:57.709794Z",
     "shell.execute_reply": "2024-02-19T04:08:57.708751Z"
    },
    "papermill": {
     "duration": 0.116161,
     "end_time": "2024-02-19T04:08:57.711842",
     "exception": false,
     "start_time": "2024-02-19T04:08:57.595681",
     "status": "completed"
    },
    "tags": []
   },
   "outputs": [
    {
     "name": "stdout",
     "output_type": "stream",
     "text": [
      "CV Score KL-Div for CatBoost = 0.7551946998936143\n"
     ]
    }
   ],
   "source": [
    "import sys\n",
    "sys.path.append('/kaggle/input/kaggle-kl-div')\n",
    "from kaggle_kl_div import score\n",
    "\n",
    "oof = pd.DataFrame(all_oof.copy())\n",
    "oof['id'] = np.arange(len(oof))\n",
    "\n",
    "true = pd.DataFrame(all_true.copy())\n",
    "true['id'] = np.arange(len(true))\n",
    "\n",
    "cv = score(solution=true, submission=oof, row_id_column_name='id')\n",
    "print('CV Score KL-Div for CatBoost =',cv)"
   ]
  },
  {
   "cell_type": "code",
   "execution_count": 33,
   "id": "2d12ccbc",
   "metadata": {
    "execution": {
     "iopub.execute_input": "2024-02-19T04:08:57.784907Z",
     "iopub.status.busy": "2024-02-19T04:08:57.784595Z",
     "iopub.status.idle": "2024-02-19T04:08:57.893900Z",
     "shell.execute_reply": "2024-02-19T04:08:57.892983Z"
    },
    "papermill": {
     "duration": 0.147666,
     "end_time": "2024-02-19T04:08:57.895979",
     "exception": false,
     "start_time": "2024-02-19T04:08:57.748313",
     "status": "completed"
    },
    "tags": []
   },
   "outputs": [],
   "source": [
    "import pywt, librosa\n",
    "\n",
    "USE_WAVELET = None \n",
    "\n",
    "NAMES = ['LL','LP','RP','RR']\n",
    "\n",
    "FEATS = [['Fp1','F7','T3','T5','O1'],\n",
    "         ['Fp1','F3','C3','P3','O1'],\n",
    "         ['Fp2','F8','T4','T6','O2'],\n",
    "         ['Fp2','F4','C4','P4','O2']]\n",
    "\n",
    "# DENOISE FUNCTION\n",
    "def maddest(d, axis=None):\n",
    "    return np.mean(np.absolute(d - np.mean(d, axis)), axis)\n",
    "\n",
    "def denoise(x, wavelet='haar', level=1):    \n",
    "    coeff = pywt.wavedec(x, wavelet, mode=\"per\")\n",
    "    sigma = (1/0.6745) * maddest(coeff[-level])\n",
    "\n",
    "    uthresh = sigma * np.sqrt(2*np.log(len(x)))\n",
    "    coeff[1:] = (pywt.threshold(i, value=uthresh, mode='hard') for i in coeff[1:])\n",
    "\n",
    "    ret=pywt.waverec(coeff, wavelet, mode='per')\n",
    "    \n",
    "    return ret\n",
    "\n",
    "def spectrogram_from_eeg(parquet_path, display=False):\n",
    "    \n",
    "    # LOAD MIDDLE 50 SECONDS OF EEG SERIES\n",
    "    eeg = pd.read_parquet(parquet_path)\n",
    "    middle = (len(eeg)-10_000)//2\n",
    "    eeg = eeg.iloc[middle:middle+10_000]\n",
    "    \n",
    "    # VARIABLE TO HOLD SPECTROGRAM\n",
    "    img = np.zeros((128,256,4),dtype='float32')\n",
    "    \n",
    "    if display: plt.figure(figsize=(10,7))\n",
    "    signals = []\n",
    "    for k in range(4):\n",
    "        COLS = FEATS[k]\n",
    "        \n",
    "        for kk in range(4):\n",
    "        \n",
    "            # COMPUTE PAIR DIFFERENCES\n",
    "            x = eeg[COLS[kk]].values - eeg[COLS[kk+1]].values\n",
    "\n",
    "            # FILL NANS\n",
    "            m = np.nanmean(x)\n",
    "            if np.isnan(x).mean()<1: x = np.nan_to_num(x,nan=m)\n",
    "            else: x[:] = 0\n",
    "\n",
    "            # DENOISE\n",
    "            if USE_WAVELET:\n",
    "                x = denoise(x, wavelet=USE_WAVELET)\n",
    "            signals.append(x)\n",
    "\n",
    "            # RAW SPECTROGRAM\n",
    "            mel_spec = librosa.feature.melspectrogram(y=x, sr=200, hop_length=len(x)//256, \n",
    "                  n_fft=1024, n_mels=128, fmin=0, fmax=20, win_length=128)\n",
    "\n",
    "            # LOG TRANSFORM\n",
    "            width = (mel_spec.shape[1]//32)*32\n",
    "            mel_spec_db = librosa.power_to_db(mel_spec, ref=np.max).astype(np.float32)[:,:width]\n",
    "\n",
    "            # STANDARDIZE TO -1 TO 1\n",
    "            mel_spec_db = (mel_spec_db+40)/40 \n",
    "            img[:,:,k] += mel_spec_db\n",
    "                \n",
    "        # AVERAGE THE 4 MONTAGE DIFFERENCES\n",
    "        img[:,:,k] /= 4.0\n",
    "        \n",
    "        if display:\n",
    "            plt.subplot(2,2,k+1)\n",
    "            plt.imshow(img[:,:,k],aspect='auto',origin='lower')\n",
    "            plt.title(f'EEG {eeg_id} - Spectrogram {NAMES[k]}')\n",
    "            \n",
    "    if display: \n",
    "        plt.show()\n",
    "        plt.figure(figsize=(10,5))\n",
    "        offset = 0\n",
    "        for k in range(4):\n",
    "            if k>0: offset -= signals[3-k].min()\n",
    "            plt.plot(range(10_000),signals[k]+offset,label=NAMES[3-k])\n",
    "            offset += signals[3-k].max()\n",
    "        plt.legend()\n",
    "        plt.title(f'EEG {eeg_id} Signals')\n",
    "        plt.show()\n",
    "        print(); print('#'*25); print()\n",
    "        \n",
    "    return img"
   ]
  },
  {
   "cell_type": "code",
   "execution_count": 34,
   "id": "6b28b02d",
   "metadata": {
    "execution": {
     "iopub.execute_input": "2024-02-19T04:08:57.969707Z",
     "iopub.status.busy": "2024-02-19T04:08:57.969031Z",
     "iopub.status.idle": "2024-02-19T04:09:07.818886Z",
     "shell.execute_reply": "2024-02-19T04:09:07.817836Z"
    },
    "papermill": {
     "duration": 9.893225,
     "end_time": "2024-02-19T04:09:07.825458",
     "exception": false,
     "start_time": "2024-02-19T04:08:57.932233",
     "status": "completed"
    },
    "tags": []
   },
   "outputs": [
    {
     "name": "stdout",
     "output_type": "stream",
     "text": [
      "Converting Test EEG to Spectrograms...\n",
      "\n"
     ]
    }
   ],
   "source": [
    "# CREATE ALL EEG SPECTROGRAMS\n",
    "PATH2 = '/kaggle/input/hms-harmful-brain-activity-classification/test_eegs/'\n",
    "DISPLAY = 0\n",
    "EEG_IDS2 = test.eeg_id.unique()\n",
    "all_eegs2 = {}\n",
    "\n",
    "print('Converting Test EEG to Spectrograms...'); print()\n",
    "for i,eeg_id in enumerate(EEG_IDS2):\n",
    "        \n",
    "    # CREATE SPECTROGRAM FROM EEG PARQUET\n",
    "    img = spectrogram_from_eeg(f'{PATH2}{eeg_id}.parquet', i<DISPLAY)\n",
    "    all_eegs2[eeg_id] = img"
   ]
  },
  {
   "cell_type": "code",
   "execution_count": 35,
   "id": "3650a0a3",
   "metadata": {
    "execution": {
     "iopub.execute_input": "2024-02-19T04:09:07.967556Z",
     "iopub.status.busy": "2024-02-19T04:09:07.967040Z",
     "iopub.status.idle": "2024-02-19T04:09:10.967773Z",
     "shell.execute_reply": "2024-02-19T04:09:10.966713Z"
    },
    "papermill": {
     "duration": 3.060184,
     "end_time": "2024-02-19T04:09:10.969775",
     "exception": false,
     "start_time": "2024-02-19T04:09:07.909591",
     "status": "completed"
    },
    "tags": []
   },
   "outputs": [
    {
     "name": "stdout",
     "output_type": "stream",
     "text": [
      "New test shape (1, 3651)\n"
     ]
    }
   ],
   "source": [
    "# FEATURE ENGINEER TEST\n",
    "PATH2 = '/kaggle/input/hms-harmful-brain-activity-classification/test_spectrograms/'\n",
    "data = np.zeros((len(test),len(FEATURES)))\n",
    "    \n",
    "for k in range(len(test)):\n",
    "    row = test.iloc[k]\n",
    "    s = int( row.spectrogram_id )\n",
    "    spec = pd.read_parquet(f'{PATH2}{s}.parquet')\n",
    "    \n",
    "    # 10 MINUTE WINDOW FEATURES\n",
    "    x = np.nanmean( spec.iloc[:,1:].values, axis=0)\n",
    "    data[k,:400] = x\n",
    "    x = np.nanmin( spec.iloc[:,1:].values, axis=0)\n",
    "    data[k,400:800] = x\n",
    "\n",
    "    # 20 SECOND WINDOW FEATURES\n",
    "    x = np.nanmean( spec.iloc[145:155,1:].values, axis=0)\n",
    "    data[k,800:1200] = x\n",
    "    x = np.nanmin( spec.iloc[145:155,1:].values, axis=0)\n",
    "    data[k,1200:1600] = x\n",
    "    \n",
    "    # RESHAPE EEG SPECTROGRAMS 128x256x4 => 512x256\n",
    "    eeg_spec = np.zeros((512,256),dtype='float32')\n",
    "    xx = all_eegs2[row.eeg_id]\n",
    "    for j in range(4): eeg_spec[128*j:128*(j+1),] = xx[:,:,j]\n",
    "\n",
    "    # 10 SECOND WINDOW FROM EEG SPECTROGRAMS \n",
    "    x = np.nanmean(eeg_spec.T[100:-100,:],axis=0)\n",
    "    data[k,1600:2112] = x\n",
    "    x = np.nanmin(eeg_spec.T[100:-100,:],axis=0)\n",
    "    data[k,2112:2624] = x\n",
    "    x = np.nanmax(eeg_spec.T[100:-100,:],axis=0)\n",
    "    data[k,2624:3136] = x\n",
    "    x = np.nanstd(eeg_spec.T[100:-100,:],axis=0)\n",
    "    data[k,3136:3648] = x\n",
    "\n",
    "test[FEATURES] = data\n",
    "print('New test shape',test.shape)"
   ]
  },
  {
   "cell_type": "code",
   "execution_count": 36,
   "id": "0f69cac0",
   "metadata": {
    "execution": {
     "iopub.execute_input": "2024-02-19T04:09:11.043502Z",
     "iopub.status.busy": "2024-02-19T04:09:11.043197Z",
     "iopub.status.idle": "2024-02-19T04:09:13.080749Z",
     "shell.execute_reply": "2024-02-19T04:09:13.079707Z"
    },
    "papermill": {
     "duration": 2.077016,
     "end_time": "2024-02-19T04:09:13.082827",
     "exception": false,
     "start_time": "2024-02-19T04:09:11.005811",
     "status": "completed"
    },
    "tags": []
   },
   "outputs": [
    {
     "name": "stdout",
     "output_type": "stream",
     "text": [
      "0 , 1 , 2 , 3 , 4 , \n",
      "Test preds shape (1, 6)\n"
     ]
    }
   ],
   "source": [
    "# INFER CATBOOST ON TEST\n",
    "preds = []\n",
    "\n",
    "for i in range(5):\n",
    "    print(i,', ',end='')\n",
    "    model = CatBoostClassifier(task_type='GPU')\n",
    "    model.load_model(f'CAT_v{1}_f{i}.cat')\n",
    "    \n",
    "    test_pool = Pool(\n",
    "        data = test[FEATURES]\n",
    "    )\n",
    "    \n",
    "    pred = model.predict_proba(test_pool)\n",
    "    preds.append(pred)\n",
    "pred = np.mean(preds,axis=0)\n",
    "print()\n",
    "print('Test preds shape',pred.shape)"
   ]
  },
  {
   "cell_type": "code",
   "execution_count": 37,
   "id": "9fee0f57",
   "metadata": {
    "execution": {
     "iopub.execute_input": "2024-02-19T04:09:13.158386Z",
     "iopub.status.busy": "2024-02-19T04:09:13.158085Z",
     "iopub.status.idle": "2024-02-19T04:09:13.178438Z",
     "shell.execute_reply": "2024-02-19T04:09:13.177507Z"
    },
    "papermill": {
     "duration": 0.059876,
     "end_time": "2024-02-19T04:09:13.180523",
     "exception": false,
     "start_time": "2024-02-19T04:09:13.120647",
     "status": "completed"
    },
    "tags": []
   },
   "outputs": [
    {
     "name": "stdout",
     "output_type": "stream",
     "text": [
      "Submissionn shape (1, 7)\n"
     ]
    },
    {
     "data": {
      "text/html": [
       "<div>\n",
       "<style scoped>\n",
       "    .dataframe tbody tr th:only-of-type {\n",
       "        vertical-align: middle;\n",
       "    }\n",
       "\n",
       "    .dataframe tbody tr th {\n",
       "        vertical-align: top;\n",
       "    }\n",
       "\n",
       "    .dataframe thead th {\n",
       "        text-align: right;\n",
       "    }\n",
       "</style>\n",
       "<table border=\"1\" class=\"dataframe\">\n",
       "  <thead>\n",
       "    <tr style=\"text-align: right;\">\n",
       "      <th></th>\n",
       "      <th>eeg_id</th>\n",
       "      <th>seizure_vote</th>\n",
       "      <th>lpd_vote</th>\n",
       "      <th>gpd_vote</th>\n",
       "      <th>lrda_vote</th>\n",
       "      <th>grda_vote</th>\n",
       "      <th>other_vote</th>\n",
       "    </tr>\n",
       "  </thead>\n",
       "  <tbody>\n",
       "    <tr>\n",
       "      <th>0</th>\n",
       "      <td>3911565283</td>\n",
       "      <td>0.282869</td>\n",
       "      <td>0.006726</td>\n",
       "      <td>0.000382</td>\n",
       "      <td>0.154421</td>\n",
       "      <td>0.106088</td>\n",
       "      <td>0.449513</td>\n",
       "    </tr>\n",
       "  </tbody>\n",
       "</table>\n",
       "</div>"
      ],
      "text/plain": [
       "       eeg_id  seizure_vote  lpd_vote  gpd_vote  lrda_vote  grda_vote  \\\n",
       "0  3911565283      0.282869  0.006726  0.000382   0.154421   0.106088   \n",
       "\n",
       "   other_vote  \n",
       "0    0.449513  "
      ]
     },
     "execution_count": 37,
     "metadata": {},
     "output_type": "execute_result"
    }
   ],
   "source": [
    "sub = pd.DataFrame({'eeg_id':test.eeg_id.values})\n",
    "sub[TARGETS] = pred\n",
    "sub.to_csv('submission.csv',index=False)\n",
    "print('Submissionn shape',sub.shape)\n",
    "sub.head()"
   ]
  },
  {
   "cell_type": "code",
   "execution_count": 38,
   "id": "ce21b7ef",
   "metadata": {
    "execution": {
     "iopub.execute_input": "2024-02-19T04:09:13.254320Z",
     "iopub.status.busy": "2024-02-19T04:09:13.254058Z",
     "iopub.status.idle": "2024-02-19T04:09:13.261805Z",
     "shell.execute_reply": "2024-02-19T04:09:13.260826Z"
    },
    "papermill": {
     "duration": 0.046806,
     "end_time": "2024-02-19T04:09:13.263917",
     "exception": false,
     "start_time": "2024-02-19T04:09:13.217111",
     "status": "completed"
    },
    "tags": []
   },
   "outputs": [
    {
     "data": {
      "text/plain": [
       "0    1.0\n",
       "dtype: float64"
      ]
     },
     "execution_count": 38,
     "metadata": {},
     "output_type": "execute_result"
    }
   ],
   "source": [
    "# SANITY CHECK TO CONFIRM PREDICTIONS SUM TO ONE\n",
    "sub.iloc[:,-6:].sum(axis=1)"
   ]
  }
 ],
 "metadata": {
  "kaggle": {
   "accelerator": "nvidiaTeslaT4",
   "dataSources": [
    {
     "databundleVersionId": 7469972,
     "sourceId": 59093,
     "sourceType": "competition"
    },
    {
     "datasetId": 4297749,
     "sourceId": 7392733,
     "sourceType": "datasetVersion"
    },
    {
     "datasetId": 4297782,
     "sourceId": 7392775,
     "sourceType": "datasetVersion"
    },
    {
     "datasetId": 4334995,
     "sourceId": 7447509,
     "sourceType": "datasetVersion"
    }
   ],
   "dockerImageVersionId": 30646,
   "isGpuEnabled": true,
   "isInternetEnabled": false,
   "language": "python",
   "sourceType": "notebook"
  },
  "kernelspec": {
   "display_name": "Python 3",
   "language": "python",
   "name": "python3"
  },
  "language_info": {
   "codemirror_mode": {
    "name": "ipython",
    "version": 3
   },
   "file_extension": ".py",
   "mimetype": "text/x-python",
   "name": "python",
   "nbconvert_exporter": "python",
   "pygments_lexer": "ipython3",
   "version": "3.10.13"
  },
  "papermill": {
   "default_parameters": {},
   "duration": 718.705212,
   "end_time": "2024-02-19T04:09:16.415546",
   "environment_variables": {},
   "exception": null,
   "input_path": "__notebook__.ipynb",
   "output_path": "__notebook__.ipynb",
   "parameters": {},
   "start_time": "2024-02-19T03:57:17.710334",
   "version": "2.5.0"
  }
 },
 "nbformat": 4,
 "nbformat_minor": 5
}
